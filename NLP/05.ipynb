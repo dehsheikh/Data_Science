{
 "cells": [
  {
   "cell_type": "code",
   "execution_count": 236,
   "metadata": {
    "collapsed": true,
    "pycharm": {
     "name": "#%%\n"
    }
   },
   "outputs": [],
   "source": [
    "%matplotlib inline\n",
    "import pandas as pd\n",
    "import numpy as np"
   ]
  },
  {
   "cell_type": "code",
   "execution_count": 237,
   "outputs": [
    {
     "data": {
      "text/plain": "      id      cuisine                                        ingredients\n0  10259        greek  [romaine lettuce, black olives, grape tomatoes...\n1  25693  southern_us  [plain flour, ground pepper, salt, tomatoes, g...\n2  20130     filipino  [eggs, pepper, salt, mayonaise, cooking oil, g...\n3  22213       indian                [water, vegetable oil, wheat, salt]\n4  13162       indian  [black pepper, shallots, cornflour, cayenne pe...",
      "text/html": "<div>\n<style scoped>\n    .dataframe tbody tr th:only-of-type {\n        vertical-align: middle;\n    }\n\n    .dataframe tbody tr th {\n        vertical-align: top;\n    }\n\n    .dataframe thead th {\n        text-align: right;\n    }\n</style>\n<table border=\"1\" class=\"dataframe\">\n  <thead>\n    <tr style=\"text-align: right;\">\n      <th></th>\n      <th>id</th>\n      <th>cuisine</th>\n      <th>ingredients</th>\n    </tr>\n  </thead>\n  <tbody>\n    <tr>\n      <th>0</th>\n      <td>10259</td>\n      <td>greek</td>\n      <td>[romaine lettuce, black olives, grape tomatoes...</td>\n    </tr>\n    <tr>\n      <th>1</th>\n      <td>25693</td>\n      <td>southern_us</td>\n      <td>[plain flour, ground pepper, salt, tomatoes, g...</td>\n    </tr>\n    <tr>\n      <th>2</th>\n      <td>20130</td>\n      <td>filipino</td>\n      <td>[eggs, pepper, salt, mayonaise, cooking oil, g...</td>\n    </tr>\n    <tr>\n      <th>3</th>\n      <td>22213</td>\n      <td>indian</td>\n      <td>[water, vegetable oil, wheat, salt]</td>\n    </tr>\n    <tr>\n      <th>4</th>\n      <td>13162</td>\n      <td>indian</td>\n      <td>[black pepper, shallots, cornflour, cayenne pe...</td>\n    </tr>\n  </tbody>\n</table>\n</div>"
     },
     "execution_count": 237,
     "metadata": {},
     "output_type": "execute_result"
    }
   ],
   "source": [
    "train = pd.read_json(\"train.json\")\n",
    "train.head()"
   ],
   "metadata": {
    "collapsed": false,
    "pycharm": {
     "name": "#%%\n"
    }
   }
  },
  {
   "cell_type": "code",
   "execution_count": 238,
   "outputs": [
    {
     "data": {
      "text/plain": "(39774, 3)"
     },
     "execution_count": 238,
     "metadata": {},
     "output_type": "execute_result"
    }
   ],
   "source": [
    "train.shape"
   ],
   "metadata": {
    "collapsed": false,
    "pycharm": {
     "name": "#%%\n"
    }
   }
  },
  {
   "cell_type": "code",
   "execution_count": 239,
   "outputs": [
    {
     "data": {
      "text/plain": "<bound method DataFrame.info of           id      cuisine                                        ingredients\n0      10259        greek  [romaine lettuce, black olives, grape tomatoes...\n1      25693  southern_us  [plain flour, ground pepper, salt, tomatoes, g...\n2      20130     filipino  [eggs, pepper, salt, mayonaise, cooking oil, g...\n3      22213       indian                [water, vegetable oil, wheat, salt]\n4      13162       indian  [black pepper, shallots, cornflour, cayenne pe...\n...      ...          ...                                                ...\n39769  29109        irish  [light brown sugar, granulated sugar, butter, ...\n39770  11462      italian  [KRAFT Zesty Italian Dressing, purple onion, b...\n39771   2238        irish  [eggs, citrus fruit, raisins, sourdough starte...\n39772  41882      chinese  [boneless chicken skinless thigh, minced garli...\n39773   2362      mexican  [green chile, jalapeno chilies, onions, ground...\n\n[39774 rows x 3 columns]>"
     },
     "execution_count": 239,
     "metadata": {},
     "output_type": "execute_result"
    }
   ],
   "source": [
    "train.info"
   ],
   "metadata": {
    "collapsed": false,
    "pycharm": {
     "name": "#%%\n"
    }
   }
  },
  {
   "cell_type": "code",
   "execution_count": 240,
   "outputs": [
    {
     "data": {
      "text/plain": "id             0\ncuisine        0\ningredients    0\ndtype: int64"
     },
     "execution_count": 240,
     "metadata": {},
     "output_type": "execute_result"
    }
   ],
   "source": [
    "train.isnull().sum()"
   ],
   "metadata": {
    "collapsed": false,
    "pycharm": {
     "name": "#%%\n"
    }
   }
  },
  {
   "cell_type": "code",
   "execution_count": 241,
   "outputs": [
    {
     "data": {
      "text/plain": "                 id\ncount  39774.000000\nmean   24849.536959\nstd    14360.035505\nmin        0.000000\n25%    12398.250000\n50%    24887.000000\n75%    37328.500000\nmax    49717.000000",
      "text/html": "<div>\n<style scoped>\n    .dataframe tbody tr th:only-of-type {\n        vertical-align: middle;\n    }\n\n    .dataframe tbody tr th {\n        vertical-align: top;\n    }\n\n    .dataframe thead th {\n        text-align: right;\n    }\n</style>\n<table border=\"1\" class=\"dataframe\">\n  <thead>\n    <tr style=\"text-align: right;\">\n      <th></th>\n      <th>id</th>\n    </tr>\n  </thead>\n  <tbody>\n    <tr>\n      <th>count</th>\n      <td>39774.000000</td>\n    </tr>\n    <tr>\n      <th>mean</th>\n      <td>24849.536959</td>\n    </tr>\n    <tr>\n      <th>std</th>\n      <td>14360.035505</td>\n    </tr>\n    <tr>\n      <th>min</th>\n      <td>0.000000</td>\n    </tr>\n    <tr>\n      <th>25%</th>\n      <td>12398.250000</td>\n    </tr>\n    <tr>\n      <th>50%</th>\n      <td>24887.000000</td>\n    </tr>\n    <tr>\n      <th>75%</th>\n      <td>37328.500000</td>\n    </tr>\n    <tr>\n      <th>max</th>\n      <td>49717.000000</td>\n    </tr>\n  </tbody>\n</table>\n</div>"
     },
     "execution_count": 241,
     "metadata": {},
     "output_type": "execute_result"
    }
   ],
   "source": [
    "train.describe()"
   ],
   "metadata": {
    "collapsed": false,
    "pycharm": {
     "name": "#%%\n"
    }
   }
  },
  {
   "cell_type": "code",
   "execution_count": 242,
   "outputs": [
    {
     "data": {
      "text/plain": "id              int64\ncuisine        object\ningredients    object\ndtype: object"
     },
     "execution_count": 242,
     "metadata": {},
     "output_type": "execute_result"
    }
   ],
   "source": [
    "train.dtypes"
   ],
   "metadata": {
    "collapsed": false,
    "pycharm": {
     "name": "#%%\n"
    }
   }
  },
  {
   "cell_type": "code",
   "execution_count": 243,
   "outputs": [
    {
     "name": "stdout",
     "output_type": "stream",
     "text": [
      "<class 'pandas.core.frame.DataFrame'>\n",
      "RangeIndex: 39774 entries, 0 to 39773\n",
      "Data columns (total 3 columns):\n",
      " #   Column       Non-Null Count  Dtype \n",
      "---  ------       --------------  ----- \n",
      " 0   id           39774 non-null  int64 \n",
      " 1   cuisine      39774 non-null  object\n",
      " 2   ingredients  39774 non-null  object\n",
      "dtypes: int64(1), object(2)\n",
      "memory usage: 932.3+ KB\n"
     ]
    }
   ],
   "source": [
    "train.info()"
   ],
   "metadata": {
    "collapsed": false,
    "pycharm": {
     "name": "#%%\n"
    }
   }
  },
  {
   "cell_type": "code",
   "execution_count": 244,
   "outputs": [
    {
     "data": {
      "text/plain": "9"
     },
     "execution_count": 244,
     "metadata": {},
     "output_type": "execute_result"
    }
   ],
   "source": [
    "len(train[\"ingredients\"].loc[0])"
   ],
   "metadata": {
    "collapsed": false,
    "pycharm": {
     "name": "#%%\n"
    }
   }
  },
  {
   "cell_type": "code",
   "execution_count": 245,
   "outputs": [
    {
     "data": {
      "text/plain": "0    [romaine lettuce, black olives, grape tomatoes...\nName: ingredients, dtype: object"
     },
     "execution_count": 245,
     "metadata": {},
     "output_type": "execute_result"
    }
   ],
   "source": [
    "train[\"ingredients\"].head(1)"
   ],
   "metadata": {
    "collapsed": false,
    "pycharm": {
     "name": "#%%\n"
    }
   }
  },
  {
   "cell_type": "code",
   "execution_count": 246,
   "outputs": [
    {
     "data": {
      "text/plain": "      id      cuisine                                        ingredients  \\\n0  10259        greek  [romaine lettuce, black olives, grape tomatoes...   \n1  25693  southern_us  [plain flour, ground pepper, salt, tomatoes, g...   \n2  20130     filipino  [eggs, pepper, salt, mayonaise, cooking oil, g...   \n3  22213       indian                [water, vegetable oil, wheat, salt]   \n4  13162       indian  [black pepper, shallots, cornflour, cayenne pe...   \n\n   num_ingredients  \n0                9  \n1               11  \n2               12  \n3                4  \n4               20  ",
      "text/html": "<div>\n<style scoped>\n    .dataframe tbody tr th:only-of-type {\n        vertical-align: middle;\n    }\n\n    .dataframe tbody tr th {\n        vertical-align: top;\n    }\n\n    .dataframe thead th {\n        text-align: right;\n    }\n</style>\n<table border=\"1\" class=\"dataframe\">\n  <thead>\n    <tr style=\"text-align: right;\">\n      <th></th>\n      <th>id</th>\n      <th>cuisine</th>\n      <th>ingredients</th>\n      <th>num_ingredients</th>\n    </tr>\n  </thead>\n  <tbody>\n    <tr>\n      <th>0</th>\n      <td>10259</td>\n      <td>greek</td>\n      <td>[romaine lettuce, black olives, grape tomatoes...</td>\n      <td>9</td>\n    </tr>\n    <tr>\n      <th>1</th>\n      <td>25693</td>\n      <td>southern_us</td>\n      <td>[plain flour, ground pepper, salt, tomatoes, g...</td>\n      <td>11</td>\n    </tr>\n    <tr>\n      <th>2</th>\n      <td>20130</td>\n      <td>filipino</td>\n      <td>[eggs, pepper, salt, mayonaise, cooking oil, g...</td>\n      <td>12</td>\n    </tr>\n    <tr>\n      <th>3</th>\n      <td>22213</td>\n      <td>indian</td>\n      <td>[water, vegetable oil, wheat, salt]</td>\n      <td>4</td>\n    </tr>\n    <tr>\n      <th>4</th>\n      <td>13162</td>\n      <td>indian</td>\n      <td>[black pepper, shallots, cornflour, cayenne pe...</td>\n      <td>20</td>\n    </tr>\n  </tbody>\n</table>\n</div>"
     },
     "execution_count": 246,
     "metadata": {},
     "output_type": "execute_result"
    }
   ],
   "source": [
    "train[\"num_ingredients\"] = train[\"ingredients\"].apply(len)\n",
    "train.head()"
   ],
   "metadata": {
    "collapsed": false,
    "pycharm": {
     "name": "#%%\n"
    }
   }
  },
  {
   "cell_type": "code",
   "execution_count": 247,
   "outputs": [
    {
     "data": {
      "text/plain": "cuisine\nbrazilian        9.520343\nbritish          9.708955\ncajun_creole    12.617076\nchinese         11.982791\nfilipino        10.000000\nfrench           9.817838\ngreek           10.182128\nindian          12.705961\nirish            9.299850\nitalian          9.909033\njamaican        12.214829\njapanese         9.735067\nkorean          11.284337\nmexican         10.877446\nmoroccan        12.909866\nrussian         10.224949\nsouthern_us      9.634954\nspanish         10.423660\nthai            12.545809\nvietnamese      12.675152\nName: num_ingredients, dtype: float64"
     },
     "execution_count": 247,
     "metadata": {},
     "output_type": "execute_result"
    }
   ],
   "source": [
    "train.groupby(\"cuisine\").num_ingredients.mean()"
   ],
   "metadata": {
    "collapsed": false,
    "pycharm": {
     "name": "#%%\n"
    }
   }
  },
  {
   "cell_type": "code",
   "execution_count": 248,
   "outputs": [
    {
     "data": {
      "text/plain": "               count       mean       std  min  25%   50%   75%   max\ncuisine                                                              \nbrazilian      467.0   9.520343  5.555139  2.0  5.0   9.0  13.0  59.0\nbritish        804.0   9.708955  4.165011  2.0  7.0   9.0  12.0  30.0\ncajun_creole  1546.0  12.617076  4.611601  2.0  9.0  12.0  16.0  31.0\nchinese       2673.0  11.982791  4.042125  2.0  9.0  12.0  14.0  38.0\nfilipino       755.0  10.000000  3.855135  2.0  7.0  10.0  12.0  38.0\nfrench        2646.0   9.817838  4.144744  1.0  7.0   9.0  12.0  31.0\ngreek         1175.0  10.182128  3.729461  1.0  7.0  10.0  12.0  27.0\nindian        3003.0  12.705961  5.016806  1.0  9.0  12.0  16.0  49.0\nirish          667.0   9.299850  3.700505  2.0  7.0   9.0  12.0  27.0\nitalian       7838.0   9.909033  3.806708  1.0  7.0  10.0  12.0  65.0\njamaican       526.0  12.214829  4.763897  2.0  9.0  12.0  15.0  35.0\njapanese      1423.0   9.735067  4.245882  1.0  7.0   9.0  12.0  34.0\nkorean         830.0  11.284337  3.878880  2.0  9.0  11.0  14.0  29.0\nmexican       6438.0  10.877446  4.660183  1.0  7.0  10.0  14.0  52.0\nmoroccan       821.0  12.909866  4.799813  2.0  9.0  13.0  16.0  31.0\nrussian        489.0  10.224949  4.051223  2.0  7.0  10.0  13.0  25.0\nsouthern_us   4320.0   9.634954  3.869404  1.0  7.0   9.0  12.0  40.0\nspanish        989.0  10.423660  4.160919  1.0  7.0  10.0  13.0  35.0\nthai          1539.0  12.545809  4.411794  1.0  9.0  12.0  15.0  40.0\nvietnamese     825.0  12.675152  5.256173  1.0  9.0  12.0  16.0  31.0",
      "text/html": "<div>\n<style scoped>\n    .dataframe tbody tr th:only-of-type {\n        vertical-align: middle;\n    }\n\n    .dataframe tbody tr th {\n        vertical-align: top;\n    }\n\n    .dataframe thead th {\n        text-align: right;\n    }\n</style>\n<table border=\"1\" class=\"dataframe\">\n  <thead>\n    <tr style=\"text-align: right;\">\n      <th></th>\n      <th>count</th>\n      <th>mean</th>\n      <th>std</th>\n      <th>min</th>\n      <th>25%</th>\n      <th>50%</th>\n      <th>75%</th>\n      <th>max</th>\n    </tr>\n    <tr>\n      <th>cuisine</th>\n      <th></th>\n      <th></th>\n      <th></th>\n      <th></th>\n      <th></th>\n      <th></th>\n      <th></th>\n      <th></th>\n    </tr>\n  </thead>\n  <tbody>\n    <tr>\n      <th>brazilian</th>\n      <td>467.0</td>\n      <td>9.520343</td>\n      <td>5.555139</td>\n      <td>2.0</td>\n      <td>5.0</td>\n      <td>9.0</td>\n      <td>13.0</td>\n      <td>59.0</td>\n    </tr>\n    <tr>\n      <th>british</th>\n      <td>804.0</td>\n      <td>9.708955</td>\n      <td>4.165011</td>\n      <td>2.0</td>\n      <td>7.0</td>\n      <td>9.0</td>\n      <td>12.0</td>\n      <td>30.0</td>\n    </tr>\n    <tr>\n      <th>cajun_creole</th>\n      <td>1546.0</td>\n      <td>12.617076</td>\n      <td>4.611601</td>\n      <td>2.0</td>\n      <td>9.0</td>\n      <td>12.0</td>\n      <td>16.0</td>\n      <td>31.0</td>\n    </tr>\n    <tr>\n      <th>chinese</th>\n      <td>2673.0</td>\n      <td>11.982791</td>\n      <td>4.042125</td>\n      <td>2.0</td>\n      <td>9.0</td>\n      <td>12.0</td>\n      <td>14.0</td>\n      <td>38.0</td>\n    </tr>\n    <tr>\n      <th>filipino</th>\n      <td>755.0</td>\n      <td>10.000000</td>\n      <td>3.855135</td>\n      <td>2.0</td>\n      <td>7.0</td>\n      <td>10.0</td>\n      <td>12.0</td>\n      <td>38.0</td>\n    </tr>\n    <tr>\n      <th>french</th>\n      <td>2646.0</td>\n      <td>9.817838</td>\n      <td>4.144744</td>\n      <td>1.0</td>\n      <td>7.0</td>\n      <td>9.0</td>\n      <td>12.0</td>\n      <td>31.0</td>\n    </tr>\n    <tr>\n      <th>greek</th>\n      <td>1175.0</td>\n      <td>10.182128</td>\n      <td>3.729461</td>\n      <td>1.0</td>\n      <td>7.0</td>\n      <td>10.0</td>\n      <td>12.0</td>\n      <td>27.0</td>\n    </tr>\n    <tr>\n      <th>indian</th>\n      <td>3003.0</td>\n      <td>12.705961</td>\n      <td>5.016806</td>\n      <td>1.0</td>\n      <td>9.0</td>\n      <td>12.0</td>\n      <td>16.0</td>\n      <td>49.0</td>\n    </tr>\n    <tr>\n      <th>irish</th>\n      <td>667.0</td>\n      <td>9.299850</td>\n      <td>3.700505</td>\n      <td>2.0</td>\n      <td>7.0</td>\n      <td>9.0</td>\n      <td>12.0</td>\n      <td>27.0</td>\n    </tr>\n    <tr>\n      <th>italian</th>\n      <td>7838.0</td>\n      <td>9.909033</td>\n      <td>3.806708</td>\n      <td>1.0</td>\n      <td>7.0</td>\n      <td>10.0</td>\n      <td>12.0</td>\n      <td>65.0</td>\n    </tr>\n    <tr>\n      <th>jamaican</th>\n      <td>526.0</td>\n      <td>12.214829</td>\n      <td>4.763897</td>\n      <td>2.0</td>\n      <td>9.0</td>\n      <td>12.0</td>\n      <td>15.0</td>\n      <td>35.0</td>\n    </tr>\n    <tr>\n      <th>japanese</th>\n      <td>1423.0</td>\n      <td>9.735067</td>\n      <td>4.245882</td>\n      <td>1.0</td>\n      <td>7.0</td>\n      <td>9.0</td>\n      <td>12.0</td>\n      <td>34.0</td>\n    </tr>\n    <tr>\n      <th>korean</th>\n      <td>830.0</td>\n      <td>11.284337</td>\n      <td>3.878880</td>\n      <td>2.0</td>\n      <td>9.0</td>\n      <td>11.0</td>\n      <td>14.0</td>\n      <td>29.0</td>\n    </tr>\n    <tr>\n      <th>mexican</th>\n      <td>6438.0</td>\n      <td>10.877446</td>\n      <td>4.660183</td>\n      <td>1.0</td>\n      <td>7.0</td>\n      <td>10.0</td>\n      <td>14.0</td>\n      <td>52.0</td>\n    </tr>\n    <tr>\n      <th>moroccan</th>\n      <td>821.0</td>\n      <td>12.909866</td>\n      <td>4.799813</td>\n      <td>2.0</td>\n      <td>9.0</td>\n      <td>13.0</td>\n      <td>16.0</td>\n      <td>31.0</td>\n    </tr>\n    <tr>\n      <th>russian</th>\n      <td>489.0</td>\n      <td>10.224949</td>\n      <td>4.051223</td>\n      <td>2.0</td>\n      <td>7.0</td>\n      <td>10.0</td>\n      <td>13.0</td>\n      <td>25.0</td>\n    </tr>\n    <tr>\n      <th>southern_us</th>\n      <td>4320.0</td>\n      <td>9.634954</td>\n      <td>3.869404</td>\n      <td>1.0</td>\n      <td>7.0</td>\n      <td>9.0</td>\n      <td>12.0</td>\n      <td>40.0</td>\n    </tr>\n    <tr>\n      <th>spanish</th>\n      <td>989.0</td>\n      <td>10.423660</td>\n      <td>4.160919</td>\n      <td>1.0</td>\n      <td>7.0</td>\n      <td>10.0</td>\n      <td>13.0</td>\n      <td>35.0</td>\n    </tr>\n    <tr>\n      <th>thai</th>\n      <td>1539.0</td>\n      <td>12.545809</td>\n      <td>4.411794</td>\n      <td>1.0</td>\n      <td>9.0</td>\n      <td>12.0</td>\n      <td>15.0</td>\n      <td>40.0</td>\n    </tr>\n    <tr>\n      <th>vietnamese</th>\n      <td>825.0</td>\n      <td>12.675152</td>\n      <td>5.256173</td>\n      <td>1.0</td>\n      <td>9.0</td>\n      <td>12.0</td>\n      <td>16.0</td>\n      <td>31.0</td>\n    </tr>\n  </tbody>\n</table>\n</div>"
     },
     "execution_count": 248,
     "metadata": {},
     "output_type": "execute_result"
    }
   ],
   "source": [
    "train.groupby(\"cuisine\").num_ingredients.describe()"
   ],
   "metadata": {
    "collapsed": false,
    "pycharm": {
     "name": "#%%\n"
    }
   }
  },
  {
   "cell_type": "code",
   "execution_count": 249,
   "outputs": [
    {
     "data": {
      "text/plain": "<AxesSubplot:title={'center':'num_ingredients'}, xlabel='cuisine'>"
     },
     "execution_count": 249,
     "metadata": {},
     "output_type": "execute_result"
    },
    {
     "data": {
      "text/plain": "<Figure size 432x288 with 1 Axes>",
      "image/png": "[encoded data removed]"
     },
     "metadata": {
      "needs_background": "light"
     },
     "output_type": "display_data"
    }
   ],
   "source": [
    "train.boxplot(\"num_ingredients\", by = \"cuisine\")"
   ],
   "metadata": {
    "collapsed": false,
    "pycharm": {
     "name": "#%%\n"
    }
   }
  },
  {
   "cell_type": "code",
   "execution_count": 250,
   "outputs": [],
   "source": [
    "sample_recipe = train.loc[3, \"ingredients\"]"
   ],
   "metadata": {
    "collapsed": false,
    "pycharm": {
     "name": "#%%\n"
    }
   }
  },
  {
   "cell_type": "code",
   "execution_count": 251,
   "outputs": [
    {
     "data": {
      "text/plain": "['water', 'vegetable oil', 'wheat', 'salt']"
     },
     "execution_count": 251,
     "metadata": {},
     "output_type": "execute_result"
    }
   ],
   "source": [
    "sample_recipe"
   ],
   "metadata": {
    "collapsed": false,
    "pycharm": {
     "name": "#%%\n"
    }
   }
  },
  {
   "cell_type": "code",
   "execution_count": 252,
   "outputs": [],
   "source": [
    "def mean_string_length(list_of_strings):\n",
    "    return np.mean([len(string) for string in list_of_strings])"
   ],
   "metadata": {
    "collapsed": false,
    "pycharm": {
     "name": "#%%\n"
    }
   }
  },
  {
   "cell_type": "code",
   "execution_count": 253,
   "outputs": [
    {
     "data": {
      "text/plain": "6.75"
     },
     "execution_count": 253,
     "metadata": {},
     "output_type": "execute_result"
    }
   ],
   "source": [
    "mean_string_length(sample_recipe)"
   ],
   "metadata": {
    "collapsed": false,
    "pycharm": {
     "name": "#%%\n"
    }
   }
  },
  {
   "cell_type": "code",
   "execution_count": 254,
   "outputs": [],
   "source": [
    "train[\"ingredient_length\"] = train[\"ingredients\"].apply(mean_string_length)"
   ],
   "metadata": {
    "collapsed": false,
    "pycharm": {
     "name": "#%%\n"
    }
   }
  },
  {
   "cell_type": "code",
   "execution_count": 255,
   "outputs": [
    {
     "data": {
      "text/plain": "      id      cuisine                                        ingredients  \\\n0  10259        greek  [romaine lettuce, black olives, grape tomatoes...   \n1  25693  southern_us  [plain flour, ground pepper, salt, tomatoes, g...   \n2  20130     filipino  [eggs, pepper, salt, mayonaise, cooking oil, g...   \n3  22213       indian                [water, vegetable oil, wheat, salt]   \n4  13162       indian  [black pepper, shallots, cornflour, cayenne pe...   \n\n   num_ingredients  ingredient_length  \n0                9          12.000000  \n1               11          10.090909  \n2               12          10.333333  \n3                4           6.750000  \n4               20          10.100000  ",
      "text/html": "<div>\n<style scoped>\n    .dataframe tbody tr th:only-of-type {\n        vertical-align: middle;\n    }\n\n    .dataframe tbody tr th {\n        vertical-align: top;\n    }\n\n    .dataframe thead th {\n        text-align: right;\n    }\n</style>\n<table border=\"1\" class=\"dataframe\">\n  <thead>\n    <tr style=\"text-align: right;\">\n      <th></th>\n      <th>id</th>\n      <th>cuisine</th>\n      <th>ingredients</th>\n      <th>num_ingredients</th>\n      <th>ingredient_length</th>\n    </tr>\n  </thead>\n  <tbody>\n    <tr>\n      <th>0</th>\n      <td>10259</td>\n      <td>greek</td>\n      <td>[romaine lettuce, black olives, grape tomatoes...</td>\n      <td>9</td>\n      <td>12.000000</td>\n    </tr>\n    <tr>\n      <th>1</th>\n      <td>25693</td>\n      <td>southern_us</td>\n      <td>[plain flour, ground pepper, salt, tomatoes, g...</td>\n      <td>11</td>\n      <td>10.090909</td>\n    </tr>\n    <tr>\n      <th>2</th>\n      <td>20130</td>\n      <td>filipino</td>\n      <td>[eggs, pepper, salt, mayonaise, cooking oil, g...</td>\n      <td>12</td>\n      <td>10.333333</td>\n    </tr>\n    <tr>\n      <th>3</th>\n      <td>22213</td>\n      <td>indian</td>\n      <td>[water, vegetable oil, wheat, salt]</td>\n      <td>4</td>\n      <td>6.750000</td>\n    </tr>\n    <tr>\n      <th>4</th>\n      <td>13162</td>\n      <td>indian</td>\n      <td>[black pepper, shallots, cornflour, cayenne pe...</td>\n      <td>20</td>\n      <td>10.100000</td>\n    </tr>\n  </tbody>\n</table>\n</div>"
     },
     "execution_count": 255,
     "metadata": {},
     "output_type": "execute_result"
    }
   ],
   "source": [
    "train.head()"
   ],
   "metadata": {
    "collapsed": false,
    "pycharm": {
     "name": "#%%\n"
    }
   }
  },
  {
   "cell_type": "code",
   "execution_count": 256,
   "outputs": [
    {
     "data": {
      "text/plain": "<AxesSubplot:title={'center':'ingredient_length'}, xlabel='cuisine'>"
     },
     "execution_count": 256,
     "metadata": {},
     "output_type": "execute_result"
    },
    {
     "data": {
      "text/plain": "<Figure size 432x288 with 1 Axes>",
      "image/png": "[encoded data removed]"
     },
     "metadata": {
      "needs_background": "light"
     },
     "output_type": "display_data"
    }
   ],
   "source": [
    "train.boxplot(\"ingredient_length\", by = \"cuisine\")"
   ],
   "metadata": {
    "collapsed": false,
    "pycharm": {
     "name": "#%%\n"
    }
   }
  },
  {
   "cell_type": "code",
   "execution_count": 257,
   "outputs": [],
   "source": [
    "def make_features(df):\n",
    "    df[\"num_ingredients\"] = df[\"ingredients\"].apply(len)\n",
    "    df[\"ingredient_length\"] = df[\"ingredients\"].apply(\n",
    "        lambda x: np.mean([len(item) for item in x])\n",
    "    )\n",
    "    return df"
   ],
   "metadata": {
    "collapsed": false,
    "pycharm": {
     "name": "#%%\n"
    }
   }
  },
  {
   "cell_type": "code",
   "execution_count": 258,
   "outputs": [
    {
     "data": {
      "text/plain": "      id      cuisine                                        ingredients  \\\n0  10259        greek  [romaine lettuce, black olives, grape tomatoes...   \n1  25693  southern_us  [plain flour, ground pepper, salt, tomatoes, g...   \n2  20130     filipino  [eggs, pepper, salt, mayonaise, cooking oil, g...   \n3  22213       indian                [water, vegetable oil, wheat, salt]   \n4  13162       indian  [black pepper, shallots, cornflour, cayenne pe...   \n\n   num_ingredients  ingredient_length  \n0                9          12.000000  \n1               11          10.090909  \n2               12          10.333333  \n3                4           6.750000  \n4               20          10.100000  ",
      "text/html": "<div>\n<style scoped>\n    .dataframe tbody tr th:only-of-type {\n        vertical-align: middle;\n    }\n\n    .dataframe tbody tr th {\n        vertical-align: top;\n    }\n\n    .dataframe thead th {\n        text-align: right;\n    }\n</style>\n<table border=\"1\" class=\"dataframe\">\n  <thead>\n    <tr style=\"text-align: right;\">\n      <th></th>\n      <th>id</th>\n      <th>cuisine</th>\n      <th>ingredients</th>\n      <th>num_ingredients</th>\n      <th>ingredient_length</th>\n    </tr>\n  </thead>\n  <tbody>\n    <tr>\n      <th>0</th>\n      <td>10259</td>\n      <td>greek</td>\n      <td>[romaine lettuce, black olives, grape tomatoes...</td>\n      <td>9</td>\n      <td>12.000000</td>\n    </tr>\n    <tr>\n      <th>1</th>\n      <td>25693</td>\n      <td>southern_us</td>\n      <td>[plain flour, ground pepper, salt, tomatoes, g...</td>\n      <td>11</td>\n      <td>10.090909</td>\n    </tr>\n    <tr>\n      <th>2</th>\n      <td>20130</td>\n      <td>filipino</td>\n      <td>[eggs, pepper, salt, mayonaise, cooking oil, g...</td>\n      <td>12</td>\n      <td>10.333333</td>\n    </tr>\n    <tr>\n      <th>3</th>\n      <td>22213</td>\n      <td>indian</td>\n      <td>[water, vegetable oil, wheat, salt]</td>\n      <td>4</td>\n      <td>6.750000</td>\n    </tr>\n    <tr>\n      <th>4</th>\n      <td>13162</td>\n      <td>indian</td>\n      <td>[black pepper, shallots, cornflour, cayenne pe...</td>\n      <td>20</td>\n      <td>10.100000</td>\n    </tr>\n  </tbody>\n</table>\n</div>"
     },
     "execution_count": 258,
     "metadata": {},
     "output_type": "execute_result"
    }
   ],
   "source": [
    "train = make_features(pd.read_json(\"train.json\"))\n",
    "train.head()"
   ],
   "metadata": {
    "collapsed": false,
    "pycharm": {
     "name": "#%%\n"
    }
   }
  },
  {
   "cell_type": "code",
   "execution_count": 259,
   "outputs": [],
   "source": [
    "feature_cols = [\"num_ingredients\", \"ingredient_length\"]\n",
    "X = train[feature_cols]\n",
    "y = train[\"cuisine\"]"
   ],
   "metadata": {
    "collapsed": false,
    "pycharm": {
     "name": "#%%\n"
    }
   }
  },
  {
   "cell_type": "code",
   "execution_count": 260,
   "outputs": [
    {
     "name": "stdout",
     "output_type": "stream",
     "text": [
      "(39774, 2)\n",
      "(39774,)\n"
     ]
    }
   ],
   "source": [
    "print(X.shape)\n",
    "print(y.shape)"
   ],
   "metadata": {
    "collapsed": false,
    "pycharm": {
     "name": "#%%\n"
    }
   }
  },
  {
   "cell_type": "code",
   "execution_count": 261,
   "outputs": [
    {
     "data": {
      "text/plain": "italian         7838\nmexican         6438\nsouthern_us     4320\nindian          3003\nchinese         2673\nfrench          2646\ncajun_creole    1546\nthai            1539\njapanese        1423\ngreek           1175\nspanish          989\nkorean           830\nvietnamese       825\nmoroccan         821\nbritish          804\nfilipino         755\nirish            667\njamaican         526\nrussian          489\nbrazilian        467\nName: cuisine, dtype: int64"
     },
     "execution_count": 261,
     "metadata": {},
     "output_type": "execute_result"
    }
   ],
   "source": [
    "y.value_counts()"
   ],
   "metadata": {
    "collapsed": false,
    "pycharm": {
     "name": "#%%\n"
    }
   }
  },
  {
   "cell_type": "code",
   "execution_count": 262,
   "outputs": [
    {
     "data": {
      "text/plain": "array(['greek', 'southern_us', 'filipino', ..., 'irish', 'chinese',\n       'mexican'], dtype=object)"
     },
     "execution_count": 262,
     "metadata": {},
     "output_type": "execute_result"
    }
   ],
   "source": [
    "y.values"
   ],
   "metadata": {
    "collapsed": false,
    "pycharm": {
     "name": "#%%\n"
    }
   }
  },
  {
   "cell_type": "code",
   "execution_count": 263,
   "outputs": [],
   "source": [
    "from sklearn.neighbors import KNeighborsClassifier\n",
    "knn = KNeighborsClassifier(n_neighbors = 100)"
   ],
   "metadata": {
    "collapsed": false,
    "pycharm": {
     "name": "#%%\n"
    }
   }
  },
  {
   "cell_type": "code",
   "execution_count": 264,
   "outputs": [],
   "source": [
    "from sklearn.model_selection import train_test_split\n",
    "X_train, X_test, y_train, y_test = train_test_split(\n",
    "    X, y, random_state = 1\n",
    ")"
   ],
   "metadata": {
    "collapsed": false,
    "pycharm": {
     "name": "#%%\n"
    }
   }
  },
  {
   "cell_type": "code",
   "execution_count": 265,
   "outputs": [
    {
     "name": "stdout",
     "output_type": "stream",
     "text": [
      "(29830, 2)\n",
      "(29830,)\n",
      "(9944, 2)\n",
      "(9944,)\n"
     ]
    }
   ],
   "source": [
    "print(X_train.shape)\n",
    "print(y_train.shape)\n",
    "print(X_test.shape)\n",
    "print(y_test.shape)"
   ],
   "metadata": {
    "collapsed": false,
    "pycharm": {
     "name": "#%%\n"
    }
   }
  },
  {
   "cell_type": "code",
   "execution_count": 266,
   "outputs": [],
   "source": [
    "knn.fit(X_train, y_train)\n",
    "y_pred_class = knn.predict(X_test)"
   ],
   "metadata": {
    "collapsed": false,
    "pycharm": {
     "name": "#%%\n"
    }
   }
  },
  {
   "cell_type": "code",
   "execution_count": 267,
   "outputs": [
    {
     "data": {
      "text/plain": "0.21932823813354788"
     },
     "execution_count": 267,
     "metadata": {},
     "output_type": "execute_result"
    }
   ],
   "source": [
    "from sklearn import metrics\n",
    "metrics.accuracy_score(y_test, y_pred_class)"
   ],
   "metadata": {
    "collapsed": false,
    "pycharm": {
     "name": "#%%\n"
    }
   }
  },
  {
   "cell_type": "code",
   "execution_count": 268,
   "outputs": [
    {
     "data": {
      "text/plain": "0.21617128785930798"
     },
     "execution_count": 268,
     "metadata": {},
     "output_type": "execute_result"
    }
   ],
   "source": [
    "from sklearn.model_selection import cross_val_score\n",
    "cross_val_score(knn, X, y, cv = 5, scoring = \"accuracy\").mean()"
   ],
   "metadata": {
    "collapsed": false,
    "pycharm": {
     "name": "#%%\n"
    }
   }
  },
  {
   "cell_type": "code",
   "execution_count": 269,
   "outputs": [
    {
     "data": {
      "text/plain": "italian         5857\nmexican         4802\nsouthern_us     3255\nindian          2254\nchinese         2006\nfrench          1990\ncajun_creole    1173\nthai            1137\njapanese        1077\ngreek            874\nspanish          736\nvietnamese       643\nkorean           639\nmoroccan         626\nbritish          595\nfilipino         567\nirish            507\njamaican         376\nrussian          359\nbrazilian        357\nName: cuisine, dtype: int64"
     },
     "execution_count": 269,
     "metadata": {},
     "output_type": "execute_result"
    }
   ],
   "source": [
    "y_train.value_counts()"
   ],
   "metadata": {
    "collapsed": false,
    "pycharm": {
     "name": "#%%\n"
    }
   }
  },
  {
   "cell_type": "code",
   "execution_count": 270,
   "outputs": [
    {
     "data": {
      "text/plain": "italian    0.196346\nName: cuisine, dtype: float64"
     },
     "execution_count": 270,
     "metadata": {},
     "output_type": "execute_result"
    }
   ],
   "source": [
    "y_train.value_counts().head(1) / y_train.shape"
   ],
   "metadata": {
    "collapsed": false,
    "pycharm": {
     "name": "#%%\n"
    }
   }
  },
  {
   "cell_type": "code",
   "execution_count": 271,
   "outputs": [
    {
     "data": {
      "text/plain": "italian    0.199216\nName: cuisine, dtype: float64"
     },
     "execution_count": 271,
     "metadata": {},
     "output_type": "execute_result"
    }
   ],
   "source": [
    "y_test.value_counts().head(1) / y_test.shape"
   ],
   "metadata": {
    "collapsed": false,
    "pycharm": {
     "name": "#%%\n"
    }
   }
  },
  {
   "cell_type": "code",
   "execution_count": 272,
   "outputs": [
    {
     "data": {
      "text/plain": "0.1992156074014481"
     },
     "execution_count": 272,
     "metadata": {},
     "output_type": "execute_result"
    }
   ],
   "source": [
    "from sklearn.dummy import DummyClassifier\n",
    "dumb = DummyClassifier(strategy = \"most_frequent\")\n",
    "dumb.fit(X_train, y_train)\n",
    "y_pred_class = dumb.predict(X_test)\n",
    "metrics.accuracy_score(y_test, y_pred_class)"
   ],
   "metadata": {
    "collapsed": false,
    "pycharm": {
     "name": "#%%\n"
    }
   }
  },
  {
   "cell_type": "code",
   "execution_count": 273,
   "outputs": [
    {
     "data": {
      "text/plain": "      id                                        ingredients  num_ingredients  \\\n0  18009  [baking powder, eggs, all-purpose flour, raisi...                6   \n1  28583  [sugar, egg yolks, corn starch, cream of tarta...               11   \n2  41580  [sausage links, fennel bulb, fronds, olive oil...                6   \n3  29752  [meat cuts, file powder, smoked sausage, okra,...               21   \n4  35687  [ground black pepper, salt, sausage casings, l...                8   \n\n   ingredient_length  \n0           9.333333  \n1          10.272727  \n2           9.666667  \n3          12.000000  \n4          13.000000  ",
      "text/html": "<div>\n<style scoped>\n    .dataframe tbody tr th:only-of-type {\n        vertical-align: middle;\n    }\n\n    .dataframe tbody tr th {\n        vertical-align: top;\n    }\n\n    .dataframe thead th {\n        text-align: right;\n    }\n</style>\n<table border=\"1\" class=\"dataframe\">\n  <thead>\n    <tr style=\"text-align: right;\">\n      <th></th>\n      <th>id</th>\n      <th>ingredients</th>\n      <th>num_ingredients</th>\n      <th>ingredient_length</th>\n    </tr>\n  </thead>\n  <tbody>\n    <tr>\n      <th>0</th>\n      <td>18009</td>\n      <td>[baking powder, eggs, all-purpose flour, raisi...</td>\n      <td>6</td>\n      <td>9.333333</td>\n    </tr>\n    <tr>\n      <th>1</th>\n      <td>28583</td>\n      <td>[sugar, egg yolks, corn starch, cream of tarta...</td>\n      <td>11</td>\n      <td>10.272727</td>\n    </tr>\n    <tr>\n      <th>2</th>\n      <td>41580</td>\n      <td>[sausage links, fennel bulb, fronds, olive oil...</td>\n      <td>6</td>\n      <td>9.666667</td>\n    </tr>\n    <tr>\n      <th>3</th>\n      <td>29752</td>\n      <td>[meat cuts, file powder, smoked sausage, okra,...</td>\n      <td>21</td>\n      <td>12.000000</td>\n    </tr>\n    <tr>\n      <th>4</th>\n      <td>35687</td>\n      <td>[ground black pepper, salt, sausage casings, l...</td>\n      <td>8</td>\n      <td>13.000000</td>\n    </tr>\n  </tbody>\n</table>\n</div>"
     },
     "execution_count": 273,
     "metadata": {},
     "output_type": "execute_result"
    }
   ],
   "source": [
    "new = make_features(pd.read_json(\"test.json\"))\n",
    "new.head()"
   ],
   "metadata": {
    "collapsed": false,
    "pycharm": {
     "name": "#%%\n"
    }
   }
  },
  {
   "cell_type": "code",
   "execution_count": 274,
   "outputs": [
    {
     "data": {
      "text/plain": "(9944, 4)"
     },
     "execution_count": 274,
     "metadata": {},
     "output_type": "execute_result"
    }
   ],
   "source": [
    "new.shape"
   ],
   "metadata": {
    "collapsed": false,
    "pycharm": {
     "name": "#%%\n"
    }
   }
  },
  {
   "cell_type": "code",
   "execution_count": 275,
   "outputs": [
    {
     "data": {
      "text/plain": "   num_ingredients  ingredient_length\n0                6           9.333333\n1               11          10.272727\n2                6           9.666667\n3               21          12.000000\n4                8          13.000000",
      "text/html": "<div>\n<style scoped>\n    .dataframe tbody tr th:only-of-type {\n        vertical-align: middle;\n    }\n\n    .dataframe tbody tr th {\n        vertical-align: top;\n    }\n\n    .dataframe thead th {\n        text-align: right;\n    }\n</style>\n<table border=\"1\" class=\"dataframe\">\n  <thead>\n    <tr style=\"text-align: right;\">\n      <th></th>\n      <th>num_ingredients</th>\n      <th>ingredient_length</th>\n    </tr>\n  </thead>\n  <tbody>\n    <tr>\n      <th>0</th>\n      <td>6</td>\n      <td>9.333333</td>\n    </tr>\n    <tr>\n      <th>1</th>\n      <td>11</td>\n      <td>10.272727</td>\n    </tr>\n    <tr>\n      <th>2</th>\n      <td>6</td>\n      <td>9.666667</td>\n    </tr>\n    <tr>\n      <th>3</th>\n      <td>21</td>\n      <td>12.000000</td>\n    </tr>\n    <tr>\n      <th>4</th>\n      <td>8</td>\n      <td>13.000000</td>\n    </tr>\n  </tbody>\n</table>\n</div>"
     },
     "execution_count": 275,
     "metadata": {},
     "output_type": "execute_result"
    }
   ],
   "source": [
    "X_new = new[feature_cols]\n",
    "X_new.head()"
   ],
   "metadata": {
    "collapsed": false,
    "pycharm": {
     "name": "#%%\n"
    }
   }
  },
  {
   "cell_type": "code",
   "execution_count": 276,
   "outputs": [
    {
     "data": {
      "text/plain": "KNeighborsClassifier(n_neighbors=100)"
     },
     "execution_count": 276,
     "metadata": {},
     "output_type": "execute_result"
    }
   ],
   "source": [
    "knn.fit(X, y)"
   ],
   "metadata": {
    "collapsed": false,
    "pycharm": {
     "name": "#%%\n"
    }
   }
  },
  {
   "cell_type": "code",
   "execution_count": 277,
   "outputs": [
    {
     "data": {
      "text/plain": "array(['mexican', 'southern_us', 'mexican', ..., 'italian', 'mexican',\n       'mexican'], dtype=object)"
     },
     "execution_count": 277,
     "metadata": {},
     "output_type": "execute_result"
    }
   ],
   "source": [
    "new_pred_class_knn = knn.predict(X_new)\n",
    "new_pred_class_knn"
   ],
   "metadata": {
    "collapsed": false,
    "pycharm": {
     "name": "#%%\n"
    }
   }
  },
  {
   "cell_type": "code",
   "execution_count": 278,
   "outputs": [],
   "source": [
    "#Exporting a csv file for kaggle submission\n",
    "#pd.DataFrame({\"id\":new[\"id\"],\n",
    "#              \"cuisine\": new_pred_class_knn})\\\n",
    "#    .set_index(\"id\").to_csv(\"sub1.csv\")"
   ],
   "metadata": {
    "collapsed": false,
    "pycharm": {
     "name": "#%%\n"
    }
   }
  },
  {
   "cell_type": "code",
   "execution_count": 279,
   "outputs": [
    {
     "data": {
      "text/plain": "{'n_neighbors': [100, 200]}"
     },
     "execution_count": 279,
     "metadata": {},
     "output_type": "execute_result"
    }
   ],
   "source": [
    "from sklearn.model_selection import GridSearchCV\n",
    "param_grid = {}\n",
    "param_grid[\"n_neighbors\"] = [100, 200]\n",
    "param_grid"
   ],
   "metadata": {
    "collapsed": false,
    "pycharm": {
     "name": "#%%\n"
    }
   }
  },
  {
   "cell_type": "code",
   "execution_count": 280,
   "outputs": [
    {
     "data": {
      "text/plain": "GridSearchCV(cv=5, estimator=KNeighborsClassifier(n_neighbors=100), n_jobs=-1,\n             param_grid={'n_neighbors': [100, 200]}, scoring='accuracy')"
     },
     "execution_count": 280,
     "metadata": {},
     "output_type": "execute_result"
    }
   ],
   "source": [
    "grid = GridSearchCV(knn, param_grid, cv = 5, scoring = \"accuracy\", n_jobs = -1)\n",
    "grid.fit(X, y)"
   ],
   "metadata": {
    "collapsed": false,
    "pycharm": {
     "name": "#%%\n"
    }
   }
  },
  {
   "cell_type": "code",
   "execution_count": 281,
   "outputs": [
    {
     "data": {
      "text/plain": "0.220269421581384"
     },
     "execution_count": 281,
     "metadata": {},
     "output_type": "execute_result"
    }
   ],
   "source": [
    "grid.best_score_"
   ],
   "metadata": {
    "collapsed": false,
    "pycharm": {
     "name": "#%%\n"
    }
   }
  },
  {
   "cell_type": "code",
   "execution_count": 282,
   "outputs": [
    {
     "data": {
      "text/plain": "{'n_neighbors': 200}"
     },
     "execution_count": 282,
     "metadata": {},
     "output_type": "execute_result"
    }
   ],
   "source": [
    "grid.best_params_"
   ],
   "metadata": {
    "collapsed": false,
    "pycharm": {
     "name": "#%%\n"
    }
   }
  },
  {
   "cell_type": "code",
   "execution_count": 283,
   "outputs": [
    {
     "data": {
      "text/plain": "{'n_neighbors': [200, 400, 600, 800, 1000]}"
     },
     "execution_count": 283,
     "metadata": {},
     "output_type": "execute_result"
    }
   ],
   "source": [
    "param_grid = {}\n",
    "param_grid[\"n_neighbors\"] = list(range(200, 1001, 200))\n",
    "param_grid"
   ],
   "metadata": {
    "collapsed": false,
    "pycharm": {
     "name": "#%%\n"
    }
   }
  },
  {
   "cell_type": "code",
   "execution_count": 284,
   "outputs": [
    {
     "name": "stdout",
     "output_type": "stream",
     "text": [
      "CPU times: user 48 µs, sys: 13 µs, total: 61 µs\n",
      "Wall time: 66.8 µs\n"
     ]
    },
    {
     "data": {
      "text/plain": "GridSearchCV(cv=5, estimator=KNeighborsClassifier(n_neighbors=100), n_jobs=-1,\n             param_grid={'n_neighbors': [200, 400, 600, 800, 1000]},\n             scoring='accuracy')"
     },
     "execution_count": 284,
     "metadata": {},
     "output_type": "execute_result"
    }
   ],
   "source": [
    "%time grid = GridSearchCV(knn, param_grid, cv = 5, scoring = \"accuracy\", n_jobs = -1)\n",
    "grid.fit(X, y)"
   ],
   "metadata": {
    "collapsed": false,
    "pycharm": {
     "name": "#%%\n"
    }
   }
  },
  {
   "cell_type": "code",
   "execution_count": 285,
   "outputs": [
    {
     "data": {
      "text/plain": "0.22263283205900933"
     },
     "execution_count": 285,
     "metadata": {},
     "output_type": "execute_result"
    }
   ],
   "source": [
    "grid.best_score_"
   ],
   "metadata": {
    "collapsed": false,
    "pycharm": {
     "name": "#%%\n"
    }
   }
  },
  {
   "cell_type": "code",
   "execution_count": 286,
   "outputs": [
    {
     "data": {
      "text/plain": "{'n_neighbors': 800}"
     },
     "execution_count": 286,
     "metadata": {},
     "output_type": "execute_result"
    }
   ],
   "source": [
    "grid.best_params_"
   ],
   "metadata": {
    "collapsed": false,
    "pycharm": {
     "name": "#%%\n"
    }
   }
  },
  {
   "cell_type": "code",
   "execution_count": 287,
   "outputs": [
    {
     "data": {
      "text/plain": "\"['romaine lettuce', 'black olives', 'grape tomatoes', 'garlic', 'pepper', 'purple onion', 'seasoning', 'garbanzo beans', 'feta cheese crumbles']\""
     },
     "execution_count": 287,
     "metadata": {},
     "output_type": "execute_result"
    }
   ],
   "source": [
    "#Converting a list of strings to one big string\n",
    "train[\"ingredients\"].astype(str)[0]"
   ],
   "metadata": {
    "collapsed": false,
    "pycharm": {
     "name": "#%%\n"
    }
   }
  },
  {
   "cell_type": "code",
   "execution_count": 288,
   "outputs": [],
   "source": [
    "def make_features(df):\n",
    "    df[\"num_ingredients\"] = df[\"ingredients\"].apply(len)\n",
    "    df[\"ingredient_length\"] = df[\"ingredients\"].apply(\n",
    "        lambda x: np.mean([len(item) for item in x])\n",
    "    )\n",
    "    df[\"ingredients_str\"] = df[\"ingredients\"].astype(str)\n",
    "    return df"
   ],
   "metadata": {
    "collapsed": false,
    "pycharm": {
     "name": "#%%\n"
    }
   }
  },
  {
   "cell_type": "code",
   "execution_count": 289,
   "outputs": [
    {
     "data": {
      "text/plain": "      id      cuisine                                        ingredients  \\\n0  10259        greek  [romaine lettuce, black olives, grape tomatoes...   \n1  25693  southern_us  [plain flour, ground pepper, salt, tomatoes, g...   \n2  20130     filipino  [eggs, pepper, salt, mayonaise, cooking oil, g...   \n3  22213       indian                [water, vegetable oil, wheat, salt]   \n4  13162       indian  [black pepper, shallots, cornflour, cayenne pe...   \n\n   num_ingredients  ingredient_length  \\\n0                9          12.000000   \n1               11          10.090909   \n2               12          10.333333   \n3                4           6.750000   \n4               20          10.100000   \n\n                                     ingredients_str  \n0  ['romaine lettuce', 'black olives', 'grape tom...  \n1  ['plain flour', 'ground pepper', 'salt', 'toma...  \n2  ['eggs', 'pepper', 'salt', 'mayonaise', 'cooki...  \n3        ['water', 'vegetable oil', 'wheat', 'salt']  \n4  ['black pepper', 'shallots', 'cornflour', 'cay...  ",
      "text/html": "<div>\n<style scoped>\n    .dataframe tbody tr th:only-of-type {\n        vertical-align: middle;\n    }\n\n    .dataframe tbody tr th {\n        vertical-align: top;\n    }\n\n    .dataframe thead th {\n        text-align: right;\n    }\n</style>\n<table border=\"1\" class=\"dataframe\">\n  <thead>\n    <tr style=\"text-align: right;\">\n      <th></th>\n      <th>id</th>\n      <th>cuisine</th>\n      <th>ingredients</th>\n      <th>num_ingredients</th>\n      <th>ingredient_length</th>\n      <th>ingredients_str</th>\n    </tr>\n  </thead>\n  <tbody>\n    <tr>\n      <th>0</th>\n      <td>10259</td>\n      <td>greek</td>\n      <td>[romaine lettuce, black olives, grape tomatoes...</td>\n      <td>9</td>\n      <td>12.000000</td>\n      <td>['romaine lettuce', 'black olives', 'grape tom...</td>\n    </tr>\n    <tr>\n      <th>1</th>\n      <td>25693</td>\n      <td>southern_us</td>\n      <td>[plain flour, ground pepper, salt, tomatoes, g...</td>\n      <td>11</td>\n      <td>10.090909</td>\n      <td>['plain flour', 'ground pepper', 'salt', 'toma...</td>\n    </tr>\n    <tr>\n      <th>2</th>\n      <td>20130</td>\n      <td>filipino</td>\n      <td>[eggs, pepper, salt, mayonaise, cooking oil, g...</td>\n      <td>12</td>\n      <td>10.333333</td>\n      <td>['eggs', 'pepper', 'salt', 'mayonaise', 'cooki...</td>\n    </tr>\n    <tr>\n      <th>3</th>\n      <td>22213</td>\n      <td>indian</td>\n      <td>[water, vegetable oil, wheat, salt]</td>\n      <td>4</td>\n      <td>6.750000</td>\n      <td>['water', 'vegetable oil', 'wheat', 'salt']</td>\n    </tr>\n    <tr>\n      <th>4</th>\n      <td>13162</td>\n      <td>indian</td>\n      <td>[black pepper, shallots, cornflour, cayenne pe...</td>\n      <td>20</td>\n      <td>10.100000</td>\n      <td>['black pepper', 'shallots', 'cornflour', 'cay...</td>\n    </tr>\n  </tbody>\n</table>\n</div>"
     },
     "execution_count": 289,
     "metadata": {},
     "output_type": "execute_result"
    }
   ],
   "source": [
    "train = make_features(pd.read_json(\"train.json\"))\n",
    "train.head()"
   ],
   "metadata": {
    "collapsed": false,
    "pycharm": {
     "name": "#%%\n"
    }
   }
  },
  {
   "cell_type": "code",
   "execution_count": 290,
   "outputs": [],
   "source": [
    "X = train[\"ingredients_str\"]\n",
    "y = train[\"cuisine\"]"
   ],
   "metadata": {
    "collapsed": false,
    "pycharm": {
     "name": "#%%\n"
    }
   }
  },
  {
   "cell_type": "code",
   "execution_count": 291,
   "outputs": [],
   "source": [
    "from sklearn.feature_extraction.text import CountVectorizer\n",
    "vect = CountVectorizer()"
   ],
   "metadata": {
    "collapsed": false,
    "pycharm": {
     "name": "#%%\n"
    }
   }
  },
  {
   "cell_type": "code",
   "execution_count": 292,
   "outputs": [
    {
     "data": {
      "text/plain": "<39774x3010 sparse matrix of type '<class 'numpy.int64'>'\n\twith 761951 stored elements in Compressed Sparse Row format>"
     },
     "execution_count": 292,
     "metadata": {},
     "output_type": "execute_result"
    }
   ],
   "source": [
    "X_dtm = vect.fit_transform(X)\n",
    "X_dtm"
   ],
   "metadata": {
    "collapsed": false,
    "pycharm": {
     "name": "#%%\n"
    }
   }
  },
  {
   "cell_type": "code",
   "execution_count": 293,
   "outputs": [
    {
     "data": {
      "text/plain": "CountVectorizer(token_pattern=\"'([a-z ]+)'\")"
     },
     "execution_count": 293,
     "metadata": {},
     "output_type": "execute_result"
    }
   ],
   "source": [
    "vect = CountVectorizer(token_pattern = r\"'([a-z ]+)'\")\n",
    "vect"
   ],
   "metadata": {
    "collapsed": false,
    "pycharm": {
     "name": "#%%\n"
    }
   }
  },
  {
   "cell_type": "code",
   "execution_count": 295,
   "outputs": [
    {
     "data": {
      "text/plain": "['a taste of thai rice noodles',\n 'abalone',\n 'abbamele',\n 'absinthe',\n 'abura age',\n 'acai juice',\n 'accent',\n 'accent seasoning',\n 'accompaniment',\n 'achiote',\n 'achiote paste',\n 'achiote powder',\n 'acini di pepe',\n 'ackee',\n 'acorn squash',\n 'active dry yeast',\n 'adobo',\n 'adobo all purpose seasoning',\n 'adobo sauce',\n 'adobo seasoning',\n 'adobo style seasoning',\n 'adzuki beans',\n 'agar',\n 'agar agar flakes',\n 'agave nectar',\n 'agave tequila',\n 'aged balsamic vinegar',\n 'aged cheddar cheese',\n 'aged gouda',\n 'aged manchego cheese',\n 'ahi',\n 'ahi tuna steaks',\n 'aioli',\n 'ajinomoto',\n 'ajwain',\n 'aka miso',\n 'alaskan king crab legs',\n 'alaskan king salmon',\n 'albacore',\n 'albacore tuna in water',\n 'alcohol',\n 'ale',\n 'aleppo',\n 'aleppo pepper',\n 'alexia waffle fries',\n 'alfalfa sprouts',\n 'alfredo sauce',\n 'alfredo sauce mix',\n 'all beef hot dogs',\n 'all potato purpos',\n 'all purpose seasoning',\n 'all purpose unbleached flour',\n 'allspice',\n 'allspice berries',\n 'almond butter',\n 'almond extract',\n 'almond filling',\n 'almond flour',\n 'almond liqueur',\n 'almond meal',\n 'almond milk',\n 'almond oil',\n 'almond paste',\n 'almond syrup',\n 'almonds',\n 'aloe juice',\n 'alphabet pasta',\n 'alum',\n 'amaranth',\n 'amarena cherries',\n 'amaretti',\n 'amaretti cookies',\n 'amaretto',\n 'amaretto liqueur',\n 'amba',\n 'amber',\n 'amber rum',\n 'amberjack fillet',\n 'amchur',\n 'america',\n 'american cheese',\n 'american cheese food',\n 'american cheese slices',\n 'ammonium bicarbonate',\n 'amontillado sherry',\n 'ampalaya',\n 'anaheim chile',\n 'anasazi beans',\n 'ancho',\n 'ancho chile pepper',\n 'ancho chili ground pepper',\n 'ancho powder',\n 'anchovies',\n 'anchovy filets',\n 'anchovy fillets',\n 'anchovy paste',\n 'and carrot green pea',\n 'and cook drain pasta ziti',\n 'and fat free half half',\n 'andouille chicken sausage',\n 'andouille sausage',\n 'andouille sausage links',\n 'andouille turkey sausages',\n 'angel food cake',\n 'angel food cake mix',\n 'angel hair',\n 'angled loofah',\n 'angostura bitters',\n 'angus',\n 'anise',\n 'anise basil',\n 'anise extract',\n 'anise liqueur',\n 'anise oil',\n 'anise powder',\n 'anise seed',\n 'anisette',\n 'anjou pears',\n 'annatto',\n 'annatto oil',\n 'annatto powder',\n 'annatto seeds',\n 'any',\n 'aonori',\n 'apple brandy',\n 'apple butter',\n 'apple cider',\n 'apple cider vinegar',\n 'apple jelly',\n 'apple juice',\n 'apple juice concentrate',\n 'apple pie filling',\n 'apple pie spice',\n 'apple puree',\n 'apple schnapps',\n 'apple slice',\n 'apples',\n 'applesauce',\n 'applewood smoked bacon',\n 'apricot brandy',\n 'apricot halves',\n 'apricot jam',\n 'apricot jelly',\n 'apricot nectar',\n 'apricot preserves',\n 'apricots',\n 'aquavit',\n 'arak',\n 'arame',\n 'arbol chile',\n 'arborio rice',\n 'arctic char',\n 'arepa flour',\n 'argo corn starch',\n 'arhar',\n 'arhar dal',\n 'armagnac',\n 'arrow root',\n 'arrowroot',\n 'arrowroot flour',\n 'arrowroot powder',\n 'arrowroot starch',\n 'artichok heart marin',\n 'artichoke bottoms',\n 'artichoke hearts',\n 'artichokes',\n 'artificial sweetener',\n 'artisan bread',\n 'arugula',\n 'asadero',\n 'asafetida',\n 'asafetida powder',\n 'asafoetida',\n 'asafoetida powder',\n 'asakusa nori',\n 'ascorbic acid',\n 'asiago',\n 'asian',\n 'asian barbecue sauce',\n 'asian basil',\n 'asian black bean sauce',\n 'asian chile paste',\n 'asian chili red sauc',\n 'asian chili sauce',\n 'asian dressing',\n 'asian eggplants',\n 'asian fish sauce',\n 'asian noodles',\n 'asian pear',\n 'asian rice noodles',\n 'asian sweet chili sauce',\n 'asian wheat noodles',\n 'asparagus',\n 'asparagus bean',\n 'asparagus spears',\n 'asparagus tips',\n 'aspic',\n 'assam',\n 'assorted fresh vegetables',\n 'asti spumante',\n 'atlantic cod fillets',\n 'atta',\n 'au jus gravy',\n 'au jus gravy mix',\n 'au jus mix',\n 'avocado',\n 'avocado dressing',\n 'avocado leaves',\n 'avocado oil',\n 'awase miso',\n 'azteca flour tortillas',\n 'azuki bean',\n 'baby artichokes',\n 'baby arugula',\n 'baby back ribs',\n 'baby beets',\n 'baby bok choy',\n 'baby broccoli',\n 'baby carrots',\n 'baby corn',\n 'baby eggplants',\n 'baby gem lettuce',\n 'baby goat',\n 'baby greens',\n 'baby kale',\n 'baby leaf lettuce',\n 'baby lima beans',\n 'baby okra',\n 'baby portobello mushrooms',\n 'baby potatoes',\n 'baby radishes',\n 'baby spinach',\n 'baby spinach leaves',\n 'baby tatsoi',\n 'baby turnips',\n 'baby zucchini',\n 'bacardi',\n 'back bacon',\n 'back bacon rashers',\n 'back ribs',\n 'bacon',\n 'bacon bits',\n 'bacon drippings',\n 'bacon fat',\n 'bacon grease',\n 'bacon pieces',\n 'bacon rind',\n 'bacon salt',\n 'bacon slices',\n 'bagel chips',\n 'bagels',\n 'baguette',\n 'bai cai',\n 'baileys irish cream liqueur',\n 'baked beans',\n 'baked corn tortilla chips',\n 'baked ham',\n 'baked pita chips',\n 'baked pizza crust',\n 'baked tortilla chips',\n 'baking apples',\n 'baking chocolate',\n 'baking mix',\n 'baking potatoes',\n 'baking powder',\n 'baking soda',\n 'baking spray',\n 'baking sugar',\n 'baking yeast',\n 'balm',\n 'balm leaves',\n 'balsamic reduction',\n 'balsamic vinaigrette',\n 'balsamic vinaigrette salad dressing',\n 'balsamic vinegar',\n 'balsamico bianco',\n 'bamboo shoots',\n 'banana blossom',\n 'banana bread',\n 'banana extract',\n 'banana flower',\n 'banana leaves',\n 'banana liqueur',\n 'banana peppers',\n 'banana puree',\n 'banana squash',\n 'bananas',\n 'banger',\n 'banh hoi',\n 'banh pho rice noodles',\n 'baobab fruit powder',\n 'barbecue rub',\n 'barbecue sauce',\n 'barbecue seasoning',\n 'barbecued pork',\n 'barilla',\n 'barilla linguine',\n 'barilla piccolini mini',\n 'barilla plus pasta',\n 'barley',\n 'barley flakes',\n 'barley flour',\n 'barley grits',\n 'barley miso',\n 'barolo',\n 'barramundi fillets',\n 'bartlett pear',\n 'bartlett pears',\n 'basa fillets',\n 'base',\n 'basil',\n 'basil dried leaves',\n 'basil leaves',\n 'basil mayonnaise',\n 'basil olive oil',\n 'basil pesto sauce',\n 'basmati',\n 'basmati rice',\n 'bass',\n 'bass fillets',\n 'baton',\n 'batter',\n 'bawang goreng',\n 'bay leaf',\n 'bay leaves',\n 'bay scallops',\n 'bbq sauce',\n 'bbq seasoning',\n 'bean curd',\n 'bean curd skins',\n 'bean curd stick',\n 'bean dip',\n 'bean paste',\n 'bean sauce',\n 'bean soup',\n 'bean soup mix',\n 'bean thread vermicelli',\n 'bean threads',\n 'beans',\n 'beansprouts',\n 'bear',\n 'beaten eggs',\n 'beau monde seasoning',\n 'beaujolais',\n 'bechamel',\n 'bee pollen',\n 'beef',\n 'beef base',\n 'beef boneless meat stew',\n 'beef bones',\n 'beef bouillon',\n 'beef bouillon granules',\n 'beef bouillon powder',\n 'beef brisket',\n 'beef broth',\n 'beef carpaccio',\n 'beef cheek',\n 'beef consomme',\n 'beef deli roast slice thinli',\n 'beef drippings',\n 'beef fillet',\n 'beef for stew',\n 'beef gravy',\n 'beef heart',\n 'beef hot dogs',\n 'beef jerky',\n 'beef kidney',\n 'beef liver',\n 'beef marrow',\n 'beef rib roast',\n 'beef rib short',\n 'beef ribs',\n 'beef roast',\n 'beef round',\n 'beef rump',\n 'beef rump steaks',\n 'beef sausage',\n 'beef shank',\n 'beef shin',\n 'beef shoulder',\n 'beef shoulder roast',\n 'beef sirloin',\n 'beef smoked sausage',\n 'beef soup bones',\n 'beef steak',\n 'beef stew',\n 'beef stew meat',\n 'beef stew seasoning mix',\n 'beef stock',\n 'beef stock cubes',\n 'beef tenderloin',\n 'beef tenderloin steaks',\n 'beef tendons',\n 'beef tongue',\n 'beefsteak tomatoes',\n 'beer',\n 'beer batter',\n 'beet greens',\n 'beet juice',\n 'beets',\n 'belacan',\n 'belgian endive',\n 'bell pepper',\n 'beluga lentil',\n 'bengal gram',\n 'beni shoga',\n 'benne seed',\n 'bermuda onion',\n 'berries',\n 'bertolli four chees rosa sauc',\n 'bertolli garlic alfredo sauce',\n 'bertolli organic tradit sauc',\n 'bertolli vineyard premium collect marinara with burgundi wine sauc',\n 'bertolli vodka sauc made with fresh cream',\n 'better than bouillon chicken base',\n 'bhaji',\n 'bhindi',\n 'bibb lettuce',\n 'bicarbonate of soda',\n 'biga',\n 'bigoli',\n 'bihon',\n 'bing cherries',\n 'bird chile',\n 'bird pepper',\n 'biryani masala',\n 'biscotti',\n 'biscuit baking mix',\n 'biscuit dough',\n 'biscuit mix',\n 'biscuits',\n 'bisquick',\n 'bisquick baking mix',\n 'bitter gourd',\n 'bitter melon',\n 'bitters',\n 'bittersweet baking chocolate',\n 'bittersweet chocolate',\n 'bittersweet chocolate chips',\n 'blacan',\n 'black',\n 'black bass',\n 'black bean and corn salsa',\n 'black bean garlic sauce',\n 'black bean sauce',\n 'black bean sauce with garlic',\n 'black bean stir fry sauce',\n 'black beans',\n 'black cardamom pods',\n 'black cherries',\n 'black chicken',\n 'black cod',\n 'black cod fillets',\n 'black cumin seeds',\n 'black forest ham',\n 'black fungus',\n 'black garlic',\n 'black gram',\n 'black grapes',\n 'black lentil',\n 'black mission figs',\n 'black moss',\n 'black mushrooms',\n 'black mustard seeds',\n 'black olives',\n 'black onion seeds',\n 'black pepper',\n 'black peppercorns',\n 'black pudding',\n 'black radish',\n 'black rice',\n 'black rice vinegar',\n 'black salt',\n 'black sea bass',\n 'black sesame seeds',\n 'black tea',\n 'black tea leaves',\n 'black treacle',\n 'black truffle oil',\n 'black truffles',\n 'black trumpet mushrooms',\n 'black turtle beans',\n 'black vinegar',\n 'black walnut',\n 'blackberries',\n 'blackberry brandy',\n 'blackberry jam',\n 'blackcurrant syrup',\n 'blackening seasoning',\n 'blackpepper',\n 'blackstrap molasses',\n 'blade steak',\n 'blanched almond flour',\n 'blanched almonds',\n 'blanched hazelnuts',\n 'blanco chees queso',\n 'blanco tequila',\n 'blood',\n 'blood orange',\n 'blood orange juice',\n 'blood sausage',\n 'bloody mary mix',\n 'blue cheese',\n 'blue cheese dressing',\n 'blue corn tortilla chips',\n 'blue crabs',\n 'blueberri preserv',\n 'blueberries',\n 'blueberry pie filling',\n 'boar',\n 'bob evans italian sausage',\n 'bocconcini',\n 'bock beer',\n 'boiled eggs',\n 'boiled ham',\n 'boiling onions',\n 'boiling potatoes',\n 'boiling water',\n 'bok choy',\n 'bolillo',\n 'bologna',\n 'bone broth',\n 'bone in',\n 'bone in chicken thighs',\n 'bone in skin on chicken thigh',\n 'bone in skinless chicken thigh',\n 'bone marrow',\n 'boned duck breast halves',\n 'boned lamb shoulder',\n 'boned skinned duck breast halves',\n 'boneless beef chuck roast',\n 'boneless beef rib eye steaks',\n 'boneless beef roast',\n 'boneless beef round steak',\n 'boneless beef short ribs',\n 'boneless beef sirloin steak',\n 'boneless center cut pork chops',\n 'boneless chicken',\n 'boneless chicken breast',\n 'boneless chicken breast halves',\n 'boneless chicken cutlet',\n 'boneless chicken skinless thigh',\n 'boneless chicken thigh fillets',\n 'boneless chicken thighs',\n 'boneless chop pork',\n 'boneless chops',\n 'boneless chuck roast',\n 'boneless country pork ribs',\n 'boneless duck breast',\n 'boneless duck breast halves',\n 'boneless ham',\n 'boneless lamb',\n 'boneless magret duck breast halves',\n 'boneless moulard duck breast halves',\n 'boneless pork loin',\n 'boneless pork shoulder',\n 'boneless pork shoulder roast',\n 'boneless pork tenderloin',\n 'boneless rib eye steaks',\n 'boneless salmon fillets',\n 'boneless sirloin',\n 'boneless sirloin steak',\n 'boneless skin on chicken thighs',\n 'boneless skinless chicken',\n 'boneless skinless chicken breast halves',\n 'boneless skinless chicken breasts',\n 'boneless skinless chicken tenderloins',\n 'boneless skinless chicken thigh fillets',\n 'boneless skinless turkey breasts',\n 'boneless steak',\n 'boneless turkey breast',\n 'boneless veal shoulder',\n 'bonito',\n 'bonito flakes',\n 'boquerones',\n 'borage',\n 'bordelaise sauce',\n 'borlotti',\n 'borlotti beans',\n 'bosc pears',\n 'boston butt',\n 'boston lettuce',\n 'bottle gourd',\n 'bottled balsamic vinaigrette',\n 'bottled chili sauce',\n 'bottled clam juice',\n 'bottled italian dressing',\n 'bottled lime juice',\n 'bottled low sodium salsa',\n 'bottom round',\n 'bottom round roast',\n 'boudin',\n 'bouillon',\n 'bouillon cube',\n 'bouillon granules',\n 'bouillon powder',\n 'bouquet',\n 'bouquet garni',\n 'bourbon liqueur',\n 'bourbon whiskey',\n 'boursin',\n 'bows',\n 'boy choy',\n 'boysenberries',\n 'braeburn apple',\n 'bragg liquid aminos',\n 'braggs liquid aminos',\n 'braising beef',\n 'braising steak',\n 'bran flakes',\n 'branca menta',\n 'brandy',\n 'brandy extract',\n 'branston pickle',\n 'branzino',\n 'branzino fillets',\n 'brats',\n 'brazil nuts',\n 'bread',\n 'bread and butter pickle slices',\n 'bread and butter pickles',\n 'bread ciabatta',\n 'bread crumb fresh',\n 'bread crumbs',\n 'bread dough',\n 'bread flour',\n 'bread machine yeast',\n 'bread mix',\n 'bread rolls',\n 'bread slices',\n 'bread yeast',\n 'breadcrumb mix',\n 'breadfruit',\n 'breadstick',\n 'breakfast sausage links',\n 'breakfast sausages',\n 'breast',\n 'breast of lamb',\n 'breasts halves',\n 'bresaola',\n 'brewed coffee',\n 'brewed espresso',\n 'brewed tea',\n 'brie cheese',\n 'brill',\n 'brine',\n 'brine cured green olives',\n 'brioche',\n 'brioche bread',\n 'brioche buns',\n 'brisket',\n 'broad beans',\n 'broccoli',\n 'broccoli florets',\n 'broccoli rabe',\n 'broccoli romanesco',\n 'broccoli slaw',\n 'broccoli stems',\n 'broccolini',\n 'broiler',\n 'broiler chicken',\n 'broth',\n 'brown ale',\n 'brown basmati rice',\n 'brown beech mushrooms',\n 'brown butter',\n 'brown cardamom',\n 'brown chicken stock',\n 'brown gravy',\n 'brown gravy mix',\n 'brown hash potato',\n 'brown lentils',\n 'brown mushroom',\n 'brown mustard',\n 'brown mustard seeds',\n 'brown rice',\n 'brown rice flour',\n 'brown rice noodles',\n 'brown rice penne',\n 'brown rice spaghetti',\n 'brown rice syrup',\n 'brown rice vinegar',\n 'brown sauce',\n 'brown shrimp',\n 'brown sugar',\n 'brownie layer',\n 'brownies',\n 'browning',\n 'brussels sprouts',\n 'bucatini',\n 'buckwheat',\n 'buckwheat flour',\n 'buckwheat groats',\n 'buckwheat honey',\n 'buckwheat noodles',\n 'buckwheat soba noodles',\n 'budweiser',\n 'buffalo',\n 'buffalo mozarella',\n 'buffalo mozzarella',\n 'buffalo sauce',\n 'bulb',\n 'bulb fennel',\n 'bulgur',\n 'bulgur wheat',\n 'bulk italian sausag',\n 'buns',\n 'burdock',\n 'burger buns',\n 'burger rolls',\n 'burger style crumbles',\n 'burgers',\n 'burgundy',\n 'burgundy snails',\n 'burgundy wine',\n 'burrata',\n 'burrito seasoning mix',\n 'burro banana',\n 'butter',\n 'butter beans',\n 'butter cake',\n 'butter cooking spray',\n 'butter crackers',\n 'butter extract',\n 'butter flavor shortening',\n 'butter flavor vegetable shortening',\n 'butter lettuce',\n 'butter oil',\n 'butter pecan cake mix',\n 'butter pecan ice cream',\n 'butter salt',\n 'buttercream frosting',\n 'buttercup squash',\n 'butterflied leg of lamb',\n 'buttermilk',\n 'buttermilk biscuits',\n 'buttermilk cornbread',\n 'buttermilk ranch dressing',\n 'butternut',\n 'butternut squash',\n 'butterscotch chips',\n 'butterscotch filling',\n 'butterscotch sauce',\n 'button mushrooms',\n 'cabbage',\n 'cabbage head',\n 'cabbage leaves',\n 'cabbage lettuce',\n 'cabernet',\n 'cabernet sauvignon',\n 'cabrales',\n 'cacao nibs',\n 'cacao powder',\n 'cachaca',\n 'caciocavallo',\n 'cactus',\n 'cactus leaf',\n 'cactus pad',\n 'cactus paddles',\n 'caesar salad dressing',\n 'cajeta',\n 'cajun remoulade',\n 'cajun seasoning',\n 'cajun seasoning mix',\n 'cajun spice mix',\n 'cajun style stewed tomatoes',\n 'cake',\n 'cake batter',\n 'cake flour',\n 'cake mix',\n 'cake mix or white yellow',\n 'cake pound prepar',\n 'cake yeast',\n 'calabash',\n 'calabaza',\n 'calabrese sausage',\n 'calamansi',\n 'calamansi juice',\n 'calamari',\n 'calamari steak',\n 'calamata olives',\n 'calf liver',\n 'california avocado',\n 'california bay leaves',\n 'california chile',\n 'calimyrna figs',\n 'callaloo',\n 'calvados',\n 'camellia red kidney beans',\n 'camembert',\n 'campanelle',\n 'campari',\n 'canadian bacon',\n 'candied bacon',\n 'candied cherries',\n 'candied chestnuts',\n 'candied citron peel',\n 'candied fruit',\n 'candied ginger',\n 'candied jalapeno',\n 'candied lemon peel',\n 'candied orange peel',\n 'candied peel',\n 'candied pineapple',\n 'candlenuts',\n 'candy',\n 'candy bar',\n 'candy canes',\n 'candy sprinkles',\n 'cane sugar',\n 'cane syrup',\n 'cane vinegar',\n 'canela',\n 'canned beans',\n 'canned beef broth',\n 'canned black beans',\n 'canned chicken',\n 'canned chicken breast',\n 'canned chicken broth',\n 'canned chipotles',\n 'canned chopped tomatoes',\n 'canned coconut milk',\n 'canned corn',\n 'canned jalapeno peppers',\n 'canned low sodium chicken broth',\n 'canned peas and carrots',\n 'canned salmon',\n 'canned snails',\n 'canned tomatoes',\n 'canned tuna',\n 'cannellini beans',\n 'cannelloni',\n 'cannelloni shells',\n 'canning salt',\n 'cannoli shells',\n 'canola',\n 'canola mayonnaise',\n 'canola oil',\n 'canola oil cooking spray',\n 'cantal',\n 'cantaloupe',\n 'canton noodles',\n 'capellini',\n 'caper berries',\n 'capers',\n 'capicola',\n 'capocollo',\n 'capon',\n 'caponata',\n 'cappuccino',\n 'capsicum',\n 'cara cara orange',\n 'carambola',\n 'caramel flavored syrup',\n 'caramel ice cream',\n 'caramel ice cream topping',\n 'caramel sauce',\n 'caramel syrup',\n 'caramel topping',\n 'caramels',\n 'caraway',\n 'caraway seeds',\n 'carbonated beverages',\n 'carbonated water',\n 'cardamom',\n 'cardamom pods',\n 'cardamom seeds',\n 'cardamon',\n 'cardoons',\n 'caribbean jerk seasoning',\n 'carnaroli rice',\n 'carnation',\n 'carnation condensed milk',\n 'carne asada',\n 'carne seca',\n 'carnitas',\n 'carp',\n 'carpaccio',\n 'carrot greens',\n 'carrot juice',\n 'carrot sticks',\n 'carrots',\n 'cashew butter',\n 'cashew chop unsalt',\n 'cashew milk',\n 'cashew nuts',\n 'casings',\n 'cassava',\n 'cassava meal',\n 'cassava root flour',\n 'cassia cinnamon',\n 'cassis liqueur',\n 'castellane',\n 'castelvetrano olives',\n 'caster',\n 'caster sugar',\n 'catalina dressing',\n 'catfish',\n 'catfish fillets',\n 'catsup',\n 'caul fat',\n 'cauliflower',\n 'cauliflower florets',\n 'cauliflower flowerets',\n 'cauliflowerets',\n 'cava',\n 'cavatappi',\n 'cavatelli',\n 'cavenders greek seasoning',\n 'caviar',\n 'cavolo nero',\n 'cayenne',\n 'cayenne pepper',\n 'cayenne pepper sauce',\n 'ceci bean',\n 'celery',\n 'celery flakes',\n 'celery heart',\n 'celery leaves',\n 'celery powder',\n 'celery ribs',\n 'celery root',\n 'celery salt',\n 'celery seed',\n 'celery stick',\n 'celery tops',\n 'celtic salt',\n 'center cut bacon',\n 'center cut loin pork chop',\n 'center cut pork chops',\n 'center cut pork loin chops',\n 'center cut pork roast',\n 'century eggs',\n 'cereal',\n 'cereal flakes',\n 'ceylon cinnamon',\n 'chaat masala',\n 'chai tea concentrate',\n 'challa',\n 'challenge butter',\n 'chambord',\n 'chambord liqueur',\n 'champagne',\n 'champagne grapes',\n 'champagne vinegar',\n 'chana dal',\n 'channa dal',\n 'chanterelle',\n 'chapati flour',\n 'chapatti flour',\n 'char',\n 'char fillets',\n 'char siu',\n 'char siu sauce',\n 'chard',\n 'chardonnay',\n 'chartreuse liqueur',\n 'chat masala',\n 'chateaubriand',\n 'chayotes',\n 'cheddar cheese',\n 'cheddar cheese soup',\n 'chees fresco queso',\n 'chees fresh mozzarella',\n 'chees mozzarella stick',\n 'cheese',\n 'cheese cubes',\n 'cheese curds',\n 'cheese dip',\n 'cheese ravioli',\n 'cheese sauce',\n 'cheese slices',\n 'cheese soup',\n 'cheese spread',\n 'cheese sticks',\n 'cheese tortellini',\n 'chenpi',\n 'cherries',\n 'cherry coke',\n 'cherry gelatin',\n 'cherry juice',\n 'cherry peppers',\n 'cherry pie filling',\n 'cherry preserves',\n 'cherry syrup',\n 'cherry tomatoes',\n 'cherry vanilla ice cream',\n 'cherry vinegar',\n 'cherrystone clams',\n 'chervil',\n 'chestnut flour',\n 'chestnut mushrooms',\n 'chestnut spread',\n 'chestnuts',\n 'chia seeds',\n 'chianti',\n 'chicharron',\n 'chicken',\n 'chicken and rice soup',\n 'chicken base',\n ...]"
     },
     "execution_count": 295,
     "metadata": {},
     "output_type": "execute_result"
    }
   ],
   "source": [
    "X_dtm = vect.fit_transform(X)\n",
    "vect.get_feature_names()"
   ],
   "metadata": {
    "collapsed": false,
    "pycharm": {
     "name": "#%%\n"
    }
   }
  },
  {
   "cell_type": "code",
   "execution_count": 296,
   "outputs": [
    {
     "data": {
      "text/plain": "(39774, 6250)"
     },
     "execution_count": 296,
     "metadata": {},
     "output_type": "execute_result"
    }
   ],
   "source": [
    "X_dtm.shape"
   ],
   "metadata": {
    "collapsed": false,
    "pycharm": {
     "name": "#%%\n"
    }
   }
  },
  {
   "cell_type": "code",
   "execution_count": 297,
   "outputs": [],
   "source": [
    "from sklearn.naive_bayes import MultinomialNB\n",
    "nb = MultinomialNB()"
   ],
   "metadata": {
    "collapsed": false,
    "pycharm": {
     "name": "#%%\n"
    }
   }
  },
  {
   "cell_type": "code",
   "execution_count": 298,
   "outputs": [
    {
     "data": {
      "text/plain": "0.7302007125509707"
     },
     "execution_count": 298,
     "metadata": {},
     "output_type": "execute_result"
    }
   ],
   "source": [
    "cross_val_score(nb, X_dtm, y, cv = 5, scoring = \"accuracy\").mean()"
   ],
   "metadata": {
    "collapsed": false,
    "pycharm": {
     "name": "#%%\n"
    }
   }
  },
  {
   "cell_type": "code",
   "execution_count": null,
   "outputs": [],
   "source": [],
   "metadata": {
    "collapsed": false,
    "pycharm": {
     "name": "#%%\n"
    }
   }
  }
 ],
 "metadata": {
  "kernelspec": {
   "display_name": "Python 3",
   "language": "python",
   "name": "python3"
  },
  "language_info": {
   "codemirror_mode": {
    "name": "ipython",
    "version": 2
   },
   "file_extension": ".py",
   "mimetype": "text/x-python",
   "name": "python",
   "nbconvert_exporter": "python",
   "pygments_lexer": "ipython2",
   "version": "2.7.6"
  }
 },
 "nbformat": 4,
 "nbformat_minor": 0
}