{
 "cells": [
  {
   "cell_type": "markdown",
   "source": [
    "### Credit:\n",
    "This is a practice based on the courses of \"dataschool.io\"\n",
    "All datasets downloaded from \"dataschool.io\""
   ],
   "metadata": {
    "collapsed": false,
    "pycharm": {
     "name": "#%% md\n"
    }
   }
  },
  {
   "cell_type": "code",
   "execution_count": 94,
   "outputs": [],
   "source": [
    "import pandas as pd"
   ],
   "metadata": {
    "collapsed": false,
    "pycharm": {
     "name": "#%%\n"
    }
   }
  },
  {
   "cell_type": "code",
   "execution_count": 95,
   "outputs": [],
   "source": [
    "path = \"https://raw.githubusercontent.com/justmarkham/DAT8/master/data/sms.tsv\"\n",
    "sms = pd.read_table(path, header = None, names = [\"label\", \"message\"])"
   ],
   "metadata": {
    "collapsed": false,
    "pycharm": {
     "name": "#%%\n"
    }
   }
  },
  {
   "cell_type": "code",
   "execution_count": 96,
   "outputs": [
    {
     "data": {
      "text/plain": "     label                                            message\n0      ham  Go until jurong point, crazy.. Available only ...\n1      ham                      Ok lar... Joking wif u oni...\n2     spam  Free entry in 2 a wkly comp to win FA Cup fina...\n3      ham  U dun say so early hor... U c already then say...\n4      ham  Nah I don't think he goes to usf, he lives aro...\n...    ...                                                ...\n5567  spam  This is the 2nd time we have tried 2 contact u...\n5568   ham               Will ü b going to esplanade fr home?\n5569   ham  Pity, * was in mood for that. So...any other s...\n5570   ham  The guy did some bitching but I acted like i'd...\n5571   ham                         Rofl. Its true to its name\n\n[5572 rows x 2 columns]",
      "text/html": "<div>\n<style scoped>\n    .dataframe tbody tr th:only-of-type {\n        vertical-align: middle;\n    }\n\n    .dataframe tbody tr th {\n        vertical-align: top;\n    }\n\n    .dataframe thead th {\n        text-align: right;\n    }\n</style>\n<table border=\"1\" class=\"dataframe\">\n  <thead>\n    <tr style=\"text-align: right;\">\n      <th></th>\n      <th>label</th>\n      <th>message</th>\n    </tr>\n  </thead>\n  <tbody>\n    <tr>\n      <th>0</th>\n      <td>ham</td>\n      <td>Go until jurong point, crazy.. Available only ...</td>\n    </tr>\n    <tr>\n      <th>1</th>\n      <td>ham</td>\n      <td>Ok lar... Joking wif u oni...</td>\n    </tr>\n    <tr>\n      <th>2</th>\n      <td>spam</td>\n      <td>Free entry in 2 a wkly comp to win FA Cup fina...</td>\n    </tr>\n    <tr>\n      <th>3</th>\n      <td>ham</td>\n      <td>U dun say so early hor... U c already then say...</td>\n    </tr>\n    <tr>\n      <th>4</th>\n      <td>ham</td>\n      <td>Nah I don't think he goes to usf, he lives aro...</td>\n    </tr>\n    <tr>\n      <th>...</th>\n      <td>...</td>\n      <td>...</td>\n    </tr>\n    <tr>\n      <th>5567</th>\n      <td>spam</td>\n      <td>This is the 2nd time we have tried 2 contact u...</td>\n    </tr>\n    <tr>\n      <th>5568</th>\n      <td>ham</td>\n      <td>Will ü b going to esplanade fr home?</td>\n    </tr>\n    <tr>\n      <th>5569</th>\n      <td>ham</td>\n      <td>Pity, * was in mood for that. So...any other s...</td>\n    </tr>\n    <tr>\n      <th>5570</th>\n      <td>ham</td>\n      <td>The guy did some bitching but I acted like i'd...</td>\n    </tr>\n    <tr>\n      <th>5571</th>\n      <td>ham</td>\n      <td>Rofl. Its true to its name</td>\n    </tr>\n  </tbody>\n</table>\n<p>5572 rows × 2 columns</p>\n</div>"
     },
     "execution_count": 96,
     "metadata": {},
     "output_type": "execute_result"
    }
   ],
   "source": [
    "sms"
   ],
   "metadata": {
    "collapsed": false,
    "pycharm": {
     "name": "#%%\n"
    }
   }
  },
  {
   "cell_type": "code",
   "execution_count": 97,
   "outputs": [
    {
     "data": {
      "text/plain": "(5572, 2)"
     },
     "execution_count": 97,
     "metadata": {},
     "output_type": "execute_result"
    }
   ],
   "source": [
    "sms.shape"
   ],
   "metadata": {
    "collapsed": false,
    "pycharm": {
     "name": "#%%\n"
    }
   }
  },
  {
   "cell_type": "code",
   "execution_count": 98,
   "outputs": [
    {
     "name": "stdout",
     "output_type": "stream",
     "text": [
      "<class 'pandas.core.frame.DataFrame'>\n",
      "RangeIndex: 5572 entries, 0 to 5571\n",
      "Data columns (total 2 columns):\n",
      " #   Column   Non-Null Count  Dtype \n",
      "---  ------   --------------  ----- \n",
      " 0   label    5572 non-null   object\n",
      " 1   message  5572 non-null   object\n",
      "dtypes: object(2)\n",
      "memory usage: 87.2+ KB\n"
     ]
    }
   ],
   "source": [
    "sms.info()"
   ],
   "metadata": {
    "collapsed": false,
    "pycharm": {
     "name": "#%%\n"
    }
   }
  },
  {
   "cell_type": "code",
   "execution_count": 99,
   "outputs": [
    {
     "data": {
      "text/plain": "       label                 message\ncount   5572                    5572\nunique     2                    5169\ntop      ham  Sorry, I'll call later\nfreq    4825                      30",
      "text/html": "<div>\n<style scoped>\n    .dataframe tbody tr th:only-of-type {\n        vertical-align: middle;\n    }\n\n    .dataframe tbody tr th {\n        vertical-align: top;\n    }\n\n    .dataframe thead th {\n        text-align: right;\n    }\n</style>\n<table border=\"1\" class=\"dataframe\">\n  <thead>\n    <tr style=\"text-align: right;\">\n      <th></th>\n      <th>label</th>\n      <th>message</th>\n    </tr>\n  </thead>\n  <tbody>\n    <tr>\n      <th>count</th>\n      <td>5572</td>\n      <td>5572</td>\n    </tr>\n    <tr>\n      <th>unique</th>\n      <td>2</td>\n      <td>5169</td>\n    </tr>\n    <tr>\n      <th>top</th>\n      <td>ham</td>\n      <td>Sorry, I'll call later</td>\n    </tr>\n    <tr>\n      <th>freq</th>\n      <td>4825</td>\n      <td>30</td>\n    </tr>\n  </tbody>\n</table>\n</div>"
     },
     "execution_count": 99,
     "metadata": {},
     "output_type": "execute_result"
    }
   ],
   "source": [
    "sms.describe()"
   ],
   "metadata": {
    "collapsed": false,
    "pycharm": {
     "name": "#%%\n"
    }
   }
  },
  {
   "cell_type": "code",
   "execution_count": 100,
   "outputs": [
    {
     "data": {
      "text/plain": "     label                                            message  label_num\n0      ham  Go until jurong point, crazy.. Available only ...          0\n1      ham                      Ok lar... Joking wif u oni...          0\n2     spam  Free entry in 2 a wkly comp to win FA Cup fina...          1\n3      ham  U dun say so early hor... U c already then say...          0\n4      ham  Nah I don't think he goes to usf, he lives aro...          0\n...    ...                                                ...        ...\n5567  spam  This is the 2nd time we have tried 2 contact u...          1\n5568   ham               Will ü b going to esplanade fr home?          0\n5569   ham  Pity, * was in mood for that. So...any other s...          0\n5570   ham  The guy did some bitching but I acted like i'd...          0\n5571   ham                         Rofl. Its true to its name          0\n\n[5572 rows x 3 columns]",
      "text/html": "<div>\n<style scoped>\n    .dataframe tbody tr th:only-of-type {\n        vertical-align: middle;\n    }\n\n    .dataframe tbody tr th {\n        vertical-align: top;\n    }\n\n    .dataframe thead th {\n        text-align: right;\n    }\n</style>\n<table border=\"1\" class=\"dataframe\">\n  <thead>\n    <tr style=\"text-align: right;\">\n      <th></th>\n      <th>label</th>\n      <th>message</th>\n      <th>label_num</th>\n    </tr>\n  </thead>\n  <tbody>\n    <tr>\n      <th>0</th>\n      <td>ham</td>\n      <td>Go until jurong point, crazy.. Available only ...</td>\n      <td>0</td>\n    </tr>\n    <tr>\n      <th>1</th>\n      <td>ham</td>\n      <td>Ok lar... Joking wif u oni...</td>\n      <td>0</td>\n    </tr>\n    <tr>\n      <th>2</th>\n      <td>spam</td>\n      <td>Free entry in 2 a wkly comp to win FA Cup fina...</td>\n      <td>1</td>\n    </tr>\n    <tr>\n      <th>3</th>\n      <td>ham</td>\n      <td>U dun say so early hor... U c already then say...</td>\n      <td>0</td>\n    </tr>\n    <tr>\n      <th>4</th>\n      <td>ham</td>\n      <td>Nah I don't think he goes to usf, he lives aro...</td>\n      <td>0</td>\n    </tr>\n    <tr>\n      <th>...</th>\n      <td>...</td>\n      <td>...</td>\n      <td>...</td>\n    </tr>\n    <tr>\n      <th>5567</th>\n      <td>spam</td>\n      <td>This is the 2nd time we have tried 2 contact u...</td>\n      <td>1</td>\n    </tr>\n    <tr>\n      <th>5568</th>\n      <td>ham</td>\n      <td>Will ü b going to esplanade fr home?</td>\n      <td>0</td>\n    </tr>\n    <tr>\n      <th>5569</th>\n      <td>ham</td>\n      <td>Pity, * was in mood for that. So...any other s...</td>\n      <td>0</td>\n    </tr>\n    <tr>\n      <th>5570</th>\n      <td>ham</td>\n      <td>The guy did some bitching but I acted like i'd...</td>\n      <td>0</td>\n    </tr>\n    <tr>\n      <th>5571</th>\n      <td>ham</td>\n      <td>Rofl. Its true to its name</td>\n      <td>0</td>\n    </tr>\n  </tbody>\n</table>\n<p>5572 rows × 3 columns</p>\n</div>"
     },
     "execution_count": 100,
     "metadata": {},
     "output_type": "execute_result"
    }
   ],
   "source": [
    "#Create labels in a new column based of entries of other column\n",
    "sms[\"label_num\"] = sms[\"label\"].map({\n",
    "    \"ham\": 0,\n",
    "    \"spam\": 1\n",
    "})\n",
    "sms"
   ],
   "metadata": {
    "collapsed": false,
    "pycharm": {
     "name": "#%%\n"
    }
   }
  },
  {
   "cell_type": "code",
   "execution_count": 101,
   "outputs": [
    {
     "name": "stdout",
     "output_type": "stream",
     "text": [
      "(5572,)\n",
      "(5572,)\n"
     ]
    }
   ],
   "source": [
    "X = sms[\"message\"]\n",
    "y = sms[\"label_num\"]\n",
    "print(X.shape)\n",
    "print(y.shape)"
   ],
   "metadata": {
    "collapsed": false,
    "pycharm": {
     "name": "#%%\n"
    }
   }
  },
  {
   "cell_type": "code",
   "execution_count": 102,
   "outputs": [],
   "source": [
    "from sklearn.model_selection import train_test_split\n",
    "from sklearn.feature_extraction.text import CountVectorizer"
   ],
   "metadata": {
    "collapsed": false,
    "pycharm": {
     "name": "#%%\n"
    }
   }
  },
  {
   "cell_type": "code",
   "execution_count": 103,
   "outputs": [
    {
     "name": "stdout",
     "output_type": "stream",
     "text": [
      "(4179,)\n",
      "(4179,)\n",
      "(1393,)\n",
      "(1393,)\n"
     ]
    }
   ],
   "source": [
    "X_train, X_test, y_train, y_test = train_test_split(\n",
    "    X, y, random_state = 40\n",
    ")\n",
    "print(X_train.shape)\n",
    "print(y_train.shape)\n",
    "print(X_test.shape)\n",
    "print(y_test.shape)"
   ],
   "metadata": {
    "collapsed": false,
    "pycharm": {
     "name": "#%%\n"
    }
   }
  },
  {
   "cell_type": "code",
   "execution_count": 104,
   "outputs": [
    {
     "data": {
      "text/plain": "<4179x7494 sparse matrix of type '<class 'numpy.int64'>'\n\twith 55727 stored elements in Compressed Sparse Row format>"
     },
     "execution_count": 104,
     "metadata": {},
     "output_type": "execute_result"
    }
   ],
   "source": [
    "vect = CountVectorizer()\n",
    "X_train_dtm = vect.fit_transform(X_train)\n",
    "X_train_dtm"
   ],
   "metadata": {
    "collapsed": false,
    "pycharm": {
     "name": "#%%\n"
    }
   }
  },
  {
   "cell_type": "code",
   "execution_count": 105,
   "outputs": [
    {
     "data": {
      "text/plain": "<1393x7494 sparse matrix of type '<class 'numpy.int64'>'\n\twith 17116 stored elements in Compressed Sparse Row format>"
     },
     "execution_count": 105,
     "metadata": {},
     "output_type": "execute_result"
    }
   ],
   "source": [
    "X_test_dtm = vect.transform(X_test)\n",
    "X_test_dtm"
   ],
   "metadata": {
    "collapsed": false,
    "pycharm": {
     "name": "#%%\n"
    }
   }
  },
  {
   "cell_type": "code",
   "execution_count": 106,
   "outputs": [
    {
     "data": {
      "text/plain": "MultinomialNB()"
     },
     "execution_count": 106,
     "metadata": {},
     "output_type": "execute_result"
    }
   ],
   "source": [
    "from sklearn.naive_bayes import MultinomialNB\n",
    "from sklearn.metrics import accuracy_score\n",
    "nb = MultinomialNB()\n",
    "nb.fit(X_train_dtm, y_train)"
   ],
   "metadata": {
    "collapsed": false,
    "pycharm": {
     "name": "#%%\n"
    }
   }
  },
  {
   "cell_type": "code",
   "execution_count": 107,
   "outputs": [],
   "source": [
    "y_pred_class = nb.predict(X_test_dtm)"
   ],
   "metadata": {
    "collapsed": false,
    "pycharm": {
     "name": "#%%\n"
    }
   }
  },
  {
   "cell_type": "code",
   "execution_count": 108,
   "outputs": [
    {
     "data": {
      "text/plain": "0.9820531227566404"
     },
     "execution_count": 108,
     "metadata": {},
     "output_type": "execute_result"
    }
   ],
   "source": [
    "accuracy_score(y_test, y_pred_class)"
   ],
   "metadata": {
    "collapsed": false,
    "pycharm": {
     "name": "#%%\n"
    }
   }
  },
  {
   "cell_type": "code",
   "execution_count": 109,
   "outputs": [
    {
     "data": {
      "text/plain": "['00',\n '000',\n '000pes',\n '008704050406',\n '0089',\n '0121',\n '02',\n '0207',\n '02072069400',\n '02073162414',\n '02085076972',\n '021',\n '03',\n '04',\n '0430',\n '05',\n '050703',\n '0578',\n '06',\n '07',\n '07046744435',\n '07090201529',\n '07090298926',\n '07099833605',\n '07123456789',\n '07732584351',\n '07734396839',\n '07742676969',\n '07753741225',\n '0776xxxxxxx',\n '07781482378',\n '07786200117',\n '077xxx',\n '07801543489',\n '07808',\n '07808726822',\n '07821230901',\n '078498',\n '07880867867',\n '0789xxxxxxx',\n '07946746291',\n '0796xxxxxx',\n '07973788240',\n '07xxxxxxxxx',\n '08',\n '0800',\n '08000407165',\n '08000839402',\n '08000930705',\n '08000938767',\n '08001950382',\n '08002888812',\n '08002986030',\n '08002986906',\n '08002988890',\n '08006344447',\n '0808',\n '08081263000',\n '08081560665',\n '0825',\n '083',\n '0844',\n '08448350055',\n '08448714184',\n '0845',\n '08452810071',\n '08452810073',\n '08452810075over18',\n '0870',\n '08701213186',\n '08701417012',\n '08701417012150p',\n '0870141701216',\n '087016248',\n '08701752560',\n '087018728737',\n '0870241182716',\n '08702490080',\n '08702840625',\n '08704439680ts',\n '08706091795',\n '0870737910216yrs',\n '08707500020',\n '08707509020',\n '08707808226',\n '08708034412',\n '08708800282',\n '08709222922',\n '08709501522',\n '0871',\n '087104711148',\n '08712101358',\n '08712103738',\n '0871212025016',\n '08712300220',\n '087123002209am',\n '08712317606',\n '08712400200',\n '08712400602450p',\n '08712400603',\n '08712402050',\n '08712402578',\n '08712402779',\n '08712402902',\n '08712402972',\n '08712404000',\n '08712405020',\n '08712460324',\n '08712466669',\n '0871277810710p',\n '0871277810810',\n '0871277810910p',\n '08714342399',\n '087147123779am',\n '08714712388',\n '08714712394',\n '08714712412',\n '08715203028',\n '08715203649',\n '08715203656',\n '08715203677',\n '08715203694',\n '08715205273',\n '08715500022',\n '08715705022',\n '08717111821',\n '08717205546',\n '08717509990',\n '08717890890',\n '08717895698',\n '08717898035',\n '08718711108',\n '08718720201',\n '08718723815',\n '08718725756',\n '08718726270',\n '087187262701',\n '08718726970',\n '08718726971',\n '08718726978',\n '087187272008',\n '08718727868',\n '08718727870',\n '08718727870150ppm',\n '08718730555',\n '08718730666',\n '08718738001',\n '08718738002',\n '08719180219',\n '08719180248',\n '08719181259',\n '08719181503',\n '08719181513',\n '08719899217',\n '08719899230',\n '09',\n '09041940223',\n '09050000332',\n '09050000460',\n '09050000555',\n '09050000928',\n '09050001295',\n '09050001808',\n '09050002311',\n '09050003091',\n '09050005321',\n '09050090044',\n '09050280520',\n '09053750005',\n '09056242159',\n '09058091854',\n '09058091870',\n '09058094454',\n '09058094455',\n '09058094507',\n '09058094565',\n '09058094594',\n '09058094597',\n '09058094599',\n '09058095107',\n '09058095201',\n '09058097189',\n '09058097218',\n '09058098002',\n '09058099801',\n '09061104276',\n '09061209465',\n '09061213237',\n '09061221061',\n '09061221066',\n '09061701461',\n '09061701851',\n '09061701939',\n '09061702893',\n '09061743386',\n '09061743806',\n '09061743810',\n '09061743811',\n '09061744553',\n '09061749602',\n '09061790121',\n '09061790125',\n '09061790126',\n '09063440451',\n '09063442151',\n '09063458130',\n '0906346330',\n '09064011000',\n '09064012160',\n '09064019014',\n '09064019788',\n '09065069120',\n '09065069154',\n '09065171142',\n '09065174042',\n '09065394514',\n '09065394973',\n '09065989182',\n '09066350750',\n '09066358152',\n '09066358361',\n '09066362206',\n '09066362220',\n '09066362231',\n '09066364349',\n '09066364589',\n '09066368327',\n '09066368753',\n '09066380611',\n '09066382422',\n '09066612661',\n '09066649731from',\n '09071512432',\n '09071512433',\n '09071517866',\n '09077818151',\n '09094100151',\n '09094646899',\n '09096102316',\n '09099725823',\n '09099726395',\n '09099726429',\n '09099726481',\n '09111030116',\n '09111032124',\n '09701213186',\n '0a',\n '0quit',\n '10',\n '100',\n '1000',\n '1000call',\n '1000s',\n '100p',\n '100percent',\n '100txt',\n '1013',\n '1030',\n '10am',\n '10k',\n '10p',\n '10ppm',\n '10th',\n '11',\n '1120',\n '113',\n '1131',\n '114',\n '1146',\n '116',\n '1172',\n '118p',\n '11mths',\n '11pm',\n '12',\n '1205',\n '120p',\n '121',\n '1225',\n '123',\n '125',\n '1250',\n '125gift',\n '12hours',\n '12hrs',\n '12mths',\n '1327',\n '139',\n '14',\n '140',\n '140ppm',\n '145',\n '1450',\n '146tf150p',\n '14thmarch',\n '15',\n '150',\n '1500',\n '150p',\n '150p16',\n '150pm',\n '150ppermesssubscription',\n '150ppm',\n '150ppmpobox10183bhamb64xe',\n '150ppmsg',\n '150pw',\n '151',\n '153',\n '15541',\n '15pm',\n '16',\n '177',\n '18',\n '180',\n '18p',\n '18yrs',\n '195',\n '1956669',\n '1apple',\n '1b6a5ecef91ff9',\n '1cup',\n '1da',\n '1er',\n '1hr',\n '1im',\n '1lemon',\n '1mega',\n '1million',\n '1st',\n '1st4terms',\n '1stchoice',\n '1thing',\n '1tulsi',\n '1win150ppmx3',\n '1winaweek',\n '1x150p',\n '1yf',\n '20',\n '200',\n '2000',\n '2003',\n '2004',\n '2005',\n '2006',\n '2007',\n '2025050',\n '20m12aq',\n '20p',\n '21',\n '21870000',\n '21st',\n '22',\n '220',\n '220cm2',\n '23f',\n '23g',\n '24',\n '24hrs',\n '24m',\n '25',\n '250',\n '250k',\n '25p',\n '26',\n '2667',\n '26th',\n '28',\n '2814032',\n '28days',\n '28th',\n '28thfeb',\n '29',\n '2b',\n '2bold',\n '2channel',\n '2day',\n '2exit',\n '2ez',\n '2find',\n '2getha',\n '2geva',\n '2go',\n '2gthr',\n '2hook',\n '2hrs',\n '2i',\n '2kbsubject',\n '2lands',\n '2marrow',\n '2moro',\n '2morow',\n '2morro',\n '2morrow',\n '2morrowxxxx',\n '2mro',\n '2mrw',\n '2nd',\n '2nhite',\n '2nite',\n '2optout',\n '2p',\n '2price',\n '2px',\n '2rcv',\n '2stop',\n '2stoptx',\n '2stoptxt',\n '2u',\n '2watershd',\n '2waxsto',\n '2wks',\n '2wt',\n '2wu',\n '2years',\n '2yr',\n '2yrs',\n '30',\n '300',\n '3000',\n '300603',\n '300603t',\n '300p',\n '3030',\n '30apr',\n '30ish',\n '30pm',\n '30pp',\n '30s',\n '30th',\n '31',\n '3100',\n '310303',\n '31p',\n '32000',\n '3230',\n '32323',\n '326',\n '33',\n '330',\n '350',\n '3510i',\n '35p',\n '3650',\n '36504',\n '3680',\n '373',\n '3750',\n '37819',\n '38',\n '382',\n '391784',\n '3aj',\n '3d',\n '3days',\n '3g',\n '3gbp',\n '3hrs',\n '3lp',\n '3mins',\n '3mobile',\n '3optical',\n '3pound',\n '3qxj9',\n '3rd',\n '3ss',\n '3uz',\n '3wks',\n '3x',\n '3xx',\n '40',\n '400',\n '400mins',\n '400thousad',\n '402',\n '4041',\n '40533',\n '40gb',\n '40mph',\n '41685',\n '420',\n '42049',\n '4217',\n '42478',\n '430',\n '434',\n '44',\n '440',\n '4403ldnw1a7rw18',\n '44345',\n '447797706009',\n '447801259231',\n '448712404000',\n '449071512431',\n '45',\n '450',\n '450p',\n '450ppw',\n '450pw',\n '45239',\n '45pm',\n '47',\n '4719',\n '4742',\n '47per',\n '48',\n '4882',\n '48922',\n '49557',\n '4a',\n '4d',\n '4eva',\n '4few',\n '4fil',\n '4get',\n '4goten',\n '4info',\n '4jx',\n '4msgs',\n '4mths',\n '4my',\n '4t',\n '4th',\n '4the',\n '4thnov',\n '4txt',\n '4u',\n '4utxt',\n '4ward',\n '4wrd',\n '4years',\n '50',\n '500',\n '5000',\n '505060',\n '50award',\n '50ea',\n '50gbp',\n '50p',\n '50perwksub',\n '50pmmorefrommobile2bremoved',\n '50ppm',\n '50rcvd',\n '5226',\n '523',\n '5249',\n '526',\n '528',\n '530',\n '54',\n '542',\n '545',\n '5digital',\n '5free',\n '5k',\n '5min',\n '5p',\n '5pm',\n '5th',\n '5wb',\n '5we',\n '5wkg',\n '5wq',\n '60',\n '600',\n '6089',\n '60p',\n '61',\n '61200',\n '61610',\n '62220cncl',\n '62468',\n '62735',\n '630',\n '63miles',\n '65',\n '650',\n '66',\n '6669',\n '674',\n '67441233',\n '68866',\n '69101',\n '69200',\n '69669',\n '69696',\n '69698',\n '69866',\n '69876',\n '69888',\n '69888nyt',\n '69911',\n '69969',\n '6days',\n '6hl',\n '6hrs',\n '6missed',\n '6months',\n '6ph',\n '6pm',\n '6th',\n '6times',\n '6wu',\n '6zf',\n '700',\n '71',\n '7250',\n '7250i',\n '730',\n '731',\n '75',\n '750',\n '7548',\n '75max',\n '7634',\n '7684',\n '7732584351',\n '78',\n '786',\n '7876150ppm',\n '79',\n '7cfca1a',\n '7ish',\n '7oz',\n '7pm',\n '7th',\n '7ws',\n '7zs',\n '800',\n '8000930705',\n '80062',\n '8007',\n '80082',\n '80086',\n '80155',\n '80160',\n '80182',\n '8027',\n '80488',\n '8077',\n '80878',\n '81010',\n '81151',\n '81303',\n '81618',\n '82050',\n '820554ad0a1705572711',\n '82242',\n '82277',\n '82324',\n '82468',\n '83021',\n '83039',\n '83049',\n '83110',\n '83118',\n '83222',\n '83332',\n '83355',\n '83370',\n '83383',\n '83600',\n '83738',\n '84',\n '84025',\n '84128',\n '84199',\n '84484',\n '85',\n '850',\n '85023',\n '85069',\n '85222',\n '85555',\n '86021',\n '861',\n '86688',\n '86888',\n '87021',\n '87066',\n '87070',\n '87077',\n '87121',\n '87131',\n '8714714',\n '872',\n '87239',\n '87575',\n '8800',\n '88039',\n '88066',\n '88088',\n '88222',\n '88600',\n '88800',\n '8883',\n '88877',\n '88888',\n '89034',\n '89070',\n '89080',\n '89105',\n '89545',\n '89555',\n '89693',\n '89938',\n '8am',\n '8lb',\n '8p',\n '8pm',\n '8th',\n '8wp',\n '900',\n '9061100010',\n '9153',\n '9280114',\n '92h',\n '930',\n '9307622',\n '945',\n '946',\n '95',\n '9755',\n '9758',\n '97n7qp',\n '98321561',\n '99',\n '9996',\n '9ae',\n '9am',\n '9pm',\n '9t',\n '9th',\n '9yt',\n '____',\n 'a21',\n 'aa',\n 'aah',\n 'aathi',\n 'ab',\n 'abbey',\n 'abdomen',\n 'abi',\n 'ability',\n 'abiola',\n 'abj',\n 'able',\n 'about',\n 'aboutas',\n 'above',\n 'abroad',\n 'absolutly',\n 'abt',\n 'abta',\n 'aburo',\n 'abuse',\n 'abusers',\n 'ac',\n 'acc',\n 'accent',\n 'accenture',\n 'accept',\n 'access',\n 'accessible',\n 'accidant',\n 'accident',\n 'accidentally',\n 'accommodationvouchers',\n 'accomodations',\n 'accordin',\n 'accordingly',\n 'account',\n 'accounting',\n 'accounts',\n 'accumulation',\n 'achan',\n 'ache',\n 'achieve',\n 'acknowledgement',\n 'acl03530150pm',\n 'acnt',\n 'aco',\n 'across',\n 'act',\n 'acted',\n 'actin',\n 'acting',\n 'action',\n 'activate',\n 'active',\n 'activities',\n 'actor',\n 'actual',\n 'actually',\n 'ad',\n 'adam',\n 'add',\n 'addamsfa',\n 'added',\n 'addicted',\n 'addie',\n 'address',\n 'adewale',\n 'admin',\n 'administrator',\n 'admirer',\n 'admission',\n 'admit',\n 'adore',\n 'adoring',\n 'adress',\n 'adrink',\n 'ads',\n 'adult',\n 'advance',\n 'adventure',\n 'adventuring',\n 'advice',\n 'advise',\n 'advising',\n 'advisors',\n 'aeronautics',\n 'aeroplane',\n 'afew',\n 'affair',\n 'affairs',\n 'affection',\n 'affectionate',\n 'affections',\n 'affidavit',\n 'afford',\n 'afghanistan',\n 'afraid',\n 'africa',\n 'aft',\n 'after',\n 'afternon',\n 'afternoon',\n 'afternoons',\n 'afterwards',\n 'aftr',\n 'ag',\n 'again',\n 'against',\n 'agalla',\n 'age',\n 'age16',\n 'age23',\n 'agency',\n 'agents',\n 'ages',\n 'agidhane',\n 'aging',\n 'ago',\n 'agree',\n 'ah',\n 'aha',\n 'ahead',\n 'ahhh',\n 'ahhhh',\n 'ahmad',\n 'ahold',\n 'aid',\n 'aig',\n 'aight',\n 'ain',\n 'aint',\n 'air',\n 'airport',\n 'airtel',\n 'aiya',\n 'aiyah',\n 'aiyar',\n 'aiyo',\n 'ajith',\n 'ak',\n 'aka',\n 'akon',\n 'al',\n 'alaikkum',\n 'alaipayuthe',\n 'albi',\n 'album',\n 'alcohol',\n 'aldrine',\n 'alert',\n 'alertfrom',\n 'alerts',\n 'aletter',\n 'alex',\n 'alfie',\n 'algarve',\n 'algorithms',\n 'ali',\n 'alian',\n 'alive',\n 'all',\n 'allah',\n 'allalo',\n 'alle',\n 'allow',\n 'allowed',\n 'almost',\n 'alone',\n 'along',\n 'already',\n 'alright',\n 'alrite',\n 'also',\n 'alter',\n 'alternative',\n 'although',\n 'alto18',\n 'aluable',\n 'alwa',\n 'always',\n 'alwys',\n 'am',\n 'amazing',\n 'ambrith',\n 'american',\n 'ami',\n 'amk',\n 'amma',\n 'ammo',\n 'amnow',\n 'among',\n 'amongst',\n 'amount',\n 'amp',\n 'amrca',\n 'amrita',\n 'amt',\n 'amused',\n 'amy',\n 'an',\n 'anal',\n 'analysis',\n 'and',\n 'anderson',\n 'andre',\n 'andres',\n 'andrews',\n 'andros',\n 'angry',\n 'animation',\n 'anjola',\n 'anna',\n 'annie',\n 'anniversary',\n 'annoncement',\n 'announced',\n 'announcement',\n 'annoyin',\n 'annoying',\n 'anonymous',\n 'anot',\n 'another',\n 'ans',\n 'ansr',\n 'answer',\n 'answered',\n 'answerin',\n 'answering',\n 'answers',\n 'answr',\n 'antelope',\n 'antha',\n 'anthony',\n 'anti',\n 'antibiotic',\n 'any',\n 'anybody',\n 'anyhow',\n 'anymore',\n 'anyone',\n 'anyones',\n 'anythin',\n 'anything',\n 'anytime',\n 'anyway',\n 'anyways',\n 'anywhere',\n 'aom',\n 'apart',\n 'apartment',\n 'apes',\n 'apeshit',\n 'apnt',\n 'apo',\n 'apologetic',\n 'apologise',\n 'apologize',\n 'apology',\n 'app',\n 'apparently',\n 'appeal',\n 'appear',\n 'appendix',\n 'applausestore',\n 'applebees',\n ...]"
     },
     "execution_count": 109,
     "metadata": {},
     "output_type": "execute_result"
    }
   ],
   "source": [
    "X_train_tokens = vect.get_feature_names()\n",
    "X_train_tokens"
   ],
   "metadata": {
    "collapsed": false,
    "pycharm": {
     "name": "#%%\n"
    }
   }
  },
  {
   "cell_type": "code",
   "execution_count": 110,
   "outputs": [
    {
     "data": {
      "text/plain": "array([[ 0.,  0.,  1., ...,  1.,  0.,  1.],\n       [ 8., 27.,  0., ...,  0.,  1.,  0.]])"
     },
     "execution_count": 110,
     "metadata": {},
     "output_type": "execute_result"
    }
   ],
   "source": [
    "nb.feature_count_"
   ],
   "metadata": {
    "collapsed": false,
    "pycharm": {
     "name": "#%%\n"
    }
   }
  },
  {
   "cell_type": "code",
   "execution_count": 111,
   "outputs": [
    {
     "data": {
      "text/plain": "array([0., 0., 1., ..., 1., 0., 1.])"
     },
     "execution_count": 111,
     "metadata": {},
     "output_type": "execute_result"
    }
   ],
   "source": [
    "ham_token_count = nb.feature_count_[0, :]\n",
    "ham_token_count"
   ],
   "metadata": {
    "collapsed": false,
    "pycharm": {
     "name": "#%%\n"
    }
   }
  },
  {
   "cell_type": "code",
   "execution_count": 112,
   "outputs": [
    {
     "data": {
      "text/plain": "array([ 8., 27.,  0., ...,  0.,  1.,  0.])"
     },
     "execution_count": 112,
     "metadata": {},
     "output_type": "execute_result"
    }
   ],
   "source": [
    "spam_token_count = nb.feature_count_[1, :]\n",
    "spam_token_count"
   ],
   "metadata": {
    "collapsed": false,
    "pycharm": {
     "name": "#%%\n"
    }
   }
  },
  {
   "cell_type": "code",
   "execution_count": 113,
   "outputs": [
    {
     "data": {
      "text/plain": "              ham  spam\ntokens                 \n00            0.0   8.0\n000           0.0  27.0\n000pes        1.0   0.0\n008704050406  0.0   2.0\n0089          0.0   1.0\n...           ...   ...\nzouk          0.0   1.0\nzyada         1.0   0.0\nèn            1.0   0.0\nú1            0.0   1.0\n〨ud           1.0   0.0\n\n[7494 rows x 2 columns]",
      "text/html": "<div>\n<style scoped>\n    .dataframe tbody tr th:only-of-type {\n        vertical-align: middle;\n    }\n\n    .dataframe tbody tr th {\n        vertical-align: top;\n    }\n\n    .dataframe thead th {\n        text-align: right;\n    }\n</style>\n<table border=\"1\" class=\"dataframe\">\n  <thead>\n    <tr style=\"text-align: right;\">\n      <th></th>\n      <th>ham</th>\n      <th>spam</th>\n    </tr>\n    <tr>\n      <th>tokens</th>\n      <th></th>\n      <th></th>\n    </tr>\n  </thead>\n  <tbody>\n    <tr>\n      <th>00</th>\n      <td>0.0</td>\n      <td>8.0</td>\n    </tr>\n    <tr>\n      <th>000</th>\n      <td>0.0</td>\n      <td>27.0</td>\n    </tr>\n    <tr>\n      <th>000pes</th>\n      <td>1.0</td>\n      <td>0.0</td>\n    </tr>\n    <tr>\n      <th>008704050406</th>\n      <td>0.0</td>\n      <td>2.0</td>\n    </tr>\n    <tr>\n      <th>0089</th>\n      <td>0.0</td>\n      <td>1.0</td>\n    </tr>\n    <tr>\n      <th>...</th>\n      <td>...</td>\n      <td>...</td>\n    </tr>\n    <tr>\n      <th>zouk</th>\n      <td>0.0</td>\n      <td>1.0</td>\n    </tr>\n    <tr>\n      <th>zyada</th>\n      <td>1.0</td>\n      <td>0.0</td>\n    </tr>\n    <tr>\n      <th>èn</th>\n      <td>1.0</td>\n      <td>0.0</td>\n    </tr>\n    <tr>\n      <th>ú1</th>\n      <td>0.0</td>\n      <td>1.0</td>\n    </tr>\n    <tr>\n      <th>〨ud</th>\n      <td>1.0</td>\n      <td>0.0</td>\n    </tr>\n  </tbody>\n</table>\n<p>7494 rows × 2 columns</p>\n</div>"
     },
     "execution_count": 113,
     "metadata": {},
     "output_type": "execute_result"
    }
   ],
   "source": [
    "tokens = pd.DataFrame({\n",
    "    \"tokens\": X_train_tokens,\n",
    "    \"ham\": ham_token_count,\n",
    "    \"spam\": spam_token_count\n",
    "}).set_index(\"tokens\")\n",
    "tokens"
   ],
   "metadata": {
    "collapsed": false,
    "pycharm": {
     "name": "#%%\n"
    }
   }
  },
  {
   "cell_type": "code",
   "execution_count": 114,
   "outputs": [
    {
     "data": {
      "text/plain": "           ham  spam\ntokens              \nwedlunch   1.0   0.0\nreturns    3.0   0.0\nx49        0.0   2.0\nincorrect  0.0   1.0\nles        1.0   0.0",
      "text/html": "<div>\n<style scoped>\n    .dataframe tbody tr th:only-of-type {\n        vertical-align: middle;\n    }\n\n    .dataframe tbody tr th {\n        vertical-align: top;\n    }\n\n    .dataframe thead th {\n        text-align: right;\n    }\n</style>\n<table border=\"1\" class=\"dataframe\">\n  <thead>\n    <tr style=\"text-align: right;\">\n      <th></th>\n      <th>ham</th>\n      <th>spam</th>\n    </tr>\n    <tr>\n      <th>tokens</th>\n      <th></th>\n      <th></th>\n    </tr>\n  </thead>\n  <tbody>\n    <tr>\n      <th>wedlunch</th>\n      <td>1.0</td>\n      <td>0.0</td>\n    </tr>\n    <tr>\n      <th>returns</th>\n      <td>3.0</td>\n      <td>0.0</td>\n    </tr>\n    <tr>\n      <th>x49</th>\n      <td>0.0</td>\n      <td>2.0</td>\n    </tr>\n    <tr>\n      <th>incorrect</th>\n      <td>0.0</td>\n      <td>1.0</td>\n    </tr>\n    <tr>\n      <th>les</th>\n      <td>1.0</td>\n      <td>0.0</td>\n    </tr>\n  </tbody>\n</table>\n</div>"
     },
     "execution_count": 114,
     "metadata": {},
     "output_type": "execute_result"
    }
   ],
   "source": [
    "tokens.sample(5, random_state = 6)"
   ],
   "metadata": {
    "collapsed": false,
    "pycharm": {
     "name": "#%%\n"
    }
   }
  },
  {
   "cell_type": "code",
   "execution_count": 115,
   "outputs": [
    {
     "data": {
      "text/plain": "           ham  spam\ntokens              \nwedlunch   2.0   1.0\nreturns    4.0   1.0\nx49        1.0   3.0\nincorrect  1.0   2.0\nles        2.0   1.0",
      "text/html": "<div>\n<style scoped>\n    .dataframe tbody tr th:only-of-type {\n        vertical-align: middle;\n    }\n\n    .dataframe tbody tr th {\n        vertical-align: top;\n    }\n\n    .dataframe thead th {\n        text-align: right;\n    }\n</style>\n<table border=\"1\" class=\"dataframe\">\n  <thead>\n    <tr style=\"text-align: right;\">\n      <th></th>\n      <th>ham</th>\n      <th>spam</th>\n    </tr>\n    <tr>\n      <th>tokens</th>\n      <th></th>\n      <th></th>\n    </tr>\n  </thead>\n  <tbody>\n    <tr>\n      <th>wedlunch</th>\n      <td>2.0</td>\n      <td>1.0</td>\n    </tr>\n    <tr>\n      <th>returns</th>\n      <td>4.0</td>\n      <td>1.0</td>\n    </tr>\n    <tr>\n      <th>x49</th>\n      <td>1.0</td>\n      <td>3.0</td>\n    </tr>\n    <tr>\n      <th>incorrect</th>\n      <td>1.0</td>\n      <td>2.0</td>\n    </tr>\n    <tr>\n      <th>les</th>\n      <td>2.0</td>\n      <td>1.0</td>\n    </tr>\n  </tbody>\n</table>\n</div>"
     },
     "execution_count": 115,
     "metadata": {},
     "output_type": "execute_result"
    }
   ],
   "source": [
    "tokens[\"ham\"] = tokens[\"ham\"] + 1\n",
    "tokens[\"spam\"] = tokens[\"spam\"] + 1\n",
    "tokens.sample(5, random_state = 6)"
   ],
   "metadata": {
    "collapsed": false,
    "pycharm": {
     "name": "#%%\n"
    }
   }
  },
  {
   "cell_type": "code",
   "execution_count": 116,
   "outputs": [
    {
     "data": {
      "text/plain": "array([3612.,  567.])"
     },
     "execution_count": 116,
     "metadata": {},
     "output_type": "execute_result"
    }
   ],
   "source": [
    "nb.class_count_"
   ],
   "metadata": {
    "collapsed": false,
    "pycharm": {
     "name": "#%%\n"
    }
   }
  },
  {
   "cell_type": "code",
   "execution_count": 117,
   "outputs": [
    {
     "name": "stdout",
     "output_type": "stream",
     "text": [
      "0.864321608040201\n"
     ]
    }
   ],
   "source": [
    "#Null accuracy\n",
    "print(nb.class_count_[0] / (nb.class_count_[0] + nb.class_count_[1]))"
   ],
   "metadata": {
    "collapsed": false,
    "pycharm": {
     "name": "#%%\n"
    }
   }
  },
  {
   "cell_type": "code",
   "execution_count": 118,
   "outputs": [
    {
     "data": {
      "text/plain": "                ham      spam\ntokens                       \nwedlunch   0.000554  0.000277\nreturns    0.001107  0.000277\nx49        0.000277  0.000831\nincorrect  0.000277  0.000554\nles        0.000554  0.000277",
      "text/html": "<div>\n<style scoped>\n    .dataframe tbody tr th:only-of-type {\n        vertical-align: middle;\n    }\n\n    .dataframe tbody tr th {\n        vertical-align: top;\n    }\n\n    .dataframe thead th {\n        text-align: right;\n    }\n</style>\n<table border=\"1\" class=\"dataframe\">\n  <thead>\n    <tr style=\"text-align: right;\">\n      <th></th>\n      <th>ham</th>\n      <th>spam</th>\n    </tr>\n    <tr>\n      <th>tokens</th>\n      <th></th>\n      <th></th>\n    </tr>\n  </thead>\n  <tbody>\n    <tr>\n      <th>wedlunch</th>\n      <td>0.000554</td>\n      <td>0.000277</td>\n    </tr>\n    <tr>\n      <th>returns</th>\n      <td>0.001107</td>\n      <td>0.000277</td>\n    </tr>\n    <tr>\n      <th>x49</th>\n      <td>0.000277</td>\n      <td>0.000831</td>\n    </tr>\n    <tr>\n      <th>incorrect</th>\n      <td>0.000277</td>\n      <td>0.000554</td>\n    </tr>\n    <tr>\n      <th>les</th>\n      <td>0.000554</td>\n      <td>0.000277</td>\n    </tr>\n  </tbody>\n</table>\n</div>"
     },
     "execution_count": 118,
     "metadata": {},
     "output_type": "execute_result"
    }
   ],
   "source": [
    "tokens[\"ham\"] = tokens[\"ham\"] / nb.class_count_[0]\n",
    "tokens[\"spam\"] = tokens[\"spam\"] / nb.class_count_[0]\n",
    "tokens.sample(5, random_state = 6)"
   ],
   "metadata": {
    "collapsed": false,
    "pycharm": {
     "name": "#%%\n"
    }
   }
  },
  {
   "cell_type": "code",
   "execution_count": null,
   "outputs": [],
   "source": [
    "tokens[\"spam ratio\"] = tokens[]"
   ],
   "metadata": {
    "collapsed": false,
    "pycharm": {
     "name": "#%%\n"
    }
   }
  }
 ],
 "metadata": {
  "kernelspec": {
   "display_name": "Python 3",
   "language": "python",
   "name": "python3"
  },
  "language_info": {
   "codemirror_mode": {
    "name": "ipython",
    "version": 2
   },
   "file_extension": ".py",
   "mimetype": "text/x-python",
   "name": "python",
   "nbconvert_exporter": "python",
   "pygments_lexer": "ipython2",
   "version": "2.7.6"
  }
 },
 "nbformat": 4,
 "nbformat_minor": 0
}