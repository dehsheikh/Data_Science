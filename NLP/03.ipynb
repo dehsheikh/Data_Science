{
 "cells": [
  {
   "cell_type": "code",
   "execution_count": 11,
   "metadata": {
    "collapsed": true,
    "pycharm": {
     "name": "#%%\n"
    }
   },
   "outputs": [],
   "source": [
    "import pandas as pd"
   ]
  },
  {
   "cell_type": "code",
   "execution_count": 12,
   "outputs": [
    {
     "data": {
      "text/plain": "                 business_id        date               review_id  stars  \\\n0     9yKzy9PApeiPPOUJEtnvkg  2011-01-26  fWKvX83p0-ka4JS3dc6E5A      5   \n1     ZRJwVLyzEJq1VAihDhYiow  2011-07-27  IjZ33sJrzXqU-0X6U8NwyA      5   \n2     6oRAC4uyJCsJl1X0WZpVSA  2012-06-14  IESLBzqUCLdSzSqm0eCSxQ      4   \n3     _1QQZuf4zZOyFCvXc0o6Vg  2010-05-27  G-WvGaISbqqaMHlNnByodA      5   \n4     6ozycU1RpktNG2-1BroVtw  2012-01-05  1uJFq2r5QfJG_6ExMRCaGw      5   \n...                      ...         ...                     ...    ...   \n9995  VY_tvNUCCXGXQeSvJl757Q  2012-07-28  Ubyfp2RSDYW0g7Mbr8N3iA      3   \n9996  EKzMHI1tip8rC1-ZAy64yg  2012-01-18  2XyIOQKbVFb6uXQdJ0RzlQ      4   \n9997  53YGfwmbW73JhFiemNeyzQ  2010-11-16  jyznYkIbpqVmlsZxSDSypA      4   \n9998  9SKdOoDHcFoxK5ZtsgHJoA  2012-12-02  5UKq9WQE1qQbJ0DJbc-B6Q      2   \n9999  pF7uRzygyZsltbmVpjIyvw  2010-10-16  vWSmOhg2ID1MNZHaWapGbA      5   \n\n                                                   text    type  \\\n0     My wife took me here on my birthday for breakf...  review   \n1     I have no idea why some people give bad review...  review   \n2     love the gyro plate. Rice is so good and I als...  review   \n3     Rosie, Dakota, and I LOVE Chaparral Dog Park!!...  review   \n4     General Manager Scott Petello is a good egg!!!...  review   \n...                                                 ...     ...   \n9995  First visit...Had lunch here today - used my G...  review   \n9996  Should be called house of deliciousness!\\n\\nI ...  review   \n9997  I recently visited Olive and Ivy for business ...  review   \n9998  My nephew just moved to Scottsdale recently so...  review   \n9999  4-5 locations.. all 4.5 star average.. I think...  review   \n\n                     user_id  cool  useful  funny  \n0     rLtl8ZkDX5vH5nAx9C3q5Q     2       5      0  \n1     0a2KyEL0d3Yb1V6aivbIuQ     0       0      0  \n2     0hT2KtfLiobPvh6cDC8JQg     0       1      0  \n3     uZetl9T0NcROGOyFfughhg     1       2      0  \n4     vYmM4KTsC8ZfQBg-j5MWkw     0       0      0  \n...                      ...   ...     ...    ...  \n9995  _eqQoPtQ3e3UxLE4faT6ow     1       2      0  \n9996  ROru4uk5SaYc3rg8IU7SQw     0       0      0  \n9997  gGbN1aKQHMgfQZkqlsuwzg     0       0      0  \n9998  0lyVoNazXa20WzUyZPLaQQ     0       0      0  \n9999  KSBFytcdjPKZgXKQnYQdkA     0       0      0  \n\n[10000 rows x 10 columns]",
      "text/html": "<div>\n<style scoped>\n    .dataframe tbody tr th:only-of-type {\n        vertical-align: middle;\n    }\n\n    .dataframe tbody tr th {\n        vertical-align: top;\n    }\n\n    .dataframe thead th {\n        text-align: right;\n    }\n</style>\n<table border=\"1\" class=\"dataframe\">\n  <thead>\n    <tr style=\"text-align: right;\">\n      <th></th>\n      <th>business_id</th>\n      <th>date</th>\n      <th>review_id</th>\n      <th>stars</th>\n      <th>text</th>\n      <th>type</th>\n      <th>user_id</th>\n      <th>cool</th>\n      <th>useful</th>\n      <th>funny</th>\n    </tr>\n  </thead>\n  <tbody>\n    <tr>\n      <th>0</th>\n      <td>9yKzy9PApeiPPOUJEtnvkg</td>\n      <td>2011-01-26</td>\n      <td>fWKvX83p0-ka4JS3dc6E5A</td>\n      <td>5</td>\n      <td>My wife took me here on my birthday for breakf...</td>\n      <td>review</td>\n      <td>rLtl8ZkDX5vH5nAx9C3q5Q</td>\n      <td>2</td>\n      <td>5</td>\n      <td>0</td>\n    </tr>\n    <tr>\n      <th>1</th>\n      <td>ZRJwVLyzEJq1VAihDhYiow</td>\n      <td>2011-07-27</td>\n      <td>IjZ33sJrzXqU-0X6U8NwyA</td>\n      <td>5</td>\n      <td>I have no idea why some people give bad review...</td>\n      <td>review</td>\n      <td>0a2KyEL0d3Yb1V6aivbIuQ</td>\n      <td>0</td>\n      <td>0</td>\n      <td>0</td>\n    </tr>\n    <tr>\n      <th>2</th>\n      <td>6oRAC4uyJCsJl1X0WZpVSA</td>\n      <td>2012-06-14</td>\n      <td>IESLBzqUCLdSzSqm0eCSxQ</td>\n      <td>4</td>\n      <td>love the gyro plate. Rice is so good and I als...</td>\n      <td>review</td>\n      <td>0hT2KtfLiobPvh6cDC8JQg</td>\n      <td>0</td>\n      <td>1</td>\n      <td>0</td>\n    </tr>\n    <tr>\n      <th>3</th>\n      <td>_1QQZuf4zZOyFCvXc0o6Vg</td>\n      <td>2010-05-27</td>\n      <td>G-WvGaISbqqaMHlNnByodA</td>\n      <td>5</td>\n      <td>Rosie, Dakota, and I LOVE Chaparral Dog Park!!...</td>\n      <td>review</td>\n      <td>uZetl9T0NcROGOyFfughhg</td>\n      <td>1</td>\n      <td>2</td>\n      <td>0</td>\n    </tr>\n    <tr>\n      <th>4</th>\n      <td>6ozycU1RpktNG2-1BroVtw</td>\n      <td>2012-01-05</td>\n      <td>1uJFq2r5QfJG_6ExMRCaGw</td>\n      <td>5</td>\n      <td>General Manager Scott Petello is a good egg!!!...</td>\n      <td>review</td>\n      <td>vYmM4KTsC8ZfQBg-j5MWkw</td>\n      <td>0</td>\n      <td>0</td>\n      <td>0</td>\n    </tr>\n    <tr>\n      <th>...</th>\n      <td>...</td>\n      <td>...</td>\n      <td>...</td>\n      <td>...</td>\n      <td>...</td>\n      <td>...</td>\n      <td>...</td>\n      <td>...</td>\n      <td>...</td>\n      <td>...</td>\n    </tr>\n    <tr>\n      <th>9995</th>\n      <td>VY_tvNUCCXGXQeSvJl757Q</td>\n      <td>2012-07-28</td>\n      <td>Ubyfp2RSDYW0g7Mbr8N3iA</td>\n      <td>3</td>\n      <td>First visit...Had lunch here today - used my G...</td>\n      <td>review</td>\n      <td>_eqQoPtQ3e3UxLE4faT6ow</td>\n      <td>1</td>\n      <td>2</td>\n      <td>0</td>\n    </tr>\n    <tr>\n      <th>9996</th>\n      <td>EKzMHI1tip8rC1-ZAy64yg</td>\n      <td>2012-01-18</td>\n      <td>2XyIOQKbVFb6uXQdJ0RzlQ</td>\n      <td>4</td>\n      <td>Should be called house of deliciousness!\\n\\nI ...</td>\n      <td>review</td>\n      <td>ROru4uk5SaYc3rg8IU7SQw</td>\n      <td>0</td>\n      <td>0</td>\n      <td>0</td>\n    </tr>\n    <tr>\n      <th>9997</th>\n      <td>53YGfwmbW73JhFiemNeyzQ</td>\n      <td>2010-11-16</td>\n      <td>jyznYkIbpqVmlsZxSDSypA</td>\n      <td>4</td>\n      <td>I recently visited Olive and Ivy for business ...</td>\n      <td>review</td>\n      <td>gGbN1aKQHMgfQZkqlsuwzg</td>\n      <td>0</td>\n      <td>0</td>\n      <td>0</td>\n    </tr>\n    <tr>\n      <th>9998</th>\n      <td>9SKdOoDHcFoxK5ZtsgHJoA</td>\n      <td>2012-12-02</td>\n      <td>5UKq9WQE1qQbJ0DJbc-B6Q</td>\n      <td>2</td>\n      <td>My nephew just moved to Scottsdale recently so...</td>\n      <td>review</td>\n      <td>0lyVoNazXa20WzUyZPLaQQ</td>\n      <td>0</td>\n      <td>0</td>\n      <td>0</td>\n    </tr>\n    <tr>\n      <th>9999</th>\n      <td>pF7uRzygyZsltbmVpjIyvw</td>\n      <td>2010-10-16</td>\n      <td>vWSmOhg2ID1MNZHaWapGbA</td>\n      <td>5</td>\n      <td>4-5 locations.. all 4.5 star average.. I think...</td>\n      <td>review</td>\n      <td>KSBFytcdjPKZgXKQnYQdkA</td>\n      <td>0</td>\n      <td>0</td>\n      <td>0</td>\n    </tr>\n  </tbody>\n</table>\n<p>10000 rows × 10 columns</p>\n</div>"
     },
     "execution_count": 12,
     "metadata": {},
     "output_type": "execute_result"
    }
   ],
   "source": [
    "path = \"yelp.csv\"\n",
    "yelp = pd.read_csv(path)\n",
    "yelp"
   ],
   "metadata": {
    "collapsed": false,
    "pycharm": {
     "name": "#%%\n"
    }
   }
  },
  {
   "cell_type": "code",
   "execution_count": 13,
   "outputs": [
    {
     "data": {
      "text/plain": "(10000, 10)"
     },
     "execution_count": 13,
     "metadata": {},
     "output_type": "execute_result"
    }
   ],
   "source": [
    "yelp.shape"
   ],
   "metadata": {
    "collapsed": false,
    "pycharm": {
     "name": "#%%\n"
    }
   }
  },
  {
   "cell_type": "code",
   "execution_count": 14,
   "outputs": [
    {
     "data": {
      "text/plain": "              business_id        date               review_id  stars  \\\n0  9yKzy9PApeiPPOUJEtnvkg  2011-01-26  fWKvX83p0-ka4JS3dc6E5A      5   \n\n                                                text    type  \\\n0  My wife took me here on my birthday for breakf...  review   \n\n                  user_id  cool  useful  funny  \n0  rLtl8ZkDX5vH5nAx9C3q5Q     2       5      0  ",
      "text/html": "<div>\n<style scoped>\n    .dataframe tbody tr th:only-of-type {\n        vertical-align: middle;\n    }\n\n    .dataframe tbody tr th {\n        vertical-align: top;\n    }\n\n    .dataframe thead th {\n        text-align: right;\n    }\n</style>\n<table border=\"1\" class=\"dataframe\">\n  <thead>\n    <tr style=\"text-align: right;\">\n      <th></th>\n      <th>business_id</th>\n      <th>date</th>\n      <th>review_id</th>\n      <th>stars</th>\n      <th>text</th>\n      <th>type</th>\n      <th>user_id</th>\n      <th>cool</th>\n      <th>useful</th>\n      <th>funny</th>\n    </tr>\n  </thead>\n  <tbody>\n    <tr>\n      <th>0</th>\n      <td>9yKzy9PApeiPPOUJEtnvkg</td>\n      <td>2011-01-26</td>\n      <td>fWKvX83p0-ka4JS3dc6E5A</td>\n      <td>5</td>\n      <td>My wife took me here on my birthday for breakf...</td>\n      <td>review</td>\n      <td>rLtl8ZkDX5vH5nAx9C3q5Q</td>\n      <td>2</td>\n      <td>5</td>\n      <td>0</td>\n    </tr>\n  </tbody>\n</table>\n</div>"
     },
     "execution_count": 14,
     "metadata": {},
     "output_type": "execute_result"
    }
   ],
   "source": [
    "yelp.head(1)"
   ],
   "metadata": {
    "collapsed": false,
    "pycharm": {
     "name": "#%%\n"
    }
   }
  },
  {
   "cell_type": "code",
   "execution_count": 15,
   "outputs": [
    {
     "data": {
      "text/plain": "                 business_id        date               review_id  stars  \\\n0     9yKzy9PApeiPPOUJEtnvkg  2011-01-26  fWKvX83p0-ka4JS3dc6E5A      5   \n1     ZRJwVLyzEJq1VAihDhYiow  2011-07-27  IjZ33sJrzXqU-0X6U8NwyA      5   \n3     _1QQZuf4zZOyFCvXc0o6Vg  2010-05-27  G-WvGaISbqqaMHlNnByodA      5   \n4     6ozycU1RpktNG2-1BroVtw  2012-01-05  1uJFq2r5QfJG_6ExMRCaGw      5   \n6     zp713qNhx8d9KCJJnrw1xA  2010-02-12  riFQ3vxNpP4rWLk_CSri2A      5   \n...                      ...         ...                     ...    ...   \n9990  R8VwdLyvsp9iybNqRvm94g  2011-10-03  pcEeHdAJPoFNF23es0kKWg      5   \n9991  WJ5mq4EiWYAA4Vif0xDfdg  2011-12-05  EuHX-39FR7tyyG1ElvN1Jw      5   \n9992  f96lWMIAUhYIYy9gOktivQ  2009-03-10  YF17z7HWlMj6aezZc-pVEw      5   \n9994  L3BSpFvxcNf3T_teitgt6A  2012-03-19  0nxb1gIGFgk3WbC5zwhKZg      5   \n9999  pF7uRzygyZsltbmVpjIyvw  2010-10-16  vWSmOhg2ID1MNZHaWapGbA      5   \n\n                                                   text    type  \\\n0     My wife took me here on my birthday for breakf...  review   \n1     I have no idea why some people give bad review...  review   \n3     Rosie, Dakota, and I LOVE Chaparral Dog Park!!...  review   \n4     General Manager Scott Petello is a good egg!!!...  review   \n6     Drop what you're doing and drive here. After I...  review   \n...                                                 ...     ...   \n9990  Yes I do rock the hipster joints.  I dig this ...  review   \n9991  Only 4 stars? \\n\\n(A few notes: The folks that...  review   \n9992  I'm not normally one to jump at reviewing a ch...  review   \n9994  Let's see...what is there NOT to like about Su...  review   \n9999  4-5 locations.. all 4.5 star average.. I think...  review   \n\n                     user_id  cool  useful  funny  \n0     rLtl8ZkDX5vH5nAx9C3q5Q     2       5      0  \n1     0a2KyEL0d3Yb1V6aivbIuQ     0       0      0  \n3     uZetl9T0NcROGOyFfughhg     1       2      0  \n4     vYmM4KTsC8ZfQBg-j5MWkw     0       0      0  \n6     wFweIWhv2fREZV_dYkz_1g     7       7      4  \n...                      ...   ...     ...    ...  \n9990  b92Y3tyWTQQZ5FLifex62Q     1       1      1  \n9991  hTau-iNZFwoNsPCaiIUTEA     1       1      0  \n9992  W_QXYA7A0IhMrvbckz7eVg     2       3      2  \n9994  OzOZv-Knlw3oz9K5Kh5S6A     1       2      1  \n9999  KSBFytcdjPKZgXKQnYQdkA     0       0      0  \n\n[4086 rows x 10 columns]",
      "text/html": "<div>\n<style scoped>\n    .dataframe tbody tr th:only-of-type {\n        vertical-align: middle;\n    }\n\n    .dataframe tbody tr th {\n        vertical-align: top;\n    }\n\n    .dataframe thead th {\n        text-align: right;\n    }\n</style>\n<table border=\"1\" class=\"dataframe\">\n  <thead>\n    <tr style=\"text-align: right;\">\n      <th></th>\n      <th>business_id</th>\n      <th>date</th>\n      <th>review_id</th>\n      <th>stars</th>\n      <th>text</th>\n      <th>type</th>\n      <th>user_id</th>\n      <th>cool</th>\n      <th>useful</th>\n      <th>funny</th>\n    </tr>\n  </thead>\n  <tbody>\n    <tr>\n      <th>0</th>\n      <td>9yKzy9PApeiPPOUJEtnvkg</td>\n      <td>2011-01-26</td>\n      <td>fWKvX83p0-ka4JS3dc6E5A</td>\n      <td>5</td>\n      <td>My wife took me here on my birthday for breakf...</td>\n      <td>review</td>\n      <td>rLtl8ZkDX5vH5nAx9C3q5Q</td>\n      <td>2</td>\n      <td>5</td>\n      <td>0</td>\n    </tr>\n    <tr>\n      <th>1</th>\n      <td>ZRJwVLyzEJq1VAihDhYiow</td>\n      <td>2011-07-27</td>\n      <td>IjZ33sJrzXqU-0X6U8NwyA</td>\n      <td>5</td>\n      <td>I have no idea why some people give bad review...</td>\n      <td>review</td>\n      <td>0a2KyEL0d3Yb1V6aivbIuQ</td>\n      <td>0</td>\n      <td>0</td>\n      <td>0</td>\n    </tr>\n    <tr>\n      <th>3</th>\n      <td>_1QQZuf4zZOyFCvXc0o6Vg</td>\n      <td>2010-05-27</td>\n      <td>G-WvGaISbqqaMHlNnByodA</td>\n      <td>5</td>\n      <td>Rosie, Dakota, and I LOVE Chaparral Dog Park!!...</td>\n      <td>review</td>\n      <td>uZetl9T0NcROGOyFfughhg</td>\n      <td>1</td>\n      <td>2</td>\n      <td>0</td>\n    </tr>\n    <tr>\n      <th>4</th>\n      <td>6ozycU1RpktNG2-1BroVtw</td>\n      <td>2012-01-05</td>\n      <td>1uJFq2r5QfJG_6ExMRCaGw</td>\n      <td>5</td>\n      <td>General Manager Scott Petello is a good egg!!!...</td>\n      <td>review</td>\n      <td>vYmM4KTsC8ZfQBg-j5MWkw</td>\n      <td>0</td>\n      <td>0</td>\n      <td>0</td>\n    </tr>\n    <tr>\n      <th>6</th>\n      <td>zp713qNhx8d9KCJJnrw1xA</td>\n      <td>2010-02-12</td>\n      <td>riFQ3vxNpP4rWLk_CSri2A</td>\n      <td>5</td>\n      <td>Drop what you're doing and drive here. After I...</td>\n      <td>review</td>\n      <td>wFweIWhv2fREZV_dYkz_1g</td>\n      <td>7</td>\n      <td>7</td>\n      <td>4</td>\n    </tr>\n    <tr>\n      <th>...</th>\n      <td>...</td>\n      <td>...</td>\n      <td>...</td>\n      <td>...</td>\n      <td>...</td>\n      <td>...</td>\n      <td>...</td>\n      <td>...</td>\n      <td>...</td>\n      <td>...</td>\n    </tr>\n    <tr>\n      <th>9990</th>\n      <td>R8VwdLyvsp9iybNqRvm94g</td>\n      <td>2011-10-03</td>\n      <td>pcEeHdAJPoFNF23es0kKWg</td>\n      <td>5</td>\n      <td>Yes I do rock the hipster joints.  I dig this ...</td>\n      <td>review</td>\n      <td>b92Y3tyWTQQZ5FLifex62Q</td>\n      <td>1</td>\n      <td>1</td>\n      <td>1</td>\n    </tr>\n    <tr>\n      <th>9991</th>\n      <td>WJ5mq4EiWYAA4Vif0xDfdg</td>\n      <td>2011-12-05</td>\n      <td>EuHX-39FR7tyyG1ElvN1Jw</td>\n      <td>5</td>\n      <td>Only 4 stars? \\n\\n(A few notes: The folks that...</td>\n      <td>review</td>\n      <td>hTau-iNZFwoNsPCaiIUTEA</td>\n      <td>1</td>\n      <td>1</td>\n      <td>0</td>\n    </tr>\n    <tr>\n      <th>9992</th>\n      <td>f96lWMIAUhYIYy9gOktivQ</td>\n      <td>2009-03-10</td>\n      <td>YF17z7HWlMj6aezZc-pVEw</td>\n      <td>5</td>\n      <td>I'm not normally one to jump at reviewing a ch...</td>\n      <td>review</td>\n      <td>W_QXYA7A0IhMrvbckz7eVg</td>\n      <td>2</td>\n      <td>3</td>\n      <td>2</td>\n    </tr>\n    <tr>\n      <th>9994</th>\n      <td>L3BSpFvxcNf3T_teitgt6A</td>\n      <td>2012-03-19</td>\n      <td>0nxb1gIGFgk3WbC5zwhKZg</td>\n      <td>5</td>\n      <td>Let's see...what is there NOT to like about Su...</td>\n      <td>review</td>\n      <td>OzOZv-Knlw3oz9K5Kh5S6A</td>\n      <td>1</td>\n      <td>2</td>\n      <td>1</td>\n    </tr>\n    <tr>\n      <th>9999</th>\n      <td>pF7uRzygyZsltbmVpjIyvw</td>\n      <td>2010-10-16</td>\n      <td>vWSmOhg2ID1MNZHaWapGbA</td>\n      <td>5</td>\n      <td>4-5 locations.. all 4.5 star average.. I think...</td>\n      <td>review</td>\n      <td>KSBFytcdjPKZgXKQnYQdkA</td>\n      <td>0</td>\n      <td>0</td>\n      <td>0</td>\n    </tr>\n  </tbody>\n</table>\n<p>4086 rows × 10 columns</p>\n</div>"
     },
     "execution_count": 15,
     "metadata": {},
     "output_type": "execute_result"
    }
   ],
   "source": [
    "yelp_best_worst = yelp[(yelp['stars'] == 5) |\n",
    "                       (yelp['stars'] == 1)]\n",
    "yelp_best_worst"
   ],
   "metadata": {
    "collapsed": false,
    "pycharm": {
     "name": "#%%\n"
    }
   }
  },
  {
   "cell_type": "code",
   "execution_count": 16,
   "outputs": [],
   "source": [
    "X = yelp['text']\n",
    "y = yelp['stars']"
   ],
   "metadata": {
    "collapsed": false,
    "pycharm": {
     "name": "#%%\n"
    }
   }
  },
  {
   "cell_type": "code",
   "execution_count": 17,
   "outputs": [],
   "source": [
    "from sklearn.model_selection import train_test_split\n",
    "X_train, X_test, y_train, y_test = train_test_split(\n",
    "    X, y, random_state = 1\n",
    ")"
   ],
   "metadata": {
    "collapsed": false,
    "pycharm": {
     "name": "#%%\n"
    }
   }
  },
  {
   "cell_type": "code",
   "execution_count": 18,
   "outputs": [],
   "source": [
    "from sklearn.naive_bayes import MultinomialNB\n",
    "from sklearn import metrics\n",
    "\n",
    "def tokenize_test(vect):\n",
    "    X_train_dtm = vect.fit_transform(X_train)\n",
    "    X_test_dtm = vect.transform(X_test)\n",
    "    print('Features', X_train_dtm.shape[1])\n",
    "    nb = MultinomialNB()\n",
    "    nb.fit(X_train_dtm, y_train)\n",
    "    y_pred_class = nb.predict(X_test_dtm)\n",
    "    print('Accuracy', metrics.accuracy_score(y_test, y_pred_class))"
   ],
   "metadata": {
    "collapsed": false,
    "pycharm": {
     "name": "#%%\n"
    }
   }
  },
  {
   "cell_type": "code",
   "execution_count": 19,
   "outputs": [],
   "source": [
    "simple_train = ['call you tonight',\n",
    "                'call me a cab',\n",
    "                'please call me...PLEASE!!!']"
   ],
   "metadata": {
    "collapsed": false,
    "pycharm": {
     "name": "#%%\n"
    }
   }
  },
  {
   "cell_type": "code",
   "execution_count": 21,
   "outputs": [
    {
     "data": {
      "text/plain": "   cab  call  me  please  tonight  you\n0    0     1   0       0        1    1\n1    1     1   1       0        0    0\n2    0     1   1       2        0    0",
      "text/html": "<div>\n<style scoped>\n    .dataframe tbody tr th:only-of-type {\n        vertical-align: middle;\n    }\n\n    .dataframe tbody tr th {\n        vertical-align: top;\n    }\n\n    .dataframe thead th {\n        text-align: right;\n    }\n</style>\n<table border=\"1\" class=\"dataframe\">\n  <thead>\n    <tr style=\"text-align: right;\">\n      <th></th>\n      <th>cab</th>\n      <th>call</th>\n      <th>me</th>\n      <th>please</th>\n      <th>tonight</th>\n      <th>you</th>\n    </tr>\n  </thead>\n  <tbody>\n    <tr>\n      <th>0</th>\n      <td>0</td>\n      <td>1</td>\n      <td>0</td>\n      <td>0</td>\n      <td>1</td>\n      <td>1</td>\n    </tr>\n    <tr>\n      <th>1</th>\n      <td>1</td>\n      <td>1</td>\n      <td>1</td>\n      <td>0</td>\n      <td>0</td>\n      <td>0</td>\n    </tr>\n    <tr>\n      <th>2</th>\n      <td>0</td>\n      <td>1</td>\n      <td>1</td>\n      <td>2</td>\n      <td>0</td>\n      <td>0</td>\n    </tr>\n  </tbody>\n</table>\n</div>"
     },
     "execution_count": 21,
     "metadata": {},
     "output_type": "execute_result"
    }
   ],
   "source": [
    "from sklearn.feature_extraction.text import CountVectorizer\n",
    "vect = CountVectorizer()\n",
    "tf = pd.DataFrame(vect.fit_transform(simple_train).toarray(),\n",
    "                  columns = vect.get_feature_names())\n",
    "tf"
   ],
   "metadata": {
    "collapsed": false,
    "pycharm": {
     "name": "#%%\n"
    }
   }
  },
  {
   "cell_type": "code",
   "execution_count": 24,
   "outputs": [
    {
     "data": {
      "text/plain": "2"
     },
     "execution_count": 24,
     "metadata": {},
     "output_type": "execute_result"
    }
   ],
   "source": [
    "tf['me'].sum()"
   ],
   "metadata": {
    "collapsed": false,
    "pycharm": {
     "name": "#%%\n"
    }
   }
  },
  {
   "cell_type": "code",
   "execution_count": 25,
   "outputs": [
    {
     "data": {
      "text/plain": "   cab  call  me  please  tonight  you\n0    0     1   0       0        1    1\n1    1     1   1       0        0    0\n2    0     1   1       1        0    0",
      "text/html": "<div>\n<style scoped>\n    .dataframe tbody tr th:only-of-type {\n        vertical-align: middle;\n    }\n\n    .dataframe tbody tr th {\n        vertical-align: top;\n    }\n\n    .dataframe thead th {\n        text-align: right;\n    }\n</style>\n<table border=\"1\" class=\"dataframe\">\n  <thead>\n    <tr style=\"text-align: right;\">\n      <th></th>\n      <th>cab</th>\n      <th>call</th>\n      <th>me</th>\n      <th>please</th>\n      <th>tonight</th>\n      <th>you</th>\n    </tr>\n  </thead>\n  <tbody>\n    <tr>\n      <th>0</th>\n      <td>0</td>\n      <td>1</td>\n      <td>0</td>\n      <td>0</td>\n      <td>1</td>\n      <td>1</td>\n    </tr>\n    <tr>\n      <th>1</th>\n      <td>1</td>\n      <td>1</td>\n      <td>1</td>\n      <td>0</td>\n      <td>0</td>\n      <td>0</td>\n    </tr>\n    <tr>\n      <th>2</th>\n      <td>0</td>\n      <td>1</td>\n      <td>1</td>\n      <td>1</td>\n      <td>0</td>\n      <td>0</td>\n    </tr>\n  </tbody>\n</table>\n</div>"
     },
     "execution_count": 25,
     "metadata": {},
     "output_type": "execute_result"
    }
   ],
   "source": [
    "vect = CountVectorizer(binary = True)\n",
    "tf = pd.DataFrame(vect.fit_transform(simple_train).toarray(),\n",
    "                  columns = vect.get_feature_names())\n",
    "tf"
   ],
   "metadata": {
    "collapsed": false,
    "pycharm": {
     "name": "#%%\n"
    }
   }
  },
  {
   "cell_type": "code",
   "execution_count": 27,
   "outputs": [
    {
     "data": {
      "text/plain": "TfidfVectorizer()"
     },
     "execution_count": 27,
     "metadata": {},
     "output_type": "execute_result"
    }
   ],
   "source": [
    "# TfidfVectorizer = CountVectorizer + TfidfTransformer\n",
    "from sklearn.feature_extraction.text import TfidfVectorizer\n",
    "vect = TfidfVectorizer()\n",
    "vect"
   ],
   "metadata": {
    "collapsed": false,
    "pycharm": {
     "name": "#%%\n"
    }
   }
  },
  {
   "cell_type": "code",
   "execution_count": 28,
   "outputs": [
    {
     "data": {
      "text/plain": "        cab      call        me    please   tonight       you\n0  0.000000  0.385372  0.000000  0.000000  0.652491  0.652491\n1  0.720333  0.425441  0.547832  0.000000  0.000000  0.000000\n2  0.000000  0.266075  0.342620  0.901008  0.000000  0.000000",
      "text/html": "<div>\n<style scoped>\n    .dataframe tbody tr th:only-of-type {\n        vertical-align: middle;\n    }\n\n    .dataframe tbody tr th {\n        vertical-align: top;\n    }\n\n    .dataframe thead th {\n        text-align: right;\n    }\n</style>\n<table border=\"1\" class=\"dataframe\">\n  <thead>\n    <tr style=\"text-align: right;\">\n      <th></th>\n      <th>cab</th>\n      <th>call</th>\n      <th>me</th>\n      <th>please</th>\n      <th>tonight</th>\n      <th>you</th>\n    </tr>\n  </thead>\n  <tbody>\n    <tr>\n      <th>0</th>\n      <td>0.000000</td>\n      <td>0.385372</td>\n      <td>0.000000</td>\n      <td>0.000000</td>\n      <td>0.652491</td>\n      <td>0.652491</td>\n    </tr>\n    <tr>\n      <th>1</th>\n      <td>0.720333</td>\n      <td>0.425441</td>\n      <td>0.547832</td>\n      <td>0.000000</td>\n      <td>0.000000</td>\n      <td>0.000000</td>\n    </tr>\n    <tr>\n      <th>2</th>\n      <td>0.000000</td>\n      <td>0.266075</td>\n      <td>0.342620</td>\n      <td>0.901008</td>\n      <td>0.000000</td>\n      <td>0.000000</td>\n    </tr>\n  </tbody>\n</table>\n</div>"
     },
     "execution_count": 28,
     "metadata": {},
     "output_type": "execute_result"
    }
   ],
   "source": [
    "pd.DataFrame(vect.fit_transform(simple_train).toarray(),\n",
    "             columns = vect.get_feature_names())"
   ],
   "metadata": {
    "collapsed": false,
    "pycharm": {
     "name": "#%%\n"
    }
   }
  },
  {
   "cell_type": "code",
   "execution_count": null,
   "outputs": [],
   "source": [],
   "metadata": {
    "collapsed": false,
    "pycharm": {
     "name": "#%%\n"
    }
   }
  }
 ],
 "metadata": {
  "kernelspec": {
   "display_name": "Python 3",
   "language": "python",
   "name": "python3"
  },
  "language_info": {
   "codemirror_mode": {
    "name": "ipython",
    "version": 2
   },
   "file_extension": ".py",
   "mimetype": "text/x-python",
   "name": "python",
   "nbconvert_exporter": "python",
   "pygments_lexer": "ipython2",
   "version": "2.7.6"
  }
 },
 "nbformat": 4,
 "nbformat_minor": 0
}