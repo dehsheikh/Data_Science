{
 "cells": [
  {
   "cell_type": "code",
   "execution_count": 120,
   "metadata": {
    "collapsed": true,
    "pycharm": {
     "name": "#%%\n"
    }
   },
   "outputs": [],
   "source": [
    "import pandas as pd\n",
    "import re"
   ]
  },
  {
   "cell_type": "code",
   "execution_count": 121,
   "outputs": [
    {
     "data": {
      "text/plain": "Index(['star_rating', 'title', 'content_rating', 'genre', 'duration',\n       'actors_list'],\n      dtype='object')"
     },
     "execution_count": 121,
     "metadata": {},
     "output_type": "execute_result"
    }
   ],
   "source": [
    "path = \"imdb_100.csv\"\n",
    "imdb = pd.read_csv(path)\n",
    "imdb.columns"
   ],
   "metadata": {
    "collapsed": false,
    "pycharm": {
     "name": "#%%\n"
    }
   }
  },
  {
   "cell_type": "code",
   "execution_count": 122,
   "outputs": [
    {
     "data": {
      "text/plain": "['The Shawshank Redemption',\n 'The Godfather',\n 'The Godfather: Part II',\n 'The Dark Knight',\n 'Pulp Fiction',\n '12 Angry Men',\n 'The Good, the Bad and the Ugly',\n 'The Lord of the Rings: The Return of the King',\n \"Schindler's List\",\n 'Fight Club',\n 'The Lord of the Rings: The Fellowship of the Ring',\n 'Inception',\n 'Star Wars: Episode V - The Empire Strikes Back',\n 'Forrest Gump',\n 'The Lord of the Rings: The Two Towers',\n 'Interstellar',\n \"One Flew Over the Cuckoo's Nest\",\n 'Seven Samurai',\n 'Goodfellas',\n 'Star Wars',\n 'The Matrix',\n 'City of God',\n \"It's a Wonderful Life\",\n 'The Usual Suspects',\n 'Se7en',\n 'Life Is Beautiful',\n 'Once Upon a Time in the West',\n 'The Silence of the Lambs',\n 'Leon: The Professional',\n 'City Lights',\n 'Spirited Away',\n 'The Intouchables',\n 'Casablanca',\n 'Whiplash',\n 'American History X',\n 'Modern Times',\n 'Saving Private Ryan',\n 'Raiders of the Lost Ark',\n 'Rear Window',\n 'Psycho',\n 'The Green Mile',\n 'Sunset Blvd.',\n 'The Pianist',\n 'The Dark Knight Rises',\n 'Gladiator',\n 'Terminator 2: Judgment Day',\n 'Memento',\n 'Taare Zameen Par',\n 'Dr. Strangelove or: How I Learned to Stop Worrying and Love the Bomb',\n 'The Departed',\n 'Cinema Paradiso',\n 'Apocalypse Now',\n 'The Great Dictator',\n 'The Prestige',\n 'Back to the Future',\n 'The Lion King',\n 'The Lives of Others',\n 'Alien',\n 'Paths of Glory',\n 'Django Unchained',\n '3 Idiots',\n 'Grave of the Fireflies',\n 'The Shining',\n 'M',\n 'WALL-E',\n 'Witness for the Prosecution',\n 'Munna Bhai M.B.B.S.',\n 'American Beauty',\n 'Das Boot',\n 'Princess Mononoke',\n 'Amelie',\n 'North by Northwest',\n 'Rang De Basanti',\n 'Jodaeiye Nader az Simin',\n 'Citizen Kane',\n 'Aliens',\n 'Vertigo',\n 'Oldeuboi',\n 'Once Upon a Time in America',\n 'Double Indemnity',\n 'Star Wars: Episode VI - Return of the Jedi',\n 'Toy Story 3',\n 'Braveheart',\n 'To Kill a Mockingbird',\n 'Requiem for a Dream',\n 'Lawrence of Arabia',\n 'A Clockwork Orange',\n 'Bicycle Thieves',\n 'The Kid',\n 'Swades',\n 'Reservoir Dogs',\n 'Eternal Sunshine of the Spotless Mind',\n 'Taxi Driver',\n 'Dilwale Dulhania Le Jayenge',\n \"Singin' in the Rain\",\n 'All About Eve',\n 'Yojimbo',\n 'The Sting',\n 'Rashomon',\n 'Amadeus']"
     },
     "execution_count": 122,
     "metadata": {},
     "output_type": "execute_result"
    }
   ],
   "source": [
    "titles = imdb[\"title\"].tolist()\n",
    "titles"
   ],
   "metadata": {
    "collapsed": false,
    "pycharm": {
     "name": "#%%\n"
    }
   }
  },
  {
   "cell_type": "code",
   "execution_count": 123,
   "outputs": [],
   "source": [
    "clean_titles = []\n",
    "better_titles = []\n",
    "for title in titles:\n",
    "    clean_titles.append(\n",
    "        re.sub(r\"^(A|An|The)\\s(.+)\", r\"\\2\",\n",
    "               title, flags=re.MULTILINE))\n",
    "    better_titles.append(\n",
    "        re.sub(r\"^(A|An|The)\\s(.+)\", r\"\\2, \\1\",\n",
    "               title, flags=re.MULTILINE))"
   ],
   "metadata": {
    "collapsed": false,
    "pycharm": {
     "name": "#%%\n"
    }
   }
  },
  {
   "cell_type": "code",
   "execution_count": 124,
   "outputs": [
    {
     "data": {
      "text/plain": "['Shawshank Redemption',\n 'Godfather',\n 'Godfather: Part II',\n 'Dark Knight',\n 'Pulp Fiction',\n '12 Angry Men',\n 'Good, the Bad and the Ugly',\n 'Lord of the Rings: The Return of the King',\n \"Schindler's List\",\n 'Fight Club',\n 'Lord of the Rings: The Fellowship of the Ring',\n 'Inception',\n 'Star Wars: Episode V - The Empire Strikes Back',\n 'Forrest Gump',\n 'Lord of the Rings: The Two Towers',\n 'Interstellar',\n \"One Flew Over the Cuckoo's Nest\",\n 'Seven Samurai',\n 'Goodfellas',\n 'Star Wars',\n 'Matrix',\n 'City of God',\n \"It's a Wonderful Life\",\n 'Usual Suspects',\n 'Se7en',\n 'Life Is Beautiful',\n 'Once Upon a Time in the West',\n 'Silence of the Lambs',\n 'Leon: The Professional',\n 'City Lights',\n 'Spirited Away',\n 'Intouchables',\n 'Casablanca',\n 'Whiplash',\n 'American History X',\n 'Modern Times',\n 'Saving Private Ryan',\n 'Raiders of the Lost Ark',\n 'Rear Window',\n 'Psycho',\n 'Green Mile',\n 'Sunset Blvd.',\n 'Pianist',\n 'Dark Knight Rises',\n 'Gladiator',\n 'Terminator 2: Judgment Day',\n 'Memento',\n 'Taare Zameen Par',\n 'Dr. Strangelove or: How I Learned to Stop Worrying and Love the Bomb',\n 'Departed',\n 'Cinema Paradiso',\n 'Apocalypse Now',\n 'Great Dictator',\n 'Prestige',\n 'Back to the Future',\n 'Lion King',\n 'Lives of Others',\n 'Alien',\n 'Paths of Glory',\n 'Django Unchained',\n '3 Idiots',\n 'Grave of the Fireflies',\n 'Shining',\n 'M',\n 'WALL-E',\n 'Witness for the Prosecution',\n 'Munna Bhai M.B.B.S.',\n 'American Beauty',\n 'Das Boot',\n 'Princess Mononoke',\n 'Amelie',\n 'North by Northwest',\n 'Rang De Basanti',\n 'Jodaeiye Nader az Simin',\n 'Citizen Kane',\n 'Aliens',\n 'Vertigo',\n 'Oldeuboi',\n 'Once Upon a Time in America',\n 'Double Indemnity',\n 'Star Wars: Episode VI - Return of the Jedi',\n 'Toy Story 3',\n 'Braveheart',\n 'To Kill a Mockingbird',\n 'Requiem for a Dream',\n 'Lawrence of Arabia',\n 'Clockwork Orange',\n 'Bicycle Thieves',\n 'Kid',\n 'Swades',\n 'Reservoir Dogs',\n 'Eternal Sunshine of the Spotless Mind',\n 'Taxi Driver',\n 'Dilwale Dulhania Le Jayenge',\n \"Singin' in the Rain\",\n 'All About Eve',\n 'Yojimbo',\n 'Sting',\n 'Rashomon',\n 'Amadeus']"
     },
     "execution_count": 124,
     "metadata": {},
     "output_type": "execute_result"
    }
   ],
   "source": [
    "clean_titles"
   ],
   "metadata": {
    "collapsed": false,
    "pycharm": {
     "name": "#%%\n"
    }
   }
  },
  {
   "cell_type": "code",
   "execution_count": 125,
   "outputs": [
    {
     "data": {
      "text/plain": "['Shawshank Redemption, The',\n 'Godfather, The',\n 'Godfather: Part II, The',\n 'Dark Knight, The',\n 'Pulp Fiction',\n '12 Angry Men',\n 'Good, the Bad and the Ugly, The',\n 'Lord of the Rings: The Return of the King, The',\n \"Schindler's List\",\n 'Fight Club',\n 'Lord of the Rings: The Fellowship of the Ring, The',\n 'Inception',\n 'Star Wars: Episode V - The Empire Strikes Back',\n 'Forrest Gump',\n 'Lord of the Rings: The Two Towers, The',\n 'Interstellar',\n \"One Flew Over the Cuckoo's Nest\",\n 'Seven Samurai',\n 'Goodfellas',\n 'Star Wars',\n 'Matrix, The',\n 'City of God',\n \"It's a Wonderful Life\",\n 'Usual Suspects, The',\n 'Se7en',\n 'Life Is Beautiful',\n 'Once Upon a Time in the West',\n 'Silence of the Lambs, The',\n 'Leon: The Professional',\n 'City Lights',\n 'Spirited Away',\n 'Intouchables, The',\n 'Casablanca',\n 'Whiplash',\n 'American History X',\n 'Modern Times',\n 'Saving Private Ryan',\n 'Raiders of the Lost Ark',\n 'Rear Window',\n 'Psycho',\n 'Green Mile, The',\n 'Sunset Blvd.',\n 'Pianist, The',\n 'Dark Knight Rises, The',\n 'Gladiator',\n 'Terminator 2: Judgment Day',\n 'Memento',\n 'Taare Zameen Par',\n 'Dr. Strangelove or: How I Learned to Stop Worrying and Love the Bomb',\n 'Departed, The',\n 'Cinema Paradiso',\n 'Apocalypse Now',\n 'Great Dictator, The',\n 'Prestige, The',\n 'Back to the Future',\n 'Lion King, The',\n 'Lives of Others, The',\n 'Alien',\n 'Paths of Glory',\n 'Django Unchained',\n '3 Idiots',\n 'Grave of the Fireflies',\n 'Shining, The',\n 'M',\n 'WALL-E',\n 'Witness for the Prosecution',\n 'Munna Bhai M.B.B.S.',\n 'American Beauty',\n 'Das Boot',\n 'Princess Mononoke',\n 'Amelie',\n 'North by Northwest',\n 'Rang De Basanti',\n 'Jodaeiye Nader az Simin',\n 'Citizen Kane',\n 'Aliens',\n 'Vertigo',\n 'Oldeuboi',\n 'Once Upon a Time in America',\n 'Double Indemnity',\n 'Star Wars: Episode VI - Return of the Jedi',\n 'Toy Story 3',\n 'Braveheart',\n 'To Kill a Mockingbird',\n 'Requiem for a Dream',\n 'Lawrence of Arabia',\n 'Clockwork Orange, A',\n 'Bicycle Thieves',\n 'Kid, The',\n 'Swades',\n 'Reservoir Dogs',\n 'Eternal Sunshine of the Spotless Mind',\n 'Taxi Driver',\n 'Dilwale Dulhania Le Jayenge',\n \"Singin' in the Rain\",\n 'All About Eve',\n 'Yojimbo',\n 'Sting, The',\n 'Rashomon',\n 'Amadeus']"
     },
     "execution_count": 125,
     "metadata": {},
     "output_type": "execute_result"
    }
   ],
   "source": [
    "better_titles"
   ],
   "metadata": {
    "collapsed": false,
    "pycharm": {
     "name": "#%%\n"
    }
   }
  },
  {
   "cell_type": "code",
   "execution_count": 126,
   "outputs": [
    {
     "data": {
      "text/plain": "['The Shawshank Redemption',\n 'The Godfather',\n 'The Godfather: Part II',\n 'The Dark Knight',\n 'Pulp Fiction',\n '12 Angry Men',\n 'The Good, the Bad and the Ugly',\n 'The Lord of the Rings: The Return of the King',\n \"Schindler's List\",\n 'Fight Club',\n 'The Lord of the Rings: The Fellowship of the Ring',\n 'Inception',\n 'Star Wars: Episode V - The Empire Strikes Back',\n 'Forrest Gump',\n 'The Lord of the Rings: The Two Towers',\n 'Interstellar',\n \"One Flew Over the Cuckoo's Nest\",\n 'Seven Samurai',\n 'Goodfellas',\n 'Star Wars',\n 'The Matrix',\n 'City of God',\n \"It's a Wonderful Life\",\n 'The Usual Suspects',\n 'Se7en',\n 'Life Is Beautiful',\n 'Once Upon a Time in the West',\n 'The Silence of the Lambs',\n 'Leon: The Professional',\n 'City Lights',\n 'Spirited Away',\n 'The Intouchables',\n 'Casablanca',\n 'Whiplash',\n 'American History X',\n 'Modern Times',\n 'Saving Private Ryan',\n 'Raiders of the Lost Ark',\n 'Rear Window',\n 'Psycho',\n 'The Green Mile',\n 'Sunset Blvd.',\n 'The Pianist',\n 'The Dark Knight Rises',\n 'Gladiator',\n 'Terminator 2: Judgment Day',\n 'Memento',\n 'Taare Zameen Par',\n 'Dr. Strangelove or: How I Learned to Stop Worrying and Love the Bomb',\n 'The Departed',\n 'Cinema Paradiso',\n 'Apocalypse Now',\n 'The Great Dictator',\n 'The Prestige',\n 'Back to the Future',\n 'The Lion King',\n 'The Lives of Others',\n 'Alien',\n 'Paths of Glory',\n 'Django Unchained',\n '3 Idiots',\n 'Grave of the Fireflies',\n 'The Shining',\n 'M',\n 'WALL-E',\n 'Witness for the Prosecution',\n 'Munna Bhai M.B.B.S.',\n 'American Beauty',\n 'Das Boot',\n 'Princess Mononoke',\n 'Amelie',\n 'North by Northwest',\n 'Rang De Basanti',\n 'Jodaeiye Nader az Simin',\n 'Citizen Kane',\n 'Aliens',\n 'Vertigo',\n 'Oldeuboi',\n 'Once Upon a Time in America',\n 'Double Indemnity',\n 'Star Wars: Episode VI - Return of the Jedi',\n 'Toy Story 3',\n 'Braveheart',\n 'To Kill a Mockingbird',\n 'Requiem for a Dream',\n 'Lawrence of Arabia',\n 'A Clockwork Orange',\n 'Bicycle Thieves',\n 'The Kid',\n 'Swades',\n 'Reservoir Dogs',\n 'Eternal Sunshine of the Spotless Mind',\n 'Taxi Driver',\n 'Dilwale Dulhania Le Jayenge',\n \"Singin' in the Rain\",\n 'All About Eve',\n 'Yojimbo',\n 'The Sting',\n 'Rashomon',\n 'Amadeus']"
     },
     "execution_count": 126,
     "metadata": {},
     "output_type": "execute_result"
    }
   ],
   "source": [
    "titles"
   ],
   "metadata": {
    "collapsed": false,
    "pycharm": {
     "name": "#%%\n"
    }
   }
  },
  {
   "cell_type": "code",
   "execution_count": 127,
   "outputs": [],
   "source": [
    "with open(\"reputation.txt\") as f:\n",
    "    data = f.read()"
   ],
   "metadata": {
    "collapsed": false,
    "pycharm": {
     "name": "#%%\n"
    }
   }
  },
  {
   "cell_type": "code",
   "execution_count": 128,
   "outputs": [
    {
     "data": {
      "text/plain": "'total votes: 36\\n 2  12201376 (5)\\n-- 2012-08-30 rep +5    = 6         \\n 2  13822612 (10)\\n-- 2012-12-11 rep +10   = 16        \\n 2  13822612 (10)\\n-- 2013-03-20 rep +10   = 26        \\n-- 2013-12-05 rep 0     = 26        \\n-- 2014-01-25 rep 0     = 26        \\n 16  7141669 (2)\\n-- 2014-03-19 rep +2    = 28        \\n 1  12202249 (2)\\n-- 2014-05-11 rep +2    = 30        \\n 16 23599806 (2)\\n 2  23597220 (10)\\n-- 2014-05-12 rep +12   = 42        \\n 2  13822612 (10)\\n-- 2014-06-12 rep +10   = 52        \\n 2  23597220 (10)\\n-- 2014-06-26 rep +10   = 62        \\n-- 2014-07-05 rep 0     = 62        \\n-- 2014-09-02 rep 0     = 62        \\n 2  23597220 (10)\\n-- 2014-09-03 rep +10   = 72        \\n-- 2014-10-28 rep 0     = 72        \\n 2  23597220 (10)\\n-- 2014-11-14 rep +10   = 82        \\n 16 12107971 (2)\\n-- 2014-11-18 rep +2    = 84        \\n 16  3621018 (2)\\n-- 2014-12-08 rep +2    = 86        \\n 2  23597220 (10)\\n-- 2014-12-09 rep +10   = 96        \\n 16 16328613 (2)\\n-- 2014-12-12 rep +2    = 98        \\n 2  23597220 (10)\\n-- 2014-12-24 rep +10   = 108       \\n-- 2015-02-03 rep 0     = 108       \\n 2  23597220 (10)\\n-- 2015-02-20 rep +10   = 118       \\n 2  23597220 (10)\\n-- 2015-03-28 rep +10   = 128       \\n 2  23597220 (10)\\n-- 2015-04-26 rep +10   = 138       \\n 2  13822612 (10)\\n-- 2015-05-05 rep +10   = 148       \\n 2  23597220 (10)\\n-- 2015-05-26 rep +10   = 158       \\n 2  23597220 (10)\\n 2  23597220 (10)\\n-- 2015-05-27 rep +20   = 178       \\n-- 2015-06-09 rep 0     = 178       \\n 2  23597220 (10)\\n-- 2015-07-03 rep +10   = 188       \\n-- 2015-07-06 rep 0     = 188       \\n 2  23597220 (10)\\n-- bonuses   (100)\\n-- 2015-07-22 rep +110  = 298       \\n 2  23597220 (10)\\n-- 2015-08-21 rep +10   = 308       \\n 2  23597220 (10)\\n-- 2015-09-07 rep +10   = 318       \\n 3   1839257 (-1)\\n-- 2015-10-14 rep -1    = 317       \\n\\n** rep today: 0\\n** rep this week (2015-11-08 - 2015-11-14): 0\\n** rep this month (2015-11-01 - 2015-11-30): 0\\n** rep this quarter (2015-10-01 - 2015-12-31): -1\\n** rep this year (2015-01-01 - 2015-12-31): 109\\n** rep from bonuses: 100\\n** total rep 317 :)\\n\\ndays represented 34\\nrep cap was reached via rep from upvotes *only* on 0 days\\nearned at least 200 reputation on 0 days\\nearned 10 reputation from suggested edits\\n'"
     },
     "execution_count": 128,
     "metadata": {},
     "output_type": "execute_result"
    }
   ],
   "source": [
    "data"
   ],
   "metadata": {
    "collapsed": false,
    "pycharm": {
     "name": "#%%\n"
    }
   }
  },
  {
   "cell_type": "code",
   "execution_count": 129,
   "outputs": [
    {
     "data": {
      "text/plain": "'total votes: 36\\n 2  12201376 (5)\\n-- 2012-08-30 rep +5    = 6         \\n 2  13822612 (10)\\n-- 2012-12-11 rep +10   = 16        \\n 2  13822612 (10)\\n-- 2013-03-20 rep +10   = 26        \\n-- 2013-12-05 rep 0     = 26        \\n-- 2014-01-25 rep 0     = 26        \\n 16  7141669 (2)\\n-- 2014-03-19 rep +2    = 28 '"
     },
     "execution_count": 129,
     "metadata": {},
     "output_type": "execute_result"
    }
   ],
   "source": [
    "data[0:300]"
   ],
   "metadata": {
    "collapsed": false,
    "pycharm": {
     "name": "#%%\n"
    }
   }
  },
  {
   "cell_type": "code",
   "execution_count": 130,
   "outputs": [
    {
     "name": "stdout",
     "output_type": "stream",
     "text": [
      "[('2012-08-30', '+5', '6'), ('2012-12-11', '+10', '16'), ('2013-03-20', '+10', '26'), ('2013-12-05', '0', '26'), ('2014-01-25', '0', '26'), ('2014-03-19', '+2', '28'), ('2014-05-11', '+2', '30'), ('2014-05-12', '+12', '42'), ('2014-06-12', '+10', '52'), ('2014-06-26', '+10', '62'), ('2014-07-05', '0', '62'), ('2014-09-02', '0', '62'), ('2014-09-03', '+10', '72'), ('2014-10-28', '0', '72'), ('2014-11-14', '+10', '82'), ('2014-11-18', '+2', '84'), ('2014-12-08', '+2', '86'), ('2014-12-09', '+10', '96'), ('2014-12-12', '+2', '98'), ('2014-12-24', '+10', '108'), ('2015-02-03', '0', '108'), ('2015-02-20', '+10', '118'), ('2015-03-28', '+10', '128'), ('2015-04-26', '+10', '138'), ('2015-05-05', '+10', '148'), ('2015-05-26', '+10', '158'), ('2015-05-27', '+20', '178'), ('2015-06-09', '0', '178'), ('2015-07-03', '+10', '188'), ('2015-07-06', '0', '188'), ('2015-07-22', '+110', '298'), ('2015-08-21', '+10', '308'), ('2015-09-07', '+10', '318'), ('2015-10-14', '-1', '317')]\n"
     ]
    }
   ],
   "source": [
    "print(re.findall(r'-- (\\d{4}-\\d{2}-\\d{2}) rep ([+-]?\\d+) += (\\d+)', data))"
   ],
   "metadata": {
    "collapsed": false,
    "pycharm": {
     "name": "#%%\n"
    }
   }
  },
  {
   "cell_type": "code",
   "execution_count": 131,
   "outputs": [
    {
     "data": {
      "text/plain": "'2012-08-30'"
     },
     "execution_count": 131,
     "metadata": {},
     "output_type": "execute_result"
    }
   ],
   "source": [
    "re.search(r\"\\d{4}-\\d{2}-\\d{2}\", data).group()"
   ],
   "metadata": {
    "collapsed": false,
    "pycharm": {
     "name": "#%%\n"
    }
   }
  },
  {
   "cell_type": "code",
   "execution_count": 132,
   "outputs": [
    {
     "data": {
      "text/plain": "'2012-08-30'"
     },
     "execution_count": 132,
     "metadata": {},
     "output_type": "execute_result"
    }
   ],
   "source": [
    "#Regex compile to save regex pattern\n",
    "date = re.compile(r\"\\d{4}-\\d{2}-\\d{2}\")\n",
    "re.search(date, data).group()"
   ],
   "metadata": {
    "collapsed": false,
    "pycharm": {
     "name": "#%%\n"
    }
   }
  },
  {
   "cell_type": "code",
   "execution_count": 133,
   "outputs": [
    {
     "data": {
      "text/plain": "'2012-08-30'"
     },
     "execution_count": 133,
     "metadata": {},
     "output_type": "execute_result"
    }
   ],
   "source": [
    "#Other way to search for a pattern\n",
    "date.search(data).group()"
   ],
   "metadata": {
    "collapsed": false,
    "pycharm": {
     "name": "#%%\n"
    }
   }
  },
  {
   "cell_type": "code",
   "execution_count": 134,
   "outputs": [
    {
     "data": {
      "text/plain": "(36, 46)"
     },
     "execution_count": 134,
     "metadata": {},
     "output_type": "execute_result"
    }
   ],
   "source": [
    "#Position of pattern\n",
    "re.search(date, data).span()"
   ],
   "metadata": {
    "collapsed": false,
    "pycharm": {
     "name": "#%%\n"
    }
   }
  },
  {
   "cell_type": "code",
   "execution_count": 135,
   "outputs": [
    {
     "data": {
      "text/plain": "'2012-08-30'"
     },
     "execution_count": 135,
     "metadata": {},
     "output_type": "execute_result"
    }
   ],
   "source": [
    "data[36:46]"
   ],
   "metadata": {
    "collapsed": false,
    "pycharm": {
     "name": "#%%\n"
    }
   }
  },
  {
   "cell_type": "code",
   "execution_count": 136,
   "outputs": [
    {
     "data": {
      "text/plain": "['hello', 'there']"
     },
     "execution_count": 136,
     "metadata": {},
     "output_type": "execute_result"
    }
   ],
   "source": [
    "\"hello there\".split(\" \")"
   ],
   "metadata": {
    "collapsed": false,
    "pycharm": {
     "name": "#%%\n"
    }
   }
  },
  {
   "cell_type": "code",
   "execution_count": 137,
   "outputs": [
    {
     "data": {
      "text/plain": "['', 'ello t', 'ere']"
     },
     "execution_count": 137,
     "metadata": {},
     "output_type": "execute_result"
    }
   ],
   "source": [
    "#if you split on something, it's get dropped\n",
    "\"hello there\".split(\"h\")"
   ],
   "metadata": {
    "collapsed": false,
    "pycharm": {
     "name": "#%%\n"
    }
   }
  },
  {
   "cell_type": "code",
   "execution_count": 138,
   "outputs": [
    {
     "data": {
      "text/plain": "['hello there']"
     },
     "execution_count": 138,
     "metadata": {},
     "output_type": "execute_result"
    }
   ],
   "source": [
    "\"hello there\".split(\"H\")"
   ],
   "metadata": {
    "collapsed": false,
    "pycharm": {
     "name": "#%%\n"
    }
   }
  },
  {
   "cell_type": "code",
   "execution_count": 139,
   "outputs": [
    {
     "data": {
      "text/plain": "['total votes: 36\\n 2  12201376 (5)\\n-- ',\n ' rep +5    = 6         \\n 2  13822612 (10)\\n-- ',\n ' rep +10   = 16        \\n 2  13822612 (10)\\n-- ',\n ' rep +10   = 26        \\n-- ',\n ' rep 0     = 26        \\n-- ',\n ' rep 0     = 26        \\n 16  7141669 (2)\\n-- ',\n ' rep +2    = 28        \\n 1  12202249 (2)\\n-- ',\n ' rep +2    = 30        \\n 16 23599806 (2)\\n 2  23597220 (10)\\n-- ',\n ' rep +12   = 42        \\n 2  13822612 (10)\\n-- ',\n ' rep +10   = 52        \\n 2  23597220 (10)\\n-- ',\n ' rep +10   = 62        \\n-- ',\n ' rep 0     = 62        \\n-- ',\n ' rep 0     = 62        \\n 2  23597220 (10)\\n-- ',\n ' rep +10   = 72        \\n-- ',\n ' rep 0     = 72        \\n 2  23597220 (10)\\n-- ',\n ' rep +10   = 82        \\n 16 12107971 (2)\\n-- ',\n ' rep +2    = 84        \\n 16  3621018 (2)\\n-- ',\n ' rep +2    = 86        \\n 2  23597220 (10)\\n-- ',\n ' rep +10   = 96        \\n 16 16328613 (2)\\n-- ',\n ' rep +2    = 98        \\n 2  23597220 (10)\\n-- ',\n ' rep +10   = 108       \\n-- ',\n ' rep 0     = 108       \\n 2  23597220 (10)\\n-- ',\n ' rep +10   = 118       \\n 2  23597220 (10)\\n-- ',\n ' rep +10   = 128       \\n 2  23597220 (10)\\n-- ',\n ' rep +10   = 138       \\n 2  13822612 (10)\\n-- ',\n ' rep +10   = 148       \\n 2  23597220 (10)\\n-- ',\n ' rep +10   = 158       \\n 2  23597220 (10)\\n 2  23597220 (10)\\n-- ',\n ' rep +20   = 178       \\n-- ',\n ' rep 0     = 178       \\n 2  23597220 (10)\\n-- ',\n ' rep +10   = 188       \\n-- ',\n ' rep 0     = 188       \\n 2  23597220 (10)\\n-- bonuses   (100)\\n-- ',\n ' rep +110  = 298       \\n 2  23597220 (10)\\n-- ',\n ' rep +10   = 308       \\n 2  23597220 (10)\\n-- ',\n ' rep +10   = 318       \\n 3   1839257 (-1)\\n-- ',\n ' rep -1    = 317       \\n\\n** rep today: 0\\n** rep this week (',\n ' - ',\n '): 0\\n** rep this month (',\n ' - ',\n '): 0\\n** rep this quarter (',\n ' - ',\n '): -1\\n** rep this year (',\n ' - ',\n '): 109\\n** rep from bonuses: 100\\n** total rep 317 :)\\n\\ndays represented 34\\nrep cap was reached via rep from upvotes *only* on 0 days\\nearned at least 200 reputation on 0 days\\nearned 10 reputation from suggested edits\\n']"
     },
     "execution_count": 139,
     "metadata": {},
     "output_type": "execute_result"
    }
   ],
   "source": [
    "re.split(date, data)"
   ],
   "metadata": {
    "collapsed": false,
    "pycharm": {
     "name": "#%%\n"
    }
   }
  },
  {
   "cell_type": "code",
   "execution_count": null,
   "outputs": [],
   "source": [],
   "metadata": {
    "collapsed": false,
    "pycharm": {
     "name": "#%%\n"
    }
   }
  }
 ],
 "metadata": {
  "kernelspec": {
   "display_name": "Python 3",
   "language": "python",
   "name": "python3"
  },
  "language_info": {
   "codemirror_mode": {
    "name": "ipython",
    "version": 2
   },
   "file_extension": ".py",
   "mimetype": "text/x-python",
   "name": "python",
   "nbconvert_exporter": "python",
   "pygments_lexer": "ipython2",
   "version": "2.7.6"
  }
 },
 "nbformat": 4,
 "nbformat_minor": 0
}