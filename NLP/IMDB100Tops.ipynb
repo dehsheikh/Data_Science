{
 "cells": [
  {
   "cell_type": "code",
   "execution_count": 96,
   "metadata": {
    "collapsed": true,
    "pycharm": {
     "name": "#%%\n"
    }
   },
   "outputs": [],
   "source": [
    "import pandas as pd\n",
    "import re"
   ]
  },
  {
   "cell_type": "code",
   "execution_count": 97,
   "outputs": [
    {
     "data": {
      "text/plain": "Index(['star_rating', 'title', 'content_rating', 'genre', 'duration',\n       'actors_list'],\n      dtype='object')"
     },
     "execution_count": 97,
     "metadata": {},
     "output_type": "execute_result"
    }
   ],
   "source": [
    "path = \"imdb_100.csv\"\n",
    "imdb = pd.read_csv(path)\n",
    "imdb.columns"
   ],
   "metadata": {
    "collapsed": false,
    "pycharm": {
     "name": "#%%\n"
    }
   }
  },
  {
   "cell_type": "code",
   "execution_count": 98,
   "outputs": [
    {
     "data": {
      "text/plain": "['The Shawshank Redemption',\n 'The Godfather',\n 'The Godfather: Part II',\n 'The Dark Knight',\n 'Pulp Fiction',\n '12 Angry Men',\n 'The Good, the Bad and the Ugly',\n 'The Lord of the Rings: The Return of the King',\n \"Schindler's List\",\n 'Fight Club',\n 'The Lord of the Rings: The Fellowship of the Ring',\n 'Inception',\n 'Star Wars: Episode V - The Empire Strikes Back',\n 'Forrest Gump',\n 'The Lord of the Rings: The Two Towers',\n 'Interstellar',\n \"One Flew Over the Cuckoo's Nest\",\n 'Seven Samurai',\n 'Goodfellas',\n 'Star Wars',\n 'The Matrix',\n 'City of God',\n \"It's a Wonderful Life\",\n 'The Usual Suspects',\n 'Se7en',\n 'Life Is Beautiful',\n 'Once Upon a Time in the West',\n 'The Silence of the Lambs',\n 'Leon: The Professional',\n 'City Lights',\n 'Spirited Away',\n 'The Intouchables',\n 'Casablanca',\n 'Whiplash',\n 'American History X',\n 'Modern Times',\n 'Saving Private Ryan',\n 'Raiders of the Lost Ark',\n 'Rear Window',\n 'Psycho',\n 'The Green Mile',\n 'Sunset Blvd.',\n 'The Pianist',\n 'The Dark Knight Rises',\n 'Gladiator',\n 'Terminator 2: Judgment Day',\n 'Memento',\n 'Taare Zameen Par',\n 'Dr. Strangelove or: How I Learned to Stop Worrying and Love the Bomb',\n 'The Departed',\n 'Cinema Paradiso',\n 'Apocalypse Now',\n 'The Great Dictator',\n 'The Prestige',\n 'Back to the Future',\n 'The Lion King',\n 'The Lives of Others',\n 'Alien',\n 'Paths of Glory',\n 'Django Unchained',\n '3 Idiots',\n 'Grave of the Fireflies',\n 'The Shining',\n 'M',\n 'WALL-E',\n 'Witness for the Prosecution',\n 'Munna Bhai M.B.B.S.',\n 'American Beauty',\n 'Das Boot',\n 'Princess Mononoke',\n 'Amelie',\n 'North by Northwest',\n 'Rang De Basanti',\n 'Jodaeiye Nader az Simin',\n 'Citizen Kane',\n 'Aliens',\n 'Vertigo',\n 'Oldeuboi',\n 'Once Upon a Time in America',\n 'Double Indemnity',\n 'Star Wars: Episode VI - Return of the Jedi',\n 'Toy Story 3',\n 'Braveheart',\n 'To Kill a Mockingbird',\n 'Requiem for a Dream',\n 'Lawrence of Arabia',\n 'A Clockwork Orange',\n 'Bicycle Thieves',\n 'The Kid',\n 'Swades',\n 'Reservoir Dogs',\n 'Eternal Sunshine of the Spotless Mind',\n 'Taxi Driver',\n 'Dilwale Dulhania Le Jayenge',\n \"Singin' in the Rain\",\n 'All About Eve',\n 'Yojimbo',\n 'The Sting',\n 'Rashomon',\n 'Amadeus']"
     },
     "execution_count": 98,
     "metadata": {},
     "output_type": "execute_result"
    }
   ],
   "source": [
    "titles = imdb[\"title\"].tolist()\n",
    "titles"
   ],
   "metadata": {
    "collapsed": false,
    "pycharm": {
     "name": "#%%\n"
    }
   }
  },
  {
   "cell_type": "code",
   "execution_count": 99,
   "outputs": [],
   "source": [
    "clean_titles = []\n",
    "better_titles = []\n",
    "for title in titles:\n",
    "    clean_titles.append(\n",
    "        re.sub(r\"^(A|An|The)\\s(.+)\", r\"\\2\",\n",
    "               title, flags=re.MULTILINE))\n",
    "    better_titles.append(\n",
    "        re.sub(r\"^(A|An|The)\\s(.+)\", r\"\\2, \\1\",\n",
    "               title, flags=re.MULTILINE))"
   ],
   "metadata": {
    "collapsed": false,
    "pycharm": {
     "name": "#%%\n"
    }
   }
  },
  {
   "cell_type": "code",
   "execution_count": 100,
   "outputs": [
    {
     "data": {
      "text/plain": "['Shawshank Redemption',\n 'Godfather',\n 'Godfather: Part II',\n 'Dark Knight',\n 'Pulp Fiction',\n '12 Angry Men',\n 'Good, the Bad and the Ugly',\n 'Lord of the Rings: The Return of the King',\n \"Schindler's List\",\n 'Fight Club',\n 'Lord of the Rings: The Fellowship of the Ring',\n 'Inception',\n 'Star Wars: Episode V - The Empire Strikes Back',\n 'Forrest Gump',\n 'Lord of the Rings: The Two Towers',\n 'Interstellar',\n \"One Flew Over the Cuckoo's Nest\",\n 'Seven Samurai',\n 'Goodfellas',\n 'Star Wars',\n 'Matrix',\n 'City of God',\n \"It's a Wonderful Life\",\n 'Usual Suspects',\n 'Se7en',\n 'Life Is Beautiful',\n 'Once Upon a Time in the West',\n 'Silence of the Lambs',\n 'Leon: The Professional',\n 'City Lights',\n 'Spirited Away',\n 'Intouchables',\n 'Casablanca',\n 'Whiplash',\n 'American History X',\n 'Modern Times',\n 'Saving Private Ryan',\n 'Raiders of the Lost Ark',\n 'Rear Window',\n 'Psycho',\n 'Green Mile',\n 'Sunset Blvd.',\n 'Pianist',\n 'Dark Knight Rises',\n 'Gladiator',\n 'Terminator 2: Judgment Day',\n 'Memento',\n 'Taare Zameen Par',\n 'Dr. Strangelove or: How I Learned to Stop Worrying and Love the Bomb',\n 'Departed',\n 'Cinema Paradiso',\n 'Apocalypse Now',\n 'Great Dictator',\n 'Prestige',\n 'Back to the Future',\n 'Lion King',\n 'Lives of Others',\n 'Alien',\n 'Paths of Glory',\n 'Django Unchained',\n '3 Idiots',\n 'Grave of the Fireflies',\n 'Shining',\n 'M',\n 'WALL-E',\n 'Witness for the Prosecution',\n 'Munna Bhai M.B.B.S.',\n 'American Beauty',\n 'Das Boot',\n 'Princess Mononoke',\n 'Amelie',\n 'North by Northwest',\n 'Rang De Basanti',\n 'Jodaeiye Nader az Simin',\n 'Citizen Kane',\n 'Aliens',\n 'Vertigo',\n 'Oldeuboi',\n 'Once Upon a Time in America',\n 'Double Indemnity',\n 'Star Wars: Episode VI - Return of the Jedi',\n 'Toy Story 3',\n 'Braveheart',\n 'To Kill a Mockingbird',\n 'Requiem for a Dream',\n 'Lawrence of Arabia',\n 'Clockwork Orange',\n 'Bicycle Thieves',\n 'Kid',\n 'Swades',\n 'Reservoir Dogs',\n 'Eternal Sunshine of the Spotless Mind',\n 'Taxi Driver',\n 'Dilwale Dulhania Le Jayenge',\n \"Singin' in the Rain\",\n 'All About Eve',\n 'Yojimbo',\n 'Sting',\n 'Rashomon',\n 'Amadeus']"
     },
     "execution_count": 100,
     "metadata": {},
     "output_type": "execute_result"
    }
   ],
   "source": [
    "clean_titles"
   ],
   "metadata": {
    "collapsed": false,
    "pycharm": {
     "name": "#%%\n"
    }
   }
  },
  {
   "cell_type": "code",
   "execution_count": 101,
   "outputs": [
    {
     "data": {
      "text/plain": "['Shawshank Redemption, The',\n 'Godfather, The',\n 'Godfather: Part II, The',\n 'Dark Knight, The',\n 'Pulp Fiction',\n '12 Angry Men',\n 'Good, the Bad and the Ugly, The',\n 'Lord of the Rings: The Return of the King, The',\n \"Schindler's List\",\n 'Fight Club',\n 'Lord of the Rings: The Fellowship of the Ring, The',\n 'Inception',\n 'Star Wars: Episode V - The Empire Strikes Back',\n 'Forrest Gump',\n 'Lord of the Rings: The Two Towers, The',\n 'Interstellar',\n \"One Flew Over the Cuckoo's Nest\",\n 'Seven Samurai',\n 'Goodfellas',\n 'Star Wars',\n 'Matrix, The',\n 'City of God',\n \"It's a Wonderful Life\",\n 'Usual Suspects, The',\n 'Se7en',\n 'Life Is Beautiful',\n 'Once Upon a Time in the West',\n 'Silence of the Lambs, The',\n 'Leon: The Professional',\n 'City Lights',\n 'Spirited Away',\n 'Intouchables, The',\n 'Casablanca',\n 'Whiplash',\n 'American History X',\n 'Modern Times',\n 'Saving Private Ryan',\n 'Raiders of the Lost Ark',\n 'Rear Window',\n 'Psycho',\n 'Green Mile, The',\n 'Sunset Blvd.',\n 'Pianist, The',\n 'Dark Knight Rises, The',\n 'Gladiator',\n 'Terminator 2: Judgment Day',\n 'Memento',\n 'Taare Zameen Par',\n 'Dr. Strangelove or: How I Learned to Stop Worrying and Love the Bomb',\n 'Departed, The',\n 'Cinema Paradiso',\n 'Apocalypse Now',\n 'Great Dictator, The',\n 'Prestige, The',\n 'Back to the Future',\n 'Lion King, The',\n 'Lives of Others, The',\n 'Alien',\n 'Paths of Glory',\n 'Django Unchained',\n '3 Idiots',\n 'Grave of the Fireflies',\n 'Shining, The',\n 'M',\n 'WALL-E',\n 'Witness for the Prosecution',\n 'Munna Bhai M.B.B.S.',\n 'American Beauty',\n 'Das Boot',\n 'Princess Mononoke',\n 'Amelie',\n 'North by Northwest',\n 'Rang De Basanti',\n 'Jodaeiye Nader az Simin',\n 'Citizen Kane',\n 'Aliens',\n 'Vertigo',\n 'Oldeuboi',\n 'Once Upon a Time in America',\n 'Double Indemnity',\n 'Star Wars: Episode VI - Return of the Jedi',\n 'Toy Story 3',\n 'Braveheart',\n 'To Kill a Mockingbird',\n 'Requiem for a Dream',\n 'Lawrence of Arabia',\n 'Clockwork Orange, A',\n 'Bicycle Thieves',\n 'Kid, The',\n 'Swades',\n 'Reservoir Dogs',\n 'Eternal Sunshine of the Spotless Mind',\n 'Taxi Driver',\n 'Dilwale Dulhania Le Jayenge',\n \"Singin' in the Rain\",\n 'All About Eve',\n 'Yojimbo',\n 'Sting, The',\n 'Rashomon',\n 'Amadeus']"
     },
     "execution_count": 101,
     "metadata": {},
     "output_type": "execute_result"
    }
   ],
   "source": [
    "better_titles"
   ],
   "metadata": {
    "collapsed": false,
    "pycharm": {
     "name": "#%%\n"
    }
   }
  },
  {
   "cell_type": "code",
   "execution_count": 102,
   "outputs": [
    {
     "data": {
      "text/plain": "['The Shawshank Redemption',\n 'The Godfather',\n 'The Godfather: Part II',\n 'The Dark Knight',\n 'Pulp Fiction',\n '12 Angry Men',\n 'The Good, the Bad and the Ugly',\n 'The Lord of the Rings: The Return of the King',\n \"Schindler's List\",\n 'Fight Club',\n 'The Lord of the Rings: The Fellowship of the Ring',\n 'Inception',\n 'Star Wars: Episode V - The Empire Strikes Back',\n 'Forrest Gump',\n 'The Lord of the Rings: The Two Towers',\n 'Interstellar',\n \"One Flew Over the Cuckoo's Nest\",\n 'Seven Samurai',\n 'Goodfellas',\n 'Star Wars',\n 'The Matrix',\n 'City of God',\n \"It's a Wonderful Life\",\n 'The Usual Suspects',\n 'Se7en',\n 'Life Is Beautiful',\n 'Once Upon a Time in the West',\n 'The Silence of the Lambs',\n 'Leon: The Professional',\n 'City Lights',\n 'Spirited Away',\n 'The Intouchables',\n 'Casablanca',\n 'Whiplash',\n 'American History X',\n 'Modern Times',\n 'Saving Private Ryan',\n 'Raiders of the Lost Ark',\n 'Rear Window',\n 'Psycho',\n 'The Green Mile',\n 'Sunset Blvd.',\n 'The Pianist',\n 'The Dark Knight Rises',\n 'Gladiator',\n 'Terminator 2: Judgment Day',\n 'Memento',\n 'Taare Zameen Par',\n 'Dr. Strangelove or: How I Learned to Stop Worrying and Love the Bomb',\n 'The Departed',\n 'Cinema Paradiso',\n 'Apocalypse Now',\n 'The Great Dictator',\n 'The Prestige',\n 'Back to the Future',\n 'The Lion King',\n 'The Lives of Others',\n 'Alien',\n 'Paths of Glory',\n 'Django Unchained',\n '3 Idiots',\n 'Grave of the Fireflies',\n 'The Shining',\n 'M',\n 'WALL-E',\n 'Witness for the Prosecution',\n 'Munna Bhai M.B.B.S.',\n 'American Beauty',\n 'Das Boot',\n 'Princess Mononoke',\n 'Amelie',\n 'North by Northwest',\n 'Rang De Basanti',\n 'Jodaeiye Nader az Simin',\n 'Citizen Kane',\n 'Aliens',\n 'Vertigo',\n 'Oldeuboi',\n 'Once Upon a Time in America',\n 'Double Indemnity',\n 'Star Wars: Episode VI - Return of the Jedi',\n 'Toy Story 3',\n 'Braveheart',\n 'To Kill a Mockingbird',\n 'Requiem for a Dream',\n 'Lawrence of Arabia',\n 'A Clockwork Orange',\n 'Bicycle Thieves',\n 'The Kid',\n 'Swades',\n 'Reservoir Dogs',\n 'Eternal Sunshine of the Spotless Mind',\n 'Taxi Driver',\n 'Dilwale Dulhania Le Jayenge',\n \"Singin' in the Rain\",\n 'All About Eve',\n 'Yojimbo',\n 'The Sting',\n 'Rashomon',\n 'Amadeus']"
     },
     "execution_count": 102,
     "metadata": {},
     "output_type": "execute_result"
    }
   ],
   "source": [
    "titles"
   ],
   "metadata": {
    "collapsed": false,
    "pycharm": {
     "name": "#%%\n"
    }
   }
  },
  {
   "cell_type": "code",
   "execution_count": 102,
   "outputs": [],
   "source": [],
   "metadata": {
    "collapsed": false,
    "pycharm": {
     "name": "#%%\n"
    }
   }
  }
 ],
 "metadata": {
  "kernelspec": {
   "display_name": "Python 3",
   "language": "python",
   "name": "python3"
  },
  "language_info": {
   "codemirror_mode": {
    "name": "ipython",
    "version": 2
   },
   "file_extension": ".py",
   "mimetype": "text/x-python",
   "name": "python",
   "nbconvert_exporter": "python",
   "pygments_lexer": "ipython2",
   "version": "2.7.6"
  }
 },
 "nbformat": 4,
 "nbformat_minor": 0
}