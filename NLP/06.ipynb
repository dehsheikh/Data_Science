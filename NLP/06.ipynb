{
 "cells": [
  {
   "cell_type": "code",
   "execution_count": 1,
   "metadata": {
    "collapsed": true,
    "pycharm": {
     "name": "#%%\n"
    }
   },
   "outputs": [],
   "source": [
    "import pandas as pd\n",
    "import numpy as np"
   ]
  },
  {
   "cell_type": "code",
   "execution_count": 2,
   "outputs": [],
   "source": [
    "def make_features(df):\n",
    "    df[\"num_ingredients\"] = df[\"ingredients\"].apply(len)\n",
    "    df[\"ingredient_length\"] = df[\"ingredients\"].apply(\n",
    "        lambda x: np.mean([len(item) for item in x])\n",
    "    )\n",
    "    df[\"ingredients_str\"] = df[\"ingredients\"].astype(str)\n",
    "    return df"
   ],
   "metadata": {
    "collapsed": false,
    "pycharm": {
     "name": "#%%\n"
    }
   }
  },
  {
   "cell_type": "code",
   "execution_count": 3,
   "outputs": [],
   "source": [
    "train = make_features(pd.read_json(\"train.json\"))\n",
    "new = make_features(pd.read_json(\"test.json\"))"
   ],
   "metadata": {
    "collapsed": false,
    "pycharm": {
     "name": "#%%\n"
    }
   }
  },
  {
   "cell_type": "code",
   "execution_count": 4,
   "outputs": [
    {
     "data": {
      "text/plain": "      id      cuisine                                        ingredients  \\\n0  10259        greek  [romaine lettuce, black olives, grape tomatoes...   \n1  25693  southern_us  [plain flour, ground pepper, salt, tomatoes, g...   \n2  20130     filipino  [eggs, pepper, salt, mayonaise, cooking oil, g...   \n3  22213       indian                [water, vegetable oil, wheat, salt]   \n4  13162       indian  [black pepper, shallots, cornflour, cayenne pe...   \n\n   num_ingredients  ingredient_length  \\\n0                9          12.000000   \n1               11          10.090909   \n2               12          10.333333   \n3                4           6.750000   \n4               20          10.100000   \n\n                                     ingredients_str  \n0  ['romaine lettuce', 'black olives', 'grape tom...  \n1  ['plain flour', 'ground pepper', 'salt', 'toma...  \n2  ['eggs', 'pepper', 'salt', 'mayonaise', 'cooki...  \n3        ['water', 'vegetable oil', 'wheat', 'salt']  \n4  ['black pepper', 'shallots', 'cornflour', 'cay...  ",
      "text/html": "<div>\n<style scoped>\n    .dataframe tbody tr th:only-of-type {\n        vertical-align: middle;\n    }\n\n    .dataframe tbody tr th {\n        vertical-align: top;\n    }\n\n    .dataframe thead th {\n        text-align: right;\n    }\n</style>\n<table border=\"1\" class=\"dataframe\">\n  <thead>\n    <tr style=\"text-align: right;\">\n      <th></th>\n      <th>id</th>\n      <th>cuisine</th>\n      <th>ingredients</th>\n      <th>num_ingredients</th>\n      <th>ingredient_length</th>\n      <th>ingredients_str</th>\n    </tr>\n  </thead>\n  <tbody>\n    <tr>\n      <th>0</th>\n      <td>10259</td>\n      <td>greek</td>\n      <td>[romaine lettuce, black olives, grape tomatoes...</td>\n      <td>9</td>\n      <td>12.000000</td>\n      <td>['romaine lettuce', 'black olives', 'grape tom...</td>\n    </tr>\n    <tr>\n      <th>1</th>\n      <td>25693</td>\n      <td>southern_us</td>\n      <td>[plain flour, ground pepper, salt, tomatoes, g...</td>\n      <td>11</td>\n      <td>10.090909</td>\n      <td>['plain flour', 'ground pepper', 'salt', 'toma...</td>\n    </tr>\n    <tr>\n      <th>2</th>\n      <td>20130</td>\n      <td>filipino</td>\n      <td>[eggs, pepper, salt, mayonaise, cooking oil, g...</td>\n      <td>12</td>\n      <td>10.333333</td>\n      <td>['eggs', 'pepper', 'salt', 'mayonaise', 'cooki...</td>\n    </tr>\n    <tr>\n      <th>3</th>\n      <td>22213</td>\n      <td>indian</td>\n      <td>[water, vegetable oil, wheat, salt]</td>\n      <td>4</td>\n      <td>6.750000</td>\n      <td>['water', 'vegetable oil', 'wheat', 'salt']</td>\n    </tr>\n    <tr>\n      <th>4</th>\n      <td>13162</td>\n      <td>indian</td>\n      <td>[black pepper, shallots, cornflour, cayenne pe...</td>\n      <td>20</td>\n      <td>10.100000</td>\n      <td>['black pepper', 'shallots', 'cornflour', 'cay...</td>\n    </tr>\n  </tbody>\n</table>\n</div>"
     },
     "execution_count": 4,
     "metadata": {},
     "output_type": "execute_result"
    }
   ],
   "source": [
    "train.head()"
   ],
   "metadata": {
    "collapsed": false,
    "pycharm": {
     "name": "#%%\n"
    }
   }
  },
  {
   "cell_type": "code",
   "execution_count": 5,
   "outputs": [
    {
     "data": {
      "text/plain": "(39774, 6)"
     },
     "execution_count": 5,
     "metadata": {},
     "output_type": "execute_result"
    }
   ],
   "source": [
    "train.shape"
   ],
   "metadata": {
    "collapsed": false,
    "pycharm": {
     "name": "#%%\n"
    }
   }
  },
  {
   "cell_type": "code",
   "execution_count": 6,
   "outputs": [
    {
     "data": {
      "text/plain": "      id                                        ingredients  num_ingredients  \\\n0  18009  [baking powder, eggs, all-purpose flour, raisi...                6   \n1  28583  [sugar, egg yolks, corn starch, cream of tarta...               11   \n2  41580  [sausage links, fennel bulb, fronds, olive oil...                6   \n3  29752  [meat cuts, file powder, smoked sausage, okra,...               21   \n4  35687  [ground black pepper, salt, sausage casings, l...                8   \n\n   ingredient_length                                    ingredients_str  \n0           9.333333  ['baking powder', 'eggs', 'all-purpose flour',...  \n1          10.272727  ['sugar', 'egg yolks', 'corn starch', 'cream o...  \n2           9.666667  ['sausage links', 'fennel bulb', 'fronds', 'ol...  \n3          12.000000  ['meat cuts', 'file powder', 'smoked sausage',...  \n4          13.000000  ['ground black pepper', 'salt', 'sausage casin...  ",
      "text/html": "<div>\n<style scoped>\n    .dataframe tbody tr th:only-of-type {\n        vertical-align: middle;\n    }\n\n    .dataframe tbody tr th {\n        vertical-align: top;\n    }\n\n    .dataframe thead th {\n        text-align: right;\n    }\n</style>\n<table border=\"1\" class=\"dataframe\">\n  <thead>\n    <tr style=\"text-align: right;\">\n      <th></th>\n      <th>id</th>\n      <th>ingredients</th>\n      <th>num_ingredients</th>\n      <th>ingredient_length</th>\n      <th>ingredients_str</th>\n    </tr>\n  </thead>\n  <tbody>\n    <tr>\n      <th>0</th>\n      <td>18009</td>\n      <td>[baking powder, eggs, all-purpose flour, raisi...</td>\n      <td>6</td>\n      <td>9.333333</td>\n      <td>['baking powder', 'eggs', 'all-purpose flour',...</td>\n    </tr>\n    <tr>\n      <th>1</th>\n      <td>28583</td>\n      <td>[sugar, egg yolks, corn starch, cream of tarta...</td>\n      <td>11</td>\n      <td>10.272727</td>\n      <td>['sugar', 'egg yolks', 'corn starch', 'cream o...</td>\n    </tr>\n    <tr>\n      <th>2</th>\n      <td>41580</td>\n      <td>[sausage links, fennel bulb, fronds, olive oil...</td>\n      <td>6</td>\n      <td>9.666667</td>\n      <td>['sausage links', 'fennel bulb', 'fronds', 'ol...</td>\n    </tr>\n    <tr>\n      <th>3</th>\n      <td>29752</td>\n      <td>[meat cuts, file powder, smoked sausage, okra,...</td>\n      <td>21</td>\n      <td>12.000000</td>\n      <td>['meat cuts', 'file powder', 'smoked sausage',...</td>\n    </tr>\n    <tr>\n      <th>4</th>\n      <td>35687</td>\n      <td>[ground black pepper, salt, sausage casings, l...</td>\n      <td>8</td>\n      <td>13.000000</td>\n      <td>['ground black pepper', 'salt', 'sausage casin...</td>\n    </tr>\n  </tbody>\n</table>\n</div>"
     },
     "execution_count": 6,
     "metadata": {},
     "output_type": "execute_result"
    }
   ],
   "source": [
    "new.head()"
   ],
   "metadata": {
    "collapsed": false,
    "pycharm": {
     "name": "#%%\n"
    }
   }
  },
  {
   "cell_type": "code",
   "execution_count": 7,
   "outputs": [
    {
     "data": {
      "text/plain": "(9944, 5)"
     },
     "execution_count": 7,
     "metadata": {},
     "output_type": "execute_result"
    }
   ],
   "source": [
    "new.shape"
   ],
   "metadata": {
    "collapsed": false,
    "pycharm": {
     "name": "#%%\n"
    }
   }
  },
  {
   "cell_type": "code",
   "execution_count": 8,
   "outputs": [],
   "source": [
    "X = train[\"ingredients_str\"]\n",
    "y = train[\"cuisine\"]"
   ],
   "metadata": {
    "collapsed": false,
    "pycharm": {
     "name": "#%%\n"
    }
   }
  },
  {
   "cell_type": "code",
   "execution_count": 9,
   "outputs": [
    {
     "data": {
      "text/plain": "0    ['romaine lettuce', 'black olives', 'grape tom...\n1    ['plain flour', 'ground pepper', 'salt', 'toma...\n2    ['eggs', 'pepper', 'salt', 'mayonaise', 'cooki...\n3          ['water', 'vegetable oil', 'wheat', 'salt']\n4    ['black pepper', 'shallots', 'cornflour', 'cay...\nName: ingredients_str, dtype: object"
     },
     "execution_count": 9,
     "metadata": {},
     "output_type": "execute_result"
    }
   ],
   "source": [
    "X.head()"
   ],
   "metadata": {
    "collapsed": false,
    "pycharm": {
     "name": "#%%\n"
    }
   }
  },
  {
   "cell_type": "code",
   "execution_count": 10,
   "outputs": [],
   "source": [
    "from sklearn.feature_extraction.text import CountVectorizer\n",
    "vect = CountVectorizer(token_pattern = r\"'([a-z ]+)'\")"
   ],
   "metadata": {
    "collapsed": false,
    "pycharm": {
     "name": "#%%\n"
    }
   }
  },
  {
   "cell_type": "code",
   "execution_count": 11,
   "outputs": [],
   "source": [
    "from sklearn.naive_bayes import MultinomialNB\n",
    "nb = MultinomialNB()"
   ],
   "metadata": {
    "collapsed": false,
    "pycharm": {
     "name": "#%%\n"
    }
   }
  },
  {
   "cell_type": "code",
   "execution_count": 12,
   "outputs": [],
   "source": [
    "from sklearn.pipeline import make_pipeline\n",
    "pipe = make_pipeline(vect, nb)"
   ],
   "metadata": {
    "collapsed": false,
    "pycharm": {
     "name": "#%%\n"
    }
   }
  },
  {
   "cell_type": "code",
   "execution_count": 13,
   "outputs": [
    {
     "data": {
      "text/plain": "[('countvectorizer', CountVectorizer(token_pattern=\"'([a-z ]+)'\")),\n ('multinomialnb', MultinomialNB())]"
     },
     "execution_count": 13,
     "metadata": {},
     "output_type": "execute_result"
    }
   ],
   "source": [
    "pipe.steps"
   ],
   "metadata": {
    "collapsed": false,
    "pycharm": {
     "name": "#%%\n"
    }
   }
  },
  {
   "cell_type": "code",
   "execution_count": 14,
   "outputs": [
    {
     "data": {
      "text/plain": "0.7323126392849393"
     },
     "execution_count": 14,
     "metadata": {},
     "output_type": "execute_result"
    }
   ],
   "source": [
    "from sklearn.model_selection import cross_val_score\n",
    "cross_val_score(pipe, X, y, cv = 5,\n",
    "                scoring = \"accuracy\", n_jobs = -1).mean()"
   ],
   "metadata": {
    "collapsed": false,
    "pycharm": {
     "name": "#%%\n"
    }
   }
  },
  {
   "cell_type": "code",
   "execution_count": 15,
   "outputs": [
    {
     "data": {
      "text/plain": "{'countvectorizer__token_pattern': ['\\\\b\\\\w\\\\w+\\\\b', \"'([a-z ]+)'\"],\n 'multinomialnb__alpha': [0.5, 1]}"
     },
     "execution_count": 15,
     "metadata": {},
     "output_type": "execute_result"
    }
   ],
   "source": [
    "#named step__parameter\n",
    "param_grid = {}\n",
    "param_grid[\"countvectorizer__token_pattern\"] = [\n",
    "    r\"\\b\\w\\w+\\b\", r\"'([a-z ]+)'\"]\n",
    "param_grid[\"multinomialnb__alpha\"] = [0.5, 1]\n",
    "param_grid"
   ],
   "metadata": {
    "collapsed": false,
    "pycharm": {
     "name": "#%%\n"
    }
   }
  },
  {
   "cell_type": "code",
   "execution_count": 16,
   "outputs": [],
   "source": [
    "from sklearn.model_selection import GridSearchCV\n",
    "grid = GridSearchCV(pipe, param_grid,\n",
    "                    cv = 5, scoring = \"accuracy\",\n",
    "                    n_jobs = -1)"
   ],
   "metadata": {
    "collapsed": false,
    "pycharm": {
     "name": "#%%\n"
    }
   }
  },
  {
   "cell_type": "code",
   "execution_count": 17,
   "outputs": [
    {
     "name": "stdout",
     "output_type": "stream",
     "text": [
      "CPU times: user 1.72 s, sys: 190 ms, total: 1.91 s\n",
      "Wall time: 13.1 s\n"
     ]
    },
    {
     "data": {
      "text/plain": "GridSearchCV(cv=5,\n             estimator=Pipeline(steps=[('countvectorizer',\n                                        CountVectorizer(token_pattern=\"'([a-z \"\n                                                                      \"]+)'\")),\n                                       ('multinomialnb', MultinomialNB())]),\n             n_jobs=-1,\n             param_grid={'countvectorizer__token_pattern': ['\\\\b\\\\w\\\\w+\\\\b',\n                                                            \"'([a-z ]+)'\"],\n                         'multinomialnb__alpha': [0.5, 1]},\n             scoring='accuracy')"
     },
     "execution_count": 17,
     "metadata": {},
     "output_type": "execute_result"
    }
   ],
   "source": [
    "%time grid.fit(X, y)"
   ],
   "metadata": {
    "collapsed": false,
    "pycharm": {
     "name": "#%%\n"
    }
   }
  },
  {
   "cell_type": "code",
   "execution_count": 18,
   "outputs": [
    {
     "data": {
      "text/plain": "0.7476492724428822"
     },
     "execution_count": 18,
     "metadata": {},
     "output_type": "execute_result"
    }
   ],
   "source": [
    "grid.best_score_"
   ],
   "metadata": {
    "collapsed": false,
    "pycharm": {
     "name": "#%%\n"
    }
   }
  },
  {
   "cell_type": "code",
   "execution_count": 19,
   "outputs": [],
   "source": [
    "from sklearn.model_selection import RandomizedSearchCV\n",
    "import scipy as sp"
   ],
   "metadata": {
    "collapsed": false,
    "pycharm": {
     "name": "#%%\n"
    }
   }
  },
  {
   "cell_type": "code",
   "execution_count": 20,
   "outputs": [
    {
     "data": {
      "text/plain": "{'countvectorizer__token_pattern': ['\\\\b\\\\w\\\\w+\\\\b', \"'([a-z ]+)'\"],\n 'countvectorizer__min_df': [1, 2, 3],\n 'multinomialnb__alpha': <scipy.stats._distn_infrastructure.rv_frozen at 0x7f84630904c0>}"
     },
     "execution_count": 20,
     "metadata": {},
     "output_type": "execute_result"
    }
   ],
   "source": [
    "param_grid = {}\n",
    "param_grid[\"countvectorizer__token_pattern\"] = [\n",
    "    r\"\\b\\w\\w+\\b\", r\"'([a-z ]+)'\"]\n",
    "param_grid[\"countvectorizer__min_df\"] = [1, 2, 3]\n",
    "param_grid[\"multinomialnb__alpha\"] = sp.stats.uniform(scale = 1)\n",
    "param_grid"
   ],
   "metadata": {
    "collapsed": false,
    "pycharm": {
     "name": "#%%\n"
    }
   }
  },
  {
   "cell_type": "code",
   "execution_count": 21,
   "outputs": [],
   "source": [
    "np.random.seed(1)"
   ],
   "metadata": {
    "collapsed": false,
    "pycharm": {
     "name": "#%%\n"
    }
   }
  },
  {
   "cell_type": "code",
   "execution_count": 22,
   "outputs": [],
   "source": [
    "rand = RandomizedSearchCV(pipe, param_grid, cv = 5,\n",
    "                          scoring = \"accuracy\", n_jobs = -1,\n",
    "                          n_iter = 10, random_state = 1)"
   ],
   "metadata": {
    "collapsed": false,
    "pycharm": {
     "name": "#%%\n"
    }
   }
  },
  {
   "cell_type": "code",
   "execution_count": 23,
   "outputs": [
    {
     "name": "stdout",
     "output_type": "stream",
     "text": [
      "CPU times: user 3.01 s, sys: 432 ms, total: 3.45 s\n",
      "Wall time: 29.7 s\n"
     ]
    },
    {
     "data": {
      "text/plain": "RandomizedSearchCV(cv=5,\n                   estimator=Pipeline(steps=[('countvectorizer',\n                                              CountVectorizer(token_pattern=\"'([a-z \"\n                                                                            \"]+)'\")),\n                                             ('multinomialnb',\n                                              MultinomialNB())]),\n                   n_jobs=-1,\n                   param_distributions={'countvectorizer__min_df': [1, 2, 3],\n                                        'countvectorizer__token_pattern': ['\\\\b\\\\w\\\\w+\\\\b',\n                                                                           \"'([a-z \"\n                                                                           \"]+)'\"],\n                                        'multinomialnb__alpha': <scipy.stats._distn_infrastructure.rv_frozen object at 0x7f84630904c0>},\n                   random_state=1, scoring='accuracy')"
     },
     "execution_count": 23,
     "metadata": {},
     "output_type": "execute_result"
    }
   ],
   "source": [
    "%time rand.fit(X, y)"
   ],
   "metadata": {
    "collapsed": false,
    "pycharm": {
     "name": "#%%\n"
    }
   }
  },
  {
   "cell_type": "code",
   "execution_count": 24,
   "outputs": [
    {
     "data": {
      "text/plain": "0.7510685656857541"
     },
     "execution_count": 24,
     "metadata": {},
     "output_type": "execute_result"
    }
   ],
   "source": [
    "rand.best_score_"
   ],
   "metadata": {
    "collapsed": false,
    "pycharm": {
     "name": "#%%\n"
    }
   }
  },
  {
   "cell_type": "code",
   "execution_count": 25,
   "outputs": [],
   "source": [
    "X = new[\"ingredients_str\"]"
   ],
   "metadata": {
    "collapsed": false,
    "pycharm": {
     "name": "#%%\n"
    }
   }
  },
  {
   "cell_type": "code",
   "execution_count": 26,
   "outputs": [
    {
     "data": {
      "text/plain": "Pipeline(steps=[('countvectorizer',\n                 CountVectorizer(min_df=2, token_pattern=\"'([a-z ]+)'\")),\n                ('multinomialnb', MultinomialNB(alpha=0.14038693859523377))])"
     },
     "execution_count": 26,
     "metadata": {},
     "output_type": "execute_result"
    }
   ],
   "source": [
    "rand.best_estimator_"
   ],
   "metadata": {
    "collapsed": false,
    "pycharm": {
     "name": "#%%\n"
    }
   }
  },
  {
   "cell_type": "code",
   "execution_count": 27,
   "outputs": [
    {
     "data": {
      "text/plain": "array(['british', 'southern_us', 'italian', ..., 'italian', 'southern_us',\n       'mexican'], dtype='<U12')"
     },
     "execution_count": 27,
     "metadata": {},
     "output_type": "execute_result"
    }
   ],
   "source": [
    "new_pred_class_rand = rand.predict(X)\n",
    "new_pred_class_rand"
   ],
   "metadata": {
    "collapsed": false,
    "pycharm": {
     "name": "#%%\n"
    }
   }
  },
  {
   "cell_type": "code",
   "execution_count": 33,
   "outputs": [],
   "source": [
    "X = train"
   ],
   "metadata": {
    "collapsed": false,
    "pycharm": {
     "name": "#%%\n"
    }
   }
  },
  {
   "cell_type": "code",
   "execution_count": 34,
   "outputs": [
    {
     "data": {
      "text/plain": "(39774, 6250)"
     },
     "execution_count": 34,
     "metadata": {},
     "output_type": "execute_result"
    }
   ],
   "source": [
    "X_dtm = vect.fit_transform(X[\"ingredients_str\"])\n",
    "X_dtm.shape"
   ],
   "metadata": {
    "collapsed": false,
    "pycharm": {
     "name": "#%%\n"
    }
   }
  },
  {
   "cell_type": "code",
   "execution_count": 35,
   "outputs": [
    {
     "data": {
      "text/plain": "(39774, 2)"
     },
     "execution_count": 35,
     "metadata": {},
     "output_type": "execute_result"
    }
   ],
   "source": [
    "X_manual = train.loc[:, [\"num_ingredients\", \"ingredient_length\"]]\n",
    "X_manual.shape"
   ],
   "metadata": {
    "collapsed": false,
    "pycharm": {
     "name": "#%%\n"
    }
   }
  },
  {
   "cell_type": "code",
   "execution_count": 36,
   "outputs": [],
   "source": [
    "#Creating a sparse matrix out of X_manual dataframe\n",
    "X_manual_sparse = sp.sparse.csr_matrix(X_manual)"
   ],
   "metadata": {
    "collapsed": false,
    "pycharm": {
     "name": "#%%\n"
    }
   }
  },
  {
   "cell_type": "code",
   "execution_count": 38,
   "outputs": [
    {
     "data": {
      "text/plain": "(39774, 6252)"
     },
     "execution_count": 38,
     "metadata": {},
     "output_type": "execute_result"
    }
   ],
   "source": [
    "#Add manual sparse matrix to X_dtm which is already\n",
    "#a sparse matrix\n",
    "X_dtm_manual = sp.sparse.hstack([X_dtm, X_manual_sparse])\n",
    "X_dtm_manual.shape"
   ],
   "metadata": {
    "collapsed": false,
    "pycharm": {
     "name": "#%%\n"
    }
   }
  },
  {
   "cell_type": "markdown",
   "source": [
    "### Converting a function to a transformer"
   ],
   "metadata": {
    "collapsed": false,
    "pycharm": {
     "name": "#%% md\n"
    }
   }
  },
  {
   "cell_type": "code",
   "execution_count": 39,
   "outputs": [],
   "source": [
    "def get_manual(df):\n",
    "    return df.loc[:, [\"num_ingredients\", \"ingredient_length\"]]"
   ],
   "metadata": {
    "collapsed": false,
    "pycharm": {
     "name": "#%%\n"
    }
   }
  },
  {
   "cell_type": "code",
   "execution_count": 40,
   "outputs": [
    {
     "data": {
      "text/plain": "   num_ingredients  ingredient_length\n0                9          12.000000\n1               11          10.090909\n2               12          10.333333\n3                4           6.750000\n4               20          10.100000",
      "text/html": "<div>\n<style scoped>\n    .dataframe tbody tr th:only-of-type {\n        vertical-align: middle;\n    }\n\n    .dataframe tbody tr th {\n        vertical-align: top;\n    }\n\n    .dataframe thead th {\n        text-align: right;\n    }\n</style>\n<table border=\"1\" class=\"dataframe\">\n  <thead>\n    <tr style=\"text-align: right;\">\n      <th></th>\n      <th>num_ingredients</th>\n      <th>ingredient_length</th>\n    </tr>\n  </thead>\n  <tbody>\n    <tr>\n      <th>0</th>\n      <td>9</td>\n      <td>12.000000</td>\n    </tr>\n    <tr>\n      <th>1</th>\n      <td>11</td>\n      <td>10.090909</td>\n    </tr>\n    <tr>\n      <th>2</th>\n      <td>12</td>\n      <td>10.333333</td>\n    </tr>\n    <tr>\n      <th>3</th>\n      <td>4</td>\n      <td>6.750000</td>\n    </tr>\n    <tr>\n      <th>4</th>\n      <td>20</td>\n      <td>10.100000</td>\n    </tr>\n  </tbody>\n</table>\n</div>"
     },
     "execution_count": 40,
     "metadata": {},
     "output_type": "execute_result"
    }
   ],
   "source": [
    "get_manual(train).head()"
   ],
   "metadata": {
    "collapsed": false,
    "pycharm": {
     "name": "#%%\n"
    }
   }
  },
  {
   "cell_type": "code",
   "execution_count": 41,
   "outputs": [],
   "source": [
    "from sklearn.preprocessing import FunctionTransformer"
   ],
   "metadata": {
    "collapsed": false,
    "pycharm": {
     "name": "#%%\n"
    }
   }
  },
  {
   "cell_type": "code",
   "execution_count": 42,
   "outputs": [
    {
     "data": {
      "text/plain": "sklearn.preprocessing._function_transformer.FunctionTransformer"
     },
     "execution_count": 42,
     "metadata": {},
     "output_type": "execute_result"
    }
   ],
   "source": [
    "get_manual_ft = FunctionTransformer(get_manual, validate = False)\n",
    "type(get_manual_ft)"
   ],
   "metadata": {
    "collapsed": false,
    "pycharm": {
     "name": "#%%\n"
    }
   }
  },
  {
   "cell_type": "code",
   "execution_count": 43,
   "outputs": [
    {
     "data": {
      "text/plain": "   num_ingredients  ingredient_length\n0                9          12.000000\n1               11          10.090909\n2               12          10.333333\n3                4           6.750000\n4               20          10.100000",
      "text/html": "<div>\n<style scoped>\n    .dataframe tbody tr th:only-of-type {\n        vertical-align: middle;\n    }\n\n    .dataframe tbody tr th {\n        vertical-align: top;\n    }\n\n    .dataframe thead th {\n        text-align: right;\n    }\n</style>\n<table border=\"1\" class=\"dataframe\">\n  <thead>\n    <tr style=\"text-align: right;\">\n      <th></th>\n      <th>num_ingredients</th>\n      <th>ingredient_length</th>\n    </tr>\n  </thead>\n  <tbody>\n    <tr>\n      <th>0</th>\n      <td>9</td>\n      <td>12.000000</td>\n    </tr>\n    <tr>\n      <th>1</th>\n      <td>11</td>\n      <td>10.090909</td>\n    </tr>\n    <tr>\n      <th>2</th>\n      <td>12</td>\n      <td>10.333333</td>\n    </tr>\n    <tr>\n      <th>3</th>\n      <td>4</td>\n      <td>6.750000</td>\n    </tr>\n    <tr>\n      <th>4</th>\n      <td>20</td>\n      <td>10.100000</td>\n    </tr>\n  </tbody>\n</table>\n</div>"
     },
     "execution_count": 43,
     "metadata": {},
     "output_type": "execute_result"
    }
   ],
   "source": [
    "#How to use the converted function into transform\n",
    "get_manual_ft.transform(train).head()"
   ],
   "metadata": {
    "collapsed": false,
    "pycharm": {
     "name": "#%%\n"
    }
   }
  },
  {
   "cell_type": "code",
   "execution_count": 44,
   "outputs": [],
   "source": [
    "def get_text(df):\n",
    "    return df[\"ingredients_str\"]"
   ],
   "metadata": {
    "collapsed": false,
    "pycharm": {
     "name": "#%%\n"
    }
   }
  },
  {
   "cell_type": "code",
   "execution_count": 45,
   "outputs": [
    {
     "data": {
      "text/plain": "0    ['romaine lettuce', 'black olives', 'grape tom...\n1    ['plain flour', 'ground pepper', 'salt', 'toma...\n2    ['eggs', 'pepper', 'salt', 'mayonaise', 'cooki...\n3          ['water', 'vegetable oil', 'wheat', 'salt']\n4    ['black pepper', 'shallots', 'cornflour', 'cay...\nName: ingredients_str, dtype: object"
     },
     "execution_count": 45,
     "metadata": {},
     "output_type": "execute_result"
    }
   ],
   "source": [
    "get_text_ft = FunctionTransformer(get_text, validate = False)\n",
    "get_text_ft.transform(train).head()"
   ],
   "metadata": {
    "collapsed": false,
    "pycharm": {
     "name": "#%%\n"
    }
   }
  },
  {
   "cell_type": "markdown",
   "source": [
    "### Combining tranformed function\n",
    "#### FeatureUnion works in parallel, not sequential. Like ColumnTransfomer"
   ],
   "metadata": {
    "collapsed": false,
    "pycharm": {
     "name": "#%% md\n"
    }
   }
  },
  {
   "cell_type": "code",
   "execution_count": 46,
   "outputs": [],
   "source": [
    "from  sklearn.pipeline import make_union"
   ],
   "metadata": {
    "collapsed": false,
    "pycharm": {
     "name": "#%%\n"
    }
   }
  },
  {
   "cell_type": "code",
   "execution_count": 50,
   "outputs": [
    {
     "data": {
      "text/plain": "(39774, 6250)"
     },
     "execution_count": 50,
     "metadata": {},
     "output_type": "execute_result"
    }
   ],
   "source": [
    "X_dtm = vect.fit_transform(X[\"ingredients_str\"])\n",
    "X_dtm.shape"
   ],
   "metadata": {
    "collapsed": false,
    "pycharm": {
     "name": "#%%\n"
    }
   }
  },
  {
   "cell_type": "code",
   "execution_count": 51,
   "outputs": [
    {
     "data": {
      "text/plain": "(39774, 6252)"
     },
     "execution_count": 51,
     "metadata": {},
     "output_type": "execute_result"
    }
   ],
   "source": [
    "union = make_union(make_pipeline(get_text_ft, vect), get_manual_ft)\n",
    "X_dtm_manual = union.fit_transform(train)\n",
    "X_dtm_manual.shape"
   ],
   "metadata": {
    "collapsed": false,
    "pycharm": {
     "name": "#%%\n"
    }
   }
  },
  {
   "cell_type": "code",
   "execution_count": 52,
   "outputs": [
    {
     "data": {
      "text/plain": "scipy.sparse.csr.csr_matrix"
     },
     "execution_count": 52,
     "metadata": {},
     "output_type": "execute_result"
    }
   ],
   "source": [
    "type(X_dtm_manual)"
   ],
   "metadata": {
    "collapsed": false,
    "pycharm": {
     "name": "#%%\n"
    }
   }
  },
  {
   "cell_type": "code",
   "execution_count": 53,
   "outputs": [
    {
     "data": {
      "text/plain": "0.7103887990767782"
     },
     "execution_count": 53,
     "metadata": {},
     "output_type": "execute_result"
    }
   ],
   "source": [
    "cross_val_score(nb, X_dtm_manual, y,\n",
    "                cv = 5, scoring = \"accuracy\",\n",
    "                n_jobs = -1).mean()"
   ],
   "metadata": {
    "collapsed": false,
    "pycharm": {
     "name": "#%%\n"
    }
   }
  },
  {
   "cell_type": "code",
   "execution_count": 55,
   "outputs": [
    {
     "data": {
      "text/plain": "0.7134309868165586"
     },
     "execution_count": 55,
     "metadata": {},
     "output_type": "execute_result"
    }
   ],
   "source": [
    "pipe = make_pipeline(union, nb)\n",
    "cross_val_score(pipe, train, y,\n",
    "                cv = 5, scoring = \"accuracy\",\n",
    "                n_jobs = -1).mean()"
   ],
   "metadata": {
    "collapsed": false,
    "pycharm": {
     "name": "#%%\n"
    }
   }
  },
  {
   "cell_type": "code",
   "execution_count": 57,
   "outputs": [
    {
     "data": {
      "text/plain": "{'featureunion': FeatureUnion(transformer_list=[('pipeline',\n                                 Pipeline(steps=[('functiontransformer',\n                                                  FunctionTransformer(func=<function get_text at 0x7f8465f6f790>)),\n                                                 ('countvectorizer',\n                                                  CountVectorizer(token_pattern=\"'([a-z \"\n                                                                                \"]+)'\"))])),\n                                ('functiontransformer',\n                                 FunctionTransformer(func=<function get_manual at 0x7f84656a0ee0>))]),\n 'multinomialnb': MultinomialNB()}"
     },
     "execution_count": 57,
     "metadata": {},
     "output_type": "execute_result"
    }
   ],
   "source": [
    "pipe.named_steps"
   ],
   "metadata": {
    "collapsed": false,
    "pycharm": {
     "name": "#%%\n"
    }
   }
  },
  {
   "cell_type": "code",
   "execution_count": 58,
   "outputs": [
    {
     "data": {
      "text/plain": "{'featureunion__pipeline__countvectorizer__token_pattern': ['\\\\b\\\\w\\\\w+\\\\b',\n  \"'([a-z ]+)'\"],\n 'multinomialnb__alpha': [0.5, 1]}"
     },
     "execution_count": 58,
     "metadata": {},
     "output_type": "execute_result"
    }
   ],
   "source": [
    "param_grid = {}\n",
    "param_grid[\"featureunion__pipeline__countvectorizer__token_pattern\"] = [\n",
    "    r\"\\b\\w\\w+\\b\", r\"'([a-z ]+)'\"]\n",
    "param_grid[\"multinomialnb__alpha\"] = [0.5, 1]\n",
    "param_grid"
   ],
   "metadata": {
    "collapsed": false,
    "pycharm": {
     "name": "#%%\n"
    }
   }
  },
  {
   "cell_type": "code",
   "execution_count": 60,
   "outputs": [
    {
     "name": "stdout",
     "output_type": "stream",
     "text": [
      "CPU times: user 6.33 s, sys: 662 ms, total: 6.99 s\n",
      "Wall time: 20.8 s\n"
     ]
    },
    {
     "data": {
      "text/plain": "GridSearchCV(cv=5,\n             estimator=Pipeline(steps=[('featureunion',\n                                        FeatureUnion(transformer_list=[('pipeline',\n                                                                        Pipeline(steps=[('functiontransformer',\n                                                                                         FunctionTransformer(func=<function get_text at 0x7f8465f6f790>)),\n                                                                                        ('countvectorizer',\n                                                                                         CountVectorizer(token_pattern=\"'([a-z \"\n                                                                                                                       \"]+)'\"))])),\n                                                                       ('functiontransformer',\n                                                                        FunctionTransformer(func=<function get_manual at 0x7f84656a0ee0>))])),\n                                       ('multinomialnb', MultinomialNB())]),\n             n_jobs=-1,\n             param_grid={'featureunion__pipeline__countvectorizer__token_pattern': ['\\\\b\\\\w\\\\w+\\\\b',\n                                                                                    \"'([a-z \"\n                                                                                    \"]+)'\"],\n                         'multinomialnb__alpha': [0.5, 1]},\n             scoring='accuracy')"
     },
     "execution_count": 60,
     "metadata": {},
     "output_type": "execute_result"
    }
   ],
   "source": [
    "grid = GridSearchCV(pipe, param_grid, cv = 5,\n",
    "                    scoring = \"accuracy\", n_jobs = -1)\n",
    "%time grid.fit(train, y)"
   ],
   "metadata": {
    "collapsed": false,
    "pycharm": {
     "name": "#%%\n"
    }
   }
  },
  {
   "cell_type": "code",
   "execution_count": 61,
   "outputs": [
    {
     "data": {
      "text/plain": "0.7426710530869912"
     },
     "execution_count": 61,
     "metadata": {},
     "output_type": "execute_result"
    }
   ],
   "source": [
    "grid.best_score_"
   ],
   "metadata": {
    "collapsed": false,
    "pycharm": {
     "name": "#%%\n"
    }
   }
  },
  {
   "cell_type": "code",
   "execution_count": 62,
   "outputs": [
    {
     "data": {
      "text/plain": "{'featureunion__pipeline__countvectorizer__token_pattern': \"'([a-z ]+)'\",\n 'multinomialnb__alpha': 0.5}"
     },
     "execution_count": 62,
     "metadata": {},
     "output_type": "execute_result"
    }
   ],
   "source": [
    "grid.best_params_"
   ],
   "metadata": {
    "collapsed": false,
    "pycharm": {
     "name": "#%%\n"
    }
   }
  },
  {
   "cell_type": "markdown",
   "source": [
    "### Ensembling models"
   ],
   "metadata": {
    "collapsed": false,
    "pycharm": {
     "name": "#%% md\n"
    }
   }
  },
  {
   "cell_type": "code",
   "execution_count": 63,
   "outputs": [],
   "source": [
    "feature_cols = [\"num_ingredients\", \"ingredient_length\"]\n",
    "X = train[feature_cols]\n",
    "y = train[\"cuisine\"]"
   ],
   "metadata": {
    "collapsed": false,
    "pycharm": {
     "name": "#%%\n"
    }
   }
  },
  {
   "cell_type": "code",
   "execution_count": 64,
   "outputs": [],
   "source": [
    "from sklearn.neighbors import KNeighborsClassifier\n",
    "knn = KNeighborsClassifier(n_neighbors = 800)"
   ],
   "metadata": {
    "collapsed": false,
    "pycharm": {
     "name": "#%%\n"
    }
   }
  },
  {
   "cell_type": "code",
   "execution_count": 65,
   "outputs": [
    {
     "data": {
      "text/plain": "KNeighborsClassifier(n_neighbors=800)"
     },
     "execution_count": 65,
     "metadata": {},
     "output_type": "execute_result"
    }
   ],
   "source": [
    "knn.fit(X, y)"
   ],
   "metadata": {
    "collapsed": false,
    "pycharm": {
     "name": "#%%\n"
    }
   }
  },
  {
   "cell_type": "code",
   "execution_count": 66,
   "outputs": [],
   "source": [
    "X_new = new[feature_cols]"
   ],
   "metadata": {
    "collapsed": false,
    "pycharm": {
     "name": "#%%\n"
    }
   }
  },
  {
   "cell_type": "code",
   "execution_count": 68,
   "outputs": [
    {
     "data": {
      "text/plain": "(9944, 20)"
     },
     "execution_count": 68,
     "metadata": {},
     "output_type": "execute_result"
    }
   ],
   "source": [
    "new_pred_prob_knn = knn.predict_proba(X_new)\n",
    "new_pred_prob_knn.shape"
   ],
   "metadata": {
    "collapsed": false,
    "pycharm": {
     "name": "#%%\n"
    }
   }
  },
  {
   "cell_type": "code",
   "execution_count": 69,
   "outputs": [
    {
     "data": {
      "text/plain": "array([0.02625, 0.0275 , 0.01375, 0.04375, 0.03375, 0.08   , 0.0175 ,\n       0.075  , 0.0275 , 0.135  , 0.01   , 0.075  , 0.01875, 0.165  ,\n       0.00875, 0.0125 , 0.1525 , 0.025  , 0.0275 , 0.025  ])"
     },
     "execution_count": 69,
     "metadata": {},
     "output_type": "execute_result"
    }
   ],
   "source": [
    "new_pred_prob_knn[0, :]"
   ],
   "metadata": {
    "collapsed": false,
    "pycharm": {
     "name": "#%%\n"
    }
   }
  },
  {
   "cell_type": "code",
   "execution_count": 72,
   "outputs": [
    {
     "data": {
      "text/plain": "1.0"
     },
     "execution_count": 72,
     "metadata": {},
     "output_type": "execute_result"
    }
   ],
   "source": [
    "new_pred_prob_knn[0, :].sum()"
   ],
   "metadata": {
    "collapsed": false,
    "pycharm": {
     "name": "#%%\n"
    }
   }
  },
  {
   "cell_type": "code",
   "execution_count": 73,
   "outputs": [
    {
     "data": {
      "text/plain": "Pipeline(steps=[('countvectorizer',\n                 CountVectorizer(min_df=2, token_pattern=\"'([a-z ]+)'\")),\n                ('multinomialnb', MultinomialNB(alpha=0.14038693859523377))])"
     },
     "execution_count": 73,
     "metadata": {},
     "output_type": "execute_result"
    }
   ],
   "source": [
    "rand.best_estimator_"
   ],
   "metadata": {
    "collapsed": false,
    "pycharm": {
     "name": "#%%\n"
    }
   }
  },
  {
   "cell_type": "code",
   "execution_count": 74,
   "outputs": [],
   "source": [
    "X_new = new[\"ingredients_str\"]"
   ],
   "metadata": {
    "collapsed": false,
    "pycharm": {
     "name": "#%%\n"
    }
   }
  },
  {
   "cell_type": "code",
   "execution_count": 76,
   "outputs": [
    {
     "data": {
      "text/plain": "(9944, 20)"
     },
     "execution_count": 76,
     "metadata": {},
     "output_type": "execute_result"
    }
   ],
   "source": [
    "new_pred_prob_rand = rand.predict_proba(X_new)\n",
    "new_pred_prob_rand.shape"
   ],
   "metadata": {
    "collapsed": false,
    "pycharm": {
     "name": "#%%\n"
    }
   }
  },
  {
   "cell_type": "code",
   "execution_count": 77,
   "outputs": [
    {
     "data": {
      "text/plain": "array([8.25629219e-04, 5.39506733e-01, 3.95675398e-05, 5.49166780e-05,\n       3.78889216e-03, 1.06232990e-03, 3.78349379e-04, 2.35518525e-04,\n       2.16854482e-01, 2.69652504e-03, 2.90265174e-04, 4.70943215e-04,\n       3.62257946e-06, 6.33030455e-04, 7.44933967e-06, 3.89643766e-02,\n       1.93898832e-01, 2.87636779e-04, 7.97189705e-07, 1.02361868e-07])"
     },
     "execution_count": 77,
     "metadata": {},
     "output_type": "execute_result"
    }
   ],
   "source": [
    "new_pred_prob_rand[0, :]"
   ],
   "metadata": {
    "collapsed": false,
    "pycharm": {
     "name": "#%%\n"
    }
   }
  },
  {
   "cell_type": "code",
   "execution_count": 79,
   "outputs": [
    {
     "data": {
      "text/plain": "array([0.01353781, 0.28350337, 0.00689478, 0.02190246, 0.01876945,\n       0.04053116, 0.00893917, 0.03761776, 0.12217724, 0.06884826,\n       0.00514513, 0.03773547, 0.00937681, 0.08281652, 0.00437872,\n       0.02573219, 0.17319942, 0.01264382, 0.0137504 , 0.01250005])"
     },
     "execution_count": 79,
     "metadata": {},
     "output_type": "execute_result"
    }
   ],
   "source": [
    "#Ensembling(averaging) manually\n",
    "(new_pred_prob_rand[0, :] +\n",
    " new_pred_prob_knn[0, :]) / 2"
   ],
   "metadata": {
    "collapsed": false,
    "pycharm": {
     "name": "#%%\n"
    }
   }
  },
  {
   "cell_type": "code",
   "execution_count": 82,
   "outputs": [
    {
     "data": {
      "text/plain": "   brazilian   british  cajun_creole   chinese  filipino    french     greek  \\\n0   0.013538  0.283503      0.006895  0.021902  0.018769  0.040531  0.008939   \n1   0.008751  0.010552      0.016875  0.045000  0.018127  0.023782  0.015625   \n2   0.012753  0.009377      0.006893  0.020000  0.015001  0.039914  0.009569   \n3   0.003125  0.004375      0.533750  0.038750  0.001875  0.023125  0.006250   \n4   0.001878  0.010060      0.020104  0.021250  0.003125  0.044661  0.017500   \n\n     indian     irish   italian  jamaican  japanese    korean   mexican  \\\n0  0.037618  0.122177  0.068848  0.005145  0.037735  0.009377  0.082817   \n1  0.046250  0.010627  0.070625  0.005626  0.027501  0.021875  0.066875   \n2  0.029375  0.013211  0.387224  0.005625  0.038750  0.007500  0.080627   \n3  0.075625  0.001250  0.051875  0.011875  0.008125  0.003125  0.107500   \n4  0.013750  0.012535  0.640837  0.003751  0.007500  0.003750  0.083128   \n\n   moroccan   russian  southern_us   spanish      thai  vietnamese  \n0  0.004379  0.025732     0.173199  0.012644  0.013750    0.012500  \n1  0.008125  0.008750     0.548785  0.007500  0.025625    0.013125  \n2  0.025596  0.008164     0.079375  0.182919  0.015625    0.012501  \n3  0.029375  0.001875     0.025000  0.007500  0.038125    0.027500  \n4  0.004376  0.003133     0.072882  0.018280  0.014375    0.003125  ",
      "text/html": "<div>\n<style scoped>\n    .dataframe tbody tr th:only-of-type {\n        vertical-align: middle;\n    }\n\n    .dataframe tbody tr th {\n        vertical-align: top;\n    }\n\n    .dataframe thead th {\n        text-align: right;\n    }\n</style>\n<table border=\"1\" class=\"dataframe\">\n  <thead>\n    <tr style=\"text-align: right;\">\n      <th></th>\n      <th>brazilian</th>\n      <th>british</th>\n      <th>cajun_creole</th>\n      <th>chinese</th>\n      <th>filipino</th>\n      <th>french</th>\n      <th>greek</th>\n      <th>indian</th>\n      <th>irish</th>\n      <th>italian</th>\n      <th>jamaican</th>\n      <th>japanese</th>\n      <th>korean</th>\n      <th>mexican</th>\n      <th>moroccan</th>\n      <th>russian</th>\n      <th>southern_us</th>\n      <th>spanish</th>\n      <th>thai</th>\n      <th>vietnamese</th>\n    </tr>\n  </thead>\n  <tbody>\n    <tr>\n      <th>0</th>\n      <td>0.013538</td>\n      <td>0.283503</td>\n      <td>0.006895</td>\n      <td>0.021902</td>\n      <td>0.018769</td>\n      <td>0.040531</td>\n      <td>0.008939</td>\n      <td>0.037618</td>\n      <td>0.122177</td>\n      <td>0.068848</td>\n      <td>0.005145</td>\n      <td>0.037735</td>\n      <td>0.009377</td>\n      <td>0.082817</td>\n      <td>0.004379</td>\n      <td>0.025732</td>\n      <td>0.173199</td>\n      <td>0.012644</td>\n      <td>0.013750</td>\n      <td>0.012500</td>\n    </tr>\n    <tr>\n      <th>1</th>\n      <td>0.008751</td>\n      <td>0.010552</td>\n      <td>0.016875</td>\n      <td>0.045000</td>\n      <td>0.018127</td>\n      <td>0.023782</td>\n      <td>0.015625</td>\n      <td>0.046250</td>\n      <td>0.010627</td>\n      <td>0.070625</td>\n      <td>0.005626</td>\n      <td>0.027501</td>\n      <td>0.021875</td>\n      <td>0.066875</td>\n      <td>0.008125</td>\n      <td>0.008750</td>\n      <td>0.548785</td>\n      <td>0.007500</td>\n      <td>0.025625</td>\n      <td>0.013125</td>\n    </tr>\n    <tr>\n      <th>2</th>\n      <td>0.012753</td>\n      <td>0.009377</td>\n      <td>0.006893</td>\n      <td>0.020000</td>\n      <td>0.015001</td>\n      <td>0.039914</td>\n      <td>0.009569</td>\n      <td>0.029375</td>\n      <td>0.013211</td>\n      <td>0.387224</td>\n      <td>0.005625</td>\n      <td>0.038750</td>\n      <td>0.007500</td>\n      <td>0.080627</td>\n      <td>0.025596</td>\n      <td>0.008164</td>\n      <td>0.079375</td>\n      <td>0.182919</td>\n      <td>0.015625</td>\n      <td>0.012501</td>\n    </tr>\n    <tr>\n      <th>3</th>\n      <td>0.003125</td>\n      <td>0.004375</td>\n      <td>0.533750</td>\n      <td>0.038750</td>\n      <td>0.001875</td>\n      <td>0.023125</td>\n      <td>0.006250</td>\n      <td>0.075625</td>\n      <td>0.001250</td>\n      <td>0.051875</td>\n      <td>0.011875</td>\n      <td>0.008125</td>\n      <td>0.003125</td>\n      <td>0.107500</td>\n      <td>0.029375</td>\n      <td>0.001875</td>\n      <td>0.025000</td>\n      <td>0.007500</td>\n      <td>0.038125</td>\n      <td>0.027500</td>\n    </tr>\n    <tr>\n      <th>4</th>\n      <td>0.001878</td>\n      <td>0.010060</td>\n      <td>0.020104</td>\n      <td>0.021250</td>\n      <td>0.003125</td>\n      <td>0.044661</td>\n      <td>0.017500</td>\n      <td>0.013750</td>\n      <td>0.012535</td>\n      <td>0.640837</td>\n      <td>0.003751</td>\n      <td>0.007500</td>\n      <td>0.003750</td>\n      <td>0.083128</td>\n      <td>0.004376</td>\n      <td>0.003133</td>\n      <td>0.072882</td>\n      <td>0.018280</td>\n      <td>0.014375</td>\n      <td>0.003125</td>\n    </tr>\n  </tbody>\n</table>\n</div>"
     },
     "execution_count": 82,
     "metadata": {},
     "output_type": "execute_result"
    }
   ],
   "source": [
    "new_pred_prob = pd.DataFrame(\n",
    "    (new_pred_prob_rand + new_pred_prob_knn) / 2 ,\n",
    "    columns = knn.classes_)\n",
    "new_pred_prob.head()"
   ],
   "metadata": {
    "collapsed": false,
    "pycharm": {
     "name": "#%%\n"
    }
   }
  },
  {
   "cell_type": "code",
   "execution_count": 84,
   "outputs": [
    {
     "data": {
      "text/plain": "0     1\n1    16\n2     9\n3     2\n4     9\ndtype: int64"
     },
     "execution_count": 84,
     "metadata": {},
     "output_type": "execute_result"
    }
   ],
   "source": [
    "#For each row, find the max\n",
    "new_pred_class = new_pred_prob.apply(np.argmax, axis = 1)\n",
    "new_pred_class.head()"
   ],
   "metadata": {
    "collapsed": false,
    "pycharm": {
     "name": "#%%\n"
    }
   }
  },
  {
   "cell_type": "code",
   "execution_count": null,
   "outputs": [],
   "source": [],
   "metadata": {
    "collapsed": false,
    "pycharm": {
     "name": "#%%\n"
    }
   }
  }
 ],
 "metadata": {
  "kernelspec": {
   "display_name": "Python 3",
   "language": "python",
   "name": "python3"
  },
  "language_info": {
   "codemirror_mode": {
    "name": "ipython",
    "version": 2
   },
   "file_extension": ".py",
   "mimetype": "text/x-python",
   "name": "python",
   "nbconvert_exporter": "python",
   "pygments_lexer": "ipython2",
   "version": "2.7.6"
  }
 },
 "nbformat": 4,
 "nbformat_minor": 0
}