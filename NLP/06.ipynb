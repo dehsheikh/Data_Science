{
 "cells": [
  {
   "cell_type": "code",
   "execution_count": 20,
   "metadata": {
    "collapsed": true,
    "pycharm": {
     "name": "#%%\n"
    }
   },
   "outputs": [],
   "source": [
    "import pandas as pd\n",
    "import numpy as np"
   ]
  },
  {
   "cell_type": "code",
   "execution_count": 21,
   "outputs": [],
   "source": [
    "def make_features(df):\n",
    "    df[\"num_ingredients\"] = df[\"ingredients\"].apply(len)\n",
    "    df[\"ingredient_length\"] = df[\"ingredients\"].apply(\n",
    "        lambda x: np.mean([len(item) for item in x])\n",
    "    )\n",
    "    df[\"ingredients_str\"] = df[\"ingredients\"].astype(str)\n",
    "    return df"
   ],
   "metadata": {
    "collapsed": false,
    "pycharm": {
     "name": "#%%\n"
    }
   }
  },
  {
   "cell_type": "code",
   "execution_count": 22,
   "outputs": [],
   "source": [
    "train = make_features(pd.read_json(\"train.json\"))\n",
    "new = make_features(pd.read_json(\"test.json\"))"
   ],
   "metadata": {
    "collapsed": false,
    "pycharm": {
     "name": "#%%\n"
    }
   }
  },
  {
   "cell_type": "code",
   "execution_count": 23,
   "outputs": [
    {
     "data": {
      "text/plain": "      id      cuisine                                        ingredients  \\\n0  10259        greek  [romaine lettuce, black olives, grape tomatoes...   \n1  25693  southern_us  [plain flour, ground pepper, salt, tomatoes, g...   \n2  20130     filipino  [eggs, pepper, salt, mayonaise, cooking oil, g...   \n3  22213       indian                [water, vegetable oil, wheat, salt]   \n4  13162       indian  [black pepper, shallots, cornflour, cayenne pe...   \n\n   num_ingredients  ingredient_length  \\\n0                9          12.000000   \n1               11          10.090909   \n2               12          10.333333   \n3                4           6.750000   \n4               20          10.100000   \n\n                                     ingredients_str  \n0  ['romaine lettuce', 'black olives', 'grape tom...  \n1  ['plain flour', 'ground pepper', 'salt', 'toma...  \n2  ['eggs', 'pepper', 'salt', 'mayonaise', 'cooki...  \n3        ['water', 'vegetable oil', 'wheat', 'salt']  \n4  ['black pepper', 'shallots', 'cornflour', 'cay...  ",
      "text/html": "<div>\n<style scoped>\n    .dataframe tbody tr th:only-of-type {\n        vertical-align: middle;\n    }\n\n    .dataframe tbody tr th {\n        vertical-align: top;\n    }\n\n    .dataframe thead th {\n        text-align: right;\n    }\n</style>\n<table border=\"1\" class=\"dataframe\">\n  <thead>\n    <tr style=\"text-align: right;\">\n      <th></th>\n      <th>id</th>\n      <th>cuisine</th>\n      <th>ingredients</th>\n      <th>num_ingredients</th>\n      <th>ingredient_length</th>\n      <th>ingredients_str</th>\n    </tr>\n  </thead>\n  <tbody>\n    <tr>\n      <th>0</th>\n      <td>10259</td>\n      <td>greek</td>\n      <td>[romaine lettuce, black olives, grape tomatoes...</td>\n      <td>9</td>\n      <td>12.000000</td>\n      <td>['romaine lettuce', 'black olives', 'grape tom...</td>\n    </tr>\n    <tr>\n      <th>1</th>\n      <td>25693</td>\n      <td>southern_us</td>\n      <td>[plain flour, ground pepper, salt, tomatoes, g...</td>\n      <td>11</td>\n      <td>10.090909</td>\n      <td>['plain flour', 'ground pepper', 'salt', 'toma...</td>\n    </tr>\n    <tr>\n      <th>2</th>\n      <td>20130</td>\n      <td>filipino</td>\n      <td>[eggs, pepper, salt, mayonaise, cooking oil, g...</td>\n      <td>12</td>\n      <td>10.333333</td>\n      <td>['eggs', 'pepper', 'salt', 'mayonaise', 'cooki...</td>\n    </tr>\n    <tr>\n      <th>3</th>\n      <td>22213</td>\n      <td>indian</td>\n      <td>[water, vegetable oil, wheat, salt]</td>\n      <td>4</td>\n      <td>6.750000</td>\n      <td>['water', 'vegetable oil', 'wheat', 'salt']</td>\n    </tr>\n    <tr>\n      <th>4</th>\n      <td>13162</td>\n      <td>indian</td>\n      <td>[black pepper, shallots, cornflour, cayenne pe...</td>\n      <td>20</td>\n      <td>10.100000</td>\n      <td>['black pepper', 'shallots', 'cornflour', 'cay...</td>\n    </tr>\n  </tbody>\n</table>\n</div>"
     },
     "execution_count": 23,
     "metadata": {},
     "output_type": "execute_result"
    }
   ],
   "source": [
    "train.head()"
   ],
   "metadata": {
    "collapsed": false,
    "pycharm": {
     "name": "#%%\n"
    }
   }
  },
  {
   "cell_type": "code",
   "execution_count": 24,
   "outputs": [
    {
     "data": {
      "text/plain": "(39774, 6)"
     },
     "execution_count": 24,
     "metadata": {},
     "output_type": "execute_result"
    }
   ],
   "source": [
    "train.shape"
   ],
   "metadata": {
    "collapsed": false,
    "pycharm": {
     "name": "#%%\n"
    }
   }
  },
  {
   "cell_type": "code",
   "execution_count": 25,
   "outputs": [
    {
     "data": {
      "text/plain": "      id                                        ingredients  num_ingredients  \\\n0  18009  [baking powder, eggs, all-purpose flour, raisi...                6   \n1  28583  [sugar, egg yolks, corn starch, cream of tarta...               11   \n2  41580  [sausage links, fennel bulb, fronds, olive oil...                6   \n3  29752  [meat cuts, file powder, smoked sausage, okra,...               21   \n4  35687  [ground black pepper, salt, sausage casings, l...                8   \n\n   ingredient_length                                    ingredients_str  \n0           9.333333  ['baking powder', 'eggs', 'all-purpose flour',...  \n1          10.272727  ['sugar', 'egg yolks', 'corn starch', 'cream o...  \n2           9.666667  ['sausage links', 'fennel bulb', 'fronds', 'ol...  \n3          12.000000  ['meat cuts', 'file powder', 'smoked sausage',...  \n4          13.000000  ['ground black pepper', 'salt', 'sausage casin...  ",
      "text/html": "<div>\n<style scoped>\n    .dataframe tbody tr th:only-of-type {\n        vertical-align: middle;\n    }\n\n    .dataframe tbody tr th {\n        vertical-align: top;\n    }\n\n    .dataframe thead th {\n        text-align: right;\n    }\n</style>\n<table border=\"1\" class=\"dataframe\">\n  <thead>\n    <tr style=\"text-align: right;\">\n      <th></th>\n      <th>id</th>\n      <th>ingredients</th>\n      <th>num_ingredients</th>\n      <th>ingredient_length</th>\n      <th>ingredients_str</th>\n    </tr>\n  </thead>\n  <tbody>\n    <tr>\n      <th>0</th>\n      <td>18009</td>\n      <td>[baking powder, eggs, all-purpose flour, raisi...</td>\n      <td>6</td>\n      <td>9.333333</td>\n      <td>['baking powder', 'eggs', 'all-purpose flour',...</td>\n    </tr>\n    <tr>\n      <th>1</th>\n      <td>28583</td>\n      <td>[sugar, egg yolks, corn starch, cream of tarta...</td>\n      <td>11</td>\n      <td>10.272727</td>\n      <td>['sugar', 'egg yolks', 'corn starch', 'cream o...</td>\n    </tr>\n    <tr>\n      <th>2</th>\n      <td>41580</td>\n      <td>[sausage links, fennel bulb, fronds, olive oil...</td>\n      <td>6</td>\n      <td>9.666667</td>\n      <td>['sausage links', 'fennel bulb', 'fronds', 'ol...</td>\n    </tr>\n    <tr>\n      <th>3</th>\n      <td>29752</td>\n      <td>[meat cuts, file powder, smoked sausage, okra,...</td>\n      <td>21</td>\n      <td>12.000000</td>\n      <td>['meat cuts', 'file powder', 'smoked sausage',...</td>\n    </tr>\n    <tr>\n      <th>4</th>\n      <td>35687</td>\n      <td>[ground black pepper, salt, sausage casings, l...</td>\n      <td>8</td>\n      <td>13.000000</td>\n      <td>['ground black pepper', 'salt', 'sausage casin...</td>\n    </tr>\n  </tbody>\n</table>\n</div>"
     },
     "execution_count": 25,
     "metadata": {},
     "output_type": "execute_result"
    }
   ],
   "source": [
    "new.head()"
   ],
   "metadata": {
    "collapsed": false,
    "pycharm": {
     "name": "#%%\n"
    }
   }
  },
  {
   "cell_type": "code",
   "execution_count": 26,
   "outputs": [
    {
     "data": {
      "text/plain": "(9944, 5)"
     },
     "execution_count": 26,
     "metadata": {},
     "output_type": "execute_result"
    }
   ],
   "source": [
    "new.shape"
   ],
   "metadata": {
    "collapsed": false,
    "pycharm": {
     "name": "#%%\n"
    }
   }
  },
  {
   "cell_type": "code",
   "execution_count": 27,
   "outputs": [],
   "source": [
    "X = train[\"ingredients_str\"]\n",
    "y = train[\"cuisine\"]"
   ],
   "metadata": {
    "collapsed": false,
    "pycharm": {
     "name": "#%%\n"
    }
   }
  },
  {
   "cell_type": "code",
   "execution_count": 28,
   "outputs": [
    {
     "data": {
      "text/plain": "0    ['romaine lettuce', 'black olives', 'grape tom...\n1    ['plain flour', 'ground pepper', 'salt', 'toma...\n2    ['eggs', 'pepper', 'salt', 'mayonaise', 'cooki...\n3          ['water', 'vegetable oil', 'wheat', 'salt']\n4    ['black pepper', 'shallots', 'cornflour', 'cay...\nName: ingredients_str, dtype: object"
     },
     "execution_count": 28,
     "metadata": {},
     "output_type": "execute_result"
    }
   ],
   "source": [
    "X.head()"
   ],
   "metadata": {
    "collapsed": false,
    "pycharm": {
     "name": "#%%\n"
    }
   }
  },
  {
   "cell_type": "code",
   "execution_count": 29,
   "outputs": [],
   "source": [
    "from sklearn.feature_extraction.text import CountVectorizer\n",
    "vect = CountVectorizer(token_pattern = r\"'([a-z ]+)'\")"
   ],
   "metadata": {
    "collapsed": false,
    "pycharm": {
     "name": "#%%\n"
    }
   }
  },
  {
   "cell_type": "code",
   "execution_count": 30,
   "outputs": [],
   "source": [
    "from sklearn.naive_bayes import MultinomialNB\n",
    "nb = MultinomialNB()"
   ],
   "metadata": {
    "collapsed": false,
    "pycharm": {
     "name": "#%%\n"
    }
   }
  },
  {
   "cell_type": "code",
   "execution_count": 31,
   "outputs": [],
   "source": [
    "from sklearn.pipeline import make_pipeline\n",
    "pipe = make_pipeline(vect, nb)"
   ],
   "metadata": {
    "collapsed": false,
    "pycharm": {
     "name": "#%%\n"
    }
   }
  },
  {
   "cell_type": "code",
   "execution_count": 32,
   "outputs": [
    {
     "data": {
      "text/plain": "[('countvectorizer', CountVectorizer(token_pattern=\"'([a-z ]+)'\")),\n ('multinomialnb', MultinomialNB())]"
     },
     "execution_count": 32,
     "metadata": {},
     "output_type": "execute_result"
    }
   ],
   "source": [
    "pipe.steps"
   ],
   "metadata": {
    "collapsed": false,
    "pycharm": {
     "name": "#%%\n"
    }
   }
  },
  {
   "cell_type": "code",
   "execution_count": 33,
   "outputs": [
    {
     "data": {
      "text/plain": "0.7323126392849393"
     },
     "execution_count": 33,
     "metadata": {},
     "output_type": "execute_result"
    }
   ],
   "source": [
    "from sklearn.model_selection import cross_val_score\n",
    "cross_val_score(pipe, X, y, cv = 5,\n",
    "                scoring = \"accuracy\", n_jobs = -1).mean()"
   ],
   "metadata": {
    "collapsed": false,
    "pycharm": {
     "name": "#%%\n"
    }
   }
  },
  {
   "cell_type": "code",
   "execution_count": 34,
   "outputs": [
    {
     "data": {
      "text/plain": "{'countvectorizer__token_pattern': ['\\\\b\\\\w\\\\w+\\\\b', \"'([a-z ]+)'\"],\n 'multinomialnb__alpha': [0.5, 1]}"
     },
     "execution_count": 34,
     "metadata": {},
     "output_type": "execute_result"
    }
   ],
   "source": [
    "#named step__parameter\n",
    "param_grid = {}\n",
    "param_grid[\"countvectorizer__token_pattern\"] = [\n",
    "    r\"\\b\\w\\w+\\b\", r\"'([a-z ]+)'\"]\n",
    "param_grid[\"multinomialnb__alpha\"] = [0.5, 1]\n",
    "param_grid"
   ],
   "metadata": {
    "collapsed": false,
    "pycharm": {
     "name": "#%%\n"
    }
   }
  },
  {
   "cell_type": "code",
   "execution_count": 35,
   "outputs": [],
   "source": [
    "from sklearn.model_selection import GridSearchCV\n",
    "grid = GridSearchCV(pipe, param_grid,\n",
    "                    cv = 5, scoring = \"accuracy\",\n",
    "                    n_jobs = -1)"
   ],
   "metadata": {
    "collapsed": false,
    "pycharm": {
     "name": "#%%\n"
    }
   }
  },
  {
   "cell_type": "code",
   "execution_count": 36,
   "outputs": [
    {
     "name": "stdout",
     "output_type": "stream",
     "text": [
      "CPU times: user 2.01 s, sys: 245 ms, total: 2.26 s\n",
      "Wall time: 16.2 s\n"
     ]
    },
    {
     "data": {
      "text/plain": "GridSearchCV(cv=5,\n             estimator=Pipeline(steps=[('countvectorizer',\n                                        CountVectorizer(token_pattern=\"'([a-z \"\n                                                                      \"]+)'\")),\n                                       ('multinomialnb', MultinomialNB())]),\n             n_jobs=-1,\n             param_grid={'countvectorizer__token_pattern': ['\\\\b\\\\w\\\\w+\\\\b',\n                                                            \"'([a-z ]+)'\"],\n                         'multinomialnb__alpha': [0.5, 1]},\n             scoring='accuracy')"
     },
     "execution_count": 36,
     "metadata": {},
     "output_type": "execute_result"
    }
   ],
   "source": [
    "%time grid.fit(X, y)"
   ],
   "metadata": {
    "collapsed": false,
    "pycharm": {
     "name": "#%%\n"
    }
   }
  },
  {
   "cell_type": "code",
   "execution_count": null,
   "outputs": [],
   "source": [
    "y_pred_class = grid.predict()"
   ],
   "metadata": {
    "collapsed": false,
    "pycharm": {
     "name": "#%%\n"
    }
   }
  }
 ],
 "metadata": {
  "kernelspec": {
   "display_name": "Python 3",
   "language": "python",
   "name": "python3"
  },
  "language_info": {
   "codemirror_mode": {
    "name": "ipython",
    "version": 2
   },
   "file_extension": ".py",
   "mimetype": "text/x-python",
   "name": "python",
   "nbconvert_exporter": "python",
   "pygments_lexer": "ipython2",
   "version": "2.7.6"
  }
 },
 "nbformat": 4,
 "nbformat_minor": 0
}