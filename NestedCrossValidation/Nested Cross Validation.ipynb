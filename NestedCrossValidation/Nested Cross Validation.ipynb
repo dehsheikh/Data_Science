{
 "cells": [
  {
   "cell_type": "code",
   "execution_count": 1,
   "id": "b52ae504",
   "metadata": {
    "pycharm": {
     "name": "#%%\n"
    }
   },
   "outputs": [],
   "source": [
    "import pandas as pd\n",
    "from sklearn.datasets import load_breast_cancer\n",
    "from sklearn.model_selection import cross_val_score"
   ]
  },
  {
   "cell_type": "code",
   "execution_count": 2,
   "id": "a81ee4e1",
   "metadata": {
    "pycharm": {
     "name": "#%%\n"
    }
   },
   "outputs": [
    {
     "data": {
      "text/plain": "dict_keys(['data', 'target', 'frame', 'target_names', 'DESCR', 'feature_names', 'filename'])"
     },
     "execution_count": 2,
     "metadata": {},
     "output_type": "execute_result"
    }
   ],
   "source": [
    "breast_cancer_orginal = load_breast_cancer()\n",
    "breast_cancer_orginal.keys()"
   ]
  },
  {
   "cell_type": "code",
   "execution_count": 3,
   "id": "2691a2e5",
   "metadata": {
    "pycharm": {
     "name": "#%%\n"
    }
   },
   "outputs": [
    {
     "data": {
      "text/plain": "        0      1       2       3        4        5        6        7       8   \\\n0    17.99  10.38  122.80  1001.0  0.11840  0.27760  0.30010  0.14710  0.2419   \n1    20.57  17.77  132.90  1326.0  0.08474  0.07864  0.08690  0.07017  0.1812   \n2    19.69  21.25  130.00  1203.0  0.10960  0.15990  0.19740  0.12790  0.2069   \n3    11.42  20.38   77.58   386.1  0.14250  0.28390  0.24140  0.10520  0.2597   \n4    20.29  14.34  135.10  1297.0  0.10030  0.13280  0.19800  0.10430  0.1809   \n..     ...    ...     ...     ...      ...      ...      ...      ...     ...   \n564  21.56  22.39  142.00  1479.0  0.11100  0.11590  0.24390  0.13890  0.1726   \n565  20.13  28.25  131.20  1261.0  0.09780  0.10340  0.14400  0.09791  0.1752   \n566  16.60  28.08  108.30   858.1  0.08455  0.10230  0.09251  0.05302  0.1590   \n567  20.60  29.33  140.10  1265.0  0.11780  0.27700  0.35140  0.15200  0.2397   \n568   7.76  24.54   47.92   181.0  0.05263  0.04362  0.00000  0.00000  0.1587   \n\n          9   ...      20     21      22      23       24       25      26  \\\n0    0.07871  ...  25.380  17.33  184.60  2019.0  0.16220  0.66560  0.7119   \n1    0.05667  ...  24.990  23.41  158.80  1956.0  0.12380  0.18660  0.2416   \n2    0.05999  ...  23.570  25.53  152.50  1709.0  0.14440  0.42450  0.4504   \n3    0.09744  ...  14.910  26.50   98.87   567.7  0.20980  0.86630  0.6869   \n4    0.05883  ...  22.540  16.67  152.20  1575.0  0.13740  0.20500  0.4000   \n..       ...  ...     ...    ...     ...     ...      ...      ...     ...   \n564  0.05623  ...  25.450  26.40  166.10  2027.0  0.14100  0.21130  0.4107   \n565  0.05533  ...  23.690  38.25  155.00  1731.0  0.11660  0.19220  0.3215   \n566  0.05648  ...  18.980  34.12  126.70  1124.0  0.11390  0.30940  0.3403   \n567  0.07016  ...  25.740  39.42  184.60  1821.0  0.16500  0.86810  0.9387   \n568  0.05884  ...   9.456  30.37   59.16   268.6  0.08996  0.06444  0.0000   \n\n         27      28       29  \n0    0.2654  0.4601  0.11890  \n1    0.1860  0.2750  0.08902  \n2    0.2430  0.3613  0.08758  \n3    0.2575  0.6638  0.17300  \n4    0.1625  0.2364  0.07678  \n..      ...     ...      ...  \n564  0.2216  0.2060  0.07115  \n565  0.1628  0.2572  0.06637  \n566  0.1418  0.2218  0.07820  \n567  0.2650  0.4087  0.12400  \n568  0.0000  0.2871  0.07039  \n\n[569 rows x 30 columns]",
      "text/html": "<div>\n<style scoped>\n    .dataframe tbody tr th:only-of-type {\n        vertical-align: middle;\n    }\n\n    .dataframe tbody tr th {\n        vertical-align: top;\n    }\n\n    .dataframe thead th {\n        text-align: right;\n    }\n</style>\n<table border=\"1\" class=\"dataframe\">\n  <thead>\n    <tr style=\"text-align: right;\">\n      <th></th>\n      <th>0</th>\n      <th>1</th>\n      <th>2</th>\n      <th>3</th>\n      <th>4</th>\n      <th>5</th>\n      <th>6</th>\n      <th>7</th>\n      <th>8</th>\n      <th>9</th>\n      <th>...</th>\n      <th>20</th>\n      <th>21</th>\n      <th>22</th>\n      <th>23</th>\n      <th>24</th>\n      <th>25</th>\n      <th>26</th>\n      <th>27</th>\n      <th>28</th>\n      <th>29</th>\n    </tr>\n  </thead>\n  <tbody>\n    <tr>\n      <th>0</th>\n      <td>17.99</td>\n      <td>10.38</td>\n      <td>122.80</td>\n      <td>1001.0</td>\n      <td>0.11840</td>\n      <td>0.27760</td>\n      <td>0.30010</td>\n      <td>0.14710</td>\n      <td>0.2419</td>\n      <td>0.07871</td>\n      <td>...</td>\n      <td>25.380</td>\n      <td>17.33</td>\n      <td>184.60</td>\n      <td>2019.0</td>\n      <td>0.16220</td>\n      <td>0.66560</td>\n      <td>0.7119</td>\n      <td>0.2654</td>\n      <td>0.4601</td>\n      <td>0.11890</td>\n    </tr>\n    <tr>\n      <th>1</th>\n      <td>20.57</td>\n      <td>17.77</td>\n      <td>132.90</td>\n      <td>1326.0</td>\n      <td>0.08474</td>\n      <td>0.07864</td>\n      <td>0.08690</td>\n      <td>0.07017</td>\n      <td>0.1812</td>\n      <td>0.05667</td>\n      <td>...</td>\n      <td>24.990</td>\n      <td>23.41</td>\n      <td>158.80</td>\n      <td>1956.0</td>\n      <td>0.12380</td>\n      <td>0.18660</td>\n      <td>0.2416</td>\n      <td>0.1860</td>\n      <td>0.2750</td>\n      <td>0.08902</td>\n    </tr>\n    <tr>\n      <th>2</th>\n      <td>19.69</td>\n      <td>21.25</td>\n      <td>130.00</td>\n      <td>1203.0</td>\n      <td>0.10960</td>\n      <td>0.15990</td>\n      <td>0.19740</td>\n      <td>0.12790</td>\n      <td>0.2069</td>\n      <td>0.05999</td>\n      <td>...</td>\n      <td>23.570</td>\n      <td>25.53</td>\n      <td>152.50</td>\n      <td>1709.0</td>\n      <td>0.14440</td>\n      <td>0.42450</td>\n      <td>0.4504</td>\n      <td>0.2430</td>\n      <td>0.3613</td>\n      <td>0.08758</td>\n    </tr>\n    <tr>\n      <th>3</th>\n      <td>11.42</td>\n      <td>20.38</td>\n      <td>77.58</td>\n      <td>386.1</td>\n      <td>0.14250</td>\n      <td>0.28390</td>\n      <td>0.24140</td>\n      <td>0.10520</td>\n      <td>0.2597</td>\n      <td>0.09744</td>\n      <td>...</td>\n      <td>14.910</td>\n      <td>26.50</td>\n      <td>98.87</td>\n      <td>567.7</td>\n      <td>0.20980</td>\n      <td>0.86630</td>\n      <td>0.6869</td>\n      <td>0.2575</td>\n      <td>0.6638</td>\n      <td>0.17300</td>\n    </tr>\n    <tr>\n      <th>4</th>\n      <td>20.29</td>\n      <td>14.34</td>\n      <td>135.10</td>\n      <td>1297.0</td>\n      <td>0.10030</td>\n      <td>0.13280</td>\n      <td>0.19800</td>\n      <td>0.10430</td>\n      <td>0.1809</td>\n      <td>0.05883</td>\n      <td>...</td>\n      <td>22.540</td>\n      <td>16.67</td>\n      <td>152.20</td>\n      <td>1575.0</td>\n      <td>0.13740</td>\n      <td>0.20500</td>\n      <td>0.4000</td>\n      <td>0.1625</td>\n      <td>0.2364</td>\n      <td>0.07678</td>\n    </tr>\n    <tr>\n      <th>...</th>\n      <td>...</td>\n      <td>...</td>\n      <td>...</td>\n      <td>...</td>\n      <td>...</td>\n      <td>...</td>\n      <td>...</td>\n      <td>...</td>\n      <td>...</td>\n      <td>...</td>\n      <td>...</td>\n      <td>...</td>\n      <td>...</td>\n      <td>...</td>\n      <td>...</td>\n      <td>...</td>\n      <td>...</td>\n      <td>...</td>\n      <td>...</td>\n      <td>...</td>\n      <td>...</td>\n    </tr>\n    <tr>\n      <th>564</th>\n      <td>21.56</td>\n      <td>22.39</td>\n      <td>142.00</td>\n      <td>1479.0</td>\n      <td>0.11100</td>\n      <td>0.11590</td>\n      <td>0.24390</td>\n      <td>0.13890</td>\n      <td>0.1726</td>\n      <td>0.05623</td>\n      <td>...</td>\n      <td>25.450</td>\n      <td>26.40</td>\n      <td>166.10</td>\n      <td>2027.0</td>\n      <td>0.14100</td>\n      <td>0.21130</td>\n      <td>0.4107</td>\n      <td>0.2216</td>\n      <td>0.2060</td>\n      <td>0.07115</td>\n    </tr>\n    <tr>\n      <th>565</th>\n      <td>20.13</td>\n      <td>28.25</td>\n      <td>131.20</td>\n      <td>1261.0</td>\n      <td>0.09780</td>\n      <td>0.10340</td>\n      <td>0.14400</td>\n      <td>0.09791</td>\n      <td>0.1752</td>\n      <td>0.05533</td>\n      <td>...</td>\n      <td>23.690</td>\n      <td>38.25</td>\n      <td>155.00</td>\n      <td>1731.0</td>\n      <td>0.11660</td>\n      <td>0.19220</td>\n      <td>0.3215</td>\n      <td>0.1628</td>\n      <td>0.2572</td>\n      <td>0.06637</td>\n    </tr>\n    <tr>\n      <th>566</th>\n      <td>16.60</td>\n      <td>28.08</td>\n      <td>108.30</td>\n      <td>858.1</td>\n      <td>0.08455</td>\n      <td>0.10230</td>\n      <td>0.09251</td>\n      <td>0.05302</td>\n      <td>0.1590</td>\n      <td>0.05648</td>\n      <td>...</td>\n      <td>18.980</td>\n      <td>34.12</td>\n      <td>126.70</td>\n      <td>1124.0</td>\n      <td>0.11390</td>\n      <td>0.30940</td>\n      <td>0.3403</td>\n      <td>0.1418</td>\n      <td>0.2218</td>\n      <td>0.07820</td>\n    </tr>\n    <tr>\n      <th>567</th>\n      <td>20.60</td>\n      <td>29.33</td>\n      <td>140.10</td>\n      <td>1265.0</td>\n      <td>0.11780</td>\n      <td>0.27700</td>\n      <td>0.35140</td>\n      <td>0.15200</td>\n      <td>0.2397</td>\n      <td>0.07016</td>\n      <td>...</td>\n      <td>25.740</td>\n      <td>39.42</td>\n      <td>184.60</td>\n      <td>1821.0</td>\n      <td>0.16500</td>\n      <td>0.86810</td>\n      <td>0.9387</td>\n      <td>0.2650</td>\n      <td>0.4087</td>\n      <td>0.12400</td>\n    </tr>\n    <tr>\n      <th>568</th>\n      <td>7.76</td>\n      <td>24.54</td>\n      <td>47.92</td>\n      <td>181.0</td>\n      <td>0.05263</td>\n      <td>0.04362</td>\n      <td>0.00000</td>\n      <td>0.00000</td>\n      <td>0.1587</td>\n      <td>0.05884</td>\n      <td>...</td>\n      <td>9.456</td>\n      <td>30.37</td>\n      <td>59.16</td>\n      <td>268.6</td>\n      <td>0.08996</td>\n      <td>0.06444</td>\n      <td>0.0000</td>\n      <td>0.0000</td>\n      <td>0.2871</td>\n      <td>0.07039</td>\n    </tr>\n  </tbody>\n</table>\n<p>569 rows × 30 columns</p>\n</div>"
     },
     "execution_count": 3,
     "metadata": {},
     "output_type": "execute_result"
    }
   ],
   "source": [
    "pd.DataFrame(breast_cancer_orginal.data)"
   ]
  },
  {
   "cell_type": "code",
   "execution_count": 4,
   "id": "c601f530",
   "metadata": {
    "pycharm": {
     "name": "#%%\n"
    }
   },
   "outputs": [
    {
     "data": {
      "text/plain": "array(['mean radius', 'mean texture', 'mean perimeter', 'mean area',\n       'mean smoothness', 'mean compactness', 'mean concavity',\n       'mean concave points', 'mean symmetry', 'mean fractal dimension',\n       'radius error', 'texture error', 'perimeter error', 'area error',\n       'smoothness error', 'compactness error', 'concavity error',\n       'concave points error', 'symmetry error',\n       'fractal dimension error', 'worst radius', 'worst texture',\n       'worst perimeter', 'worst area', 'worst smoothness',\n       'worst compactness', 'worst concavity', 'worst concave points',\n       'worst symmetry', 'worst fractal dimension'], dtype='<U23')"
     },
     "execution_count": 4,
     "metadata": {},
     "output_type": "execute_result"
    }
   ],
   "source": [
    "breast_cancer_orginal.feature_names"
   ]
  },
  {
   "cell_type": "code",
   "execution_count": 5,
   "id": "d1f5c011",
   "metadata": {
    "pycharm": {
     "name": "#%%\n"
    }
   },
   "outputs": [
    {
     "name": "stdout",
     "output_type": "stream",
     "text": [
      "[[1.799e+01 1.038e+01 1.228e+02 ... 2.654e-01 4.601e-01 1.189e-01]\n",
      " [2.057e+01 1.777e+01 1.329e+02 ... 1.860e-01 2.750e-01 8.902e-02]\n",
      " [1.969e+01 2.125e+01 1.300e+02 ... 2.430e-01 3.613e-01 8.758e-02]\n",
      " ...\n",
      " [1.660e+01 2.808e+01 1.083e+02 ... 1.418e-01 2.218e-01 7.820e-02]\n",
      " [2.060e+01 2.933e+01 1.401e+02 ... 2.650e-01 4.087e-01 1.240e-01]\n",
      " [7.760e+00 2.454e+01 4.792e+01 ... 0.000e+00 2.871e-01 7.039e-02]]\n",
      "[0 0 0 0 0 0 0 0 0 0 0 0 0 0 0 0 0 0 0 1 1 1 0 0 0 0 0 0 0 0 0 0 0 0 0 0 0\n",
      " 1 0 0 0 0 0 0 0 0 1 0 1 1 1 1 1 0 0 1 0 0 1 1 1 1 0 1 0 0 1 1 1 1 0 1 0 0\n",
      " 1 0 1 0 0 1 1 1 0 0 1 0 0 0 1 1 1 0 1 1 0 0 1 1 1 0 0 1 1 1 1 0 1 1 0 1 1\n",
      " 1 1 1 1 1 1 0 0 0 1 0 0 1 1 1 0 0 1 0 1 0 0 1 0 0 1 1 0 1 1 0 1 1 1 1 0 1\n",
      " 1 1 1 1 1 1 1 1 0 1 1 1 1 0 0 1 0 1 1 0 0 1 1 0 0 1 1 1 1 0 1 1 0 0 0 1 0\n",
      " 1 0 1 1 1 0 1 1 0 0 1 0 0 0 0 1 0 0 0 1 0 1 0 1 1 0 1 0 0 0 0 1 1 0 0 1 1\n",
      " 1 0 1 1 1 1 1 0 0 1 1 0 1 1 0 0 1 0 1 1 1 1 0 1 1 1 1 1 0 1 0 0 0 0 0 0 0\n",
      " 0 0 0 0 0 0 0 1 1 1 1 1 1 0 1 0 1 1 0 1 1 0 1 0 0 1 1 1 1 1 1 1 1 1 1 1 1\n",
      " 1 0 1 1 0 1 0 1 1 1 1 1 1 1 1 1 1 1 1 1 1 0 1 1 1 0 1 0 1 1 1 1 0 0 0 1 1\n",
      " 1 1 0 1 0 1 0 1 1 1 0 1 1 1 1 1 1 1 0 0 0 1 1 1 1 1 1 1 1 1 1 1 0 0 1 0 0\n",
      " 0 1 0 0 1 1 1 1 1 0 1 1 1 1 1 0 1 1 1 0 1 1 0 0 1 1 1 1 1 1 0 1 1 1 1 1 1\n",
      " 1 0 1 1 1 1 1 0 1 1 0 1 1 1 1 1 1 1 1 1 1 1 1 0 1 0 0 1 0 1 1 1 1 1 0 1 1\n",
      " 0 1 0 1 1 0 1 0 1 1 1 1 1 1 1 1 0 0 1 1 1 1 1 1 0 1 1 1 1 1 1 1 1 1 1 0 1\n",
      " 1 1 1 1 1 1 0 1 0 1 1 0 1 1 1 1 1 0 0 1 0 1 0 1 1 1 1 1 0 1 1 0 1 0 1 0 0\n",
      " 1 1 1 0 1 1 1 1 1 1 1 1 1 1 1 0 1 0 0 1 1 1 1 1 1 1 1 1 1 1 1 1 1 1 1 1 1\n",
      " 1 1 1 1 1 1 1 0 0 0 0 0 0 1]\n"
     ]
    }
   ],
   "source": [
    "X = breast_cancer_orginal.data\n",
    "y = breast_cancer_orginal.target\n",
    "print(X)\n",
    "print(y)"
   ]
  },
  {
   "cell_type": "code",
   "execution_count": 6,
   "id": "4ee7c863",
   "metadata": {
    "pycharm": {
     "name": "#%%\n"
    }
   },
   "outputs": [],
   "source": [
    "from sklearn.model_selection import train_test_split"
   ]
  },
  {
   "cell_type": "code",
   "execution_count": 7,
   "id": "71cc86c9",
   "metadata": {
    "pycharm": {
     "name": "#%%\n"
    }
   },
   "outputs": [],
   "source": [
    "# Splitting data\n",
    "X_train, X_test, y_train, y_test = train_test_split(X, y, test_size = 0.2, random_state = True)"
   ]
  },
  {
   "cell_type": "code",
   "execution_count": 8,
   "id": "13b6f1c0",
   "metadata": {
    "pycharm": {
     "name": "#%%\n"
    }
   },
   "outputs": [],
   "source": [
    "from sklearn.linear_model import LogisticRegression\n",
    "from sklearn.neighbors import KNeighborsClassifier\n",
    "knn = KNeighborsClassifier()"
   ]
  },
  {
   "cell_type": "markdown",
   "id": "f3bdb730",
   "metadata": {
    "pycharm": {
     "name": "#%% md\n"
    }
   },
   "source": [
    "### Simple Cross Validation\n",
    "\n",
    "Trying the simplest way for cross validation and predicting result"
   ]
  },
  {
   "cell_type": "code",
   "execution_count": 9,
   "id": "f851dc5d",
   "metadata": {
    "pycharm": {
     "name": "#%%\n"
    }
   },
   "outputs": [
    {
     "data": {
      "text/plain": "0.9080193236714976"
     },
     "execution_count": 9,
     "metadata": {},
     "output_type": "execute_result"
    }
   ],
   "source": [
    "Name = \"Simple Cross Validation\"\n",
    "numberOfFolds = 10\n",
    "TrainAccuracy = cross_val_score(knn, X_train, y_train, cv = numberOfFolds, scoring = 'accuracy').mean()\n",
    "TrainAccuracy"
   ]
  },
  {
   "cell_type": "code",
   "execution_count": 10,
   "id": "d51db222",
   "metadata": {
    "pycharm": {
     "name": "#%%\n"
    }
   },
   "outputs": [],
   "source": [
    "knn.fit(X_train, y_train)\n",
    "y_pred_class = knn.predict(X_test)"
   ]
  },
  {
   "cell_type": "code",
   "execution_count": 11,
   "id": "0a729781",
   "metadata": {
    "pycharm": {
     "name": "#%%\n"
    }
   },
   "outputs": [
    {
     "name": "stdout",
     "output_type": "stream",
     "text": [
      "0.9385964912280702\n",
      "-0.030577167556572582\n"
     ]
    }
   ],
   "source": [
    "from sklearn import metrics\n",
    "TestAccuracy = metrics.accuracy_score(y_test, y_pred_class) \n",
    "print (TestAccuracy)\n",
    "AccuracyDifference = TrainAccuracy - TestAccuracy\n",
    "print(AccuracyDifference)"
   ]
  },
  {
   "cell_type": "code",
   "execution_count": 12,
   "id": "c9cb04c5",
   "metadata": {
    "pycharm": {
     "name": "#%%\n"
    }
   },
   "outputs": [
    {
     "data": {
      "text/plain": "[{'Name': 'Simple Cross Validation',\n  'TrainAccuracy': 0.9080193236714976,\n  'TestAccuracy': 0.9385964912280702,\n  'AccuracyDifference': -0.030577167556572582}]"
     },
     "execution_count": 12,
     "metadata": {},
     "output_type": "execute_result"
    }
   ],
   "source": [
    "totalResult = []\n",
    "totalResult.append(\n",
    "    {\"Name\": Name,\n",
    "    \"TrainAccuracy\": TrainAccuracy,\n",
    "    \"TestAccuracy\": TestAccuracy,\n",
    "    \"AccuracyDifference\": AccuracyDifference}\n",
    ")\n",
    "totalResult"
   ]
  },
  {
   "cell_type": "markdown",
   "id": "13b8d337",
   "metadata": {
    "pycharm": {
     "name": "#%% md\n"
    }
   },
   "source": [
    "### End - Simple Cross Validation"
   ]
  },
  {
   "cell_type": "code",
   "execution_count": 13,
   "id": "7b6a9b4f",
   "metadata": {
    "pycharm": {
     "name": "#%%\n"
    }
   },
   "outputs": [],
   "source": [
    "# Reset variables\n",
    "knn = KNeighborsClassifier()\n",
    "Name = \"\"\n",
    "TrainAccuracy = -1\n",
    "TestAccuracy = -1\n",
    "AccuracyDifference = -1\n",
    "numberOfFolds = 10"
   ]
  },
  {
   "cell_type": "markdown",
   "id": "c9a0f5d9",
   "metadata": {
    "pycharm": {
     "name": "#%% md\n"
    }
   },
   "source": [
    "### Simple GridSearchCV\n",
    "Using GridSearchCV and predicting result"
   ]
  },
  {
   "cell_type": "code",
   "execution_count": 14,
   "id": "750b6c41",
   "metadata": {
    "pycharm": {
     "name": "#%%\n"
    }
   },
   "outputs": [],
   "source": [
    "from sklearn.model_selection import GridSearchCV"
   ]
  },
  {
   "cell_type": "code",
   "execution_count": 15,
   "id": "8ddcb2b0",
   "metadata": {
    "pycharm": {
     "name": "#%%\n"
    }
   },
   "outputs": [],
   "source": [
    "k_range = list(range(1, 31))\n",
    "params = {}\n",
    "params['n_neighbors'] = k_range"
   ]
  },
  {
   "cell_type": "code",
   "execution_count": 16,
   "id": "405ace41",
   "metadata": {
    "pycharm": {
     "name": "#%%\n"
    }
   },
   "outputs": [
    {
     "data": {
      "text/plain": "GridSearchCV(cv=10, estimator=KNeighborsClassifier(), n_jobs=-1,\n             param_grid={'n_neighbors': [1, 2, 3, 4, 5, 6, 7, 8, 9, 10, 11, 12,\n                                         13, 14, 15, 16, 17, 18, 19, 20, 21, 22,\n                                         23, 24, 25, 26, 27, 28, 29, 30]},\n             scoring='accuracy')"
     },
     "execution_count": 16,
     "metadata": {},
     "output_type": "execute_result"
    }
   ],
   "source": [
    "grid01 = GridSearchCV(knn, params, cv = numberOfFolds, n_jobs = -1, scoring = \"accuracy\")\n",
    "grid01.fit(X_train, y_train)"
   ]
  },
  {
   "cell_type": "code",
   "execution_count": 17,
   "id": "ecba5aca",
   "metadata": {
    "pycharm": {
     "name": "#%%\n"
    }
   },
   "outputs": [
    {
     "name": "stdout",
     "output_type": "stream",
     "text": [
      "{'n_neighbors': 15}\n",
      "0.9363285024154588\n"
     ]
    }
   ],
   "source": [
    "print(grid01.best_params_)\n",
    "TrainAccuracy = grid01.best_score_\n",
    "print(TrainAccuracy)"
   ]
  },
  {
   "cell_type": "code",
   "execution_count": 18,
   "id": "3221ab8a",
   "metadata": {
    "pycharm": {
     "name": "#%%\n"
    }
   },
   "outputs": [],
   "source": [
    "y_pred_class = grid01.predict(X_test)"
   ]
  },
  {
   "cell_type": "code",
   "execution_count": 19,
   "id": "a057eee9",
   "metadata": {
    "pycharm": {
     "name": "#%%\n"
    }
   },
   "outputs": [
    {
     "name": "stdout",
     "output_type": "stream",
     "text": [
      "0.9210526315789473\n",
      "0.015275870836511496\n"
     ]
    }
   ],
   "source": [
    "TestAccuracy = metrics.accuracy_score(y_test, y_pred_class) \n",
    "print (TestAccuracy)\n",
    "AccuracyDifference = TrainAccuracy - TestAccuracy\n",
    "print(AccuracyDifference)"
   ]
  },
  {
   "cell_type": "code",
   "execution_count": 20,
   "id": "a4c481a3",
   "metadata": {
    "pycharm": {
     "name": "#%%\n"
    }
   },
   "outputs": [
    {
     "name": "stdout",
     "output_type": "stream",
     "text": [
      "                      Name  TrainAccuracy  TestAccuracy  AccuracyDifference\n",
      "0  Simple Cross Validation       0.908019      0.938596           -0.030577\n",
      "1      Simple GridSearchCV       0.936329      0.921053            0.015276\n"
     ]
    }
   ],
   "source": [
    "totalResult.append(\n",
    "    {\"Name\": \"Simple GridSearchCV\",\n",
    "    \"TrainAccuracy\": TrainAccuracy,\n",
    "    \"TestAccuracy\": TestAccuracy,\n",
    "    \"AccuracyDifference\": AccuracyDifference}\n",
    ")\n",
    "print(pd.DataFrame(totalResult))"
   ]
  },
  {
   "cell_type": "code",
   "execution_count": 21,
   "id": "cc158c47",
   "metadata": {
    "pycharm": {
     "name": "#%%\n"
    }
   },
   "outputs": [
    {
     "data": {
      "text/plain": "0.927632850241546"
     },
     "execution_count": 21,
     "metadata": {},
     "output_type": "execute_result"
    }
   ],
   "source": [
    "from sklearn.model_selection import GridSearchCV\n",
    "gridSearchCV01 = GridSearchCV(knn, params, cv = 10, n_jobs = -1)\n",
    "cross_val_score(gridSearchCV01, X_train, y_train, cv = 10, scoring = \"accuracy\", n_jobs = -1).mean()"
   ]
  },
  {
   "cell_type": "code",
   "execution_count": 22,
   "id": "799eea17",
   "metadata": {
    "pycharm": {
     "name": "#%%\n"
    }
   },
   "outputs": [],
   "source": [
    "gridSearchCV02 = GridSearchCV(knn, params, n_jobs = -1, cv = 10)\n",
    "result = gridSearchCV02.fit(X_train, y_train)"
   ]
  },
  {
   "cell_type": "code",
   "execution_count": 23,
   "id": "70f8436b",
   "metadata": {
    "pycharm": {
     "name": "#%%\n"
    }
   },
   "outputs": [
    {
     "data": {
      "text/plain": "{'n_neighbors': 15}"
     },
     "execution_count": 23,
     "metadata": {},
     "output_type": "execute_result"
    }
   ],
   "source": [
    "result.best_params_"
   ]
  },
  {
   "cell_type": "code",
   "execution_count": 24,
   "id": "5d2770d3",
   "metadata": {
    "pycharm": {
     "name": "#%%\n"
    }
   },
   "outputs": [
    {
     "data": {
      "text/plain": "0.9363285024154588"
     },
     "execution_count": 24,
     "metadata": {},
     "output_type": "execute_result"
    }
   ],
   "source": [
    "result.best_score_"
   ]
  },
  {
   "cell_type": "markdown",
   "id": "00d53070",
   "metadata": {
    "pycharm": {
     "name": "#%% md\n"
    }
   },
   "source": [
    "### End - Simple GridSearchCV"
   ]
  },
  {
   "cell_type": "code",
   "execution_count": 25,
   "id": "3ad145a6",
   "metadata": {
    "pycharm": {
     "name": "#%%\n"
    }
   },
   "outputs": [],
   "source": [
    "# Reset variables\n",
    "knn = KNeighborsClassifier()\n",
    "Name = \"\"\n",
    "TrainAccuracy = -1\n",
    "TestAccuracy = -1\n",
    "AccuracyDifference = -1\n",
    "numberOfFolds = 10"
   ]
  },
  {
   "cell_type": "markdown",
   "id": "1d6c7d85",
   "metadata": {
    "pycharm": {
     "name": "#%% md\n"
    }
   },
   "source": [
    "### Nested Cross Validation v1"
   ]
  },
  {
   "cell_type": "code",
   "execution_count": 26,
   "id": "8d5efcc9",
   "metadata": {
    "pycharm": {
     "name": "#%%\n"
    }
   },
   "outputs": [
    {
     "data": {
      "text/plain": "   fit_time  score_time                                          estimator  \\\n8  2.629832    0.004931  GridSearchCV(cv=10, estimator=KNeighborsClassi...   \n5  3.309039    0.007119  GridSearchCV(cv=10, estimator=KNeighborsClassi...   \n6  3.546466    0.004875  GridSearchCV(cv=10, estimator=KNeighborsClassi...   \n7  3.441287    0.007344  GridSearchCV(cv=10, estimator=KNeighborsClassi...   \n0  3.107935    0.005479  GridSearchCV(cv=10, estimator=KNeighborsClassi...   \n1  3.228936    0.004820  GridSearchCV(cv=10, estimator=KNeighborsClassi...   \n2  3.034174    0.004787  GridSearchCV(cv=10, estimator=KNeighborsClassi...   \n4  3.415426    0.005776  GridSearchCV(cv=10, estimator=KNeighborsClassi...   \n3  3.459935    0.005254  GridSearchCV(cv=10, estimator=KNeighborsClassi...   \n9  2.636541    0.005534  GridSearchCV(cv=10, estimator=KNeighborsClassi...   \n\n   test_score  \n8    0.977778  \n5    0.955556  \n6    0.955556  \n7    0.955556  \n0    0.934783  \n1    0.913043  \n2    0.913043  \n4    0.913043  \n3    0.891304  \n9    0.866667  ",
      "text/html": "<div>\n<style scoped>\n    .dataframe tbody tr th:only-of-type {\n        vertical-align: middle;\n    }\n\n    .dataframe tbody tr th {\n        vertical-align: top;\n    }\n\n    .dataframe thead th {\n        text-align: right;\n    }\n</style>\n<table border=\"1\" class=\"dataframe\">\n  <thead>\n    <tr style=\"text-align: right;\">\n      <th></th>\n      <th>fit_time</th>\n      <th>score_time</th>\n      <th>estimator</th>\n      <th>test_score</th>\n    </tr>\n  </thead>\n  <tbody>\n    <tr>\n      <th>8</th>\n      <td>2.629832</td>\n      <td>0.004931</td>\n      <td>GridSearchCV(cv=10, estimator=KNeighborsClassi...</td>\n      <td>0.977778</td>\n    </tr>\n    <tr>\n      <th>5</th>\n      <td>3.309039</td>\n      <td>0.007119</td>\n      <td>GridSearchCV(cv=10, estimator=KNeighborsClassi...</td>\n      <td>0.955556</td>\n    </tr>\n    <tr>\n      <th>6</th>\n      <td>3.546466</td>\n      <td>0.004875</td>\n      <td>GridSearchCV(cv=10, estimator=KNeighborsClassi...</td>\n      <td>0.955556</td>\n    </tr>\n    <tr>\n      <th>7</th>\n      <td>3.441287</td>\n      <td>0.007344</td>\n      <td>GridSearchCV(cv=10, estimator=KNeighborsClassi...</td>\n      <td>0.955556</td>\n    </tr>\n    <tr>\n      <th>0</th>\n      <td>3.107935</td>\n      <td>0.005479</td>\n      <td>GridSearchCV(cv=10, estimator=KNeighborsClassi...</td>\n      <td>0.934783</td>\n    </tr>\n    <tr>\n      <th>1</th>\n      <td>3.228936</td>\n      <td>0.004820</td>\n      <td>GridSearchCV(cv=10, estimator=KNeighborsClassi...</td>\n      <td>0.913043</td>\n    </tr>\n    <tr>\n      <th>2</th>\n      <td>3.034174</td>\n      <td>0.004787</td>\n      <td>GridSearchCV(cv=10, estimator=KNeighborsClassi...</td>\n      <td>0.913043</td>\n    </tr>\n    <tr>\n      <th>4</th>\n      <td>3.415426</td>\n      <td>0.005776</td>\n      <td>GridSearchCV(cv=10, estimator=KNeighborsClassi...</td>\n      <td>0.913043</td>\n    </tr>\n    <tr>\n      <th>3</th>\n      <td>3.459935</td>\n      <td>0.005254</td>\n      <td>GridSearchCV(cv=10, estimator=KNeighborsClassi...</td>\n      <td>0.891304</td>\n    </tr>\n    <tr>\n      <th>9</th>\n      <td>2.636541</td>\n      <td>0.005534</td>\n      <td>GridSearchCV(cv=10, estimator=KNeighborsClassi...</td>\n      <td>0.866667</td>\n    </tr>\n  </tbody>\n</table>\n</div>"
     },
     "execution_count": 26,
     "metadata": {},
     "output_type": "execute_result"
    }
   ],
   "source": [
    "from sklearn.model_selection import cross_validate\n",
    "gridSearchCV03 = GridSearchCV(knn, params, cv = numberOfFolds, n_jobs = -1)\n",
    "#gridSearchCV03.fit(X_train, y_train)\n",
    "#print(gridSearchCV03.best_score_, gridSearchCV03.best_params_)\n",
    "# Explain difference between cross_val_score and cross_validate\n",
    "#cross_val_score(gridSearchCV03, X_train, y_train, cv = numberOfFolds, n_jobs = -1)\n",
    "nestedCrossValidation = cross_validate(\n",
    "    gridSearchCV03, X_train, y_train, cv = numberOfFolds,\n",
    "    scoring = 'accuracy', n_jobs = -1, return_estimator = True\n",
    ")\n",
    "pd.DataFrame(nestedCrossValidation)\n",
    "pd.DataFrame(nestedCrossValidation).sort_values('test_score', ascending = False)"
   ]
  },
  {
   "cell_type": "code",
   "execution_count": 27,
   "id": "6cfa030e",
   "metadata": {
    "pycharm": {
     "name": "#%%\n"
    }
   },
   "outputs": [
    {
     "name": "stdout",
     "output_type": "stream",
     "text": [
      "                              estimator           bestParams  trainScore  \\\n",
      "8  KNeighborsClassifier(n_neighbors=16)  {'n_neighbors': 16}    0.929268   \n",
      "5  KNeighborsClassifier(n_neighbors=14)  {'n_neighbors': 14}    0.931707   \n",
      "6  KNeighborsClassifier(n_neighbors=15)  {'n_neighbors': 15}    0.931707   \n",
      "7  KNeighborsClassifier(n_neighbors=13)  {'n_neighbors': 13}    0.929268   \n",
      "0  KNeighborsClassifier(n_neighbors=14)  {'n_neighbors': 14}    0.938720   \n",
      "1  KNeighborsClassifier(n_neighbors=10)  {'n_neighbors': 10}    0.936280   \n",
      "2  KNeighborsClassifier(n_neighbors=13)  {'n_neighbors': 13}    0.933780   \n",
      "4  KNeighborsClassifier(n_neighbors=16)  {'n_neighbors': 16}    0.941098   \n",
      "3  KNeighborsClassifier(n_neighbors=22)  {'n_neighbors': 22}    0.931402   \n",
      "9   KNeighborsClassifier(n_neighbors=8)   {'n_neighbors': 8}    0.939024   \n",
      "\n",
      "   testScore  \n",
      "8   0.977778  \n",
      "5   0.955556  \n",
      "6   0.955556  \n",
      "7   0.955556  \n",
      "0   0.934783  \n",
      "1   0.913043  \n",
      "2   0.913043  \n",
      "4   0.913043  \n",
      "3   0.891304  \n",
      "9   0.866667  \n",
      "16\n",
      "bestParam: 16\n"
     ]
    }
   ],
   "source": [
    "all_models = nestedCrossValidation['estimator']\n",
    "all_test_scores = nestedCrossValidation['test_score']\n",
    "bestModel = []\n",
    "bestParams = []\n",
    "bestScore = []\n",
    "for estimator in all_models:\n",
    "    bestModel.append(estimator.best_estimator_)\n",
    "    bestParams.append(estimator.best_params_)\n",
    "    bestScore.append(estimator.best_score_)\n",
    "\n",
    "temp = {\n",
    "    'estimator': bestModel,\n",
    "    'bestParams': bestParams,\n",
    "    'trainScore': bestScore,\n",
    "    'testScore': all_test_scores\n",
    "}\n",
    "nestedCrossValidatedModels = pd.DataFrame(temp)\n",
    "nestedCrossValidatedModels = nestedCrossValidatedModels.sort_values('testScore', ascending = False)\n",
    "print(nestedCrossValidatedModels)\n",
    "print(nestedCrossValidatedModels.iloc[0]['bestParams']['n_neighbors'])\n",
    "bestParam = nestedCrossValidatedModels.iloc[0]['bestParams']['n_neighbors']\n",
    "TrainAccuracy = nestedCrossValidatedModels.iloc[0]['trainScore']\n",
    "print('bestParam:' , bestParam)"
   ]
  },
  {
   "cell_type": "code",
   "execution_count": 28,
   "id": "b4fd5069",
   "metadata": {
    "pycharm": {
     "name": "#%%\n"
    }
   },
   "outputs": [],
   "source": [
    "knn = KNeighborsClassifier(n_neighbors = bestParam)\n",
    "knn.fit(X_train, y_train)\n",
    "y_pred_class = knn.predict(X_test)\n",
    "TestAccuracy = metrics.accuracy_score(y_test, y_pred_class)\n",
    "AccuracyDifference = TrainAccuracy - TestAccuracy"
   ]
  },
  {
   "cell_type": "code",
   "execution_count": 29,
   "id": "392d31e9",
   "metadata": {
    "pycharm": {
     "name": "#%%\n"
    }
   },
   "outputs": [
    {
     "name": "stdout",
     "output_type": "stream",
     "text": [
      "                         Name  TrainAccuracy  TestAccuracy  AccuracyDifference\n",
      "0     Simple Cross Validation       0.908019      0.938596           -0.030577\n",
      "1         Simple GridSearchCV       0.936329      0.921053            0.015276\n",
      "2  Nested Cross Validation v1       0.929268      0.921053            0.008216\n"
     ]
    }
   ],
   "source": [
    "totalResult.append(\n",
    "    {\"Name\": \"Nested Cross Validation v1\",\n",
    "    \"TrainAccuracy\": TrainAccuracy,\n",
    "    \"TestAccuracy\": TestAccuracy,\n",
    "    \"AccuracyDifference\": AccuracyDifference}\n",
    ")\n",
    "print(pd.DataFrame(totalResult))"
   ]
  },
  {
   "cell_type": "markdown",
   "id": "5bc41be0",
   "metadata": {
    "pycharm": {
     "name": "#%% md\n"
    }
   },
   "source": [
    "### End -  Nested Cross Validation v1"
   ]
  },
  {
   "cell_type": "markdown",
   "id": "d15eb64c",
   "metadata": {
    "pycharm": {
     "name": "#%% md\n"
    }
   },
   "source": [
    "### Nested Cross Validation v2\n",
    "- Trying different ways of KFold"
   ]
  },
  {
   "cell_type": "code",
   "execution_count": 30,
   "id": "333105c9",
   "metadata": {
    "pycharm": {
     "name": "#%%\n"
    }
   },
   "outputs": [],
   "source": [
    "knn = KNeighborsClassifier()\n",
    "Name = \"\"\n",
    "TrainAccuracy = -1\n",
    "TestAccuracy = -1\n",
    "AccuracyDifference = -1\n",
    "numberOfFolds = 10"
   ]
  },
  {
   "cell_type": "code",
   "execution_count": 31,
   "id": "1fba7406",
   "metadata": {
    "pycharm": {
     "name": "#%%\n"
    }
   },
   "outputs": [],
   "source": [
    "from sklearn.model_selection import StratifiedKFold"
   ]
  },
  {
   "cell_type": "code",
   "execution_count": 32,
   "id": "0046bf0f",
   "metadata": {
    "pycharm": {
     "name": "#%%\n"
    }
   },
   "outputs": [],
   "source": [
    "innerLoop = StratifiedKFold(n_splits = numberOfFolds)\n",
    "outerLoop = StratifiedKFold(n_splits = numberOfFolds)"
   ]
  },
  {
   "cell_type": "code",
   "execution_count": 33,
   "id": "cfb37826",
   "metadata": {
    "pycharm": {
     "name": "#%%\n"
    }
   },
   "outputs": [
    {
     "data": {
      "text/plain": "   fit_time  score_time                                          estimator  \\\n8  2.785567    0.008362  GridSearchCV(cv=StratifiedKFold(n_splits=10, r...   \n5  4.047532    0.007301  GridSearchCV(cv=StratifiedKFold(n_splits=10, r...   \n6  4.008947    0.006325  GridSearchCV(cv=StratifiedKFold(n_splits=10, r...   \n7  4.108295    0.006983  GridSearchCV(cv=StratifiedKFold(n_splits=10, r...   \n0  3.887428    0.006383  GridSearchCV(cv=StratifiedKFold(n_splits=10, r...   \n1  4.061059    0.006888  GridSearchCV(cv=StratifiedKFold(n_splits=10, r...   \n2  3.895471    0.007162  GridSearchCV(cv=StratifiedKFold(n_splits=10, r...   \n4  4.135931    0.007406  GridSearchCV(cv=StratifiedKFold(n_splits=10, r...   \n3  3.631201    0.008179  GridSearchCV(cv=StratifiedKFold(n_splits=10, r...   \n9  2.824688    0.005767  GridSearchCV(cv=StratifiedKFold(n_splits=10, r...   \n\n   test_score  \n8    0.977778  \n5    0.955556  \n6    0.955556  \n7    0.955556  \n0    0.934783  \n1    0.913043  \n2    0.913043  \n4    0.913043  \n3    0.891304  \n9    0.866667  ",
      "text/html": "<div>\n<style scoped>\n    .dataframe tbody tr th:only-of-type {\n        vertical-align: middle;\n    }\n\n    .dataframe tbody tr th {\n        vertical-align: top;\n    }\n\n    .dataframe thead th {\n        text-align: right;\n    }\n</style>\n<table border=\"1\" class=\"dataframe\">\n  <thead>\n    <tr style=\"text-align: right;\">\n      <th></th>\n      <th>fit_time</th>\n      <th>score_time</th>\n      <th>estimator</th>\n      <th>test_score</th>\n    </tr>\n  </thead>\n  <tbody>\n    <tr>\n      <th>8</th>\n      <td>2.785567</td>\n      <td>0.008362</td>\n      <td>GridSearchCV(cv=StratifiedKFold(n_splits=10, r...</td>\n      <td>0.977778</td>\n    </tr>\n    <tr>\n      <th>5</th>\n      <td>4.047532</td>\n      <td>0.007301</td>\n      <td>GridSearchCV(cv=StratifiedKFold(n_splits=10, r...</td>\n      <td>0.955556</td>\n    </tr>\n    <tr>\n      <th>6</th>\n      <td>4.008947</td>\n      <td>0.006325</td>\n      <td>GridSearchCV(cv=StratifiedKFold(n_splits=10, r...</td>\n      <td>0.955556</td>\n    </tr>\n    <tr>\n      <th>7</th>\n      <td>4.108295</td>\n      <td>0.006983</td>\n      <td>GridSearchCV(cv=StratifiedKFold(n_splits=10, r...</td>\n      <td>0.955556</td>\n    </tr>\n    <tr>\n      <th>0</th>\n      <td>3.887428</td>\n      <td>0.006383</td>\n      <td>GridSearchCV(cv=StratifiedKFold(n_splits=10, r...</td>\n      <td>0.934783</td>\n    </tr>\n    <tr>\n      <th>1</th>\n      <td>4.061059</td>\n      <td>0.006888</td>\n      <td>GridSearchCV(cv=StratifiedKFold(n_splits=10, r...</td>\n      <td>0.913043</td>\n    </tr>\n    <tr>\n      <th>2</th>\n      <td>3.895471</td>\n      <td>0.007162</td>\n      <td>GridSearchCV(cv=StratifiedKFold(n_splits=10, r...</td>\n      <td>0.913043</td>\n    </tr>\n    <tr>\n      <th>4</th>\n      <td>4.135931</td>\n      <td>0.007406</td>\n      <td>GridSearchCV(cv=StratifiedKFold(n_splits=10, r...</td>\n      <td>0.913043</td>\n    </tr>\n    <tr>\n      <th>3</th>\n      <td>3.631201</td>\n      <td>0.008179</td>\n      <td>GridSearchCV(cv=StratifiedKFold(n_splits=10, r...</td>\n      <td>0.891304</td>\n    </tr>\n    <tr>\n      <th>9</th>\n      <td>2.824688</td>\n      <td>0.005767</td>\n      <td>GridSearchCV(cv=StratifiedKFold(n_splits=10, r...</td>\n      <td>0.866667</td>\n    </tr>\n  </tbody>\n</table>\n</div>"
     },
     "execution_count": 33,
     "metadata": {},
     "output_type": "execute_result"
    }
   ],
   "source": [
    "gridSearchCV04 = GridSearchCV(knn, params,cv = innerLoop, n_jobs = -1)\n",
    "nestedCrossValidationV2 = cross_validate(\n",
    "     gridSearchCV04, X_train, y_train, cv = outerLoop,\n",
    "     scoring = 'accuracy', n_jobs = -1,\n",
    "    return_estimator = True\n",
    " )\n",
    "pd.DataFrame(nestedCrossValidationV2).sort_values('test_score', ascending = False)"
   ]
  },
  {
   "cell_type": "code",
   "execution_count": 34,
   "id": "51b521a8",
   "metadata": {
    "pycharm": {
     "name": "#%%\n"
    }
   },
   "outputs": [
    {
     "name": "stdout",
     "output_type": "stream",
     "text": [
      "                              estimator           bestParams  trainScore  \\\n",
      "8  KNeighborsClassifier(n_neighbors=16)  {'n_neighbors': 16}    0.929268   \n",
      "5  KNeighborsClassifier(n_neighbors=14)  {'n_neighbors': 14}    0.931707   \n",
      "6  KNeighborsClassifier(n_neighbors=15)  {'n_neighbors': 15}    0.931707   \n",
      "7  KNeighborsClassifier(n_neighbors=13)  {'n_neighbors': 13}    0.929268   \n",
      "0  KNeighborsClassifier(n_neighbors=14)  {'n_neighbors': 14}    0.938720   \n",
      "1  KNeighborsClassifier(n_neighbors=10)  {'n_neighbors': 10}    0.936280   \n",
      "2  KNeighborsClassifier(n_neighbors=13)  {'n_neighbors': 13}    0.933780   \n",
      "4  KNeighborsClassifier(n_neighbors=16)  {'n_neighbors': 16}    0.941098   \n",
      "3  KNeighborsClassifier(n_neighbors=22)  {'n_neighbors': 22}    0.931402   \n",
      "9   KNeighborsClassifier(n_neighbors=8)   {'n_neighbors': 8}    0.939024   \n",
      "\n",
      "   testScore  \n",
      "8   0.977778  \n",
      "5   0.955556  \n",
      "6   0.955556  \n",
      "7   0.955556  \n",
      "0   0.934783  \n",
      "1   0.913043  \n",
      "2   0.913043  \n",
      "4   0.913043  \n",
      "3   0.891304  \n",
      "9   0.866667  \n",
      "16\n",
      "bestParam: 16\n"
     ]
    }
   ],
   "source": [
    "all_models = nestedCrossValidationV2['estimator']\n",
    "all_test_scores = nestedCrossValidationV2['test_score']\n",
    "bestModel = []\n",
    "bestParams = []\n",
    "bestScore = []\n",
    "for estimator in all_models:\n",
    "    bestModel.append(estimator.best_estimator_)\n",
    "    bestParams.append(estimator.best_params_)\n",
    "    bestScore.append(estimator.best_score_)\n",
    "\n",
    "temp = {\n",
    "    'estimator': bestModel,\n",
    "    'bestParams': bestParams,\n",
    "    'trainScore': bestScore,\n",
    "    'testScore': all_test_scores\n",
    "}\n",
    "nestedCrossValidatedModels = pd.DataFrame(temp)\n",
    "nestedCrossValidatedModels = nestedCrossValidatedModels.sort_values('testScore', ascending = False)\n",
    "print(nestedCrossValidatedModels)\n",
    "print(nestedCrossValidatedModels.iloc[0]['bestParams']['n_neighbors'])\n",
    "bestParam = nestedCrossValidatedModels.iloc[0]['bestParams']['n_neighbors']\n",
    "TrainAccuracy = nestedCrossValidatedModels.iloc[0]['trainScore']\n",
    "print('bestParam:' , bestParam)"
   ]
  },
  {
   "cell_type": "code",
   "execution_count": 35,
   "id": "025d7380",
   "metadata": {
    "pycharm": {
     "name": "#%%\n"
    }
   },
   "outputs": [
    {
     "name": "stdout",
     "output_type": "stream",
     "text": [
      "                         Name  TrainAccuracy  TestAccuracy  AccuracyDifference\n",
      "0     Simple Cross Validation       0.908019      0.938596           -0.030577\n",
      "1         Simple GridSearchCV       0.936329      0.921053            0.015276\n",
      "2  Nested Cross Validation v1       0.929268      0.921053            0.008216\n",
      "3  Nested Cross Validation v2       0.929268      0.921053            0.008216\n"
     ]
    }
   ],
   "source": [
    "knn = KNeighborsClassifier(n_neighbors = bestParam)\n",
    "knn.fit(X_train, y_train)\n",
    "y_pred_class = knn.predict(X_test)\n",
    "TestAccuracy = metrics.accuracy_score(y_test, y_pred_class)\n",
    "AccuracyDifference = TrainAccuracy - TestAccuracy\n",
    "totalResult.append(\n",
    "    {\"Name\": \"Nested Cross Validation v2\",\n",
    "    \"TrainAccuracy\": TrainAccuracy,\n",
    "    \"TestAccuracy\": TestAccuracy,\n",
    "    \"AccuracyDifference\": AccuracyDifference}\n",
    ")\n",
    "print(pd.DataFrame(totalResult))\n"
   ]
  },
  {
   "cell_type": "markdown",
   "id": "88a69cfc",
   "metadata": {
    "pycharm": {
     "name": "#%% md\n"
    }
   },
   "source": [
    "### End -  Nested Cross Validation v2"
   ]
  }
 ],
 "metadata": {
  "kernelspec": {
   "display_name": "Python 3",
   "language": "python",
   "name": "python3"
  },
  "language_info": {
   "codemirror_mode": {
    "name": "ipython",
    "version": 3
   },
   "file_extension": ".py",
   "mimetype": "text/x-python",
   "name": "python",
   "nbconvert_exporter": "python",
   "pygments_lexer": "ipython3",
   "version": "3.8.8"
  }
 },
 "nbformat": 4,
 "nbformat_minor": 5
}