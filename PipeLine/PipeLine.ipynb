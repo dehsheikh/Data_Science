{
 "cells": [
  {
   "cell_type": "code",
   "execution_count": 87,
   "metadata": {
    "collapsed": true,
    "pycharm": {
     "name": "#%%\n"
    }
   },
   "outputs": [],
   "source": [
    "import pandas as pd\n",
    "import numpy as np\n",
    "from sklearn.preprocessing import OneHotEncoder\n",
    "from sklearn.feature_extraction.text import CountVectorizer\n",
    "from sklearn.pipeline import make_pipeline\n",
    "from sklearn.compose import make_column_transformer\n",
    "from sklearn.neighbors import KNeighborsClassifier\n",
    "from sklearn.model_selection import train_test_split\n",
    "from sklearn.model_selection import GridSearchCV\n",
    "from sklearn.metrics import accuracy_score\n",
    "from sklearn.impute import SimpleImputer"
   ]
  },
  {
   "cell_type": "code",
   "execution_count": 88,
   "outputs": [
    {
     "data": {
      "text/plain": "     PassengerId  Survived  Pclass  \\\n0              1         0       3   \n1              2         1       1   \n2              3         1       3   \n3              4         1       1   \n4              5         0       3   \n..           ...       ...     ...   \n886          887         0       2   \n887          888         1       1   \n888          889         0       3   \n889          890         1       1   \n890          891         0       3   \n\n                                                  Name     Sex   Age  SibSp  \\\n0                              Braund, Mr. Owen Harris    male  22.0      1   \n1    Cumings, Mrs. John Bradley (Florence Briggs Th...  female  38.0      1   \n2                               Heikkinen, Miss. Laina  female  26.0      0   \n3         Futrelle, Mrs. Jacques Heath (Lily May Peel)  female  35.0      1   \n4                             Allen, Mr. William Henry    male  35.0      0   \n..                                                 ...     ...   ...    ...   \n886                              Montvila, Rev. Juozas    male  27.0      0   \n887                       Graham, Miss. Margaret Edith  female  19.0      0   \n888           Johnston, Miss. Catherine Helen \"Carrie\"  female   NaN      1   \n889                              Behr, Mr. Karl Howell    male  26.0      0   \n890                                Dooley, Mr. Patrick    male  32.0      0   \n\n     Parch            Ticket     Fare Cabin Embarked  \n0        0         A/5 21171   7.2500   NaN        S  \n1        0          PC 17599  71.2833   C85        C  \n2        0  STON/O2. 3101282   7.9250   NaN        S  \n3        0            113803  53.1000  C123        S  \n4        0            373450   8.0500   NaN        S  \n..     ...               ...      ...   ...      ...  \n886      0            211536  13.0000   NaN        S  \n887      0            112053  30.0000   B42        S  \n888      2        W./C. 6607  23.4500   NaN        S  \n889      0            111369  30.0000  C148        C  \n890      0            370376   7.7500   NaN        Q  \n\n[891 rows x 12 columns]",
      "text/html": "<div>\n<style scoped>\n    .dataframe tbody tr th:only-of-type {\n        vertical-align: middle;\n    }\n\n    .dataframe tbody tr th {\n        vertical-align: top;\n    }\n\n    .dataframe thead th {\n        text-align: right;\n    }\n</style>\n<table border=\"1\" class=\"dataframe\">\n  <thead>\n    <tr style=\"text-align: right;\">\n      <th></th>\n      <th>PassengerId</th>\n      <th>Survived</th>\n      <th>Pclass</th>\n      <th>Name</th>\n      <th>Sex</th>\n      <th>Age</th>\n      <th>SibSp</th>\n      <th>Parch</th>\n      <th>Ticket</th>\n      <th>Fare</th>\n      <th>Cabin</th>\n      <th>Embarked</th>\n    </tr>\n  </thead>\n  <tbody>\n    <tr>\n      <th>0</th>\n      <td>1</td>\n      <td>0</td>\n      <td>3</td>\n      <td>Braund, Mr. Owen Harris</td>\n      <td>male</td>\n      <td>22.0</td>\n      <td>1</td>\n      <td>0</td>\n      <td>A/5 21171</td>\n      <td>7.2500</td>\n      <td>NaN</td>\n      <td>S</td>\n    </tr>\n    <tr>\n      <th>1</th>\n      <td>2</td>\n      <td>1</td>\n      <td>1</td>\n      <td>Cumings, Mrs. John Bradley (Florence Briggs Th...</td>\n      <td>female</td>\n      <td>38.0</td>\n      <td>1</td>\n      <td>0</td>\n      <td>PC 17599</td>\n      <td>71.2833</td>\n      <td>C85</td>\n      <td>C</td>\n    </tr>\n    <tr>\n      <th>2</th>\n      <td>3</td>\n      <td>1</td>\n      <td>3</td>\n      <td>Heikkinen, Miss. Laina</td>\n      <td>female</td>\n      <td>26.0</td>\n      <td>0</td>\n      <td>0</td>\n      <td>STON/O2. 3101282</td>\n      <td>7.9250</td>\n      <td>NaN</td>\n      <td>S</td>\n    </tr>\n    <tr>\n      <th>3</th>\n      <td>4</td>\n      <td>1</td>\n      <td>1</td>\n      <td>Futrelle, Mrs. Jacques Heath (Lily May Peel)</td>\n      <td>female</td>\n      <td>35.0</td>\n      <td>1</td>\n      <td>0</td>\n      <td>113803</td>\n      <td>53.1000</td>\n      <td>C123</td>\n      <td>S</td>\n    </tr>\n    <tr>\n      <th>4</th>\n      <td>5</td>\n      <td>0</td>\n      <td>3</td>\n      <td>Allen, Mr. William Henry</td>\n      <td>male</td>\n      <td>35.0</td>\n      <td>0</td>\n      <td>0</td>\n      <td>373450</td>\n      <td>8.0500</td>\n      <td>NaN</td>\n      <td>S</td>\n    </tr>\n    <tr>\n      <th>...</th>\n      <td>...</td>\n      <td>...</td>\n      <td>...</td>\n      <td>...</td>\n      <td>...</td>\n      <td>...</td>\n      <td>...</td>\n      <td>...</td>\n      <td>...</td>\n      <td>...</td>\n      <td>...</td>\n      <td>...</td>\n    </tr>\n    <tr>\n      <th>886</th>\n      <td>887</td>\n      <td>0</td>\n      <td>2</td>\n      <td>Montvila, Rev. Juozas</td>\n      <td>male</td>\n      <td>27.0</td>\n      <td>0</td>\n      <td>0</td>\n      <td>211536</td>\n      <td>13.0000</td>\n      <td>NaN</td>\n      <td>S</td>\n    </tr>\n    <tr>\n      <th>887</th>\n      <td>888</td>\n      <td>1</td>\n      <td>1</td>\n      <td>Graham, Miss. Margaret Edith</td>\n      <td>female</td>\n      <td>19.0</td>\n      <td>0</td>\n      <td>0</td>\n      <td>112053</td>\n      <td>30.0000</td>\n      <td>B42</td>\n      <td>S</td>\n    </tr>\n    <tr>\n      <th>888</th>\n      <td>889</td>\n      <td>0</td>\n      <td>3</td>\n      <td>Johnston, Miss. Catherine Helen \"Carrie\"</td>\n      <td>female</td>\n      <td>NaN</td>\n      <td>1</td>\n      <td>2</td>\n      <td>W./C. 6607</td>\n      <td>23.4500</td>\n      <td>NaN</td>\n      <td>S</td>\n    </tr>\n    <tr>\n      <th>889</th>\n      <td>890</td>\n      <td>1</td>\n      <td>1</td>\n      <td>Behr, Mr. Karl Howell</td>\n      <td>male</td>\n      <td>26.0</td>\n      <td>0</td>\n      <td>0</td>\n      <td>111369</td>\n      <td>30.0000</td>\n      <td>C148</td>\n      <td>C</td>\n    </tr>\n    <tr>\n      <th>890</th>\n      <td>891</td>\n      <td>0</td>\n      <td>3</td>\n      <td>Dooley, Mr. Patrick</td>\n      <td>male</td>\n      <td>32.0</td>\n      <td>0</td>\n      <td>0</td>\n      <td>370376</td>\n      <td>7.7500</td>\n      <td>NaN</td>\n      <td>Q</td>\n    </tr>\n  </tbody>\n</table>\n<p>891 rows × 12 columns</p>\n</div>"
     },
     "execution_count": 88,
     "metadata": {},
     "output_type": "execute_result"
    }
   ],
   "source": [
    "titanicData = pd.read_csv('http://bit.ly/kaggletrain', index_col = None)\n",
    "titanicData"
   ],
   "metadata": {
    "collapsed": false,
    "pycharm": {
     "name": "#%%\n"
    }
   }
  },
  {
   "cell_type": "code",
   "execution_count": 89,
   "outputs": [
    {
     "data": {
      "text/plain": "Index(['PassengerId', 'Survived', 'Pclass', 'Name', 'Sex', 'Age', 'SibSp',\n       'Parch', 'Ticket', 'Fare', 'Cabin', 'Embarked'],\n      dtype='object')"
     },
     "execution_count": 89,
     "metadata": {},
     "output_type": "execute_result"
    }
   ],
   "source": [
    "titanicData.columns"
   ],
   "metadata": {
    "collapsed": false,
    "pycharm": {
     "name": "#%%\n"
    }
   }
  },
  {
   "cell_type": "code",
   "execution_count": 90,
   "outputs": [
    {
     "data": {
      "text/plain": "(891, 12)"
     },
     "execution_count": 90,
     "metadata": {},
     "output_type": "execute_result"
    }
   ],
   "source": [
    "titanicData.shape"
   ],
   "metadata": {
    "collapsed": false,
    "pycharm": {
     "name": "#%%\n"
    }
   }
  },
  {
   "cell_type": "code",
   "execution_count": 91,
   "outputs": [
    {
     "name": "stdout",
     "output_type": "stream",
     "text": [
      "<class 'pandas.core.frame.DataFrame'>\n",
      "RangeIndex: 891 entries, 0 to 890\n",
      "Data columns (total 12 columns):\n",
      " #   Column       Non-Null Count  Dtype  \n",
      "---  ------       --------------  -----  \n",
      " 0   PassengerId  891 non-null    int64  \n",
      " 1   Survived     891 non-null    int64  \n",
      " 2   Pclass       891 non-null    int64  \n",
      " 3   Name         891 non-null    object \n",
      " 4   Sex          891 non-null    object \n",
      " 5   Age          714 non-null    float64\n",
      " 6   SibSp        891 non-null    int64  \n",
      " 7   Parch        891 non-null    int64  \n",
      " 8   Ticket       891 non-null    object \n",
      " 9   Fare         891 non-null    float64\n",
      " 10  Cabin        204 non-null    object \n",
      " 11  Embarked     889 non-null    object \n",
      "dtypes: float64(2), int64(5), object(5)\n",
      "memory usage: 83.7+ KB\n"
     ]
    }
   ],
   "source": [
    "titanicData.info()"
   ],
   "metadata": {
    "collapsed": false,
    "pycharm": {
     "name": "#%%\n"
    }
   }
  },
  {
   "cell_type": "code",
   "execution_count": 92,
   "outputs": [
    {
     "data": {
      "text/plain": "     Pclass                                               Name     Sex   Age  \\\n0         3                            Braund, Mr. Owen Harris    male  22.0   \n1         1  Cumings, Mrs. John Bradley (Florence Briggs Th...  female  38.0   \n2         3                             Heikkinen, Miss. Laina  female  26.0   \n3         1       Futrelle, Mrs. Jacques Heath (Lily May Peel)  female  35.0   \n4         3                           Allen, Mr. William Henry    male  35.0   \n..      ...                                                ...     ...   ...   \n886       2                              Montvila, Rev. Juozas    male  27.0   \n887       1                       Graham, Miss. Margaret Edith  female  19.0   \n888       3           Johnston, Miss. Catherine Helen \"Carrie\"  female   NaN   \n889       1                              Behr, Mr. Karl Howell    male  26.0   \n890       3                                Dooley, Mr. Patrick    male  32.0   \n\n     SibSp  Parch Embarked     Fare  \n0        1      0        S   7.2500  \n1        1      0        C  71.2833  \n2        0      0        S   7.9250  \n3        1      0        S  53.1000  \n4        0      0        S   8.0500  \n..     ...    ...      ...      ...  \n886      0      0        S  13.0000  \n887      0      0        S  30.0000  \n888      1      2        S  23.4500  \n889      0      0        C  30.0000  \n890      0      0        Q   7.7500  \n\n[891 rows x 8 columns]",
      "text/html": "<div>\n<style scoped>\n    .dataframe tbody tr th:only-of-type {\n        vertical-align: middle;\n    }\n\n    .dataframe tbody tr th {\n        vertical-align: top;\n    }\n\n    .dataframe thead th {\n        text-align: right;\n    }\n</style>\n<table border=\"1\" class=\"dataframe\">\n  <thead>\n    <tr style=\"text-align: right;\">\n      <th></th>\n      <th>Pclass</th>\n      <th>Name</th>\n      <th>Sex</th>\n      <th>Age</th>\n      <th>SibSp</th>\n      <th>Parch</th>\n      <th>Embarked</th>\n      <th>Fare</th>\n    </tr>\n  </thead>\n  <tbody>\n    <tr>\n      <th>0</th>\n      <td>3</td>\n      <td>Braund, Mr. Owen Harris</td>\n      <td>male</td>\n      <td>22.0</td>\n      <td>1</td>\n      <td>0</td>\n      <td>S</td>\n      <td>7.2500</td>\n    </tr>\n    <tr>\n      <th>1</th>\n      <td>1</td>\n      <td>Cumings, Mrs. John Bradley (Florence Briggs Th...</td>\n      <td>female</td>\n      <td>38.0</td>\n      <td>1</td>\n      <td>0</td>\n      <td>C</td>\n      <td>71.2833</td>\n    </tr>\n    <tr>\n      <th>2</th>\n      <td>3</td>\n      <td>Heikkinen, Miss. Laina</td>\n      <td>female</td>\n      <td>26.0</td>\n      <td>0</td>\n      <td>0</td>\n      <td>S</td>\n      <td>7.9250</td>\n    </tr>\n    <tr>\n      <th>3</th>\n      <td>1</td>\n      <td>Futrelle, Mrs. Jacques Heath (Lily May Peel)</td>\n      <td>female</td>\n      <td>35.0</td>\n      <td>1</td>\n      <td>0</td>\n      <td>S</td>\n      <td>53.1000</td>\n    </tr>\n    <tr>\n      <th>4</th>\n      <td>3</td>\n      <td>Allen, Mr. William Henry</td>\n      <td>male</td>\n      <td>35.0</td>\n      <td>0</td>\n      <td>0</td>\n      <td>S</td>\n      <td>8.0500</td>\n    </tr>\n    <tr>\n      <th>...</th>\n      <td>...</td>\n      <td>...</td>\n      <td>...</td>\n      <td>...</td>\n      <td>...</td>\n      <td>...</td>\n      <td>...</td>\n      <td>...</td>\n    </tr>\n    <tr>\n      <th>886</th>\n      <td>2</td>\n      <td>Montvila, Rev. Juozas</td>\n      <td>male</td>\n      <td>27.0</td>\n      <td>0</td>\n      <td>0</td>\n      <td>S</td>\n      <td>13.0000</td>\n    </tr>\n    <tr>\n      <th>887</th>\n      <td>1</td>\n      <td>Graham, Miss. Margaret Edith</td>\n      <td>female</td>\n      <td>19.0</td>\n      <td>0</td>\n      <td>0</td>\n      <td>S</td>\n      <td>30.0000</td>\n    </tr>\n    <tr>\n      <th>888</th>\n      <td>3</td>\n      <td>Johnston, Miss. Catherine Helen \"Carrie\"</td>\n      <td>female</td>\n      <td>NaN</td>\n      <td>1</td>\n      <td>2</td>\n      <td>S</td>\n      <td>23.4500</td>\n    </tr>\n    <tr>\n      <th>889</th>\n      <td>1</td>\n      <td>Behr, Mr. Karl Howell</td>\n      <td>male</td>\n      <td>26.0</td>\n      <td>0</td>\n      <td>0</td>\n      <td>C</td>\n      <td>30.0000</td>\n    </tr>\n    <tr>\n      <th>890</th>\n      <td>3</td>\n      <td>Dooley, Mr. Patrick</td>\n      <td>male</td>\n      <td>32.0</td>\n      <td>0</td>\n      <td>0</td>\n      <td>Q</td>\n      <td>7.7500</td>\n    </tr>\n  </tbody>\n</table>\n<p>891 rows × 8 columns</p>\n</div>"
     },
     "execution_count": 92,
     "metadata": {},
     "output_type": "execute_result"
    }
   ],
   "source": [
    "cols = [\"Pclass\", \"Name\", \"Sex\", \"Age\", \"SibSp\", \"Parch\", \"Embarked\", \"Fare\"]\n",
    "titanicData_X = titanicData[cols]\n",
    "titanicData_y = titanicData[\"Survived\"]\n",
    "titanicData_X"
   ],
   "metadata": {
    "collapsed": false,
    "pycharm": {
     "name": "#%%\n"
    }
   }
  },
  {
   "cell_type": "code",
   "execution_count": 93,
   "outputs": [
    {
     "data": {
      "text/plain": "0      0\n1      1\n2      1\n3      1\n4      0\n      ..\n886    0\n887    1\n888    0\n889    1\n890    0\nName: Survived, Length: 891, dtype: int64"
     },
     "execution_count": 93,
     "metadata": {},
     "output_type": "execute_result"
    }
   ],
   "source": [
    "titanicData_y"
   ],
   "metadata": {
    "collapsed": false,
    "pycharm": {
     "name": "#%%\n"
    }
   }
  },
  {
   "cell_type": "code",
   "execution_count": 94,
   "outputs": [
    {
     "name": "stdout",
     "output_type": "stream",
     "text": [
      "<class 'pandas.core.frame.DataFrame'>\n",
      "RangeIndex: 891 entries, 0 to 890\n",
      "Data columns (total 8 columns):\n",
      " #   Column    Non-Null Count  Dtype  \n",
      "---  ------    --------------  -----  \n",
      " 0   Pclass    891 non-null    int64  \n",
      " 1   Name      891 non-null    object \n",
      " 2   Sex       891 non-null    object \n",
      " 3   Age       714 non-null    float64\n",
      " 4   SibSp     891 non-null    int64  \n",
      " 5   Parch     891 non-null    int64  \n",
      " 6   Embarked  889 non-null    object \n",
      " 7   Fare      891 non-null    float64\n",
      "dtypes: float64(2), int64(3), object(3)\n",
      "memory usage: 55.8+ KB\n"
     ]
    }
   ],
   "source": [
    "titanicData_X.info()"
   ],
   "metadata": {
    "collapsed": false,
    "pycharm": {
     "name": "#%%\n"
    }
   }
  },
  {
   "cell_type": "markdown",
   "source": [
    "### Required transformations\n",
    "- Pclass: None\n",
    "- Name: CountVectorizer\n",
    "- Sex: Categorical to Numerical\n",
    "- Age: Missing value, To numerical\n",
    "- Embarked: To numerical\n",
    "- Fare: None\n",
    "\n",
    "### Steps\n",
    "1- \"Pclass\", \"Name\", \"Sex\", \"SibSp\", \"Parch\", \"Fare\"\n",
    "2- \"Pclass\", \"Name\", \"Sex\", \"SibSp\", \"Parch\", \"Fare\", \"Age\"\n",
    "3- \"Pclass\", \"Name\", \"Sex\", \"SibSp\", \"Parch\", \"Fare\", \"Age\", \"Embarked\""
   ],
   "metadata": {
    "collapsed": false,
    "pycharm": {
     "name": "#%% md\n"
    }
   }
  },
  {
   "cell_type": "code",
   "execution_count": 95,
   "outputs": [],
   "source": [
    "step1Cols = [\"Pclass\", \"Name\", \"Sex\", \"SibSp\", \"Parch\", \"Fare\"]\n",
    "step2Cols = [\"Pclass\", \"Name\", \"Sex\", \"SibSp\", \"Parch\", \"Fare\",\"Age\"]\n",
    "step3Cols = [\"Pclass\", \"Name\", \"Sex\", \"SibSp\", \"Parch\", \"Fare\", \"Age\", \"Embarked\"]"
   ],
   "metadata": {
    "collapsed": false,
    "pycharm": {
     "name": "#%%\n"
    }
   }
  },
  {
   "cell_type": "markdown",
   "source": [
    "### Step 1"
   ],
   "metadata": {
    "collapsed": false,
    "pycharm": {
     "name": "#%% md\n"
    }
   }
  },
  {
   "cell_type": "code",
   "execution_count": 96,
   "outputs": [],
   "source": [
    "knn = KNeighborsClassifier(n_neighbors = 8)\n",
    "X_train, X_test, y_train, y_test = train_test_split(\n",
    "    titanicData_X[step1Cols], titanicData_y,\n",
    "    random_state = 40, test_size = 0.2\n",
    ")"
   ],
   "metadata": {
    "collapsed": false,
    "pycharm": {
     "name": "#%%\n"
    }
   }
  },
  {
   "cell_type": "code",
   "execution_count": 97,
   "outputs": [
    {
     "data": {
      "text/plain": "(712, 6)"
     },
     "execution_count": 97,
     "metadata": {},
     "output_type": "execute_result"
    }
   ],
   "source": [
    "X_train.shape"
   ],
   "metadata": {
    "collapsed": false,
    "pycharm": {
     "name": "#%%\n"
    }
   }
  },
  {
   "cell_type": "code",
   "execution_count": 98,
   "outputs": [
    {
     "name": "stdout",
     "output_type": "stream",
     "text": [
      "<class 'pandas.core.frame.DataFrame'>\n",
      "Int64Index: 712 entries, 661 to 326\n",
      "Data columns (total 6 columns):\n",
      " #   Column  Non-Null Count  Dtype  \n",
      "---  ------  --------------  -----  \n",
      " 0   Pclass  712 non-null    int64  \n",
      " 1   Name    712 non-null    object \n",
      " 2   Sex     712 non-null    object \n",
      " 3   SibSp   712 non-null    int64  \n",
      " 4   Parch   712 non-null    int64  \n",
      " 5   Fare    712 non-null    float64\n",
      "dtypes: float64(1), int64(3), object(2)\n",
      "memory usage: 38.9+ KB\n"
     ]
    }
   ],
   "source": [
    "X_train.info()"
   ],
   "metadata": {
    "collapsed": false,
    "pycharm": {
     "name": "#%%\n"
    }
   }
  },
  {
   "cell_type": "code",
   "execution_count": 99,
   "outputs": [
    {
     "data": {
      "text/plain": "(712,)"
     },
     "execution_count": 99,
     "metadata": {},
     "output_type": "execute_result"
    }
   ],
   "source": [
    "y_train.shape"
   ],
   "metadata": {
    "collapsed": false,
    "pycharm": {
     "name": "#%%\n"
    }
   }
  },
  {
   "cell_type": "markdown",
   "source": [
    "###"
   ],
   "metadata": {
    "collapsed": false,
    "pycharm": {
     "name": "#%% md\n"
    }
   }
  },
  {
   "cell_type": "code",
   "execution_count": 100,
   "outputs": [],
   "source": [
    "countVectorizer = CountVectorizer()\n",
    "oneHotEncoder = OneHotEncoder()"
   ],
   "metadata": {
    "collapsed": false,
    "pycharm": {
     "name": "#%%\n"
    }
   }
  },
  {
   "cell_type": "code",
   "execution_count": 101,
   "outputs": [],
   "source": [
    "step1_columnTransformer = make_column_transformer(\n",
    "    (countVectorizer, \"Name\"),\n",
    "    (oneHotEncoder, [\"Sex\"]),\n",
    "    remainder = \"passthrough\",\n",
    "    n_jobs = -1\n",
    ")"
   ],
   "metadata": {
    "collapsed": false,
    "pycharm": {
     "name": "#%%\n"
    }
   }
  },
  {
   "cell_type": "code",
   "execution_count": 102,
   "outputs": [],
   "source": [
    "step1_pipeLine = make_pipeline(step1_columnTransformer, knn)"
   ],
   "metadata": {
    "collapsed": false,
    "pycharm": {
     "name": "#%%\n"
    }
   }
  },
  {
   "cell_type": "code",
   "execution_count": 103,
   "outputs": [],
   "source": [
    "k_range = list(range(1, 31))\n",
    "params = {\"kneighborsclassifier__n_neighbors\": k_range}"
   ],
   "metadata": {
    "collapsed": false,
    "pycharm": {
     "name": "#%%\n"
    }
   }
  },
  {
   "cell_type": "code",
   "execution_count": 104,
   "outputs": [],
   "source": [
    "gridSearchCV = GridSearchCV(\n",
    "    step1_pipeLine, params, cv = 5, scoring = \"accuracy\", n_jobs = -1\n",
    ")"
   ],
   "metadata": {
    "collapsed": false,
    "pycharm": {
     "name": "#%%\n"
    }
   }
  },
  {
   "cell_type": "code",
   "execution_count": 105,
   "outputs": [
    {
     "data": {
      "text/plain": "GridSearchCV(cv=5,\n             estimator=Pipeline(steps=[('columntransformer',\n                                        ColumnTransformer(n_jobs=-1,\n                                                          remainder='passthrough',\n                                                          transformers=[('countvectorizer',\n                                                                         CountVectorizer(),\n                                                                         'Name'),\n                                                                        ('onehotencoder',\n                                                                         OneHotEncoder(),\n                                                                         ['Sex'])])),\n                                       ('kneighborsclassifier',\n                                        KNeighborsClassifier(n_neighbors=8))]),\n             n_jobs=-1,\n             param_grid={'kneighborsclassifier__n_neighbors': [1, 2, 3, 4, 5, 6,\n                                                               7, 8, 9, 10, 11,\n                                                               12, 13, 14, 15,\n                                                               16, 17, 18, 19,\n                                                               20, 21, 22, 23,\n                                                               24, 25, 26, 27,\n                                                               28, 29, 30]},\n             scoring='accuracy')"
     },
     "execution_count": 105,
     "metadata": {},
     "output_type": "execute_result"
    }
   ],
   "source": [
    "gridSearchCV.fit(X_train, y_train)"
   ],
   "metadata": {
    "collapsed": false,
    "pycharm": {
     "name": "#%%\n"
    }
   }
  },
  {
   "cell_type": "code",
   "execution_count": 106,
   "outputs": [
    {
     "data": {
      "text/plain": "0.7626514330739682"
     },
     "execution_count": 106,
     "metadata": {},
     "output_type": "execute_result"
    }
   ],
   "source": [
    "gridSearchCV.best_score_"
   ],
   "metadata": {
    "collapsed": false,
    "pycharm": {
     "name": "#%%\n"
    }
   }
  },
  {
   "cell_type": "code",
   "execution_count": 107,
   "outputs": [],
   "source": [
    "predicted = gridSearchCV.predict(X_test)"
   ],
   "metadata": {
    "collapsed": false,
    "pycharm": {
     "name": "#%%\n"
    }
   }
  },
  {
   "cell_type": "code",
   "execution_count": 108,
   "outputs": [
    {
     "name": "stdout",
     "output_type": "stream",
     "text": [
      "Step 1 Accuracy: 0.8324022346368715\n"
     ]
    }
   ],
   "source": [
    "print(\"Step 1 Accuracy:\", accuracy_score(y_test, predicted))"
   ],
   "metadata": {
    "collapsed": false,
    "pycharm": {
     "name": "#%%\n"
    }
   }
  },
  {
   "cell_type": "markdown",
   "source": [
    "### End - Step 1"
   ],
   "metadata": {
    "collapsed": false,
    "pycharm": {
     "name": "#%% md\n"
    }
   }
  },
  {
   "cell_type": "markdown",
   "source": [
    "### Step 2"
   ],
   "metadata": {
    "collapsed": false,
    "pycharm": {
     "name": "#%% md\n"
    }
   }
  },
  {
   "cell_type": "code",
   "execution_count": 109,
   "outputs": [],
   "source": [
    "knn = KNeighborsClassifier(n_neighbors = 8)\n",
    "X_train, X_test, y_train, y_test = train_test_split(\n",
    "    titanicData_X[step2Cols], titanicData_y,\n",
    "    random_state = 40, test_size = 0.2\n",
    ")"
   ],
   "metadata": {
    "collapsed": false,
    "pycharm": {
     "name": "#%%\n"
    }
   }
  },
  {
   "cell_type": "code",
   "execution_count": 110,
   "outputs": [
    {
     "name": "stdout",
     "output_type": "stream",
     "text": [
      "<class 'pandas.core.frame.DataFrame'>\n",
      "Int64Index: 712 entries, 661 to 326\n",
      "Data columns (total 7 columns):\n",
      " #   Column  Non-Null Count  Dtype  \n",
      "---  ------  --------------  -----  \n",
      " 0   Pclass  712 non-null    int64  \n",
      " 1   Name    712 non-null    object \n",
      " 2   Sex     712 non-null    object \n",
      " 3   SibSp   712 non-null    int64  \n",
      " 4   Parch   712 non-null    int64  \n",
      " 5   Fare    712 non-null    float64\n",
      " 6   Age     573 non-null    float64\n",
      "dtypes: float64(2), int64(3), object(2)\n",
      "memory usage: 44.5+ KB\n"
     ]
    }
   ],
   "source": [
    "X_train.info()"
   ],
   "metadata": {
    "collapsed": false,
    "pycharm": {
     "name": "#%%\n"
    }
   }
  },
  {
   "cell_type": "code",
   "execution_count": 111,
   "outputs": [
    {
     "data": {
      "text/plain": "Pclass      0\nName        0\nSex         0\nSibSp       0\nParch       0\nFare        0\nAge       139\ndtype: int64"
     },
     "execution_count": 111,
     "metadata": {},
     "output_type": "execute_result"
    }
   ],
   "source": [
    "X_train.isna().sum()"
   ],
   "metadata": {
    "collapsed": false,
    "pycharm": {
     "name": "#%%\n"
    }
   }
  },
  {
   "cell_type": "code",
   "execution_count": 112,
   "outputs": [],
   "source": [
    "step2_simpleImputer = SimpleImputer()"
   ],
   "metadata": {
    "collapsed": false,
    "pycharm": {
     "name": "#%%\n"
    }
   }
  },
  {
   "cell_type": "code",
   "execution_count": 113,
   "outputs": [],
   "source": [
    "step2_columnTransformer = make_column_transformer(\n",
    "    (countVectorizer, \"Name\"),\n",
    "    (oneHotEncoder, [\"Sex\"]),\n",
    "    (step2_simpleImputer, [\"Age\"]),\n",
    "    remainder = \"passthrough\",\n",
    "    n_jobs = -1\n",
    ")"
   ],
   "metadata": {
    "collapsed": false,
    "pycharm": {
     "name": "#%%\n"
    }
   }
  },
  {
   "cell_type": "code",
   "execution_count": 114,
   "outputs": [],
   "source": [
    "step2_pipeLine = make_pipeline(\n",
    "    step2_columnTransformer, knn\n",
    ")"
   ],
   "metadata": {
    "collapsed": false,
    "pycharm": {
     "name": "#%%\n"
    }
   }
  },
  {
   "cell_type": "code",
   "execution_count": 115,
   "outputs": [],
   "source": [
    "step2_gridSearchCV = GridSearchCV(\n",
    "    step2_pipeLine, params, cv = 5, scoring = \"accuracy\", n_jobs = -1\n",
    ")"
   ],
   "metadata": {
    "collapsed": false,
    "pycharm": {
     "name": "#%%\n"
    }
   }
  },
  {
   "cell_type": "code",
   "execution_count": 116,
   "outputs": [
    {
     "data": {
      "text/plain": "GridSearchCV(cv=5,\n             estimator=Pipeline(steps=[('columntransformer',\n                                        ColumnTransformer(n_jobs=-1,\n                                                          remainder='passthrough',\n                                                          transformers=[('countvectorizer',\n                                                                         CountVectorizer(),\n                                                                         'Name'),\n                                                                        ('onehotencoder',\n                                                                         OneHotEncoder(),\n                                                                         ['Sex']),\n                                                                        ('simpleimputer',\n                                                                         SimpleImputer(),\n                                                                         ['Age'])])),\n                                       ('kneighborsclassifier',\n                                        KNeighborsClassifier(n_neighbors=8))]),\n             n_jobs=-1,\n             param_grid={'kneighborsclassifier__n_neighbors': [1, 2, 3, 4, 5, 6,\n                                                               7, 8, 9, 10, 11,\n                                                               12, 13, 14, 15,\n                                                               16, 17, 18, 19,\n                                                               20, 21, 22, 23,\n                                                               24, 25, 26, 27,\n                                                               28, 29, 30]},\n             scoring='accuracy')"
     },
     "execution_count": 116,
     "metadata": {},
     "output_type": "execute_result"
    }
   ],
   "source": [
    "step2_gridSearchCV.fit(X_train, y_train)"
   ],
   "metadata": {
    "collapsed": false,
    "pycharm": {
     "name": "#%%\n"
    }
   }
  },
  {
   "cell_type": "code",
   "execution_count": 117,
   "outputs": [
    {
     "data": {
      "text/plain": "0.719078104993598"
     },
     "execution_count": 117,
     "metadata": {},
     "output_type": "execute_result"
    }
   ],
   "source": [
    "step2_gridSearchCV.best_score_"
   ],
   "metadata": {
    "collapsed": false,
    "pycharm": {
     "name": "#%%\n"
    }
   }
  },
  {
   "cell_type": "code",
   "execution_count": 118,
   "outputs": [
    {
     "name": "stdout",
     "output_type": "stream",
     "text": [
      "Step 2 Accuracy: 0.7318435754189944\n"
     ]
    }
   ],
   "source": [
    "predicted = step2_gridSearchCV.predict(X_test)\n",
    "print(\"Step 2 Accuracy:\", accuracy_score(y_test, predicted))"
   ],
   "metadata": {
    "collapsed": false,
    "pycharm": {
     "name": "#%%\n"
    }
   }
  },
  {
   "cell_type": "markdown",
   "source": [
    "### End - Step2"
   ],
   "metadata": {
    "collapsed": false,
    "pycharm": {
     "name": "#%% md\n"
    }
   }
  },
  {
   "cell_type": "code",
   "execution_count": 119,
   "outputs": [],
   "source": [
    "knn = KNeighborsClassifier(n_neighbors = 8)\n",
    "X_train, X_test, y_train, y_test = train_test_split(\n",
    "    titanicData_X[step3Cols], titanicData_y,\n",
    "    random_state = 40, test_size = 0.2\n",
    ")"
   ],
   "metadata": {
    "collapsed": false,
    "pycharm": {
     "name": "#%%\n"
    }
   }
  },
  {
   "cell_type": "code",
   "execution_count": 120,
   "outputs": [
    {
     "name": "stdout",
     "output_type": "stream",
     "text": [
      "<class 'pandas.core.frame.DataFrame'>\n",
      "Int64Index: 712 entries, 661 to 326\n",
      "Data columns (total 8 columns):\n",
      " #   Column    Non-Null Count  Dtype  \n",
      "---  ------    --------------  -----  \n",
      " 0   Pclass    712 non-null    int64  \n",
      " 1   Name      712 non-null    object \n",
      " 2   Sex       712 non-null    object \n",
      " 3   SibSp     712 non-null    int64  \n",
      " 4   Parch     712 non-null    int64  \n",
      " 5   Fare      712 non-null    float64\n",
      " 6   Age       573 non-null    float64\n",
      " 7   Embarked  711 non-null    object \n",
      "dtypes: float64(2), int64(3), object(3)\n",
      "memory usage: 50.1+ KB\n"
     ]
    }
   ],
   "source": [
    "X_train.info()"
   ],
   "metadata": {
    "collapsed": false,
    "pycharm": {
     "name": "#%%\n"
    }
   }
  },
  {
   "cell_type": "code",
   "execution_count": 121,
   "outputs": [
    {
     "data": {
      "text/plain": "S    514\nC    132\nQ     65\nName: Embarked, dtype: int64"
     },
     "execution_count": 121,
     "metadata": {},
     "output_type": "execute_result"
    }
   ],
   "source": [
    "X_train[\"Embarked\"].value_counts()"
   ],
   "metadata": {
    "collapsed": false,
    "pycharm": {
     "name": "#%%\n"
    }
   }
  },
  {
   "cell_type": "code",
   "execution_count": 122,
   "outputs": [],
   "source": [
    "ageImputer = SimpleImputer(strategy = \"median\")\n",
    "embarkedOneHotEncoder = OneHotEncoder()\n",
    "embarkedImputer = SimpleImputer(\n",
    "    strategy = \"constant\",\n",
    "    fill_value = \"missing\"\n",
    ")\n",
    "step3TransfomerPipeline = make_pipeline(embarkedImputer, embarkedOneHotEncoder)"
   ],
   "metadata": {
    "collapsed": false,
    "pycharm": {
     "name": "#%%\n"
    }
   }
  },
  {
   "cell_type": "code",
   "execution_count": 123,
   "outputs": [
    {
     "data": {
      "text/plain": "<712x1264 sparse matrix of type '<class 'numpy.float64'>'\n\twith 6781 stored elements in Compressed Sparse Row format>"
     },
     "execution_count": 123,
     "metadata": {},
     "output_type": "execute_result"
    }
   ],
   "source": [
    "step3_columnTransformer = make_column_transformer(\n",
    "    (countVectorizer, \"Name\"),\n",
    "    (oneHotEncoder, [\"Sex\"]),\n",
    "    (ageImputer, [\"Age\"]),\n",
    "    (step3TransfomerPipeline, [\"Embarked\"]),\n",
    "    remainder = \"passthrough\",\n",
    "    n_jobs = -1\n",
    ")\n",
    "step3_columnTransformer.fit_transform(X_train)"
   ],
   "metadata": {
    "collapsed": false,
    "pycharm": {
     "name": "#%%\n"
    }
   }
  },
  {
   "cell_type": "code",
   "execution_count": 124,
   "outputs": [
    {
     "data": {
      "text/plain": "Pipeline(steps=[('columntransformer',\n                 ColumnTransformer(n_jobs=-1, remainder='passthrough',\n                                   transformers=[('countvectorizer',\n                                                  CountVectorizer(), 'Name'),\n                                                 ('onehotencoder',\n                                                  OneHotEncoder(), ['Sex']),\n                                                 ('simpleimputer',\n                                                  SimpleImputer(strategy='median'),\n                                                  ['Age']),\n                                                 ('pipeline',\n                                                  Pipeline(steps=[('simpleimputer',\n                                                                   SimpleImputer(fill_value='missing',\n                                                                                 strategy='constant')),\n                                                                  ('onehotencoder',\n                                                                   OneHotEncoder())]),\n                                                  ['Embarked'])])),\n                ('kneighborsclassifier', KNeighborsClassifier(n_neighbors=8))])"
     },
     "execution_count": 124,
     "metadata": {},
     "output_type": "execute_result"
    }
   ],
   "source": [
    "step3_pipeline = make_pipeline(\n",
    "    step3_columnTransformer,\n",
    "    knn\n",
    ")\n",
    "step3_pipeline.fit(X_train, y_train)"
   ],
   "metadata": {
    "collapsed": false,
    "pycharm": {
     "name": "#%%\n"
    }
   }
  },
  {
   "cell_type": "code",
   "execution_count": 125,
   "outputs": [
    {
     "name": "stderr",
     "output_type": "stream",
     "text": [
      "/opt/anaconda3/lib/python3.8/site-packages/sklearn/model_selection/_search.py:918: UserWarning: One or more of the test scores are non-finite: [nan nan nan nan nan nan nan nan nan nan nan nan nan nan nan nan nan nan\n",
      " nan nan nan nan nan nan nan nan nan nan nan nan]\n",
      "  warnings.warn(\n"
     ]
    },
    {
     "data": {
      "text/plain": "GridSearchCV(cv=5,\n             estimator=Pipeline(steps=[('columntransformer',\n                                        ColumnTransformer(n_jobs=-1,\n                                                          remainder='passthrough',\n                                                          transformers=[('countvectorizer',\n                                                                         CountVectorizer(),\n                                                                         'Name'),\n                                                                        ('onehotencoder',\n                                                                         OneHotEncoder(),\n                                                                         ['Sex']),\n                                                                        ('simpleimputer',\n                                                                         SimpleImputer(strategy='median'),\n                                                                         ['Age']),\n                                                                        ('pipeline',\n                                                                         Pipeline(steps=[('simpleimputer',\n                                                                                          SimpleImputer(fill_value='missing',\n                                                                                                        strategy='constant')),\n                                                                                         ('onehotencoder',\n                                                                                          OneHotEncoder())]),\n                                                                         ['Embarked'])])),\n                                       ('kneighborsclassifier',\n                                        KNeighborsClassifier(n_neighbors=8))]),\n             n_jobs=-1,\n             param_grid={'kneighborsclassifier__n_neighbors': [1, 2, 3, 4, 5, 6,\n                                                               7, 8, 9, 10, 11,\n                                                               12, 13, 14, 15,\n                                                               16, 17, 18, 19,\n                                                               20, 21, 22, 23,\n                                                               24, 25, 26, 27,\n                                                               28, 29, 30]},\n             scoring='accuracy')"
     },
     "execution_count": 125,
     "metadata": {},
     "output_type": "execute_result"
    }
   ],
   "source": [
    "step3_gridSearchCV = GridSearchCV(\n",
    "    step3_pipeline,\n",
    "    params,\n",
    "    cv = 5,\n",
    "    scoring = \"accuracy\",\n",
    "    n_jobs = -1\n",
    ")\n",
    "step3_gridSearchCV.fit(X_train, y_train)"
   ],
   "metadata": {
    "collapsed": false,
    "pycharm": {
     "name": "#%%\n"
    }
   }
  },
  {
   "cell_type": "code",
   "execution_count": 126,
   "outputs": [
    {
     "data": {
      "text/plain": "    mean_fit_time  std_fit_time  mean_score_time  std_score_time  \\\n0        0.070057      0.012544         0.036568        0.008444   \n1        0.048306      0.004305         0.037370        0.010158   \n2        0.046069      0.003327         0.039179        0.008643   \n3        0.050313      0.004642         0.040109        0.008842   \n4        0.061917      0.015442         0.043714        0.011621   \n5        0.060427      0.010079         0.053376        0.016347   \n6        0.055821      0.001819         0.040202        0.010608   \n7        0.050566      0.005144         0.046173        0.015669   \n8        0.053281      0.001989         0.044676        0.008796   \n9        0.052452      0.007240         0.036845        0.006787   \n10       0.044846      0.001561         0.038586        0.003812   \n11       0.044915      0.000625         0.034972        0.009195   \n12       0.049629      0.004362         0.038299        0.007544   \n13       0.052808      0.004865         0.055718        0.029276   \n14       0.094944      0.029551         0.090747        0.042291   \n15       0.117561      0.014647         0.098949        0.037601   \n16       0.110782      0.024696         0.096551        0.035533   \n17       0.096758      0.010308         0.080960        0.036139   \n18       0.104048      0.029198         0.096428        0.047964   \n19       0.079810      0.019445         0.081863        0.038832   \n20       0.059452      0.011657         0.052447        0.018149   \n21       0.051758      0.002548         0.042953        0.008302   \n22       0.051823      0.005973         0.051620        0.012535   \n23       0.052297      0.006656         0.049310        0.014221   \n24       0.055050      0.008391         0.056898        0.015440   \n25       0.075936      0.013394         0.075249        0.029418   \n26       0.065123      0.015497         0.057563        0.025300   \n27       0.057503      0.012209         0.058846        0.027012   \n28       0.071154      0.016475         0.068664        0.030418   \n29       0.062374      0.017650         0.058573        0.024001   \n\n   param_kneighborsclassifier__n_neighbors  \\\n0                                        1   \n1                                        2   \n2                                        3   \n3                                        4   \n4                                        5   \n5                                        6   \n6                                        7   \n7                                        8   \n8                                        9   \n9                                       10   \n10                                      11   \n11                                      12   \n12                                      13   \n13                                      14   \n14                                      15   \n15                                      16   \n16                                      17   \n17                                      18   \n18                                      19   \n19                                      20   \n20                                      21   \n21                                      22   \n22                                      23   \n23                                      24   \n24                                      25   \n25                                      26   \n26                                      27   \n27                                      28   \n28                                      29   \n29                                      30   \n\n                                       params  split0_test_score  \\\n0    {'kneighborsclassifier__n_neighbors': 1}           0.608392   \n1    {'kneighborsclassifier__n_neighbors': 2}           0.664336   \n2    {'kneighborsclassifier__n_neighbors': 3}           0.706294   \n3    {'kneighborsclassifier__n_neighbors': 4}           0.720280   \n4    {'kneighborsclassifier__n_neighbors': 5}           0.713287   \n5    {'kneighborsclassifier__n_neighbors': 6}           0.713287   \n6    {'kneighborsclassifier__n_neighbors': 7}           0.699301   \n7    {'kneighborsclassifier__n_neighbors': 8}           0.699301   \n8    {'kneighborsclassifier__n_neighbors': 9}           0.720280   \n9   {'kneighborsclassifier__n_neighbors': 10}           0.727273   \n10  {'kneighborsclassifier__n_neighbors': 11}           0.748252   \n11  {'kneighborsclassifier__n_neighbors': 12}           0.727273   \n12  {'kneighborsclassifier__n_neighbors': 13}           0.713287   \n13  {'kneighborsclassifier__n_neighbors': 14}           0.734266   \n14  {'kneighborsclassifier__n_neighbors': 15}           0.748252   \n15  {'kneighborsclassifier__n_neighbors': 16}           0.748252   \n16  {'kneighborsclassifier__n_neighbors': 17}           0.734266   \n17  {'kneighborsclassifier__n_neighbors': 18}           0.769231   \n18  {'kneighborsclassifier__n_neighbors': 19}           0.727273   \n19  {'kneighborsclassifier__n_neighbors': 20}           0.741259   \n20  {'kneighborsclassifier__n_neighbors': 21}           0.727273   \n21  {'kneighborsclassifier__n_neighbors': 22}           0.720280   \n22  {'kneighborsclassifier__n_neighbors': 23}           0.692308   \n23  {'kneighborsclassifier__n_neighbors': 24}           0.699301   \n24  {'kneighborsclassifier__n_neighbors': 25}           0.671329   \n25  {'kneighborsclassifier__n_neighbors': 26}           0.678322   \n26  {'kneighborsclassifier__n_neighbors': 27}           0.699301   \n27  {'kneighborsclassifier__n_neighbors': 28}           0.678322   \n28  {'kneighborsclassifier__n_neighbors': 29}           0.678322   \n29  {'kneighborsclassifier__n_neighbors': 30}           0.671329   \n\n    split1_test_score  split2_test_score  split3_test_score  \\\n0            0.699301           0.739437                NaN   \n1            0.664336           0.697183                NaN   \n2            0.685315           0.767606                NaN   \n3            0.706294           0.718310                NaN   \n4            0.706294           0.704225                NaN   \n5            0.685315           0.683099                NaN   \n6            0.657343           0.697183                NaN   \n7            0.664336           0.704225                NaN   \n8            0.685315           0.697183                NaN   \n9            0.720280           0.711268                NaN   \n10           0.692308           0.711268                NaN   \n11           0.706294           0.690141                NaN   \n12           0.727273           0.697183                NaN   \n13           0.755245           0.704225                NaN   \n14           0.755245           0.697183                NaN   \n15           0.748252           0.683099                NaN   \n16           0.734266           0.683099                NaN   \n17           0.720280           0.669014                NaN   \n18           0.720280           0.676056                NaN   \n19           0.727273           0.690141                NaN   \n20           0.720280           0.697183                NaN   \n21           0.727273           0.690141                NaN   \n22           0.713287           0.697183                NaN   \n23           0.713287           0.690141                NaN   \n24           0.713287           0.683099                NaN   \n25           0.692308           0.690141                NaN   \n26           0.692308           0.683099                NaN   \n27           0.671329           0.683099                NaN   \n28           0.699301           0.654930                NaN   \n29           0.657343           0.683099                NaN   \n\n    split4_test_score  mean_test_score  std_test_score  rank_test_score  \n0            0.676056              NaN             NaN                1  \n1            0.676056              NaN             NaN               28  \n2            0.690141              NaN             NaN               27  \n3            0.690141              NaN             NaN               26  \n4            0.718310              NaN             NaN               25  \n5            0.718310              NaN             NaN               24  \n6            0.732394              NaN             NaN               23  \n7            0.725352              NaN             NaN               22  \n8            0.711268              NaN             NaN               21  \n9            0.697183              NaN             NaN               20  \n10           0.697183              NaN             NaN               19  \n11           0.697183              NaN             NaN               18  \n12           0.711268              NaN             NaN               17  \n13           0.711268              NaN             NaN               16  \n14           0.704225              NaN             NaN               15  \n15           0.661972              NaN             NaN               14  \n16           0.690141              NaN             NaN               13  \n17           0.669014              NaN             NaN               12  \n18           0.669014              NaN             NaN               11  \n19           0.661972              NaN             NaN               10  \n20           0.647887              NaN             NaN                9  \n21           0.669014              NaN             NaN                8  \n22           0.683099              NaN             NaN                7  \n23           0.654930              NaN             NaN                6  \n24           0.647887              NaN             NaN                5  \n25           0.647887              NaN             NaN                4  \n26           0.640845              NaN             NaN                3  \n27           0.633803              NaN             NaN                2  \n28           0.640845              NaN             NaN               29  \n29           0.640845              NaN             NaN               30  ",
      "text/html": "<div>\n<style scoped>\n    .dataframe tbody tr th:only-of-type {\n        vertical-align: middle;\n    }\n\n    .dataframe tbody tr th {\n        vertical-align: top;\n    }\n\n    .dataframe thead th {\n        text-align: right;\n    }\n</style>\n<table border=\"1\" class=\"dataframe\">\n  <thead>\n    <tr style=\"text-align: right;\">\n      <th></th>\n      <th>mean_fit_time</th>\n      <th>std_fit_time</th>\n      <th>mean_score_time</th>\n      <th>std_score_time</th>\n      <th>param_kneighborsclassifier__n_neighbors</th>\n      <th>params</th>\n      <th>split0_test_score</th>\n      <th>split1_test_score</th>\n      <th>split2_test_score</th>\n      <th>split3_test_score</th>\n      <th>split4_test_score</th>\n      <th>mean_test_score</th>\n      <th>std_test_score</th>\n      <th>rank_test_score</th>\n    </tr>\n  </thead>\n  <tbody>\n    <tr>\n      <th>0</th>\n      <td>0.070057</td>\n      <td>0.012544</td>\n      <td>0.036568</td>\n      <td>0.008444</td>\n      <td>1</td>\n      <td>{'kneighborsclassifier__n_neighbors': 1}</td>\n      <td>0.608392</td>\n      <td>0.699301</td>\n      <td>0.739437</td>\n      <td>NaN</td>\n      <td>0.676056</td>\n      <td>NaN</td>\n      <td>NaN</td>\n      <td>1</td>\n    </tr>\n    <tr>\n      <th>1</th>\n      <td>0.048306</td>\n      <td>0.004305</td>\n      <td>0.037370</td>\n      <td>0.010158</td>\n      <td>2</td>\n      <td>{'kneighborsclassifier__n_neighbors': 2}</td>\n      <td>0.664336</td>\n      <td>0.664336</td>\n      <td>0.697183</td>\n      <td>NaN</td>\n      <td>0.676056</td>\n      <td>NaN</td>\n      <td>NaN</td>\n      <td>28</td>\n    </tr>\n    <tr>\n      <th>2</th>\n      <td>0.046069</td>\n      <td>0.003327</td>\n      <td>0.039179</td>\n      <td>0.008643</td>\n      <td>3</td>\n      <td>{'kneighborsclassifier__n_neighbors': 3}</td>\n      <td>0.706294</td>\n      <td>0.685315</td>\n      <td>0.767606</td>\n      <td>NaN</td>\n      <td>0.690141</td>\n      <td>NaN</td>\n      <td>NaN</td>\n      <td>27</td>\n    </tr>\n    <tr>\n      <th>3</th>\n      <td>0.050313</td>\n      <td>0.004642</td>\n      <td>0.040109</td>\n      <td>0.008842</td>\n      <td>4</td>\n      <td>{'kneighborsclassifier__n_neighbors': 4}</td>\n      <td>0.720280</td>\n      <td>0.706294</td>\n      <td>0.718310</td>\n      <td>NaN</td>\n      <td>0.690141</td>\n      <td>NaN</td>\n      <td>NaN</td>\n      <td>26</td>\n    </tr>\n    <tr>\n      <th>4</th>\n      <td>0.061917</td>\n      <td>0.015442</td>\n      <td>0.043714</td>\n      <td>0.011621</td>\n      <td>5</td>\n      <td>{'kneighborsclassifier__n_neighbors': 5}</td>\n      <td>0.713287</td>\n      <td>0.706294</td>\n      <td>0.704225</td>\n      <td>NaN</td>\n      <td>0.718310</td>\n      <td>NaN</td>\n      <td>NaN</td>\n      <td>25</td>\n    </tr>\n    <tr>\n      <th>5</th>\n      <td>0.060427</td>\n      <td>0.010079</td>\n      <td>0.053376</td>\n      <td>0.016347</td>\n      <td>6</td>\n      <td>{'kneighborsclassifier__n_neighbors': 6}</td>\n      <td>0.713287</td>\n      <td>0.685315</td>\n      <td>0.683099</td>\n      <td>NaN</td>\n      <td>0.718310</td>\n      <td>NaN</td>\n      <td>NaN</td>\n      <td>24</td>\n    </tr>\n    <tr>\n      <th>6</th>\n      <td>0.055821</td>\n      <td>0.001819</td>\n      <td>0.040202</td>\n      <td>0.010608</td>\n      <td>7</td>\n      <td>{'kneighborsclassifier__n_neighbors': 7}</td>\n      <td>0.699301</td>\n      <td>0.657343</td>\n      <td>0.697183</td>\n      <td>NaN</td>\n      <td>0.732394</td>\n      <td>NaN</td>\n      <td>NaN</td>\n      <td>23</td>\n    </tr>\n    <tr>\n      <th>7</th>\n      <td>0.050566</td>\n      <td>0.005144</td>\n      <td>0.046173</td>\n      <td>0.015669</td>\n      <td>8</td>\n      <td>{'kneighborsclassifier__n_neighbors': 8}</td>\n      <td>0.699301</td>\n      <td>0.664336</td>\n      <td>0.704225</td>\n      <td>NaN</td>\n      <td>0.725352</td>\n      <td>NaN</td>\n      <td>NaN</td>\n      <td>22</td>\n    </tr>\n    <tr>\n      <th>8</th>\n      <td>0.053281</td>\n      <td>0.001989</td>\n      <td>0.044676</td>\n      <td>0.008796</td>\n      <td>9</td>\n      <td>{'kneighborsclassifier__n_neighbors': 9}</td>\n      <td>0.720280</td>\n      <td>0.685315</td>\n      <td>0.697183</td>\n      <td>NaN</td>\n      <td>0.711268</td>\n      <td>NaN</td>\n      <td>NaN</td>\n      <td>21</td>\n    </tr>\n    <tr>\n      <th>9</th>\n      <td>0.052452</td>\n      <td>0.007240</td>\n      <td>0.036845</td>\n      <td>0.006787</td>\n      <td>10</td>\n      <td>{'kneighborsclassifier__n_neighbors': 10}</td>\n      <td>0.727273</td>\n      <td>0.720280</td>\n      <td>0.711268</td>\n      <td>NaN</td>\n      <td>0.697183</td>\n      <td>NaN</td>\n      <td>NaN</td>\n      <td>20</td>\n    </tr>\n    <tr>\n      <th>10</th>\n      <td>0.044846</td>\n      <td>0.001561</td>\n      <td>0.038586</td>\n      <td>0.003812</td>\n      <td>11</td>\n      <td>{'kneighborsclassifier__n_neighbors': 11}</td>\n      <td>0.748252</td>\n      <td>0.692308</td>\n      <td>0.711268</td>\n      <td>NaN</td>\n      <td>0.697183</td>\n      <td>NaN</td>\n      <td>NaN</td>\n      <td>19</td>\n    </tr>\n    <tr>\n      <th>11</th>\n      <td>0.044915</td>\n      <td>0.000625</td>\n      <td>0.034972</td>\n      <td>0.009195</td>\n      <td>12</td>\n      <td>{'kneighborsclassifier__n_neighbors': 12}</td>\n      <td>0.727273</td>\n      <td>0.706294</td>\n      <td>0.690141</td>\n      <td>NaN</td>\n      <td>0.697183</td>\n      <td>NaN</td>\n      <td>NaN</td>\n      <td>18</td>\n    </tr>\n    <tr>\n      <th>12</th>\n      <td>0.049629</td>\n      <td>0.004362</td>\n      <td>0.038299</td>\n      <td>0.007544</td>\n      <td>13</td>\n      <td>{'kneighborsclassifier__n_neighbors': 13}</td>\n      <td>0.713287</td>\n      <td>0.727273</td>\n      <td>0.697183</td>\n      <td>NaN</td>\n      <td>0.711268</td>\n      <td>NaN</td>\n      <td>NaN</td>\n      <td>17</td>\n    </tr>\n    <tr>\n      <th>13</th>\n      <td>0.052808</td>\n      <td>0.004865</td>\n      <td>0.055718</td>\n      <td>0.029276</td>\n      <td>14</td>\n      <td>{'kneighborsclassifier__n_neighbors': 14}</td>\n      <td>0.734266</td>\n      <td>0.755245</td>\n      <td>0.704225</td>\n      <td>NaN</td>\n      <td>0.711268</td>\n      <td>NaN</td>\n      <td>NaN</td>\n      <td>16</td>\n    </tr>\n    <tr>\n      <th>14</th>\n      <td>0.094944</td>\n      <td>0.029551</td>\n      <td>0.090747</td>\n      <td>0.042291</td>\n      <td>15</td>\n      <td>{'kneighborsclassifier__n_neighbors': 15}</td>\n      <td>0.748252</td>\n      <td>0.755245</td>\n      <td>0.697183</td>\n      <td>NaN</td>\n      <td>0.704225</td>\n      <td>NaN</td>\n      <td>NaN</td>\n      <td>15</td>\n    </tr>\n    <tr>\n      <th>15</th>\n      <td>0.117561</td>\n      <td>0.014647</td>\n      <td>0.098949</td>\n      <td>0.037601</td>\n      <td>16</td>\n      <td>{'kneighborsclassifier__n_neighbors': 16}</td>\n      <td>0.748252</td>\n      <td>0.748252</td>\n      <td>0.683099</td>\n      <td>NaN</td>\n      <td>0.661972</td>\n      <td>NaN</td>\n      <td>NaN</td>\n      <td>14</td>\n    </tr>\n    <tr>\n      <th>16</th>\n      <td>0.110782</td>\n      <td>0.024696</td>\n      <td>0.096551</td>\n      <td>0.035533</td>\n      <td>17</td>\n      <td>{'kneighborsclassifier__n_neighbors': 17}</td>\n      <td>0.734266</td>\n      <td>0.734266</td>\n      <td>0.683099</td>\n      <td>NaN</td>\n      <td>0.690141</td>\n      <td>NaN</td>\n      <td>NaN</td>\n      <td>13</td>\n    </tr>\n    <tr>\n      <th>17</th>\n      <td>0.096758</td>\n      <td>0.010308</td>\n      <td>0.080960</td>\n      <td>0.036139</td>\n      <td>18</td>\n      <td>{'kneighborsclassifier__n_neighbors': 18}</td>\n      <td>0.769231</td>\n      <td>0.720280</td>\n      <td>0.669014</td>\n      <td>NaN</td>\n      <td>0.669014</td>\n      <td>NaN</td>\n      <td>NaN</td>\n      <td>12</td>\n    </tr>\n    <tr>\n      <th>18</th>\n      <td>0.104048</td>\n      <td>0.029198</td>\n      <td>0.096428</td>\n      <td>0.047964</td>\n      <td>19</td>\n      <td>{'kneighborsclassifier__n_neighbors': 19}</td>\n      <td>0.727273</td>\n      <td>0.720280</td>\n      <td>0.676056</td>\n      <td>NaN</td>\n      <td>0.669014</td>\n      <td>NaN</td>\n      <td>NaN</td>\n      <td>11</td>\n    </tr>\n    <tr>\n      <th>19</th>\n      <td>0.079810</td>\n      <td>0.019445</td>\n      <td>0.081863</td>\n      <td>0.038832</td>\n      <td>20</td>\n      <td>{'kneighborsclassifier__n_neighbors': 20}</td>\n      <td>0.741259</td>\n      <td>0.727273</td>\n      <td>0.690141</td>\n      <td>NaN</td>\n      <td>0.661972</td>\n      <td>NaN</td>\n      <td>NaN</td>\n      <td>10</td>\n    </tr>\n    <tr>\n      <th>20</th>\n      <td>0.059452</td>\n      <td>0.011657</td>\n      <td>0.052447</td>\n      <td>0.018149</td>\n      <td>21</td>\n      <td>{'kneighborsclassifier__n_neighbors': 21}</td>\n      <td>0.727273</td>\n      <td>0.720280</td>\n      <td>0.697183</td>\n      <td>NaN</td>\n      <td>0.647887</td>\n      <td>NaN</td>\n      <td>NaN</td>\n      <td>9</td>\n    </tr>\n    <tr>\n      <th>21</th>\n      <td>0.051758</td>\n      <td>0.002548</td>\n      <td>0.042953</td>\n      <td>0.008302</td>\n      <td>22</td>\n      <td>{'kneighborsclassifier__n_neighbors': 22}</td>\n      <td>0.720280</td>\n      <td>0.727273</td>\n      <td>0.690141</td>\n      <td>NaN</td>\n      <td>0.669014</td>\n      <td>NaN</td>\n      <td>NaN</td>\n      <td>8</td>\n    </tr>\n    <tr>\n      <th>22</th>\n      <td>0.051823</td>\n      <td>0.005973</td>\n      <td>0.051620</td>\n      <td>0.012535</td>\n      <td>23</td>\n      <td>{'kneighborsclassifier__n_neighbors': 23}</td>\n      <td>0.692308</td>\n      <td>0.713287</td>\n      <td>0.697183</td>\n      <td>NaN</td>\n      <td>0.683099</td>\n      <td>NaN</td>\n      <td>NaN</td>\n      <td>7</td>\n    </tr>\n    <tr>\n      <th>23</th>\n      <td>0.052297</td>\n      <td>0.006656</td>\n      <td>0.049310</td>\n      <td>0.014221</td>\n      <td>24</td>\n      <td>{'kneighborsclassifier__n_neighbors': 24}</td>\n      <td>0.699301</td>\n      <td>0.713287</td>\n      <td>0.690141</td>\n      <td>NaN</td>\n      <td>0.654930</td>\n      <td>NaN</td>\n      <td>NaN</td>\n      <td>6</td>\n    </tr>\n    <tr>\n      <th>24</th>\n      <td>0.055050</td>\n      <td>0.008391</td>\n      <td>0.056898</td>\n      <td>0.015440</td>\n      <td>25</td>\n      <td>{'kneighborsclassifier__n_neighbors': 25}</td>\n      <td>0.671329</td>\n      <td>0.713287</td>\n      <td>0.683099</td>\n      <td>NaN</td>\n      <td>0.647887</td>\n      <td>NaN</td>\n      <td>NaN</td>\n      <td>5</td>\n    </tr>\n    <tr>\n      <th>25</th>\n      <td>0.075936</td>\n      <td>0.013394</td>\n      <td>0.075249</td>\n      <td>0.029418</td>\n      <td>26</td>\n      <td>{'kneighborsclassifier__n_neighbors': 26}</td>\n      <td>0.678322</td>\n      <td>0.692308</td>\n      <td>0.690141</td>\n      <td>NaN</td>\n      <td>0.647887</td>\n      <td>NaN</td>\n      <td>NaN</td>\n      <td>4</td>\n    </tr>\n    <tr>\n      <th>26</th>\n      <td>0.065123</td>\n      <td>0.015497</td>\n      <td>0.057563</td>\n      <td>0.025300</td>\n      <td>27</td>\n      <td>{'kneighborsclassifier__n_neighbors': 27}</td>\n      <td>0.699301</td>\n      <td>0.692308</td>\n      <td>0.683099</td>\n      <td>NaN</td>\n      <td>0.640845</td>\n      <td>NaN</td>\n      <td>NaN</td>\n      <td>3</td>\n    </tr>\n    <tr>\n      <th>27</th>\n      <td>0.057503</td>\n      <td>0.012209</td>\n      <td>0.058846</td>\n      <td>0.027012</td>\n      <td>28</td>\n      <td>{'kneighborsclassifier__n_neighbors': 28}</td>\n      <td>0.678322</td>\n      <td>0.671329</td>\n      <td>0.683099</td>\n      <td>NaN</td>\n      <td>0.633803</td>\n      <td>NaN</td>\n      <td>NaN</td>\n      <td>2</td>\n    </tr>\n    <tr>\n      <th>28</th>\n      <td>0.071154</td>\n      <td>0.016475</td>\n      <td>0.068664</td>\n      <td>0.030418</td>\n      <td>29</td>\n      <td>{'kneighborsclassifier__n_neighbors': 29}</td>\n      <td>0.678322</td>\n      <td>0.699301</td>\n      <td>0.654930</td>\n      <td>NaN</td>\n      <td>0.640845</td>\n      <td>NaN</td>\n      <td>NaN</td>\n      <td>29</td>\n    </tr>\n    <tr>\n      <th>29</th>\n      <td>0.062374</td>\n      <td>0.017650</td>\n      <td>0.058573</td>\n      <td>0.024001</td>\n      <td>30</td>\n      <td>{'kneighborsclassifier__n_neighbors': 30}</td>\n      <td>0.671329</td>\n      <td>0.657343</td>\n      <td>0.683099</td>\n      <td>NaN</td>\n      <td>0.640845</td>\n      <td>NaN</td>\n      <td>NaN</td>\n      <td>30</td>\n    </tr>\n  </tbody>\n</table>\n</div>"
     },
     "execution_count": 126,
     "metadata": {},
     "output_type": "execute_result"
    }
   ],
   "source": [
    "pd.DataFrame(step3_gridSearchCV.cv_results_)"
   ],
   "metadata": {
    "collapsed": false,
    "pycharm": {
     "name": "#%%\n"
    }
   }
  },
  {
   "cell_type": "code",
   "execution_count": 126,
   "outputs": [],
   "source": [],
   "metadata": {
    "collapsed": false,
    "pycharm": {
     "name": "#%%\n"
    }
   }
  }
 ],
 "metadata": {
  "kernelspec": {
   "display_name": "Python 3",
   "language": "python",
   "name": "python3"
  },
  "language_info": {
   "codemirror_mode": {
    "name": "ipython",
    "version": 2
   },
   "file_extension": ".py",
   "mimetype": "text/x-python",
   "name": "python",
   "nbconvert_exporter": "python",
   "pygments_lexer": "ipython2",
   "version": "2.7.6"
  }
 },
 "nbformat": 4,
 "nbformat_minor": 0
}