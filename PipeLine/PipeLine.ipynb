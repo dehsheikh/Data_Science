{
 "cells": [
  {
   "cell_type": "code",
   "execution_count": 219,
   "metadata": {
    "collapsed": true,
    "pycharm": {
     "name": "#%%\n"
    }
   },
   "outputs": [],
   "source": [
    "import pandas as pd\n",
    "import numpy as np\n",
    "from sklearn.preprocessing import OneHotEncoder\n",
    "from sklearn.feature_extraction.text import CountVectorizer\n",
    "from sklearn.pipeline import make_pipeline\n",
    "from sklearn.compose import make_column_transformer\n",
    "from sklearn.neighbors import KNeighborsClassifier\n",
    "from sklearn.model_selection import train_test_split\n",
    "from sklearn.model_selection import GridSearchCV\n",
    "from sklearn.metrics import accuracy_score\n",
    "from sklearn.impute import SimpleImputer"
   ]
  },
  {
   "cell_type": "code",
   "execution_count": 220,
   "outputs": [
    {
     "data": {
      "text/plain": "     PassengerId  Survived  Pclass  \\\n0              1         0       3   \n1              2         1       1   \n2              3         1       3   \n3              4         1       1   \n4              5         0       3   \n..           ...       ...     ...   \n886          887         0       2   \n887          888         1       1   \n888          889         0       3   \n889          890         1       1   \n890          891         0       3   \n\n                                                  Name     Sex   Age  SibSp  \\\n0                              Braund, Mr. Owen Harris    male  22.0      1   \n1    Cumings, Mrs. John Bradley (Florence Briggs Th...  female  38.0      1   \n2                               Heikkinen, Miss. Laina  female  26.0      0   \n3         Futrelle, Mrs. Jacques Heath (Lily May Peel)  female  35.0      1   \n4                             Allen, Mr. William Henry    male  35.0      0   \n..                                                 ...     ...   ...    ...   \n886                              Montvila, Rev. Juozas    male  27.0      0   \n887                       Graham, Miss. Margaret Edith  female  19.0      0   \n888           Johnston, Miss. Catherine Helen \"Carrie\"  female   NaN      1   \n889                              Behr, Mr. Karl Howell    male  26.0      0   \n890                                Dooley, Mr. Patrick    male  32.0      0   \n\n     Parch            Ticket     Fare Cabin Embarked  \n0        0         A/5 21171   7.2500   NaN        S  \n1        0          PC 17599  71.2833   C85        C  \n2        0  STON/O2. 3101282   7.9250   NaN        S  \n3        0            113803  53.1000  C123        S  \n4        0            373450   8.0500   NaN        S  \n..     ...               ...      ...   ...      ...  \n886      0            211536  13.0000   NaN        S  \n887      0            112053  30.0000   B42        S  \n888      2        W./C. 6607  23.4500   NaN        S  \n889      0            111369  30.0000  C148        C  \n890      0            370376   7.7500   NaN        Q  \n\n[891 rows x 12 columns]",
      "text/html": "<div>\n<style scoped>\n    .dataframe tbody tr th:only-of-type {\n        vertical-align: middle;\n    }\n\n    .dataframe tbody tr th {\n        vertical-align: top;\n    }\n\n    .dataframe thead th {\n        text-align: right;\n    }\n</style>\n<table border=\"1\" class=\"dataframe\">\n  <thead>\n    <tr style=\"text-align: right;\">\n      <th></th>\n      <th>PassengerId</th>\n      <th>Survived</th>\n      <th>Pclass</th>\n      <th>Name</th>\n      <th>Sex</th>\n      <th>Age</th>\n      <th>SibSp</th>\n      <th>Parch</th>\n      <th>Ticket</th>\n      <th>Fare</th>\n      <th>Cabin</th>\n      <th>Embarked</th>\n    </tr>\n  </thead>\n  <tbody>\n    <tr>\n      <th>0</th>\n      <td>1</td>\n      <td>0</td>\n      <td>3</td>\n      <td>Braund, Mr. Owen Harris</td>\n      <td>male</td>\n      <td>22.0</td>\n      <td>1</td>\n      <td>0</td>\n      <td>A/5 21171</td>\n      <td>7.2500</td>\n      <td>NaN</td>\n      <td>S</td>\n    </tr>\n    <tr>\n      <th>1</th>\n      <td>2</td>\n      <td>1</td>\n      <td>1</td>\n      <td>Cumings, Mrs. John Bradley (Florence Briggs Th...</td>\n      <td>female</td>\n      <td>38.0</td>\n      <td>1</td>\n      <td>0</td>\n      <td>PC 17599</td>\n      <td>71.2833</td>\n      <td>C85</td>\n      <td>C</td>\n    </tr>\n    <tr>\n      <th>2</th>\n      <td>3</td>\n      <td>1</td>\n      <td>3</td>\n      <td>Heikkinen, Miss. Laina</td>\n      <td>female</td>\n      <td>26.0</td>\n      <td>0</td>\n      <td>0</td>\n      <td>STON/O2. 3101282</td>\n      <td>7.9250</td>\n      <td>NaN</td>\n      <td>S</td>\n    </tr>\n    <tr>\n      <th>3</th>\n      <td>4</td>\n      <td>1</td>\n      <td>1</td>\n      <td>Futrelle, Mrs. Jacques Heath (Lily May Peel)</td>\n      <td>female</td>\n      <td>35.0</td>\n      <td>1</td>\n      <td>0</td>\n      <td>113803</td>\n      <td>53.1000</td>\n      <td>C123</td>\n      <td>S</td>\n    </tr>\n    <tr>\n      <th>4</th>\n      <td>5</td>\n      <td>0</td>\n      <td>3</td>\n      <td>Allen, Mr. William Henry</td>\n      <td>male</td>\n      <td>35.0</td>\n      <td>0</td>\n      <td>0</td>\n      <td>373450</td>\n      <td>8.0500</td>\n      <td>NaN</td>\n      <td>S</td>\n    </tr>\n    <tr>\n      <th>...</th>\n      <td>...</td>\n      <td>...</td>\n      <td>...</td>\n      <td>...</td>\n      <td>...</td>\n      <td>...</td>\n      <td>...</td>\n      <td>...</td>\n      <td>...</td>\n      <td>...</td>\n      <td>...</td>\n      <td>...</td>\n    </tr>\n    <tr>\n      <th>886</th>\n      <td>887</td>\n      <td>0</td>\n      <td>2</td>\n      <td>Montvila, Rev. Juozas</td>\n      <td>male</td>\n      <td>27.0</td>\n      <td>0</td>\n      <td>0</td>\n      <td>211536</td>\n      <td>13.0000</td>\n      <td>NaN</td>\n      <td>S</td>\n    </tr>\n    <tr>\n      <th>887</th>\n      <td>888</td>\n      <td>1</td>\n      <td>1</td>\n      <td>Graham, Miss. Margaret Edith</td>\n      <td>female</td>\n      <td>19.0</td>\n      <td>0</td>\n      <td>0</td>\n      <td>112053</td>\n      <td>30.0000</td>\n      <td>B42</td>\n      <td>S</td>\n    </tr>\n    <tr>\n      <th>888</th>\n      <td>889</td>\n      <td>0</td>\n      <td>3</td>\n      <td>Johnston, Miss. Catherine Helen \"Carrie\"</td>\n      <td>female</td>\n      <td>NaN</td>\n      <td>1</td>\n      <td>2</td>\n      <td>W./C. 6607</td>\n      <td>23.4500</td>\n      <td>NaN</td>\n      <td>S</td>\n    </tr>\n    <tr>\n      <th>889</th>\n      <td>890</td>\n      <td>1</td>\n      <td>1</td>\n      <td>Behr, Mr. Karl Howell</td>\n      <td>male</td>\n      <td>26.0</td>\n      <td>0</td>\n      <td>0</td>\n      <td>111369</td>\n      <td>30.0000</td>\n      <td>C148</td>\n      <td>C</td>\n    </tr>\n    <tr>\n      <th>890</th>\n      <td>891</td>\n      <td>0</td>\n      <td>3</td>\n      <td>Dooley, Mr. Patrick</td>\n      <td>male</td>\n      <td>32.0</td>\n      <td>0</td>\n      <td>0</td>\n      <td>370376</td>\n      <td>7.7500</td>\n      <td>NaN</td>\n      <td>Q</td>\n    </tr>\n  </tbody>\n</table>\n<p>891 rows × 12 columns</p>\n</div>"
     },
     "execution_count": 220,
     "metadata": {},
     "output_type": "execute_result"
    }
   ],
   "source": [
    "titanicData = pd.read_csv('http://bit.ly/kaggletrain', index_col = None)\n",
    "titanicData"
   ],
   "metadata": {
    "collapsed": false,
    "pycharm": {
     "name": "#%%\n"
    }
   }
  },
  {
   "cell_type": "code",
   "execution_count": 221,
   "outputs": [
    {
     "data": {
      "text/plain": "Index(['PassengerId', 'Survived', 'Pclass', 'Name', 'Sex', 'Age', 'SibSp',\n       'Parch', 'Ticket', 'Fare', 'Cabin', 'Embarked'],\n      dtype='object')"
     },
     "execution_count": 221,
     "metadata": {},
     "output_type": "execute_result"
    }
   ],
   "source": [
    "titanicData.columns"
   ],
   "metadata": {
    "collapsed": false,
    "pycharm": {
     "name": "#%%\n"
    }
   }
  },
  {
   "cell_type": "code",
   "execution_count": 222,
   "outputs": [
    {
     "data": {
      "text/plain": "(891, 12)"
     },
     "execution_count": 222,
     "metadata": {},
     "output_type": "execute_result"
    }
   ],
   "source": [
    "titanicData.shape"
   ],
   "metadata": {
    "collapsed": false,
    "pycharm": {
     "name": "#%%\n"
    }
   }
  },
  {
   "cell_type": "code",
   "execution_count": 223,
   "outputs": [
    {
     "name": "stdout",
     "output_type": "stream",
     "text": [
      "<class 'pandas.core.frame.DataFrame'>\n",
      "RangeIndex: 891 entries, 0 to 890\n",
      "Data columns (total 12 columns):\n",
      " #   Column       Non-Null Count  Dtype  \n",
      "---  ------       --------------  -----  \n",
      " 0   PassengerId  891 non-null    int64  \n",
      " 1   Survived     891 non-null    int64  \n",
      " 2   Pclass       891 non-null    int64  \n",
      " 3   Name         891 non-null    object \n",
      " 4   Sex          891 non-null    object \n",
      " 5   Age          714 non-null    float64\n",
      " 6   SibSp        891 non-null    int64  \n",
      " 7   Parch        891 non-null    int64  \n",
      " 8   Ticket       891 non-null    object \n",
      " 9   Fare         891 non-null    float64\n",
      " 10  Cabin        204 non-null    object \n",
      " 11  Embarked     889 non-null    object \n",
      "dtypes: float64(2), int64(5), object(5)\n",
      "memory usage: 83.7+ KB\n"
     ]
    }
   ],
   "source": [
    "titanicData.info()"
   ],
   "metadata": {
    "collapsed": false,
    "pycharm": {
     "name": "#%%\n"
    }
   }
  },
  {
   "cell_type": "code",
   "execution_count": 224,
   "outputs": [
    {
     "data": {
      "text/plain": "     Pclass                                               Name     Sex   Age  \\\n0         3                            Braund, Mr. Owen Harris    male  22.0   \n1         1  Cumings, Mrs. John Bradley (Florence Briggs Th...  female  38.0   \n2         3                             Heikkinen, Miss. Laina  female  26.0   \n3         1       Futrelle, Mrs. Jacques Heath (Lily May Peel)  female  35.0   \n4         3                           Allen, Mr. William Henry    male  35.0   \n..      ...                                                ...     ...   ...   \n886       2                              Montvila, Rev. Juozas    male  27.0   \n887       1                       Graham, Miss. Margaret Edith  female  19.0   \n888       3           Johnston, Miss. Catherine Helen \"Carrie\"  female   NaN   \n889       1                              Behr, Mr. Karl Howell    male  26.0   \n890       3                                Dooley, Mr. Patrick    male  32.0   \n\n     SibSp  Parch Embarked     Fare  \n0        1      0        S   7.2500  \n1        1      0        C  71.2833  \n2        0      0        S   7.9250  \n3        1      0        S  53.1000  \n4        0      0        S   8.0500  \n..     ...    ...      ...      ...  \n886      0      0        S  13.0000  \n887      0      0        S  30.0000  \n888      1      2        S  23.4500  \n889      0      0        C  30.0000  \n890      0      0        Q   7.7500  \n\n[891 rows x 8 columns]",
      "text/html": "<div>\n<style scoped>\n    .dataframe tbody tr th:only-of-type {\n        vertical-align: middle;\n    }\n\n    .dataframe tbody tr th {\n        vertical-align: top;\n    }\n\n    .dataframe thead th {\n        text-align: right;\n    }\n</style>\n<table border=\"1\" class=\"dataframe\">\n  <thead>\n    <tr style=\"text-align: right;\">\n      <th></th>\n      <th>Pclass</th>\n      <th>Name</th>\n      <th>Sex</th>\n      <th>Age</th>\n      <th>SibSp</th>\n      <th>Parch</th>\n      <th>Embarked</th>\n      <th>Fare</th>\n    </tr>\n  </thead>\n  <tbody>\n    <tr>\n      <th>0</th>\n      <td>3</td>\n      <td>Braund, Mr. Owen Harris</td>\n      <td>male</td>\n      <td>22.0</td>\n      <td>1</td>\n      <td>0</td>\n      <td>S</td>\n      <td>7.2500</td>\n    </tr>\n    <tr>\n      <th>1</th>\n      <td>1</td>\n      <td>Cumings, Mrs. John Bradley (Florence Briggs Th...</td>\n      <td>female</td>\n      <td>38.0</td>\n      <td>1</td>\n      <td>0</td>\n      <td>C</td>\n      <td>71.2833</td>\n    </tr>\n    <tr>\n      <th>2</th>\n      <td>3</td>\n      <td>Heikkinen, Miss. Laina</td>\n      <td>female</td>\n      <td>26.0</td>\n      <td>0</td>\n      <td>0</td>\n      <td>S</td>\n      <td>7.9250</td>\n    </tr>\n    <tr>\n      <th>3</th>\n      <td>1</td>\n      <td>Futrelle, Mrs. Jacques Heath (Lily May Peel)</td>\n      <td>female</td>\n      <td>35.0</td>\n      <td>1</td>\n      <td>0</td>\n      <td>S</td>\n      <td>53.1000</td>\n    </tr>\n    <tr>\n      <th>4</th>\n      <td>3</td>\n      <td>Allen, Mr. William Henry</td>\n      <td>male</td>\n      <td>35.0</td>\n      <td>0</td>\n      <td>0</td>\n      <td>S</td>\n      <td>8.0500</td>\n    </tr>\n    <tr>\n      <th>...</th>\n      <td>...</td>\n      <td>...</td>\n      <td>...</td>\n      <td>...</td>\n      <td>...</td>\n      <td>...</td>\n      <td>...</td>\n      <td>...</td>\n    </tr>\n    <tr>\n      <th>886</th>\n      <td>2</td>\n      <td>Montvila, Rev. Juozas</td>\n      <td>male</td>\n      <td>27.0</td>\n      <td>0</td>\n      <td>0</td>\n      <td>S</td>\n      <td>13.0000</td>\n    </tr>\n    <tr>\n      <th>887</th>\n      <td>1</td>\n      <td>Graham, Miss. Margaret Edith</td>\n      <td>female</td>\n      <td>19.0</td>\n      <td>0</td>\n      <td>0</td>\n      <td>S</td>\n      <td>30.0000</td>\n    </tr>\n    <tr>\n      <th>888</th>\n      <td>3</td>\n      <td>Johnston, Miss. Catherine Helen \"Carrie\"</td>\n      <td>female</td>\n      <td>NaN</td>\n      <td>1</td>\n      <td>2</td>\n      <td>S</td>\n      <td>23.4500</td>\n    </tr>\n    <tr>\n      <th>889</th>\n      <td>1</td>\n      <td>Behr, Mr. Karl Howell</td>\n      <td>male</td>\n      <td>26.0</td>\n      <td>0</td>\n      <td>0</td>\n      <td>C</td>\n      <td>30.0000</td>\n    </tr>\n    <tr>\n      <th>890</th>\n      <td>3</td>\n      <td>Dooley, Mr. Patrick</td>\n      <td>male</td>\n      <td>32.0</td>\n      <td>0</td>\n      <td>0</td>\n      <td>Q</td>\n      <td>7.7500</td>\n    </tr>\n  </tbody>\n</table>\n<p>891 rows × 8 columns</p>\n</div>"
     },
     "execution_count": 224,
     "metadata": {},
     "output_type": "execute_result"
    }
   ],
   "source": [
    "cols = [\"Pclass\", \"Name\", \"Sex\", \"Age\", \"SibSp\", \"Parch\", \"Embarked\", \"Fare\"]\n",
    "titanicData_X = titanicData[cols]\n",
    "titanicData_y = titanicData[\"Survived\"]\n",
    "titanicData_X"
   ],
   "metadata": {
    "collapsed": false,
    "pycharm": {
     "name": "#%%\n"
    }
   }
  },
  {
   "cell_type": "code",
   "execution_count": 225,
   "outputs": [
    {
     "data": {
      "text/plain": "0      0\n1      1\n2      1\n3      1\n4      0\n      ..\n886    0\n887    1\n888    0\n889    1\n890    0\nName: Survived, Length: 891, dtype: int64"
     },
     "execution_count": 225,
     "metadata": {},
     "output_type": "execute_result"
    }
   ],
   "source": [
    "titanicData_y"
   ],
   "metadata": {
    "collapsed": false,
    "pycharm": {
     "name": "#%%\n"
    }
   }
  },
  {
   "cell_type": "code",
   "execution_count": 226,
   "outputs": [
    {
     "name": "stdout",
     "output_type": "stream",
     "text": [
      "<class 'pandas.core.frame.DataFrame'>\n",
      "RangeIndex: 891 entries, 0 to 890\n",
      "Data columns (total 8 columns):\n",
      " #   Column    Non-Null Count  Dtype  \n",
      "---  ------    --------------  -----  \n",
      " 0   Pclass    891 non-null    int64  \n",
      " 1   Name      891 non-null    object \n",
      " 2   Sex       891 non-null    object \n",
      " 3   Age       714 non-null    float64\n",
      " 4   SibSp     891 non-null    int64  \n",
      " 5   Parch     891 non-null    int64  \n",
      " 6   Embarked  889 non-null    object \n",
      " 7   Fare      891 non-null    float64\n",
      "dtypes: float64(2), int64(3), object(3)\n",
      "memory usage: 55.8+ KB\n"
     ]
    }
   ],
   "source": [
    "titanicData_X.info()"
   ],
   "metadata": {
    "collapsed": false,
    "pycharm": {
     "name": "#%%\n"
    }
   }
  },
  {
   "cell_type": "markdown",
   "source": [
    "### Required transformations\n",
    "- Pclass: None\n",
    "- Name: CountVectorizer\n",
    "- Sex: Categorical to Numerical\n",
    "- Age: Missing value, To numerical\n",
    "- Embarked: To numerical\n",
    "- Fare: None\n",
    "\n",
    "### Steps\n",
    "1- \"Pclass\", \"Name\", \"Sex\", \"SibSp\", \"Parch\", \"Fare\"\n",
    "2- \"Pclass\", \"Name\", \"Sex\", \"SibSp\", \"Parch\", \"Fare\", \"Age\"\n",
    "3- \"Pclass\", \"Name\", \"Sex\", \"SibSp\", \"Parch\", \"Fare\", \"Age\", \"Embarked\""
   ],
   "metadata": {
    "collapsed": false,
    "pycharm": {
     "name": "#%% md\n"
    }
   }
  },
  {
   "cell_type": "code",
   "execution_count": 227,
   "outputs": [],
   "source": [
    "step1Cols = [\"Pclass\", \"Name\", \"Sex\", \"SibSp\", \"Parch\", \"Fare\"]\n",
    "step2Cols = [\"Pclass\", \"Name\", \"Sex\", \"SibSp\", \"Parch\", \"Fare\",\"Age\"]\n",
    "step3Cols = [\"Pclass\", \"Name\", \"Sex\", \"SibSp\", \"Parch\", \"Fare\", \"Age\", \"Embarked\"]"
   ],
   "metadata": {
    "collapsed": false,
    "pycharm": {
     "name": "#%%\n"
    }
   }
  },
  {
   "cell_type": "markdown",
   "source": [
    "### Step 1"
   ],
   "metadata": {
    "collapsed": false,
    "pycharm": {
     "name": "#%% md\n"
    }
   }
  },
  {
   "cell_type": "code",
   "execution_count": 228,
   "outputs": [],
   "source": [
    "knn = KNeighborsClassifier(n_neighbors = 8)\n",
    "X_train, X_test, y_train, y_test = train_test_split(\n",
    "    titanicData_X[step1Cols], titanicData_y,\n",
    "    random_state = 40, test_size = 0.2\n",
    ")"
   ],
   "metadata": {
    "collapsed": false,
    "pycharm": {
     "name": "#%%\n"
    }
   }
  },
  {
   "cell_type": "code",
   "execution_count": 229,
   "outputs": [
    {
     "data": {
      "text/plain": "(712, 6)"
     },
     "execution_count": 229,
     "metadata": {},
     "output_type": "execute_result"
    }
   ],
   "source": [
    "X_train.shape"
   ],
   "metadata": {
    "collapsed": false,
    "pycharm": {
     "name": "#%%\n"
    }
   }
  },
  {
   "cell_type": "code",
   "execution_count": 230,
   "outputs": [
    {
     "name": "stdout",
     "output_type": "stream",
     "text": [
      "<class 'pandas.core.frame.DataFrame'>\n",
      "Int64Index: 712 entries, 661 to 326\n",
      "Data columns (total 6 columns):\n",
      " #   Column  Non-Null Count  Dtype  \n",
      "---  ------  --------------  -----  \n",
      " 0   Pclass  712 non-null    int64  \n",
      " 1   Name    712 non-null    object \n",
      " 2   Sex     712 non-null    object \n",
      " 3   SibSp   712 non-null    int64  \n",
      " 4   Parch   712 non-null    int64  \n",
      " 5   Fare    712 non-null    float64\n",
      "dtypes: float64(1), int64(3), object(2)\n",
      "memory usage: 38.9+ KB\n"
     ]
    }
   ],
   "source": [
    "X_train.info()"
   ],
   "metadata": {
    "collapsed": false,
    "pycharm": {
     "name": "#%%\n"
    }
   }
  },
  {
   "cell_type": "code",
   "execution_count": 231,
   "outputs": [
    {
     "data": {
      "text/plain": "(712,)"
     },
     "execution_count": 231,
     "metadata": {},
     "output_type": "execute_result"
    }
   ],
   "source": [
    "y_train.shape"
   ],
   "metadata": {
    "collapsed": false,
    "pycharm": {
     "name": "#%%\n"
    }
   }
  },
  {
   "cell_type": "markdown",
   "source": [
    "###"
   ],
   "metadata": {
    "collapsed": false,
    "pycharm": {
     "name": "#%% md\n"
    }
   }
  },
  {
   "cell_type": "code",
   "execution_count": 232,
   "outputs": [],
   "source": [
    "countVectorizer = CountVectorizer()\n",
    "oneHotEncoder = OneHotEncoder()"
   ],
   "metadata": {
    "collapsed": false,
    "pycharm": {
     "name": "#%%\n"
    }
   }
  },
  {
   "cell_type": "code",
   "execution_count": 233,
   "outputs": [],
   "source": [
    "step1_columnTransformer = make_column_transformer(\n",
    "    (countVectorizer, \"Name\"),\n",
    "    (oneHotEncoder, [\"Sex\"]),\n",
    "    remainder = \"passthrough\",\n",
    "    n_jobs = -1\n",
    ")"
   ],
   "metadata": {
    "collapsed": false,
    "pycharm": {
     "name": "#%%\n"
    }
   }
  },
  {
   "cell_type": "code",
   "execution_count": 234,
   "outputs": [],
   "source": [
    "step1_pipeLine = make_pipeline(step1_columnTransformer, knn)"
   ],
   "metadata": {
    "collapsed": false,
    "pycharm": {
     "name": "#%%\n"
    }
   }
  },
  {
   "cell_type": "code",
   "execution_count": 235,
   "outputs": [],
   "source": [
    "k_range = list(range(1, 31))\n",
    "params = {\"kneighborsclassifier__n_neighbors\": k_range}"
   ],
   "metadata": {
    "collapsed": false,
    "pycharm": {
     "name": "#%%\n"
    }
   }
  },
  {
   "cell_type": "code",
   "execution_count": 236,
   "outputs": [],
   "source": [
    "gridSearchCV = GridSearchCV(\n",
    "    step1_pipeLine, params, cv = 5, scoring = \"accuracy\", n_jobs = -1\n",
    ")"
   ],
   "metadata": {
    "collapsed": false,
    "pycharm": {
     "name": "#%%\n"
    }
   }
  },
  {
   "cell_type": "code",
   "execution_count": 237,
   "outputs": [
    {
     "data": {
      "text/plain": "GridSearchCV(cv=5,\n             estimator=Pipeline(steps=[('columntransformer',\n                                        ColumnTransformer(n_jobs=-1,\n                                                          remainder='passthrough',\n                                                          transformers=[('countvectorizer',\n                                                                         CountVectorizer(),\n                                                                         'Name'),\n                                                                        ('onehotencoder',\n                                                                         OneHotEncoder(),\n                                                                         ['Sex'])])),\n                                       ('kneighborsclassifier',\n                                        KNeighborsClassifier(n_neighbors=8))]),\n             n_jobs=-1,\n             param_grid={'kneighborsclassifier__n_neighbors': [1, 2, 3, 4, 5, 6,\n                                                               7, 8, 9, 10, 11,\n                                                               12, 13, 14, 15,\n                                                               16, 17, 18, 19,\n                                                               20, 21, 22, 23,\n                                                               24, 25, 26, 27,\n                                                               28, 29, 30]},\n             scoring='accuracy')"
     },
     "execution_count": 237,
     "metadata": {},
     "output_type": "execute_result"
    }
   ],
   "source": [
    "gridSearchCV.fit(X_train, y_train)"
   ],
   "metadata": {
    "collapsed": false,
    "pycharm": {
     "name": "#%%\n"
    }
   }
  },
  {
   "cell_type": "code",
   "execution_count": 238,
   "outputs": [
    {
     "data": {
      "text/plain": "0.7626514330739682"
     },
     "execution_count": 238,
     "metadata": {},
     "output_type": "execute_result"
    }
   ],
   "source": [
    "gridSearchCV.best_score_"
   ],
   "metadata": {
    "collapsed": false,
    "pycharm": {
     "name": "#%%\n"
    }
   }
  },
  {
   "cell_type": "code",
   "execution_count": 239,
   "outputs": [],
   "source": [
    "predicted = gridSearchCV.predict(X_test)"
   ],
   "metadata": {
    "collapsed": false,
    "pycharm": {
     "name": "#%%\n"
    }
   }
  },
  {
   "cell_type": "code",
   "execution_count": 240,
   "outputs": [
    {
     "name": "stdout",
     "output_type": "stream",
     "text": [
      "Step 1 Accuracy: 0.8324022346368715\n"
     ]
    }
   ],
   "source": [
    "print(\"Step 1 Accuracy:\", accuracy_score(y_test, predicted))"
   ],
   "metadata": {
    "collapsed": false,
    "pycharm": {
     "name": "#%%\n"
    }
   }
  },
  {
   "cell_type": "markdown",
   "source": [
    "### End - Step 1"
   ],
   "metadata": {
    "collapsed": false,
    "pycharm": {
     "name": "#%% md\n"
    }
   }
  },
  {
   "cell_type": "markdown",
   "source": [
    "### Step 2"
   ],
   "metadata": {
    "collapsed": false,
    "pycharm": {
     "name": "#%% md\n"
    }
   }
  },
  {
   "cell_type": "code",
   "execution_count": 241,
   "outputs": [],
   "source": [
    "knn = KNeighborsClassifier(n_neighbors = 8)\n",
    "X_train, X_test, y_train, y_test = train_test_split(\n",
    "    titanicData_X[step2Cols], titanicData_y,\n",
    "    random_state = 40, test_size = 0.2\n",
    ")"
   ],
   "metadata": {
    "collapsed": false,
    "pycharm": {
     "name": "#%%\n"
    }
   }
  },
  {
   "cell_type": "code",
   "execution_count": 242,
   "outputs": [
    {
     "name": "stdout",
     "output_type": "stream",
     "text": [
      "<class 'pandas.core.frame.DataFrame'>\n",
      "Int64Index: 712 entries, 661 to 326\n",
      "Data columns (total 7 columns):\n",
      " #   Column  Non-Null Count  Dtype  \n",
      "---  ------  --------------  -----  \n",
      " 0   Pclass  712 non-null    int64  \n",
      " 1   Name    712 non-null    object \n",
      " 2   Sex     712 non-null    object \n",
      " 3   SibSp   712 non-null    int64  \n",
      " 4   Parch   712 non-null    int64  \n",
      " 5   Fare    712 non-null    float64\n",
      " 6   Age     573 non-null    float64\n",
      "dtypes: float64(2), int64(3), object(2)\n",
      "memory usage: 44.5+ KB\n"
     ]
    }
   ],
   "source": [
    "X_train.info()"
   ],
   "metadata": {
    "collapsed": false,
    "pycharm": {
     "name": "#%%\n"
    }
   }
  },
  {
   "cell_type": "code",
   "execution_count": 243,
   "outputs": [
    {
     "data": {
      "text/plain": "Pclass      0\nName        0\nSex         0\nSibSp       0\nParch       0\nFare        0\nAge       139\ndtype: int64"
     },
     "execution_count": 243,
     "metadata": {},
     "output_type": "execute_result"
    }
   ],
   "source": [
    "X_train.isna().sum()"
   ],
   "metadata": {
    "collapsed": false,
    "pycharm": {
     "name": "#%%\n"
    }
   }
  },
  {
   "cell_type": "code",
   "execution_count": 244,
   "outputs": [],
   "source": [
    "step2_simpleImputer = SimpleImputer()"
   ],
   "metadata": {
    "collapsed": false,
    "pycharm": {
     "name": "#%%\n"
    }
   }
  },
  {
   "cell_type": "code",
   "execution_count": 245,
   "outputs": [],
   "source": [
    "step2_columnTransformer = make_column_transformer(\n",
    "    (countVectorizer, \"Name\"),\n",
    "    (oneHotEncoder, [\"Sex\"]),\n",
    "    (step2_simpleImputer, [\"Age\"]),\n",
    "    remainder = \"passthrough\",\n",
    "    n_jobs = -1\n",
    ")"
   ],
   "metadata": {
    "collapsed": false,
    "pycharm": {
     "name": "#%%\n"
    }
   }
  },
  {
   "cell_type": "code",
   "execution_count": 246,
   "outputs": [],
   "source": [
    "step2_pipeLine = make_pipeline(\n",
    "    step2_columnTransformer, knn\n",
    ")"
   ],
   "metadata": {
    "collapsed": false,
    "pycharm": {
     "name": "#%%\n"
    }
   }
  },
  {
   "cell_type": "code",
   "execution_count": 247,
   "outputs": [],
   "source": [
    "step2_gridSearchCV = GridSearchCV(\n",
    "    step2_pipeLine, params, cv = 5, scoring = \"accuracy\", n_jobs = -1\n",
    ")"
   ],
   "metadata": {
    "collapsed": false,
    "pycharm": {
     "name": "#%%\n"
    }
   }
  },
  {
   "cell_type": "code",
   "execution_count": 248,
   "outputs": [
    {
     "data": {
      "text/plain": "GridSearchCV(cv=5,\n             estimator=Pipeline(steps=[('columntransformer',\n                                        ColumnTransformer(n_jobs=-1,\n                                                          remainder='passthrough',\n                                                          transformers=[('countvectorizer',\n                                                                         CountVectorizer(),\n                                                                         'Name'),\n                                                                        ('onehotencoder',\n                                                                         OneHotEncoder(),\n                                                                         ['Sex']),\n                                                                        ('simpleimputer',\n                                                                         SimpleImputer(),\n                                                                         ['Age'])])),\n                                       ('kneighborsclassifier',\n                                        KNeighborsClassifier(n_neighbors=8))]),\n             n_jobs=-1,\n             param_grid={'kneighborsclassifier__n_neighbors': [1, 2, 3, 4, 5, 6,\n                                                               7, 8, 9, 10, 11,\n                                                               12, 13, 14, 15,\n                                                               16, 17, 18, 19,\n                                                               20, 21, 22, 23,\n                                                               24, 25, 26, 27,\n                                                               28, 29, 30]},\n             scoring='accuracy')"
     },
     "execution_count": 248,
     "metadata": {},
     "output_type": "execute_result"
    }
   ],
   "source": [
    "step2_gridSearchCV.fit(X_train, y_train)"
   ],
   "metadata": {
    "collapsed": false,
    "pycharm": {
     "name": "#%%\n"
    }
   }
  },
  {
   "cell_type": "code",
   "execution_count": 249,
   "outputs": [
    {
     "data": {
      "text/plain": "0.719078104993598"
     },
     "execution_count": 249,
     "metadata": {},
     "output_type": "execute_result"
    }
   ],
   "source": [
    "step2_gridSearchCV.best_score_"
   ],
   "metadata": {
    "collapsed": false,
    "pycharm": {
     "name": "#%%\n"
    }
   }
  },
  {
   "cell_type": "code",
   "execution_count": 250,
   "outputs": [
    {
     "name": "stdout",
     "output_type": "stream",
     "text": [
      "Step 2 Accuracy: 0.7318435754189944\n"
     ]
    }
   ],
   "source": [
    "predicted = step2_gridSearchCV.predict(X_test)\n",
    "print(\"Step 2 Accuracy:\", accuracy_score(y_test, predicted))"
   ],
   "metadata": {
    "collapsed": false,
    "pycharm": {
     "name": "#%%\n"
    }
   }
  },
  {
   "cell_type": "markdown",
   "source": [
    "### End - Step2"
   ],
   "metadata": {
    "collapsed": false,
    "pycharm": {
     "name": "#%% md\n"
    }
   }
  },
  {
   "cell_type": "code",
   "execution_count": 251,
   "outputs": [],
   "source": [
    "knn = KNeighborsClassifier(n_neighbors = 8)\n",
    "X_train, X_test, y_train, y_test = train_test_split(\n",
    "    titanicData_X[step3Cols], titanicData_y,\n",
    "    random_state = 40, test_size = 0.2\n",
    ")"
   ],
   "metadata": {
    "collapsed": false,
    "pycharm": {
     "name": "#%%\n"
    }
   }
  },
  {
   "cell_type": "code",
   "execution_count": 252,
   "outputs": [
    {
     "name": "stdout",
     "output_type": "stream",
     "text": [
      "<class 'pandas.core.frame.DataFrame'>\n",
      "Int64Index: 712 entries, 661 to 326\n",
      "Data columns (total 8 columns):\n",
      " #   Column    Non-Null Count  Dtype  \n",
      "---  ------    --------------  -----  \n",
      " 0   Pclass    712 non-null    int64  \n",
      " 1   Name      712 non-null    object \n",
      " 2   Sex       712 non-null    object \n",
      " 3   SibSp     712 non-null    int64  \n",
      " 4   Parch     712 non-null    int64  \n",
      " 5   Fare      712 non-null    float64\n",
      " 6   Age       573 non-null    float64\n",
      " 7   Embarked  711 non-null    object \n",
      "dtypes: float64(2), int64(3), object(3)\n",
      "memory usage: 50.1+ KB\n"
     ]
    }
   ],
   "source": [
    "X_train.info()"
   ],
   "metadata": {
    "collapsed": false,
    "pycharm": {
     "name": "#%%\n"
    }
   }
  },
  {
   "cell_type": "code",
   "execution_count": 253,
   "outputs": [
    {
     "data": {
      "text/plain": "S    514\nC    132\nQ     65\nName: Embarked, dtype: int64"
     },
     "execution_count": 253,
     "metadata": {},
     "output_type": "execute_result"
    }
   ],
   "source": [
    "X_train[\"Embarked\"].value_counts()"
   ],
   "metadata": {
    "collapsed": false,
    "pycharm": {
     "name": "#%%\n"
    }
   }
  },
  {
   "cell_type": "code",
   "execution_count": 254,
   "outputs": [
    {
     "data": {
      "text/plain": "1"
     },
     "execution_count": 254,
     "metadata": {},
     "output_type": "execute_result"
    }
   ],
   "source": [
    "X_train[\"Embarked\"].isna().sum()"
   ],
   "metadata": {
    "collapsed": false,
    "pycharm": {
     "name": "#%%\n"
    }
   }
  },
  {
   "cell_type": "code",
   "execution_count": 255,
   "outputs": [],
   "source": [
    "ageImputer = SimpleImputer(strategy = \"median\")"
   ],
   "metadata": {
    "collapsed": false,
    "pycharm": {
     "name": "#%%\n"
    }
   }
  },
  {
   "cell_type": "code",
   "execution_count": 266,
   "outputs": [
    {
     "data": {
      "text/plain": "S          514\nC          132\nQ           65\nmissing      1\ndtype: int64"
     },
     "execution_count": 266,
     "metadata": {},
     "output_type": "execute_result"
    }
   ],
   "source": [
    "embarkedImputer = SimpleImputer(\n",
    "    strategy = \"constant\",\n",
    "    fill_value = \"missing\"\n",
    ")\n",
    "embarkedImputerDataFrame = pd.DataFrame(\n",
    "    embarkedImputer.fit_transform(X_train[[\"Embarked\"]])\n",
    ")\n",
    "embarkedImputerDataFrame.value_counts()"
   ],
   "metadata": {
    "collapsed": false,
    "pycharm": {
     "name": "#%%\n"
    }
   }
  },
  {
   "cell_type": "code",
   "execution_count": 270,
   "outputs": [
    {
     "data": {
      "text/plain": "array([1., 1., 1., 1., 1., 1., 1., 1., 1., 1., 1., 1., 1., 1., 1., 1., 1.,\n       1., 1., 1., 1., 1., 1., 1., 1., 1., 1., 1., 1., 1., 1., 1., 1., 1.,\n       1., 1., 1., 1., 1., 1., 1., 1., 1., 1., 1., 1., 1., 1., 1., 1., 1.,\n       1., 1., 1., 1., 1., 1., 1., 1., 1., 1., 1., 1., 1., 1., 1., 1., 1.,\n       1., 1., 1., 1., 1., 1., 1., 1., 1., 1., 1., 1., 1., 1., 1., 1., 1.,\n       1., 1., 1., 1., 1., 1., 1., 1., 1., 1., 1., 1., 1., 1., 1., 1., 1.,\n       1., 1., 1., 1., 1., 1., 1., 1., 1., 1., 1., 1., 1., 1., 1., 1., 1.,\n       1., 1., 1., 1., 1., 1., 1., 1., 1., 1., 1., 1., 1., 1., 1., 1., 1.,\n       1., 1., 1., 1., 1., 1., 1., 1., 1., 1., 1., 1., 1., 1., 1., 1., 1.,\n       1., 1., 1., 1., 1., 1., 1., 1., 1., 1., 1., 1., 1., 1., 1., 1., 1.,\n       1., 1., 1., 1., 1., 1., 1., 1., 1., 1., 1., 1., 1., 1., 1., 1., 1.,\n       1., 1., 1., 1., 1., 1., 1., 1., 1., 1., 1., 1., 1., 1., 1., 1., 1.,\n       1., 1., 1., 1., 1., 1., 1., 1., 1., 1., 1., 1., 1., 1., 1., 1., 1.,\n       1., 1., 1., 1., 1., 1., 1., 1., 1., 1., 1., 1., 1., 1., 1., 1., 1.,\n       1., 1., 1., 1., 1., 1., 1., 1., 1., 1., 1., 1., 1., 1., 1., 1., 1.,\n       1., 1., 1., 1., 1., 1., 1., 1., 1., 1., 1., 1., 1., 1., 1., 1., 1.,\n       1., 1., 1., 1., 1., 1., 1., 1., 1., 1., 1., 1., 1., 1., 1., 1., 1.,\n       1., 1., 1., 1., 1., 1., 1., 1., 1., 1., 1., 1., 1., 1., 1., 1., 1.,\n       1., 1., 1., 1., 1., 1., 1., 1., 1., 1., 1., 1., 1., 1., 1., 1., 1.,\n       1., 1., 1., 1., 1., 1., 1., 1., 1., 1., 1., 1., 1., 1., 1., 1., 1.,\n       1., 1., 1., 1., 1., 1., 1., 1., 1., 1., 1., 1., 1., 1., 1., 1., 1.,\n       1., 1., 1., 1., 1., 1., 1., 1., 1., 1., 1., 1., 1., 1., 1., 1., 1.,\n       1., 1., 1., 1., 1., 1., 1., 1., 1., 1., 1., 1., 1., 1., 1., 1., 1.,\n       1., 1., 1., 1., 1., 1., 1., 1., 1., 1., 1., 1., 1., 1., 1., 1., 1.,\n       1., 1., 1., 1., 1., 1., 1., 1., 1., 1., 1., 1., 1., 1., 1., 1., 1.,\n       1., 1., 1., 1., 1., 1., 1., 1., 1., 1., 1., 1., 1., 1., 1., 1., 1.,\n       1., 1., 1., 1., 1., 1., 1., 1., 1., 1., 1., 1., 1., 1., 1., 1., 1.,\n       1., 1., 1., 1., 1., 1., 1., 1., 1., 1., 1., 1., 1., 1., 1., 1., 1.,\n       1., 1., 1., 1., 1., 1., 1., 1., 1., 1., 1., 1., 1., 1., 1., 1., 1.,\n       1., 1., 1., 1., 1., 1., 1., 1., 1., 1., 1., 1., 1., 1., 1., 1., 1.,\n       1., 1., 1., 1., 1., 1., 1., 1., 1., 1., 1., 1., 1., 1., 1., 1., 1.,\n       1., 1., 1., 1., 1., 1., 1., 1., 1., 1., 1., 1., 1., 1., 1., 1., 1.,\n       1., 1., 1., 1., 1., 1., 1., 1., 1., 1., 1., 1., 1., 1., 1., 1., 1.,\n       1., 1., 1., 1., 1., 1., 1., 1., 1., 1., 1., 1., 1., 1., 1., 1., 1.,\n       1., 1., 1., 1., 1., 1., 1., 1., 1., 1., 1., 1., 1., 1., 1., 1., 1.,\n       1., 1., 1., 1., 1., 1., 1., 1., 1., 1., 1., 1., 1., 1., 1., 1., 1.,\n       1., 1., 1., 1., 1., 1., 1., 1., 1., 1., 1., 1., 1., 1., 1., 1., 1.,\n       1., 1., 1., 1., 1., 1., 1., 1., 1., 1., 1., 1., 1., 1., 1., 1., 1.,\n       1., 1., 1., 1., 1., 1., 1., 1., 1., 1., 1., 1., 1., 1., 1., 1., 1.,\n       1., 1., 1., 1., 1., 1., 1., 1., 1., 1., 1., 1., 1., 1., 1., 1., 1.,\n       1., 1., 1., 1., 1., 1., 1., 1., 1., 1., 1., 1., 1., 1., 1., 1., 1.,\n       1., 1., 1., 1., 1., 1., 1., 1., 1., 1., 1., 1., 1., 1., 1.])"
     },
     "execution_count": 270,
     "metadata": {},
     "output_type": "execute_result"
    }
   ],
   "source": [
    "embarkedOneHotEncoder = OneHotEncoder()\n",
    "embarkedOneHotEncoderDataFrame = embarkedOneHotEncoder.fit_transform(\n",
    "    embarkedImputerDataFrame\n",
    ")\n",
    "embarkedOneHotEncoderDataFrame.data"
   ],
   "metadata": {
    "collapsed": false,
    "pycharm": {
     "name": "#%%\n"
    }
   }
  },
  {
   "cell_type": "code",
   "execution_count": 257,
   "outputs": [],
   "source": [
    "step3TransfomerPipeline = make_pipeline(embarkedImputer, embarkedOneHotEncoder)"
   ],
   "metadata": {
    "collapsed": false,
    "pycharm": {
     "name": "#%%\n"
    }
   }
  },
  {
   "cell_type": "code",
   "execution_count": 258,
   "outputs": [
    {
     "data": {
      "text/plain": "<712x1264 sparse matrix of type '<class 'numpy.float64'>'\n\twith 6781 stored elements in Compressed Sparse Row format>"
     },
     "execution_count": 258,
     "metadata": {},
     "output_type": "execute_result"
    }
   ],
   "source": [
    "step3_columnTransformer = make_column_transformer(\n",
    "    (countVectorizer, \"Name\"),\n",
    "    (oneHotEncoder, [\"Sex\"]),\n",
    "    (ageImputer, [\"Age\"]),\n",
    "    (step3TransfomerPipeline, [\"Embarked\"]),\n",
    "    remainder = \"passthrough\",\n",
    "    n_jobs = -1\n",
    ")\n",
    "step3_columnTransformer.fit_transform(X_train)"
   ],
   "metadata": {
    "collapsed": false,
    "pycharm": {
     "name": "#%%\n"
    }
   }
  },
  {
   "cell_type": "code",
   "execution_count": 259,
   "outputs": [
    {
     "data": {
      "text/plain": "Pipeline(steps=[('columntransformer',\n                 ColumnTransformer(n_jobs=-1, remainder='passthrough',\n                                   transformers=[('countvectorizer',\n                                                  CountVectorizer(), 'Name'),\n                                                 ('onehotencoder',\n                                                  OneHotEncoder(), ['Sex']),\n                                                 ('simpleimputer',\n                                                  SimpleImputer(strategy='median'),\n                                                  ['Age']),\n                                                 ('pipeline',\n                                                  Pipeline(steps=[('simpleimputer',\n                                                                   SimpleImputer(fill_value='missing',\n                                                                                 strategy='constant')),\n                                                                  ('onehotencoder',\n                                                                   OneHotEncoder())]),\n                                                  ['Embarked'])])),\n                ('kneighborsclassifier', KNeighborsClassifier(n_neighbors=8))])"
     },
     "execution_count": 259,
     "metadata": {},
     "output_type": "execute_result"
    }
   ],
   "source": [
    "step3_pipeline = make_pipeline(\n",
    "    step3_columnTransformer,\n",
    "    knn\n",
    ")\n",
    "step3_pipeline.fit(X_train, y_train)"
   ],
   "metadata": {
    "collapsed": false,
    "pycharm": {
     "name": "#%%\n"
    }
   }
  },
  {
   "cell_type": "code",
   "execution_count": 260,
   "outputs": [
    {
     "name": "stderr",
     "output_type": "stream",
     "text": [
      "/opt/anaconda3/lib/python3.8/site-packages/sklearn/model_selection/_search.py:918: UserWarning: One or more of the test scores are non-finite: [nan nan nan nan nan nan nan nan nan nan nan nan nan nan nan nan nan nan\n",
      " nan nan nan nan nan nan nan nan nan nan nan nan]\n",
      "  warnings.warn(\n"
     ]
    },
    {
     "data": {
      "text/plain": "GridSearchCV(cv=5,\n             estimator=Pipeline(steps=[('columntransformer',\n                                        ColumnTransformer(n_jobs=-1,\n                                                          remainder='passthrough',\n                                                          transformers=[('countvectorizer',\n                                                                         CountVectorizer(),\n                                                                         'Name'),\n                                                                        ('onehotencoder',\n                                                                         OneHotEncoder(),\n                                                                         ['Sex']),\n                                                                        ('simpleimputer',\n                                                                         SimpleImputer(strategy='median'),\n                                                                         ['Age']),\n                                                                        ('pipeline',\n                                                                         Pipeline(steps=[('simpleimputer',\n                                                                                          SimpleImputer(fill_value='missing',\n                                                                                                        strategy='constant')),\n                                                                                         ('onehotencoder',\n                                                                                          OneHotEncoder())]),\n                                                                         ['Embarked'])])),\n                                       ('kneighborsclassifier',\n                                        KNeighborsClassifier(n_neighbors=8))]),\n             n_jobs=-1,\n             param_grid={'kneighborsclassifier__n_neighbors': [1, 2, 3, 4, 5, 6,\n                                                               7, 8, 9, 10, 11,\n                                                               12, 13, 14, 15,\n                                                               16, 17, 18, 19,\n                                                               20, 21, 22, 23,\n                                                               24, 25, 26, 27,\n                                                               28, 29, 30]},\n             scoring='accuracy')"
     },
     "execution_count": 260,
     "metadata": {},
     "output_type": "execute_result"
    }
   ],
   "source": [
    "step3_gridSearchCV = GridSearchCV(\n",
    "    step3_pipeline,\n",
    "    params,\n",
    "    cv = 5,\n",
    "    scoring = \"accuracy\",\n",
    "    n_jobs = -1\n",
    ")\n",
    "step3_gridSearchCV.fit(X_train, y_train)"
   ],
   "metadata": {
    "collapsed": false,
    "pycharm": {
     "name": "#%%\n"
    }
   }
  },
  {
   "cell_type": "code",
   "execution_count": 261,
   "outputs": [
    {
     "data": {
      "text/plain": "    mean_fit_time  std_fit_time  mean_score_time  std_score_time  \\\n0        0.081515      0.034595         0.053623        0.022140   \n1        0.059082      0.012607         0.036933        0.010474   \n2        0.051126      0.012577         0.042475        0.014602   \n3        0.045222      0.002540         0.038075        0.010118   \n4        0.056805      0.010398         0.053700        0.017142   \n5        0.068404      0.006924         0.047155        0.013355   \n6        0.058773      0.010146         0.041659        0.011223   \n7        0.051738      0.003461         0.039568        0.006794   \n8        0.046245      0.001070         0.035711        0.008974   \n9        0.045121      0.001895         0.035569        0.009494   \n10       0.045350      0.002644         0.036922        0.010453   \n11       0.045555      0.000944         0.037161        0.008814   \n12       0.045597      0.003888         0.035902        0.009192   \n13       0.045127      0.002488         0.038498        0.009516   \n14       0.045556      0.004969         0.036047        0.009371   \n15       0.045489      0.004265         0.037255        0.009001   \n16       0.047291      0.003330         0.039285        0.005141   \n17       0.045569      0.001901         0.035116        0.008773   \n18       0.043874      0.000600         0.038947        0.010556   \n19       0.043337      0.000951         0.037596        0.010455   \n20       0.049263      0.002892         0.039034        0.010798   \n21       0.046168      0.001658         0.037418        0.009210   \n22       0.044366      0.001905         0.038346        0.006418   \n23       0.046244      0.004182         0.035662        0.009027   \n24       0.045232      0.001435         0.037742        0.005373   \n25       0.047211      0.004833         0.035721        0.008322   \n26       0.048504      0.004134         0.038018        0.010607   \n27       0.045639      0.000544         0.035691        0.009145   \n28       0.045526      0.001772         0.036233        0.008017   \n29       0.044156      0.001310         0.031677        0.011510   \n\n   param_kneighborsclassifier__n_neighbors  \\\n0                                        1   \n1                                        2   \n2                                        3   \n3                                        4   \n4                                        5   \n5                                        6   \n6                                        7   \n7                                        8   \n8                                        9   \n9                                       10   \n10                                      11   \n11                                      12   \n12                                      13   \n13                                      14   \n14                                      15   \n15                                      16   \n16                                      17   \n17                                      18   \n18                                      19   \n19                                      20   \n20                                      21   \n21                                      22   \n22                                      23   \n23                                      24   \n24                                      25   \n25                                      26   \n26                                      27   \n27                                      28   \n28                                      29   \n29                                      30   \n\n                                       params  split0_test_score  \\\n0    {'kneighborsclassifier__n_neighbors': 1}           0.608392   \n1    {'kneighborsclassifier__n_neighbors': 2}           0.664336   \n2    {'kneighborsclassifier__n_neighbors': 3}           0.706294   \n3    {'kneighborsclassifier__n_neighbors': 4}           0.720280   \n4    {'kneighborsclassifier__n_neighbors': 5}           0.713287   \n5    {'kneighborsclassifier__n_neighbors': 6}           0.713287   \n6    {'kneighborsclassifier__n_neighbors': 7}           0.699301   \n7    {'kneighborsclassifier__n_neighbors': 8}           0.699301   \n8    {'kneighborsclassifier__n_neighbors': 9}           0.720280   \n9   {'kneighborsclassifier__n_neighbors': 10}           0.727273   \n10  {'kneighborsclassifier__n_neighbors': 11}           0.748252   \n11  {'kneighborsclassifier__n_neighbors': 12}           0.727273   \n12  {'kneighborsclassifier__n_neighbors': 13}           0.713287   \n13  {'kneighborsclassifier__n_neighbors': 14}           0.734266   \n14  {'kneighborsclassifier__n_neighbors': 15}           0.748252   \n15  {'kneighborsclassifier__n_neighbors': 16}           0.748252   \n16  {'kneighborsclassifier__n_neighbors': 17}           0.734266   \n17  {'kneighborsclassifier__n_neighbors': 18}           0.769231   \n18  {'kneighborsclassifier__n_neighbors': 19}           0.727273   \n19  {'kneighborsclassifier__n_neighbors': 20}           0.741259   \n20  {'kneighborsclassifier__n_neighbors': 21}           0.727273   \n21  {'kneighborsclassifier__n_neighbors': 22}           0.720280   \n22  {'kneighborsclassifier__n_neighbors': 23}           0.692308   \n23  {'kneighborsclassifier__n_neighbors': 24}           0.699301   \n24  {'kneighborsclassifier__n_neighbors': 25}           0.671329   \n25  {'kneighborsclassifier__n_neighbors': 26}           0.678322   \n26  {'kneighborsclassifier__n_neighbors': 27}           0.699301   \n27  {'kneighborsclassifier__n_neighbors': 28}           0.678322   \n28  {'kneighborsclassifier__n_neighbors': 29}           0.678322   \n29  {'kneighborsclassifier__n_neighbors': 30}           0.671329   \n\n    split1_test_score  split2_test_score  split3_test_score  \\\n0            0.699301           0.739437                NaN   \n1            0.664336           0.697183                NaN   \n2            0.685315           0.767606                NaN   \n3            0.706294           0.718310                NaN   \n4            0.706294           0.704225                NaN   \n5            0.685315           0.683099                NaN   \n6            0.657343           0.697183                NaN   \n7            0.664336           0.704225                NaN   \n8            0.685315           0.697183                NaN   \n9            0.720280           0.711268                NaN   \n10           0.692308           0.711268                NaN   \n11           0.706294           0.690141                NaN   \n12           0.727273           0.697183                NaN   \n13           0.755245           0.704225                NaN   \n14           0.755245           0.697183                NaN   \n15           0.748252           0.683099                NaN   \n16           0.734266           0.683099                NaN   \n17           0.720280           0.669014                NaN   \n18           0.720280           0.676056                NaN   \n19           0.727273           0.690141                NaN   \n20           0.720280           0.697183                NaN   \n21           0.727273           0.690141                NaN   \n22           0.713287           0.697183                NaN   \n23           0.713287           0.690141                NaN   \n24           0.713287           0.683099                NaN   \n25           0.692308           0.690141                NaN   \n26           0.692308           0.683099                NaN   \n27           0.671329           0.683099                NaN   \n28           0.699301           0.654930                NaN   \n29           0.657343           0.683099                NaN   \n\n    split4_test_score  mean_test_score  std_test_score  rank_test_score  \n0            0.676056              NaN             NaN                1  \n1            0.676056              NaN             NaN               28  \n2            0.690141              NaN             NaN               27  \n3            0.690141              NaN             NaN               26  \n4            0.718310              NaN             NaN               25  \n5            0.718310              NaN             NaN               24  \n6            0.732394              NaN             NaN               23  \n7            0.725352              NaN             NaN               22  \n8            0.711268              NaN             NaN               21  \n9            0.697183              NaN             NaN               20  \n10           0.697183              NaN             NaN               19  \n11           0.697183              NaN             NaN               18  \n12           0.711268              NaN             NaN               17  \n13           0.711268              NaN             NaN               16  \n14           0.704225              NaN             NaN               15  \n15           0.661972              NaN             NaN               14  \n16           0.690141              NaN             NaN               13  \n17           0.669014              NaN             NaN               12  \n18           0.669014              NaN             NaN               11  \n19           0.661972              NaN             NaN               10  \n20           0.647887              NaN             NaN                9  \n21           0.669014              NaN             NaN                8  \n22           0.683099              NaN             NaN                7  \n23           0.654930              NaN             NaN                6  \n24           0.647887              NaN             NaN                5  \n25           0.647887              NaN             NaN                4  \n26           0.640845              NaN             NaN                3  \n27           0.633803              NaN             NaN                2  \n28           0.640845              NaN             NaN               29  \n29           0.640845              NaN             NaN               30  ",
      "text/html": "<div>\n<style scoped>\n    .dataframe tbody tr th:only-of-type {\n        vertical-align: middle;\n    }\n\n    .dataframe tbody tr th {\n        vertical-align: top;\n    }\n\n    .dataframe thead th {\n        text-align: right;\n    }\n</style>\n<table border=\"1\" class=\"dataframe\">\n  <thead>\n    <tr style=\"text-align: right;\">\n      <th></th>\n      <th>mean_fit_time</th>\n      <th>std_fit_time</th>\n      <th>mean_score_time</th>\n      <th>std_score_time</th>\n      <th>param_kneighborsclassifier__n_neighbors</th>\n      <th>params</th>\n      <th>split0_test_score</th>\n      <th>split1_test_score</th>\n      <th>split2_test_score</th>\n      <th>split3_test_score</th>\n      <th>split4_test_score</th>\n      <th>mean_test_score</th>\n      <th>std_test_score</th>\n      <th>rank_test_score</th>\n    </tr>\n  </thead>\n  <tbody>\n    <tr>\n      <th>0</th>\n      <td>0.081515</td>\n      <td>0.034595</td>\n      <td>0.053623</td>\n      <td>0.022140</td>\n      <td>1</td>\n      <td>{'kneighborsclassifier__n_neighbors': 1}</td>\n      <td>0.608392</td>\n      <td>0.699301</td>\n      <td>0.739437</td>\n      <td>NaN</td>\n      <td>0.676056</td>\n      <td>NaN</td>\n      <td>NaN</td>\n      <td>1</td>\n    </tr>\n    <tr>\n      <th>1</th>\n      <td>0.059082</td>\n      <td>0.012607</td>\n      <td>0.036933</td>\n      <td>0.010474</td>\n      <td>2</td>\n      <td>{'kneighborsclassifier__n_neighbors': 2}</td>\n      <td>0.664336</td>\n      <td>0.664336</td>\n      <td>0.697183</td>\n      <td>NaN</td>\n      <td>0.676056</td>\n      <td>NaN</td>\n      <td>NaN</td>\n      <td>28</td>\n    </tr>\n    <tr>\n      <th>2</th>\n      <td>0.051126</td>\n      <td>0.012577</td>\n      <td>0.042475</td>\n      <td>0.014602</td>\n      <td>3</td>\n      <td>{'kneighborsclassifier__n_neighbors': 3}</td>\n      <td>0.706294</td>\n      <td>0.685315</td>\n      <td>0.767606</td>\n      <td>NaN</td>\n      <td>0.690141</td>\n      <td>NaN</td>\n      <td>NaN</td>\n      <td>27</td>\n    </tr>\n    <tr>\n      <th>3</th>\n      <td>0.045222</td>\n      <td>0.002540</td>\n      <td>0.038075</td>\n      <td>0.010118</td>\n      <td>4</td>\n      <td>{'kneighborsclassifier__n_neighbors': 4}</td>\n      <td>0.720280</td>\n      <td>0.706294</td>\n      <td>0.718310</td>\n      <td>NaN</td>\n      <td>0.690141</td>\n      <td>NaN</td>\n      <td>NaN</td>\n      <td>26</td>\n    </tr>\n    <tr>\n      <th>4</th>\n      <td>0.056805</td>\n      <td>0.010398</td>\n      <td>0.053700</td>\n      <td>0.017142</td>\n      <td>5</td>\n      <td>{'kneighborsclassifier__n_neighbors': 5}</td>\n      <td>0.713287</td>\n      <td>0.706294</td>\n      <td>0.704225</td>\n      <td>NaN</td>\n      <td>0.718310</td>\n      <td>NaN</td>\n      <td>NaN</td>\n      <td>25</td>\n    </tr>\n    <tr>\n      <th>5</th>\n      <td>0.068404</td>\n      <td>0.006924</td>\n      <td>0.047155</td>\n      <td>0.013355</td>\n      <td>6</td>\n      <td>{'kneighborsclassifier__n_neighbors': 6}</td>\n      <td>0.713287</td>\n      <td>0.685315</td>\n      <td>0.683099</td>\n      <td>NaN</td>\n      <td>0.718310</td>\n      <td>NaN</td>\n      <td>NaN</td>\n      <td>24</td>\n    </tr>\n    <tr>\n      <th>6</th>\n      <td>0.058773</td>\n      <td>0.010146</td>\n      <td>0.041659</td>\n      <td>0.011223</td>\n      <td>7</td>\n      <td>{'kneighborsclassifier__n_neighbors': 7}</td>\n      <td>0.699301</td>\n      <td>0.657343</td>\n      <td>0.697183</td>\n      <td>NaN</td>\n      <td>0.732394</td>\n      <td>NaN</td>\n      <td>NaN</td>\n      <td>23</td>\n    </tr>\n    <tr>\n      <th>7</th>\n      <td>0.051738</td>\n      <td>0.003461</td>\n      <td>0.039568</td>\n      <td>0.006794</td>\n      <td>8</td>\n      <td>{'kneighborsclassifier__n_neighbors': 8}</td>\n      <td>0.699301</td>\n      <td>0.664336</td>\n      <td>0.704225</td>\n      <td>NaN</td>\n      <td>0.725352</td>\n      <td>NaN</td>\n      <td>NaN</td>\n      <td>22</td>\n    </tr>\n    <tr>\n      <th>8</th>\n      <td>0.046245</td>\n      <td>0.001070</td>\n      <td>0.035711</td>\n      <td>0.008974</td>\n      <td>9</td>\n      <td>{'kneighborsclassifier__n_neighbors': 9}</td>\n      <td>0.720280</td>\n      <td>0.685315</td>\n      <td>0.697183</td>\n      <td>NaN</td>\n      <td>0.711268</td>\n      <td>NaN</td>\n      <td>NaN</td>\n      <td>21</td>\n    </tr>\n    <tr>\n      <th>9</th>\n      <td>0.045121</td>\n      <td>0.001895</td>\n      <td>0.035569</td>\n      <td>0.009494</td>\n      <td>10</td>\n      <td>{'kneighborsclassifier__n_neighbors': 10}</td>\n      <td>0.727273</td>\n      <td>0.720280</td>\n      <td>0.711268</td>\n      <td>NaN</td>\n      <td>0.697183</td>\n      <td>NaN</td>\n      <td>NaN</td>\n      <td>20</td>\n    </tr>\n    <tr>\n      <th>10</th>\n      <td>0.045350</td>\n      <td>0.002644</td>\n      <td>0.036922</td>\n      <td>0.010453</td>\n      <td>11</td>\n      <td>{'kneighborsclassifier__n_neighbors': 11}</td>\n      <td>0.748252</td>\n      <td>0.692308</td>\n      <td>0.711268</td>\n      <td>NaN</td>\n      <td>0.697183</td>\n      <td>NaN</td>\n      <td>NaN</td>\n      <td>19</td>\n    </tr>\n    <tr>\n      <th>11</th>\n      <td>0.045555</td>\n      <td>0.000944</td>\n      <td>0.037161</td>\n      <td>0.008814</td>\n      <td>12</td>\n      <td>{'kneighborsclassifier__n_neighbors': 12}</td>\n      <td>0.727273</td>\n      <td>0.706294</td>\n      <td>0.690141</td>\n      <td>NaN</td>\n      <td>0.697183</td>\n      <td>NaN</td>\n      <td>NaN</td>\n      <td>18</td>\n    </tr>\n    <tr>\n      <th>12</th>\n      <td>0.045597</td>\n      <td>0.003888</td>\n      <td>0.035902</td>\n      <td>0.009192</td>\n      <td>13</td>\n      <td>{'kneighborsclassifier__n_neighbors': 13}</td>\n      <td>0.713287</td>\n      <td>0.727273</td>\n      <td>0.697183</td>\n      <td>NaN</td>\n      <td>0.711268</td>\n      <td>NaN</td>\n      <td>NaN</td>\n      <td>17</td>\n    </tr>\n    <tr>\n      <th>13</th>\n      <td>0.045127</td>\n      <td>0.002488</td>\n      <td>0.038498</td>\n      <td>0.009516</td>\n      <td>14</td>\n      <td>{'kneighborsclassifier__n_neighbors': 14}</td>\n      <td>0.734266</td>\n      <td>0.755245</td>\n      <td>0.704225</td>\n      <td>NaN</td>\n      <td>0.711268</td>\n      <td>NaN</td>\n      <td>NaN</td>\n      <td>16</td>\n    </tr>\n    <tr>\n      <th>14</th>\n      <td>0.045556</td>\n      <td>0.004969</td>\n      <td>0.036047</td>\n      <td>0.009371</td>\n      <td>15</td>\n      <td>{'kneighborsclassifier__n_neighbors': 15}</td>\n      <td>0.748252</td>\n      <td>0.755245</td>\n      <td>0.697183</td>\n      <td>NaN</td>\n      <td>0.704225</td>\n      <td>NaN</td>\n      <td>NaN</td>\n      <td>15</td>\n    </tr>\n    <tr>\n      <th>15</th>\n      <td>0.045489</td>\n      <td>0.004265</td>\n      <td>0.037255</td>\n      <td>0.009001</td>\n      <td>16</td>\n      <td>{'kneighborsclassifier__n_neighbors': 16}</td>\n      <td>0.748252</td>\n      <td>0.748252</td>\n      <td>0.683099</td>\n      <td>NaN</td>\n      <td>0.661972</td>\n      <td>NaN</td>\n      <td>NaN</td>\n      <td>14</td>\n    </tr>\n    <tr>\n      <th>16</th>\n      <td>0.047291</td>\n      <td>0.003330</td>\n      <td>0.039285</td>\n      <td>0.005141</td>\n      <td>17</td>\n      <td>{'kneighborsclassifier__n_neighbors': 17}</td>\n      <td>0.734266</td>\n      <td>0.734266</td>\n      <td>0.683099</td>\n      <td>NaN</td>\n      <td>0.690141</td>\n      <td>NaN</td>\n      <td>NaN</td>\n      <td>13</td>\n    </tr>\n    <tr>\n      <th>17</th>\n      <td>0.045569</td>\n      <td>0.001901</td>\n      <td>0.035116</td>\n      <td>0.008773</td>\n      <td>18</td>\n      <td>{'kneighborsclassifier__n_neighbors': 18}</td>\n      <td>0.769231</td>\n      <td>0.720280</td>\n      <td>0.669014</td>\n      <td>NaN</td>\n      <td>0.669014</td>\n      <td>NaN</td>\n      <td>NaN</td>\n      <td>12</td>\n    </tr>\n    <tr>\n      <th>18</th>\n      <td>0.043874</td>\n      <td>0.000600</td>\n      <td>0.038947</td>\n      <td>0.010556</td>\n      <td>19</td>\n      <td>{'kneighborsclassifier__n_neighbors': 19}</td>\n      <td>0.727273</td>\n      <td>0.720280</td>\n      <td>0.676056</td>\n      <td>NaN</td>\n      <td>0.669014</td>\n      <td>NaN</td>\n      <td>NaN</td>\n      <td>11</td>\n    </tr>\n    <tr>\n      <th>19</th>\n      <td>0.043337</td>\n      <td>0.000951</td>\n      <td>0.037596</td>\n      <td>0.010455</td>\n      <td>20</td>\n      <td>{'kneighborsclassifier__n_neighbors': 20}</td>\n      <td>0.741259</td>\n      <td>0.727273</td>\n      <td>0.690141</td>\n      <td>NaN</td>\n      <td>0.661972</td>\n      <td>NaN</td>\n      <td>NaN</td>\n      <td>10</td>\n    </tr>\n    <tr>\n      <th>20</th>\n      <td>0.049263</td>\n      <td>0.002892</td>\n      <td>0.039034</td>\n      <td>0.010798</td>\n      <td>21</td>\n      <td>{'kneighborsclassifier__n_neighbors': 21}</td>\n      <td>0.727273</td>\n      <td>0.720280</td>\n      <td>0.697183</td>\n      <td>NaN</td>\n      <td>0.647887</td>\n      <td>NaN</td>\n      <td>NaN</td>\n      <td>9</td>\n    </tr>\n    <tr>\n      <th>21</th>\n      <td>0.046168</td>\n      <td>0.001658</td>\n      <td>0.037418</td>\n      <td>0.009210</td>\n      <td>22</td>\n      <td>{'kneighborsclassifier__n_neighbors': 22}</td>\n      <td>0.720280</td>\n      <td>0.727273</td>\n      <td>0.690141</td>\n      <td>NaN</td>\n      <td>0.669014</td>\n      <td>NaN</td>\n      <td>NaN</td>\n      <td>8</td>\n    </tr>\n    <tr>\n      <th>22</th>\n      <td>0.044366</td>\n      <td>0.001905</td>\n      <td>0.038346</td>\n      <td>0.006418</td>\n      <td>23</td>\n      <td>{'kneighborsclassifier__n_neighbors': 23}</td>\n      <td>0.692308</td>\n      <td>0.713287</td>\n      <td>0.697183</td>\n      <td>NaN</td>\n      <td>0.683099</td>\n      <td>NaN</td>\n      <td>NaN</td>\n      <td>7</td>\n    </tr>\n    <tr>\n      <th>23</th>\n      <td>0.046244</td>\n      <td>0.004182</td>\n      <td>0.035662</td>\n      <td>0.009027</td>\n      <td>24</td>\n      <td>{'kneighborsclassifier__n_neighbors': 24}</td>\n      <td>0.699301</td>\n      <td>0.713287</td>\n      <td>0.690141</td>\n      <td>NaN</td>\n      <td>0.654930</td>\n      <td>NaN</td>\n      <td>NaN</td>\n      <td>6</td>\n    </tr>\n    <tr>\n      <th>24</th>\n      <td>0.045232</td>\n      <td>0.001435</td>\n      <td>0.037742</td>\n      <td>0.005373</td>\n      <td>25</td>\n      <td>{'kneighborsclassifier__n_neighbors': 25}</td>\n      <td>0.671329</td>\n      <td>0.713287</td>\n      <td>0.683099</td>\n      <td>NaN</td>\n      <td>0.647887</td>\n      <td>NaN</td>\n      <td>NaN</td>\n      <td>5</td>\n    </tr>\n    <tr>\n      <th>25</th>\n      <td>0.047211</td>\n      <td>0.004833</td>\n      <td>0.035721</td>\n      <td>0.008322</td>\n      <td>26</td>\n      <td>{'kneighborsclassifier__n_neighbors': 26}</td>\n      <td>0.678322</td>\n      <td>0.692308</td>\n      <td>0.690141</td>\n      <td>NaN</td>\n      <td>0.647887</td>\n      <td>NaN</td>\n      <td>NaN</td>\n      <td>4</td>\n    </tr>\n    <tr>\n      <th>26</th>\n      <td>0.048504</td>\n      <td>0.004134</td>\n      <td>0.038018</td>\n      <td>0.010607</td>\n      <td>27</td>\n      <td>{'kneighborsclassifier__n_neighbors': 27}</td>\n      <td>0.699301</td>\n      <td>0.692308</td>\n      <td>0.683099</td>\n      <td>NaN</td>\n      <td>0.640845</td>\n      <td>NaN</td>\n      <td>NaN</td>\n      <td>3</td>\n    </tr>\n    <tr>\n      <th>27</th>\n      <td>0.045639</td>\n      <td>0.000544</td>\n      <td>0.035691</td>\n      <td>0.009145</td>\n      <td>28</td>\n      <td>{'kneighborsclassifier__n_neighbors': 28}</td>\n      <td>0.678322</td>\n      <td>0.671329</td>\n      <td>0.683099</td>\n      <td>NaN</td>\n      <td>0.633803</td>\n      <td>NaN</td>\n      <td>NaN</td>\n      <td>2</td>\n    </tr>\n    <tr>\n      <th>28</th>\n      <td>0.045526</td>\n      <td>0.001772</td>\n      <td>0.036233</td>\n      <td>0.008017</td>\n      <td>29</td>\n      <td>{'kneighborsclassifier__n_neighbors': 29}</td>\n      <td>0.678322</td>\n      <td>0.699301</td>\n      <td>0.654930</td>\n      <td>NaN</td>\n      <td>0.640845</td>\n      <td>NaN</td>\n      <td>NaN</td>\n      <td>29</td>\n    </tr>\n    <tr>\n      <th>29</th>\n      <td>0.044156</td>\n      <td>0.001310</td>\n      <td>0.031677</td>\n      <td>0.011510</td>\n      <td>30</td>\n      <td>{'kneighborsclassifier__n_neighbors': 30}</td>\n      <td>0.671329</td>\n      <td>0.657343</td>\n      <td>0.683099</td>\n      <td>NaN</td>\n      <td>0.640845</td>\n      <td>NaN</td>\n      <td>NaN</td>\n      <td>30</td>\n    </tr>\n  </tbody>\n</table>\n</div>"
     },
     "execution_count": 261,
     "metadata": {},
     "output_type": "execute_result"
    }
   ],
   "source": [
    "pd.DataFrame(step3_gridSearchCV.cv_results_)"
   ],
   "metadata": {
    "collapsed": false,
    "pycharm": {
     "name": "#%%\n"
    }
   }
  },
  {
   "cell_type": "code",
   "execution_count": 261,
   "outputs": [],
   "source": [],
   "metadata": {
    "collapsed": false,
    "pycharm": {
     "name": "#%%\n"
    }
   }
  }
 ],
 "metadata": {
  "kernelspec": {
   "display_name": "Python 3",
   "language": "python",
   "name": "python3"
  },
  "language_info": {
   "codemirror_mode": {
    "name": "ipython",
    "version": 2
   },
   "file_extension": ".py",
   "mimetype": "text/x-python",
   "name": "python",
   "nbconvert_exporter": "python",
   "pygments_lexer": "ipython2",
   "version": "2.7.6"
  }
 },
 "nbformat": 4,
 "nbformat_minor": 0
}