{
 "cells": [
  {
   "cell_type": "code",
   "execution_count": 1120,
   "metadata": {
    "collapsed": true,
    "pycharm": {
     "name": "#%%\n"
    }
   },
   "outputs": [],
   "source": [
    "import pandas as pd\n",
    "import numpy as np\n",
    "from sklearn.preprocessing import OneHotEncoder\n",
    "from sklearn.feature_extraction.text import CountVectorizer\n",
    "from sklearn.pipeline import make_pipeline\n",
    "from sklearn.compose import make_column_transformer\n",
    "from sklearn.neighbors import KNeighborsClassifier\n",
    "from sklearn.model_selection import train_test_split\n",
    "from sklearn.model_selection import GridSearchCV\n",
    "from sklearn.metrics import accuracy_score\n",
    "from sklearn.impute import SimpleImputer"
   ]
  },
  {
   "cell_type": "code",
   "execution_count": 1121,
   "outputs": [
    {
     "data": {
      "text/plain": "     PassengerId  Survived  Pclass  \\\n0              1         0       3   \n1              2         1       1   \n2              3         1       3   \n3              4         1       1   \n4              5         0       3   \n..           ...       ...     ...   \n886          887         0       2   \n887          888         1       1   \n888          889         0       3   \n889          890         1       1   \n890          891         0       3   \n\n                                                  Name     Sex   Age  SibSp  \\\n0                              Braund, Mr. Owen Harris    male  22.0      1   \n1    Cumings, Mrs. John Bradley (Florence Briggs Th...  female  38.0      1   \n2                               Heikkinen, Miss. Laina  female  26.0      0   \n3         Futrelle, Mrs. Jacques Heath (Lily May Peel)  female  35.0      1   \n4                             Allen, Mr. William Henry    male  35.0      0   \n..                                                 ...     ...   ...    ...   \n886                              Montvila, Rev. Juozas    male  27.0      0   \n887                       Graham, Miss. Margaret Edith  female  19.0      0   \n888           Johnston, Miss. Catherine Helen \"Carrie\"  female   NaN      1   \n889                              Behr, Mr. Karl Howell    male  26.0      0   \n890                                Dooley, Mr. Patrick    male  32.0      0   \n\n     Parch            Ticket     Fare Cabin Embarked  \n0        0         A/5 21171   7.2500   NaN        S  \n1        0          PC 17599  71.2833   C85        C  \n2        0  STON/O2. 3101282   7.9250   NaN        S  \n3        0            113803  53.1000  C123        S  \n4        0            373450   8.0500   NaN        S  \n..     ...               ...      ...   ...      ...  \n886      0            211536  13.0000   NaN        S  \n887      0            112053  30.0000   B42        S  \n888      2        W./C. 6607  23.4500   NaN        S  \n889      0            111369  30.0000  C148        C  \n890      0            370376   7.7500   NaN        Q  \n\n[891 rows x 12 columns]",
      "text/html": "<div>\n<style scoped>\n    .dataframe tbody tr th:only-of-type {\n        vertical-align: middle;\n    }\n\n    .dataframe tbody tr th {\n        vertical-align: top;\n    }\n\n    .dataframe thead th {\n        text-align: right;\n    }\n</style>\n<table border=\"1\" class=\"dataframe\">\n  <thead>\n    <tr style=\"text-align: right;\">\n      <th></th>\n      <th>PassengerId</th>\n      <th>Survived</th>\n      <th>Pclass</th>\n      <th>Name</th>\n      <th>Sex</th>\n      <th>Age</th>\n      <th>SibSp</th>\n      <th>Parch</th>\n      <th>Ticket</th>\n      <th>Fare</th>\n      <th>Cabin</th>\n      <th>Embarked</th>\n    </tr>\n  </thead>\n  <tbody>\n    <tr>\n      <th>0</th>\n      <td>1</td>\n      <td>0</td>\n      <td>3</td>\n      <td>Braund, Mr. Owen Harris</td>\n      <td>male</td>\n      <td>22.0</td>\n      <td>1</td>\n      <td>0</td>\n      <td>A/5 21171</td>\n      <td>7.2500</td>\n      <td>NaN</td>\n      <td>S</td>\n    </tr>\n    <tr>\n      <th>1</th>\n      <td>2</td>\n      <td>1</td>\n      <td>1</td>\n      <td>Cumings, Mrs. John Bradley (Florence Briggs Th...</td>\n      <td>female</td>\n      <td>38.0</td>\n      <td>1</td>\n      <td>0</td>\n      <td>PC 17599</td>\n      <td>71.2833</td>\n      <td>C85</td>\n      <td>C</td>\n    </tr>\n    <tr>\n      <th>2</th>\n      <td>3</td>\n      <td>1</td>\n      <td>3</td>\n      <td>Heikkinen, Miss. Laina</td>\n      <td>female</td>\n      <td>26.0</td>\n      <td>0</td>\n      <td>0</td>\n      <td>STON/O2. 3101282</td>\n      <td>7.9250</td>\n      <td>NaN</td>\n      <td>S</td>\n    </tr>\n    <tr>\n      <th>3</th>\n      <td>4</td>\n      <td>1</td>\n      <td>1</td>\n      <td>Futrelle, Mrs. Jacques Heath (Lily May Peel)</td>\n      <td>female</td>\n      <td>35.0</td>\n      <td>1</td>\n      <td>0</td>\n      <td>113803</td>\n      <td>53.1000</td>\n      <td>C123</td>\n      <td>S</td>\n    </tr>\n    <tr>\n      <th>4</th>\n      <td>5</td>\n      <td>0</td>\n      <td>3</td>\n      <td>Allen, Mr. William Henry</td>\n      <td>male</td>\n      <td>35.0</td>\n      <td>0</td>\n      <td>0</td>\n      <td>373450</td>\n      <td>8.0500</td>\n      <td>NaN</td>\n      <td>S</td>\n    </tr>\n    <tr>\n      <th>...</th>\n      <td>...</td>\n      <td>...</td>\n      <td>...</td>\n      <td>...</td>\n      <td>...</td>\n      <td>...</td>\n      <td>...</td>\n      <td>...</td>\n      <td>...</td>\n      <td>...</td>\n      <td>...</td>\n      <td>...</td>\n    </tr>\n    <tr>\n      <th>886</th>\n      <td>887</td>\n      <td>0</td>\n      <td>2</td>\n      <td>Montvila, Rev. Juozas</td>\n      <td>male</td>\n      <td>27.0</td>\n      <td>0</td>\n      <td>0</td>\n      <td>211536</td>\n      <td>13.0000</td>\n      <td>NaN</td>\n      <td>S</td>\n    </tr>\n    <tr>\n      <th>887</th>\n      <td>888</td>\n      <td>1</td>\n      <td>1</td>\n      <td>Graham, Miss. Margaret Edith</td>\n      <td>female</td>\n      <td>19.0</td>\n      <td>0</td>\n      <td>0</td>\n      <td>112053</td>\n      <td>30.0000</td>\n      <td>B42</td>\n      <td>S</td>\n    </tr>\n    <tr>\n      <th>888</th>\n      <td>889</td>\n      <td>0</td>\n      <td>3</td>\n      <td>Johnston, Miss. Catherine Helen \"Carrie\"</td>\n      <td>female</td>\n      <td>NaN</td>\n      <td>1</td>\n      <td>2</td>\n      <td>W./C. 6607</td>\n      <td>23.4500</td>\n      <td>NaN</td>\n      <td>S</td>\n    </tr>\n    <tr>\n      <th>889</th>\n      <td>890</td>\n      <td>1</td>\n      <td>1</td>\n      <td>Behr, Mr. Karl Howell</td>\n      <td>male</td>\n      <td>26.0</td>\n      <td>0</td>\n      <td>0</td>\n      <td>111369</td>\n      <td>30.0000</td>\n      <td>C148</td>\n      <td>C</td>\n    </tr>\n    <tr>\n      <th>890</th>\n      <td>891</td>\n      <td>0</td>\n      <td>3</td>\n      <td>Dooley, Mr. Patrick</td>\n      <td>male</td>\n      <td>32.0</td>\n      <td>0</td>\n      <td>0</td>\n      <td>370376</td>\n      <td>7.7500</td>\n      <td>NaN</td>\n      <td>Q</td>\n    </tr>\n  </tbody>\n</table>\n<p>891 rows × 12 columns</p>\n</div>"
     },
     "execution_count": 1121,
     "metadata": {},
     "output_type": "execute_result"
    }
   ],
   "source": [
    "titanicData = pd.read_csv('http://bit.ly/kaggletrain', index_col = None)\n",
    "titanicData"
   ],
   "metadata": {
    "collapsed": false,
    "pycharm": {
     "name": "#%%\n"
    }
   }
  },
  {
   "cell_type": "code",
   "execution_count": 1122,
   "outputs": [
    {
     "data": {
      "text/plain": "Index(['PassengerId', 'Survived', 'Pclass', 'Name', 'Sex', 'Age', 'SibSp',\n       'Parch', 'Ticket', 'Fare', 'Cabin', 'Embarked'],\n      dtype='object')"
     },
     "execution_count": 1122,
     "metadata": {},
     "output_type": "execute_result"
    }
   ],
   "source": [
    "titanicData.columns"
   ],
   "metadata": {
    "collapsed": false,
    "pycharm": {
     "name": "#%%\n"
    }
   }
  },
  {
   "cell_type": "code",
   "execution_count": 1123,
   "outputs": [
    {
     "data": {
      "text/plain": "(891, 12)"
     },
     "execution_count": 1123,
     "metadata": {},
     "output_type": "execute_result"
    }
   ],
   "source": [
    "titanicData.shape"
   ],
   "metadata": {
    "collapsed": false,
    "pycharm": {
     "name": "#%%\n"
    }
   }
  },
  {
   "cell_type": "code",
   "execution_count": 1124,
   "outputs": [
    {
     "name": "stdout",
     "output_type": "stream",
     "text": [
      "<class 'pandas.core.frame.DataFrame'>\n",
      "RangeIndex: 891 entries, 0 to 890\n",
      "Data columns (total 12 columns):\n",
      " #   Column       Non-Null Count  Dtype  \n",
      "---  ------       --------------  -----  \n",
      " 0   PassengerId  891 non-null    int64  \n",
      " 1   Survived     891 non-null    int64  \n",
      " 2   Pclass       891 non-null    int64  \n",
      " 3   Name         891 non-null    object \n",
      " 4   Sex          891 non-null    object \n",
      " 5   Age          714 non-null    float64\n",
      " 6   SibSp        891 non-null    int64  \n",
      " 7   Parch        891 non-null    int64  \n",
      " 8   Ticket       891 non-null    object \n",
      " 9   Fare         891 non-null    float64\n",
      " 10  Cabin        204 non-null    object \n",
      " 11  Embarked     889 non-null    object \n",
      "dtypes: float64(2), int64(5), object(5)\n",
      "memory usage: 83.7+ KB\n"
     ]
    }
   ],
   "source": [
    "titanicData.info()"
   ],
   "metadata": {
    "collapsed": false,
    "pycharm": {
     "name": "#%%\n"
    }
   }
  },
  {
   "cell_type": "code",
   "execution_count": 1125,
   "outputs": [
    {
     "data": {
      "text/plain": "     Pclass                                               Name     Sex   Age  \\\n0         3                            Braund, Mr. Owen Harris    male  22.0   \n1         1  Cumings, Mrs. John Bradley (Florence Briggs Th...  female  38.0   \n2         3                             Heikkinen, Miss. Laina  female  26.0   \n3         1       Futrelle, Mrs. Jacques Heath (Lily May Peel)  female  35.0   \n4         3                           Allen, Mr. William Henry    male  35.0   \n..      ...                                                ...     ...   ...   \n886       2                              Montvila, Rev. Juozas    male  27.0   \n887       1                       Graham, Miss. Margaret Edith  female  19.0   \n888       3           Johnston, Miss. Catherine Helen \"Carrie\"  female   NaN   \n889       1                              Behr, Mr. Karl Howell    male  26.0   \n890       3                                Dooley, Mr. Patrick    male  32.0   \n\n     SibSp  Parch Embarked     Fare  \n0        1      0        S   7.2500  \n1        1      0        C  71.2833  \n2        0      0        S   7.9250  \n3        1      0        S  53.1000  \n4        0      0        S   8.0500  \n..     ...    ...      ...      ...  \n886      0      0        S  13.0000  \n887      0      0        S  30.0000  \n888      1      2        S  23.4500  \n889      0      0        C  30.0000  \n890      0      0        Q   7.7500  \n\n[891 rows x 8 columns]",
      "text/html": "<div>\n<style scoped>\n    .dataframe tbody tr th:only-of-type {\n        vertical-align: middle;\n    }\n\n    .dataframe tbody tr th {\n        vertical-align: top;\n    }\n\n    .dataframe thead th {\n        text-align: right;\n    }\n</style>\n<table border=\"1\" class=\"dataframe\">\n  <thead>\n    <tr style=\"text-align: right;\">\n      <th></th>\n      <th>Pclass</th>\n      <th>Name</th>\n      <th>Sex</th>\n      <th>Age</th>\n      <th>SibSp</th>\n      <th>Parch</th>\n      <th>Embarked</th>\n      <th>Fare</th>\n    </tr>\n  </thead>\n  <tbody>\n    <tr>\n      <th>0</th>\n      <td>3</td>\n      <td>Braund, Mr. Owen Harris</td>\n      <td>male</td>\n      <td>22.0</td>\n      <td>1</td>\n      <td>0</td>\n      <td>S</td>\n      <td>7.2500</td>\n    </tr>\n    <tr>\n      <th>1</th>\n      <td>1</td>\n      <td>Cumings, Mrs. John Bradley (Florence Briggs Th...</td>\n      <td>female</td>\n      <td>38.0</td>\n      <td>1</td>\n      <td>0</td>\n      <td>C</td>\n      <td>71.2833</td>\n    </tr>\n    <tr>\n      <th>2</th>\n      <td>3</td>\n      <td>Heikkinen, Miss. Laina</td>\n      <td>female</td>\n      <td>26.0</td>\n      <td>0</td>\n      <td>0</td>\n      <td>S</td>\n      <td>7.9250</td>\n    </tr>\n    <tr>\n      <th>3</th>\n      <td>1</td>\n      <td>Futrelle, Mrs. Jacques Heath (Lily May Peel)</td>\n      <td>female</td>\n      <td>35.0</td>\n      <td>1</td>\n      <td>0</td>\n      <td>S</td>\n      <td>53.1000</td>\n    </tr>\n    <tr>\n      <th>4</th>\n      <td>3</td>\n      <td>Allen, Mr. William Henry</td>\n      <td>male</td>\n      <td>35.0</td>\n      <td>0</td>\n      <td>0</td>\n      <td>S</td>\n      <td>8.0500</td>\n    </tr>\n    <tr>\n      <th>...</th>\n      <td>...</td>\n      <td>...</td>\n      <td>...</td>\n      <td>...</td>\n      <td>...</td>\n      <td>...</td>\n      <td>...</td>\n      <td>...</td>\n    </tr>\n    <tr>\n      <th>886</th>\n      <td>2</td>\n      <td>Montvila, Rev. Juozas</td>\n      <td>male</td>\n      <td>27.0</td>\n      <td>0</td>\n      <td>0</td>\n      <td>S</td>\n      <td>13.0000</td>\n    </tr>\n    <tr>\n      <th>887</th>\n      <td>1</td>\n      <td>Graham, Miss. Margaret Edith</td>\n      <td>female</td>\n      <td>19.0</td>\n      <td>0</td>\n      <td>0</td>\n      <td>S</td>\n      <td>30.0000</td>\n    </tr>\n    <tr>\n      <th>888</th>\n      <td>3</td>\n      <td>Johnston, Miss. Catherine Helen \"Carrie\"</td>\n      <td>female</td>\n      <td>NaN</td>\n      <td>1</td>\n      <td>2</td>\n      <td>S</td>\n      <td>23.4500</td>\n    </tr>\n    <tr>\n      <th>889</th>\n      <td>1</td>\n      <td>Behr, Mr. Karl Howell</td>\n      <td>male</td>\n      <td>26.0</td>\n      <td>0</td>\n      <td>0</td>\n      <td>C</td>\n      <td>30.0000</td>\n    </tr>\n    <tr>\n      <th>890</th>\n      <td>3</td>\n      <td>Dooley, Mr. Patrick</td>\n      <td>male</td>\n      <td>32.0</td>\n      <td>0</td>\n      <td>0</td>\n      <td>Q</td>\n      <td>7.7500</td>\n    </tr>\n  </tbody>\n</table>\n<p>891 rows × 8 columns</p>\n</div>"
     },
     "execution_count": 1125,
     "metadata": {},
     "output_type": "execute_result"
    }
   ],
   "source": [
    "cols = [\"Pclass\", \"Name\", \"Sex\", \"Age\", \"SibSp\", \"Parch\", \"Embarked\", \"Fare\"]\n",
    "titanicData_X = titanicData[cols]\n",
    "titanicData_y = titanicData[\"Survived\"]\n",
    "titanicData_X"
   ],
   "metadata": {
    "collapsed": false,
    "pycharm": {
     "name": "#%%\n"
    }
   }
  },
  {
   "cell_type": "code",
   "execution_count": 1126,
   "outputs": [
    {
     "data": {
      "text/plain": "0      0\n1      1\n2      1\n3      1\n4      0\n      ..\n886    0\n887    1\n888    0\n889    1\n890    0\nName: Survived, Length: 891, dtype: int64"
     },
     "execution_count": 1126,
     "metadata": {},
     "output_type": "execute_result"
    }
   ],
   "source": [
    "titanicData_y"
   ],
   "metadata": {
    "collapsed": false,
    "pycharm": {
     "name": "#%%\n"
    }
   }
  },
  {
   "cell_type": "code",
   "execution_count": 1127,
   "outputs": [
    {
     "name": "stdout",
     "output_type": "stream",
     "text": [
      "<class 'pandas.core.frame.DataFrame'>\n",
      "RangeIndex: 891 entries, 0 to 890\n",
      "Data columns (total 8 columns):\n",
      " #   Column    Non-Null Count  Dtype  \n",
      "---  ------    --------------  -----  \n",
      " 0   Pclass    891 non-null    int64  \n",
      " 1   Name      891 non-null    object \n",
      " 2   Sex       891 non-null    object \n",
      " 3   Age       714 non-null    float64\n",
      " 4   SibSp     891 non-null    int64  \n",
      " 5   Parch     891 non-null    int64  \n",
      " 6   Embarked  889 non-null    object \n",
      " 7   Fare      891 non-null    float64\n",
      "dtypes: float64(2), int64(3), object(3)\n",
      "memory usage: 55.8+ KB\n"
     ]
    }
   ],
   "source": [
    "titanicData_X.info()"
   ],
   "metadata": {
    "collapsed": false,
    "pycharm": {
     "name": "#%%\n"
    }
   }
  },
  {
   "cell_type": "markdown",
   "source": [
    "### Required transformations\n",
    "- Pclass: None\n",
    "- Name: CountVectorizer\n",
    "- Sex: Categorical to Numerical\n",
    "- Age: Missing value, To numerical\n",
    "- Embarked: To numerical\n",
    "- Fare: None\n",
    "\n",
    "### Steps\n",
    "1- \"Pclass\", \"Name\", \"Sex\", \"SibSp\", \"Parch\", \"Fare\"\n",
    "2- \"Pclass\", \"Name\", \"Sex\", \"SibSp\", \"Parch\", \"Fare\", \"Age\"\n",
    "3- \"Pclass\", \"Name\", \"Sex\", \"SibSp\", \"Parch\", \"Fare\", \"Age\", \"Embarked\""
   ],
   "metadata": {
    "collapsed": false,
    "pycharm": {
     "name": "#%% md\n"
    }
   }
  },
  {
   "cell_type": "code",
   "execution_count": 1128,
   "outputs": [],
   "source": [
    "step1Cols = [\"Pclass\", \"Name\", \"Sex\", \"SibSp\", \"Parch\", \"Fare\"]\n",
    "step2Cols = [\"Pclass\", \"Name\", \"Sex\", \"SibSp\", \"Parch\", \"Fare\",\"Age\"]\n",
    "step3Cols = [\"Pclass\", \"Name\", \"Sex\", \"SibSp\", \"Parch\", \"Fare\", \"Age\", \"Embarked\"]"
   ],
   "metadata": {
    "collapsed": false,
    "pycharm": {
     "name": "#%%\n"
    }
   }
  },
  {
   "cell_type": "markdown",
   "source": [
    "### Step 1"
   ],
   "metadata": {
    "collapsed": false,
    "pycharm": {
     "name": "#%% md\n"
    }
   }
  },
  {
   "cell_type": "code",
   "execution_count": 1129,
   "outputs": [],
   "source": [
    "knn = KNeighborsClassifier(n_neighbors = 8)\n",
    "X_train, X_test, y_train, y_test = train_test_split(\n",
    "    titanicData_X[step1Cols], titanicData_y,\n",
    "    random_state = 40, test_size = 0.2\n",
    ")"
   ],
   "metadata": {
    "collapsed": false,
    "pycharm": {
     "name": "#%%\n"
    }
   }
  },
  {
   "cell_type": "code",
   "execution_count": 1130,
   "outputs": [
    {
     "data": {
      "text/plain": "(712, 6)"
     },
     "execution_count": 1130,
     "metadata": {},
     "output_type": "execute_result"
    }
   ],
   "source": [
    "X_train.shape"
   ],
   "metadata": {
    "collapsed": false,
    "pycharm": {
     "name": "#%%\n"
    }
   }
  },
  {
   "cell_type": "code",
   "execution_count": 1131,
   "outputs": [
    {
     "name": "stdout",
     "output_type": "stream",
     "text": [
      "<class 'pandas.core.frame.DataFrame'>\n",
      "Int64Index: 712 entries, 661 to 326\n",
      "Data columns (total 6 columns):\n",
      " #   Column  Non-Null Count  Dtype  \n",
      "---  ------  --------------  -----  \n",
      " 0   Pclass  712 non-null    int64  \n",
      " 1   Name    712 non-null    object \n",
      " 2   Sex     712 non-null    object \n",
      " 3   SibSp   712 non-null    int64  \n",
      " 4   Parch   712 non-null    int64  \n",
      " 5   Fare    712 non-null    float64\n",
      "dtypes: float64(1), int64(3), object(2)\n",
      "memory usage: 38.9+ KB\n"
     ]
    }
   ],
   "source": [
    "X_train.info()"
   ],
   "metadata": {
    "collapsed": false,
    "pycharm": {
     "name": "#%%\n"
    }
   }
  },
  {
   "cell_type": "code",
   "execution_count": 1132,
   "outputs": [
    {
     "data": {
      "text/plain": "(712,)"
     },
     "execution_count": 1132,
     "metadata": {},
     "output_type": "execute_result"
    }
   ],
   "source": [
    "y_train.shape"
   ],
   "metadata": {
    "collapsed": false,
    "pycharm": {
     "name": "#%%\n"
    }
   }
  },
  {
   "cell_type": "markdown",
   "source": [
    "###"
   ],
   "metadata": {
    "collapsed": false,
    "pycharm": {
     "name": "#%% md\n"
    }
   }
  },
  {
   "cell_type": "code",
   "execution_count": 1133,
   "outputs": [],
   "source": [
    "countVectorizer = CountVectorizer()\n",
    "oneHotEncoder = OneHotEncoder()"
   ],
   "metadata": {
    "collapsed": false,
    "pycharm": {
     "name": "#%%\n"
    }
   }
  },
  {
   "cell_type": "code",
   "execution_count": 1134,
   "outputs": [],
   "source": [
    "step1_columnTransformer = make_column_transformer(\n",
    "    (countVectorizer, \"Name\"),\n",
    "    (oneHotEncoder, [\"Sex\"]),\n",
    "    remainder = \"passthrough\",\n",
    "    n_jobs = -1\n",
    ")"
   ],
   "metadata": {
    "collapsed": false,
    "pycharm": {
     "name": "#%%\n"
    }
   }
  },
  {
   "cell_type": "code",
   "execution_count": 1135,
   "outputs": [],
   "source": [
    "step1_pipeLine = make_pipeline(step1_columnTransformer, knn)"
   ],
   "metadata": {
    "collapsed": false,
    "pycharm": {
     "name": "#%%\n"
    }
   }
  },
  {
   "cell_type": "code",
   "execution_count": 1136,
   "outputs": [],
   "source": [
    "k_range = list(range(1, 31))\n",
    "params = {\"kneighborsclassifier__n_neighbors\": k_range}"
   ],
   "metadata": {
    "collapsed": false,
    "pycharm": {
     "name": "#%%\n"
    }
   }
  },
  {
   "cell_type": "code",
   "execution_count": 1137,
   "outputs": [],
   "source": [
    "gridSearchCV = GridSearchCV(\n",
    "    step1_pipeLine, params, cv = 5, scoring = \"accuracy\", n_jobs = -1\n",
    ")"
   ],
   "metadata": {
    "collapsed": false,
    "pycharm": {
     "name": "#%%\n"
    }
   }
  },
  {
   "cell_type": "code",
   "execution_count": 1138,
   "outputs": [
    {
     "data": {
      "text/plain": "GridSearchCV(cv=5,\n             estimator=Pipeline(steps=[('columntransformer',\n                                        ColumnTransformer(n_jobs=-1,\n                                                          remainder='passthrough',\n                                                          transformers=[('countvectorizer',\n                                                                         CountVectorizer(),\n                                                                         'Name'),\n                                                                        ('onehotencoder',\n                                                                         OneHotEncoder(),\n                                                                         ['Sex'])])),\n                                       ('kneighborsclassifier',\n                                        KNeighborsClassifier(n_neighbors=8))]),\n             n_jobs=-1,\n             param_grid={'kneighborsclassifier__n_neighbors': [1, 2, 3, 4, 5, 6,\n                                                               7, 8, 9, 10, 11,\n                                                               12, 13, 14, 15,\n                                                               16, 17, 18, 19,\n                                                               20, 21, 22, 23,\n                                                               24, 25, 26, 27,\n                                                               28, 29, 30]},\n             scoring='accuracy')"
     },
     "execution_count": 1138,
     "metadata": {},
     "output_type": "execute_result"
    }
   ],
   "source": [
    "gridSearchCV.fit(X_train, y_train)"
   ],
   "metadata": {
    "collapsed": false,
    "pycharm": {
     "name": "#%%\n"
    }
   }
  },
  {
   "cell_type": "code",
   "execution_count": 1139,
   "outputs": [
    {
     "data": {
      "text/plain": "0.7626514330739682"
     },
     "execution_count": 1139,
     "metadata": {},
     "output_type": "execute_result"
    }
   ],
   "source": [
    "gridSearchCV.best_score_"
   ],
   "metadata": {
    "collapsed": false,
    "pycharm": {
     "name": "#%%\n"
    }
   }
  },
  {
   "cell_type": "code",
   "execution_count": 1140,
   "outputs": [],
   "source": [
    "predicted = gridSearchCV.predict(X_test)"
   ],
   "metadata": {
    "collapsed": false,
    "pycharm": {
     "name": "#%%\n"
    }
   }
  },
  {
   "cell_type": "code",
   "execution_count": 1141,
   "outputs": [
    {
     "name": "stdout",
     "output_type": "stream",
     "text": [
      "Step 1 Accuracy: 0.8324022346368715\n"
     ]
    }
   ],
   "source": [
    "print(\"Step 1 Accuracy:\", accuracy_score(y_test, predicted))"
   ],
   "metadata": {
    "collapsed": false,
    "pycharm": {
     "name": "#%%\n"
    }
   }
  },
  {
   "cell_type": "markdown",
   "source": [
    "### End - Step 1"
   ],
   "metadata": {
    "collapsed": false,
    "pycharm": {
     "name": "#%% md\n"
    }
   }
  },
  {
   "cell_type": "markdown",
   "source": [
    "### Step 2"
   ],
   "metadata": {
    "collapsed": false,
    "pycharm": {
     "name": "#%% md\n"
    }
   }
  },
  {
   "cell_type": "code",
   "execution_count": 1142,
   "outputs": [],
   "source": [
    "knn = KNeighborsClassifier(n_neighbors = 8)\n",
    "X_train, X_test, y_train, y_test = train_test_split(\n",
    "    titanicData_X[step2Cols], titanicData_y,\n",
    "    random_state = 40, test_size = 0.2\n",
    ")"
   ],
   "metadata": {
    "collapsed": false,
    "pycharm": {
     "name": "#%%\n"
    }
   }
  },
  {
   "cell_type": "code",
   "execution_count": 1143,
   "outputs": [
    {
     "name": "stdout",
     "output_type": "stream",
     "text": [
      "<class 'pandas.core.frame.DataFrame'>\n",
      "Int64Index: 712 entries, 661 to 326\n",
      "Data columns (total 7 columns):\n",
      " #   Column  Non-Null Count  Dtype  \n",
      "---  ------  --------------  -----  \n",
      " 0   Pclass  712 non-null    int64  \n",
      " 1   Name    712 non-null    object \n",
      " 2   Sex     712 non-null    object \n",
      " 3   SibSp   712 non-null    int64  \n",
      " 4   Parch   712 non-null    int64  \n",
      " 5   Fare    712 non-null    float64\n",
      " 6   Age     573 non-null    float64\n",
      "dtypes: float64(2), int64(3), object(2)\n",
      "memory usage: 44.5+ KB\n"
     ]
    }
   ],
   "source": [
    "X_train.info()"
   ],
   "metadata": {
    "collapsed": false,
    "pycharm": {
     "name": "#%%\n"
    }
   }
  },
  {
   "cell_type": "code",
   "execution_count": 1144,
   "outputs": [
    {
     "data": {
      "text/plain": "Pclass      0\nName        0\nSex         0\nSibSp       0\nParch       0\nFare        0\nAge       139\ndtype: int64"
     },
     "execution_count": 1144,
     "metadata": {},
     "output_type": "execute_result"
    }
   ],
   "source": [
    "X_train.isna().sum()"
   ],
   "metadata": {
    "collapsed": false,
    "pycharm": {
     "name": "#%%\n"
    }
   }
  },
  {
   "cell_type": "code",
   "execution_count": 1145,
   "outputs": [],
   "source": [
    "step2_simpleImputer = SimpleImputer()"
   ],
   "metadata": {
    "collapsed": false,
    "pycharm": {
     "name": "#%%\n"
    }
   }
  },
  {
   "cell_type": "code",
   "execution_count": 1146,
   "outputs": [],
   "source": [
    "step2_columnTransformer = make_column_transformer(\n",
    "    (countVectorizer, \"Name\"),\n",
    "    (oneHotEncoder, [\"Sex\"]),\n",
    "    (step2_simpleImputer, [\"Age\"]),\n",
    "    remainder = \"passthrough\",\n",
    "    n_jobs = -1\n",
    ")"
   ],
   "metadata": {
    "collapsed": false,
    "pycharm": {
     "name": "#%%\n"
    }
   }
  },
  {
   "cell_type": "code",
   "execution_count": 1147,
   "outputs": [],
   "source": [
    "step2_pipeLine = make_pipeline(\n",
    "    step2_columnTransformer, knn\n",
    ")"
   ],
   "metadata": {
    "collapsed": false,
    "pycharm": {
     "name": "#%%\n"
    }
   }
  },
  {
   "cell_type": "code",
   "execution_count": 1148,
   "outputs": [],
   "source": [
    "step2_gridSearchCV = GridSearchCV(\n",
    "    step2_pipeLine, params, cv = 5, scoring = \"accuracy\", n_jobs = -1\n",
    ")"
   ],
   "metadata": {
    "collapsed": false,
    "pycharm": {
     "name": "#%%\n"
    }
   }
  },
  {
   "cell_type": "code",
   "execution_count": 1149,
   "outputs": [
    {
     "data": {
      "text/plain": "GridSearchCV(cv=5,\n             estimator=Pipeline(steps=[('columntransformer',\n                                        ColumnTransformer(n_jobs=-1,\n                                                          remainder='passthrough',\n                                                          transformers=[('countvectorizer',\n                                                                         CountVectorizer(),\n                                                                         'Name'),\n                                                                        ('onehotencoder',\n                                                                         OneHotEncoder(),\n                                                                         ['Sex']),\n                                                                        ('simpleimputer',\n                                                                         SimpleImputer(),\n                                                                         ['Age'])])),\n                                       ('kneighborsclassifier',\n                                        KNeighborsClassifier(n_neighbors=8))]),\n             n_jobs=-1,\n             param_grid={'kneighborsclassifier__n_neighbors': [1, 2, 3, 4, 5, 6,\n                                                               7, 8, 9, 10, 11,\n                                                               12, 13, 14, 15,\n                                                               16, 17, 18, 19,\n                                                               20, 21, 22, 23,\n                                                               24, 25, 26, 27,\n                                                               28, 29, 30]},\n             scoring='accuracy')"
     },
     "execution_count": 1149,
     "metadata": {},
     "output_type": "execute_result"
    }
   ],
   "source": [
    "step2_gridSearchCV.fit(X_train, y_train)"
   ],
   "metadata": {
    "collapsed": false,
    "pycharm": {
     "name": "#%%\n"
    }
   }
  },
  {
   "cell_type": "code",
   "execution_count": 1150,
   "outputs": [
    {
     "data": {
      "text/plain": "0.719078104993598"
     },
     "execution_count": 1150,
     "metadata": {},
     "output_type": "execute_result"
    }
   ],
   "source": [
    "step2_gridSearchCV.best_score_"
   ],
   "metadata": {
    "collapsed": false,
    "pycharm": {
     "name": "#%%\n"
    }
   }
  },
  {
   "cell_type": "code",
   "execution_count": 1151,
   "outputs": [
    {
     "name": "stdout",
     "output_type": "stream",
     "text": [
      "Step 2 Accuracy: 0.7318435754189944\n"
     ]
    }
   ],
   "source": [
    "predicted = step2_gridSearchCV.predict(X_test)\n",
    "print(\"Step 2 Accuracy:\", accuracy_score(y_test, predicted))"
   ],
   "metadata": {
    "collapsed": false,
    "pycharm": {
     "name": "#%%\n"
    }
   }
  },
  {
   "cell_type": "markdown",
   "source": [
    "### End - Step2"
   ],
   "metadata": {
    "collapsed": false,
    "pycharm": {
     "name": "#%% md\n"
    }
   }
  },
  {
   "cell_type": "code",
   "execution_count": 1152,
   "outputs": [],
   "source": [
    "knn = KNeighborsClassifier(n_neighbors = 8)\n",
    "X_train, X_test, y_train, y_test = train_test_split(\n",
    "    titanicData_X[step3Cols], titanicData_y,\n",
    "    random_state = 40, test_size = 0.2\n",
    ")"
   ],
   "metadata": {
    "collapsed": false,
    "pycharm": {
     "name": "#%%\n"
    }
   }
  },
  {
   "cell_type": "code",
   "execution_count": 1153,
   "outputs": [
    {
     "name": "stdout",
     "output_type": "stream",
     "text": [
      "<class 'pandas.core.frame.DataFrame'>\n",
      "Int64Index: 712 entries, 661 to 326\n",
      "Data columns (total 8 columns):\n",
      " #   Column    Non-Null Count  Dtype  \n",
      "---  ------    --------------  -----  \n",
      " 0   Pclass    712 non-null    int64  \n",
      " 1   Name      712 non-null    object \n",
      " 2   Sex       712 non-null    object \n",
      " 3   SibSp     712 non-null    int64  \n",
      " 4   Parch     712 non-null    int64  \n",
      " 5   Fare      712 non-null    float64\n",
      " 6   Age       573 non-null    float64\n",
      " 7   Embarked  711 non-null    object \n",
      "dtypes: float64(2), int64(3), object(3)\n",
      "memory usage: 50.1+ KB\n"
     ]
    }
   ],
   "source": [
    "X_train.info()"
   ],
   "metadata": {
    "collapsed": false,
    "pycharm": {
     "name": "#%%\n"
    }
   }
  },
  {
   "cell_type": "code",
   "execution_count": 1154,
   "outputs": [
    {
     "data": {
      "text/plain": "S    514\nC    132\nQ     65\nName: Embarked, dtype: int64"
     },
     "execution_count": 1154,
     "metadata": {},
     "output_type": "execute_result"
    }
   ],
   "source": [
    "X_train[\"Embarked\"].value_counts()"
   ],
   "metadata": {
    "collapsed": false,
    "pycharm": {
     "name": "#%%\n"
    }
   }
  },
  {
   "cell_type": "code",
   "execution_count": 1155,
   "outputs": [],
   "source": [
    "ageImputer = SimpleImputer(strategy = \"median\")\n",
    "embarkedOneHotEncoder = OneHotEncoder()\n",
    "embarkedImputer = SimpleImputer(\n",
    "    strategy = \"constant\",\n",
    "    fill_value = \"missing\"\n",
    ")\n",
    "step3TransfomerPipeline = make_pipeline(embarkedImputer, embarkedOneHotEncoder)\n",
    "#ageTransformer.fit_transform(X_train[[\"Embarked\"]])"
   ],
   "metadata": {
    "collapsed": false,
    "pycharm": {
     "name": "#%%\n"
    }
   }
  },
  {
   "cell_type": "code",
   "execution_count": 1156,
   "outputs": [
    {
     "data": {
      "text/plain": "[array(['female', 'male'], dtype=object)]"
     },
     "execution_count": 1156,
     "metadata": {},
     "output_type": "execute_result"
    }
   ],
   "source": [
    "oneHotEncoder.fit_transform(X_train[[\"Sex\"]])\n",
    "oneHotEncoder.categories_"
   ],
   "metadata": {
    "collapsed": false,
    "pycharm": {
     "name": "#%%\n"
    }
   }
  },
  {
   "cell_type": "code",
   "execution_count": 1157,
   "outputs": [
    {
     "data": {
      "text/plain": "<712x4 sparse matrix of type '<class 'numpy.float64'>'\n\twith 712 stored elements in Compressed Sparse Row format>"
     },
     "execution_count": 1157,
     "metadata": {},
     "output_type": "execute_result"
    }
   ],
   "source": [
    "step3TransfomerPipeline.fit_transform(X_train[[\"Embarked\"]])"
   ],
   "metadata": {
    "collapsed": false,
    "pycharm": {
     "name": "#%%\n"
    }
   }
  },
  {
   "cell_type": "code",
   "execution_count": 1158,
   "outputs": [
    {
     "data": {
      "text/plain": "array([28.])"
     },
     "execution_count": 1158,
     "metadata": {},
     "output_type": "execute_result"
    }
   ],
   "source": [
    "ageImputer.fit_transform(X_train[[\"Age\"]])\n",
    "ageImputer.statistics_"
   ],
   "metadata": {
    "collapsed": false,
    "pycharm": {
     "name": "#%%\n"
    }
   }
  },
  {
   "cell_type": "code",
   "execution_count": 1159,
   "outputs": [],
   "source": [
    "step3_columnTransformer = make_column_transformer(\n",
    "    (countVectorizer, \"Name\"),\n",
    "    (oneHotEncoder, [\"Sex\"]),\n",
    "    (ageImputer, [\"Age\"]),\n",
    "    (step3TransfomerPipeline, [\"Embarked\"]),\n",
    "    remainder = \"passthrough\",\n",
    "    n_jobs = -1\n",
    ")\n",
    "#step3_columnTransformer.fit_transform(X_train)"
   ],
   "metadata": {
    "collapsed": false,
    "pycharm": {
     "name": "#%%\n"
    }
   }
  },
  {
   "cell_type": "code",
   "execution_count": 1160,
   "outputs": [
    {
     "data": {
      "text/plain": "Pipeline(steps=[('columntransformer',\n                 ColumnTransformer(n_jobs=-1, remainder='passthrough',\n                                   transformers=[('countvectorizer',\n                                                  CountVectorizer(), 'Name'),\n                                                 ('onehotencoder',\n                                                  OneHotEncoder(), ['Sex']),\n                                                 ('simpleimputer',\n                                                  SimpleImputer(strategy='median'),\n                                                  ['Age']),\n                                                 ('pipeline',\n                                                  Pipeline(steps=[('simpleimputer',\n                                                                   SimpleImputer(fill_value='missing',\n                                                                                 strategy='constant')),\n                                                                  ('onehotencoder',\n                                                                   OneHotEncoder())]),\n                                                  ['Embarked'])])),\n                ('kneighborsclassifier', KNeighborsClassifier(n_neighbors=8))])"
     },
     "execution_count": 1160,
     "metadata": {},
     "output_type": "execute_result"
    }
   ],
   "source": [
    "step3_pipeline = make_pipeline(\n",
    "    step3_columnTransformer,\n",
    "    knn\n",
    ")\n",
    "step3_pipeline.fit(X_train, y_train)"
   ],
   "metadata": {
    "collapsed": false,
    "pycharm": {
     "name": "#%%\n"
    }
   }
  },
  {
   "cell_type": "code",
   "execution_count": 1161,
   "outputs": [
    {
     "name": "stderr",
     "output_type": "stream",
     "text": [
      "/opt/anaconda3/lib/python3.8/site-packages/sklearn/model_selection/_search.py:918: UserWarning: One or more of the test scores are non-finite: [nan nan nan nan nan nan nan nan nan nan nan nan nan nan nan nan nan nan\n",
      " nan nan nan nan nan nan nan nan nan nan nan nan]\n",
      "  warnings.warn(\n"
     ]
    },
    {
     "data": {
      "text/plain": "GridSearchCV(cv=5,\n             estimator=Pipeline(steps=[('columntransformer',\n                                        ColumnTransformer(n_jobs=-1,\n                                                          remainder='passthrough',\n                                                          transformers=[('countvectorizer',\n                                                                         CountVectorizer(),\n                                                                         'Name'),\n                                                                        ('onehotencoder',\n                                                                         OneHotEncoder(),\n                                                                         ['Sex']),\n                                                                        ('simpleimputer',\n                                                                         SimpleImputer(strategy='median'),\n                                                                         ['Age']),\n                                                                        ('pipeline',\n                                                                         Pipeline(steps=[('simpleimputer',\n                                                                                          SimpleImputer(fill_value='missing',\n                                                                                                        strategy='constant')),\n                                                                                         ('onehotencoder',\n                                                                                          OneHotEncoder())]),\n                                                                         ['Embarked'])])),\n                                       ('kneighborsclassifier',\n                                        KNeighborsClassifier(n_neighbors=8))]),\n             n_jobs=-1,\n             param_grid={'kneighborsclassifier__n_neighbors': [1, 2, 3, 4, 5, 6,\n                                                               7, 8, 9, 10, 11,\n                                                               12, 13, 14, 15,\n                                                               16, 17, 18, 19,\n                                                               20, 21, 22, 23,\n                                                               24, 25, 26, 27,\n                                                               28, 29, 30]},\n             scoring='accuracy')"
     },
     "execution_count": 1161,
     "metadata": {},
     "output_type": "execute_result"
    }
   ],
   "source": [
    "step3_gridSearchCV = GridSearchCV(\n",
    "    step3_pipeline,\n",
    "    params,\n",
    "    cv = 5,\n",
    "    scoring = \"accuracy\",\n",
    "    n_jobs = -1\n",
    ")\n",
    "step3_gridSearchCV.fit(X_train, y_train)"
   ],
   "metadata": {
    "collapsed": false,
    "pycharm": {
     "name": "#%%\n"
    }
   }
  },
  {
   "cell_type": "code",
   "execution_count": 1162,
   "outputs": [
    {
     "data": {
      "text/plain": "    mean_fit_time  std_fit_time  mean_score_time  std_score_time  \\\n0        0.061037      0.009388         0.054429        0.009047   \n1        0.051132      0.007506         0.052763        0.016965   \n2        0.047622      0.003119         0.037692        0.008400   \n3        0.047753      0.006088         0.035095        0.008033   \n4        0.047190      0.002934         0.039954        0.009853   \n5        0.063060      0.010811         0.045227        0.013049   \n6        0.059320      0.006856         0.050410        0.015695   \n7        0.052976      0.005105         0.045639        0.009617   \n8        0.052405      0.006435         0.045614        0.011476   \n9        0.049414      0.003420         0.037293        0.010493   \n10       0.045431      0.003344         0.037495        0.009174   \n11       0.046766      0.002357         0.033657        0.007722   \n12       0.047672      0.003644         0.090289        0.070797   \n13       0.099180      0.032800         0.126220        0.073250   \n14       0.110595      0.012471         0.097896        0.030660   \n15       0.123100      0.036625         0.064984        0.024882   \n16       0.065196      0.014204         0.051207        0.013141   \n17       0.081756      0.026967         0.108705        0.032021   \n18       0.113646      0.029881         0.083903        0.030602   \n19       0.063241      0.015279         0.070554        0.031772   \n20       0.059719      0.005961         0.055822        0.020416   \n21       0.052949      0.003582         0.046029        0.014066   \n22       0.053147      0.006196         0.047445        0.014020   \n23       0.052902      0.005235         0.051848        0.017769   \n24       0.064408      0.011168         0.060082        0.013009   \n25       0.059319      0.008308         0.060526        0.015010   \n26       0.059587      0.006615         0.047267        0.015375   \n27       0.050003      0.004683         0.042136        0.006586   \n28       0.054843      0.008221         0.042622        0.003919   \n29       0.057370      0.010891         0.036068        0.011726   \n\n   param_kneighborsclassifier__n_neighbors  \\\n0                                        1   \n1                                        2   \n2                                        3   \n3                                        4   \n4                                        5   \n5                                        6   \n6                                        7   \n7                                        8   \n8                                        9   \n9                                       10   \n10                                      11   \n11                                      12   \n12                                      13   \n13                                      14   \n14                                      15   \n15                                      16   \n16                                      17   \n17                                      18   \n18                                      19   \n19                                      20   \n20                                      21   \n21                                      22   \n22                                      23   \n23                                      24   \n24                                      25   \n25                                      26   \n26                                      27   \n27                                      28   \n28                                      29   \n29                                      30   \n\n                                       params  split0_test_score  \\\n0    {'kneighborsclassifier__n_neighbors': 1}           0.608392   \n1    {'kneighborsclassifier__n_neighbors': 2}           0.664336   \n2    {'kneighborsclassifier__n_neighbors': 3}           0.706294   \n3    {'kneighborsclassifier__n_neighbors': 4}           0.720280   \n4    {'kneighborsclassifier__n_neighbors': 5}           0.713287   \n5    {'kneighborsclassifier__n_neighbors': 6}           0.713287   \n6    {'kneighborsclassifier__n_neighbors': 7}           0.699301   \n7    {'kneighborsclassifier__n_neighbors': 8}           0.699301   \n8    {'kneighborsclassifier__n_neighbors': 9}           0.720280   \n9   {'kneighborsclassifier__n_neighbors': 10}           0.727273   \n10  {'kneighborsclassifier__n_neighbors': 11}           0.748252   \n11  {'kneighborsclassifier__n_neighbors': 12}           0.727273   \n12  {'kneighborsclassifier__n_neighbors': 13}           0.713287   \n13  {'kneighborsclassifier__n_neighbors': 14}           0.734266   \n14  {'kneighborsclassifier__n_neighbors': 15}           0.748252   \n15  {'kneighborsclassifier__n_neighbors': 16}           0.748252   \n16  {'kneighborsclassifier__n_neighbors': 17}           0.734266   \n17  {'kneighborsclassifier__n_neighbors': 18}           0.769231   \n18  {'kneighborsclassifier__n_neighbors': 19}           0.727273   \n19  {'kneighborsclassifier__n_neighbors': 20}           0.741259   \n20  {'kneighborsclassifier__n_neighbors': 21}           0.727273   \n21  {'kneighborsclassifier__n_neighbors': 22}           0.720280   \n22  {'kneighborsclassifier__n_neighbors': 23}           0.692308   \n23  {'kneighborsclassifier__n_neighbors': 24}           0.699301   \n24  {'kneighborsclassifier__n_neighbors': 25}           0.671329   \n25  {'kneighborsclassifier__n_neighbors': 26}           0.678322   \n26  {'kneighborsclassifier__n_neighbors': 27}           0.699301   \n27  {'kneighborsclassifier__n_neighbors': 28}           0.678322   \n28  {'kneighborsclassifier__n_neighbors': 29}           0.678322   \n29  {'kneighborsclassifier__n_neighbors': 30}           0.671329   \n\n    split1_test_score  split2_test_score  split3_test_score  \\\n0            0.699301           0.739437                NaN   \n1            0.664336           0.697183                NaN   \n2            0.685315           0.767606                NaN   \n3            0.706294           0.718310                NaN   \n4            0.706294           0.704225                NaN   \n5            0.685315           0.683099                NaN   \n6            0.657343           0.697183                NaN   \n7            0.664336           0.704225                NaN   \n8            0.685315           0.697183                NaN   \n9            0.720280           0.711268                NaN   \n10           0.692308           0.711268                NaN   \n11           0.706294           0.690141                NaN   \n12           0.727273           0.697183                NaN   \n13           0.755245           0.704225                NaN   \n14           0.755245           0.697183                NaN   \n15           0.748252           0.683099                NaN   \n16           0.734266           0.683099                NaN   \n17           0.720280           0.669014                NaN   \n18           0.720280           0.676056                NaN   \n19           0.727273           0.690141                NaN   \n20           0.720280           0.697183                NaN   \n21           0.727273           0.690141                NaN   \n22           0.713287           0.697183                NaN   \n23           0.713287           0.690141                NaN   \n24           0.713287           0.683099                NaN   \n25           0.692308           0.690141                NaN   \n26           0.692308           0.683099                NaN   \n27           0.671329           0.683099                NaN   \n28           0.699301           0.654930                NaN   \n29           0.657343           0.683099                NaN   \n\n    split4_test_score  mean_test_score  std_test_score  rank_test_score  \n0            0.676056              NaN             NaN                1  \n1            0.676056              NaN             NaN               28  \n2            0.690141              NaN             NaN               27  \n3            0.690141              NaN             NaN               26  \n4            0.718310              NaN             NaN               25  \n5            0.718310              NaN             NaN               24  \n6            0.732394              NaN             NaN               23  \n7            0.725352              NaN             NaN               22  \n8            0.711268              NaN             NaN               21  \n9            0.697183              NaN             NaN               20  \n10           0.697183              NaN             NaN               19  \n11           0.697183              NaN             NaN               18  \n12           0.711268              NaN             NaN               17  \n13           0.711268              NaN             NaN               16  \n14           0.704225              NaN             NaN               15  \n15           0.661972              NaN             NaN               14  \n16           0.690141              NaN             NaN               13  \n17           0.669014              NaN             NaN               12  \n18           0.669014              NaN             NaN               11  \n19           0.661972              NaN             NaN               10  \n20           0.647887              NaN             NaN                9  \n21           0.669014              NaN             NaN                8  \n22           0.683099              NaN             NaN                7  \n23           0.654930              NaN             NaN                6  \n24           0.647887              NaN             NaN                5  \n25           0.647887              NaN             NaN                4  \n26           0.640845              NaN             NaN                3  \n27           0.633803              NaN             NaN                2  \n28           0.640845              NaN             NaN               29  \n29           0.640845              NaN             NaN               30  ",
      "text/html": "<div>\n<style scoped>\n    .dataframe tbody tr th:only-of-type {\n        vertical-align: middle;\n    }\n\n    .dataframe tbody tr th {\n        vertical-align: top;\n    }\n\n    .dataframe thead th {\n        text-align: right;\n    }\n</style>\n<table border=\"1\" class=\"dataframe\">\n  <thead>\n    <tr style=\"text-align: right;\">\n      <th></th>\n      <th>mean_fit_time</th>\n      <th>std_fit_time</th>\n      <th>mean_score_time</th>\n      <th>std_score_time</th>\n      <th>param_kneighborsclassifier__n_neighbors</th>\n      <th>params</th>\n      <th>split0_test_score</th>\n      <th>split1_test_score</th>\n      <th>split2_test_score</th>\n      <th>split3_test_score</th>\n      <th>split4_test_score</th>\n      <th>mean_test_score</th>\n      <th>std_test_score</th>\n      <th>rank_test_score</th>\n    </tr>\n  </thead>\n  <tbody>\n    <tr>\n      <th>0</th>\n      <td>0.061037</td>\n      <td>0.009388</td>\n      <td>0.054429</td>\n      <td>0.009047</td>\n      <td>1</td>\n      <td>{'kneighborsclassifier__n_neighbors': 1}</td>\n      <td>0.608392</td>\n      <td>0.699301</td>\n      <td>0.739437</td>\n      <td>NaN</td>\n      <td>0.676056</td>\n      <td>NaN</td>\n      <td>NaN</td>\n      <td>1</td>\n    </tr>\n    <tr>\n      <th>1</th>\n      <td>0.051132</td>\n      <td>0.007506</td>\n      <td>0.052763</td>\n      <td>0.016965</td>\n      <td>2</td>\n      <td>{'kneighborsclassifier__n_neighbors': 2}</td>\n      <td>0.664336</td>\n      <td>0.664336</td>\n      <td>0.697183</td>\n      <td>NaN</td>\n      <td>0.676056</td>\n      <td>NaN</td>\n      <td>NaN</td>\n      <td>28</td>\n    </tr>\n    <tr>\n      <th>2</th>\n      <td>0.047622</td>\n      <td>0.003119</td>\n      <td>0.037692</td>\n      <td>0.008400</td>\n      <td>3</td>\n      <td>{'kneighborsclassifier__n_neighbors': 3}</td>\n      <td>0.706294</td>\n      <td>0.685315</td>\n      <td>0.767606</td>\n      <td>NaN</td>\n      <td>0.690141</td>\n      <td>NaN</td>\n      <td>NaN</td>\n      <td>27</td>\n    </tr>\n    <tr>\n      <th>3</th>\n      <td>0.047753</td>\n      <td>0.006088</td>\n      <td>0.035095</td>\n      <td>0.008033</td>\n      <td>4</td>\n      <td>{'kneighborsclassifier__n_neighbors': 4}</td>\n      <td>0.720280</td>\n      <td>0.706294</td>\n      <td>0.718310</td>\n      <td>NaN</td>\n      <td>0.690141</td>\n      <td>NaN</td>\n      <td>NaN</td>\n      <td>26</td>\n    </tr>\n    <tr>\n      <th>4</th>\n      <td>0.047190</td>\n      <td>0.002934</td>\n      <td>0.039954</td>\n      <td>0.009853</td>\n      <td>5</td>\n      <td>{'kneighborsclassifier__n_neighbors': 5}</td>\n      <td>0.713287</td>\n      <td>0.706294</td>\n      <td>0.704225</td>\n      <td>NaN</td>\n      <td>0.718310</td>\n      <td>NaN</td>\n      <td>NaN</td>\n      <td>25</td>\n    </tr>\n    <tr>\n      <th>5</th>\n      <td>0.063060</td>\n      <td>0.010811</td>\n      <td>0.045227</td>\n      <td>0.013049</td>\n      <td>6</td>\n      <td>{'kneighborsclassifier__n_neighbors': 6}</td>\n      <td>0.713287</td>\n      <td>0.685315</td>\n      <td>0.683099</td>\n      <td>NaN</td>\n      <td>0.718310</td>\n      <td>NaN</td>\n      <td>NaN</td>\n      <td>24</td>\n    </tr>\n    <tr>\n      <th>6</th>\n      <td>0.059320</td>\n      <td>0.006856</td>\n      <td>0.050410</td>\n      <td>0.015695</td>\n      <td>7</td>\n      <td>{'kneighborsclassifier__n_neighbors': 7}</td>\n      <td>0.699301</td>\n      <td>0.657343</td>\n      <td>0.697183</td>\n      <td>NaN</td>\n      <td>0.732394</td>\n      <td>NaN</td>\n      <td>NaN</td>\n      <td>23</td>\n    </tr>\n    <tr>\n      <th>7</th>\n      <td>0.052976</td>\n      <td>0.005105</td>\n      <td>0.045639</td>\n      <td>0.009617</td>\n      <td>8</td>\n      <td>{'kneighborsclassifier__n_neighbors': 8}</td>\n      <td>0.699301</td>\n      <td>0.664336</td>\n      <td>0.704225</td>\n      <td>NaN</td>\n      <td>0.725352</td>\n      <td>NaN</td>\n      <td>NaN</td>\n      <td>22</td>\n    </tr>\n    <tr>\n      <th>8</th>\n      <td>0.052405</td>\n      <td>0.006435</td>\n      <td>0.045614</td>\n      <td>0.011476</td>\n      <td>9</td>\n      <td>{'kneighborsclassifier__n_neighbors': 9}</td>\n      <td>0.720280</td>\n      <td>0.685315</td>\n      <td>0.697183</td>\n      <td>NaN</td>\n      <td>0.711268</td>\n      <td>NaN</td>\n      <td>NaN</td>\n      <td>21</td>\n    </tr>\n    <tr>\n      <th>9</th>\n      <td>0.049414</td>\n      <td>0.003420</td>\n      <td>0.037293</td>\n      <td>0.010493</td>\n      <td>10</td>\n      <td>{'kneighborsclassifier__n_neighbors': 10}</td>\n      <td>0.727273</td>\n      <td>0.720280</td>\n      <td>0.711268</td>\n      <td>NaN</td>\n      <td>0.697183</td>\n      <td>NaN</td>\n      <td>NaN</td>\n      <td>20</td>\n    </tr>\n    <tr>\n      <th>10</th>\n      <td>0.045431</td>\n      <td>0.003344</td>\n      <td>0.037495</td>\n      <td>0.009174</td>\n      <td>11</td>\n      <td>{'kneighborsclassifier__n_neighbors': 11}</td>\n      <td>0.748252</td>\n      <td>0.692308</td>\n      <td>0.711268</td>\n      <td>NaN</td>\n      <td>0.697183</td>\n      <td>NaN</td>\n      <td>NaN</td>\n      <td>19</td>\n    </tr>\n    <tr>\n      <th>11</th>\n      <td>0.046766</td>\n      <td>0.002357</td>\n      <td>0.033657</td>\n      <td>0.007722</td>\n      <td>12</td>\n      <td>{'kneighborsclassifier__n_neighbors': 12}</td>\n      <td>0.727273</td>\n      <td>0.706294</td>\n      <td>0.690141</td>\n      <td>NaN</td>\n      <td>0.697183</td>\n      <td>NaN</td>\n      <td>NaN</td>\n      <td>18</td>\n    </tr>\n    <tr>\n      <th>12</th>\n      <td>0.047672</td>\n      <td>0.003644</td>\n      <td>0.090289</td>\n      <td>0.070797</td>\n      <td>13</td>\n      <td>{'kneighborsclassifier__n_neighbors': 13}</td>\n      <td>0.713287</td>\n      <td>0.727273</td>\n      <td>0.697183</td>\n      <td>NaN</td>\n      <td>0.711268</td>\n      <td>NaN</td>\n      <td>NaN</td>\n      <td>17</td>\n    </tr>\n    <tr>\n      <th>13</th>\n      <td>0.099180</td>\n      <td>0.032800</td>\n      <td>0.126220</td>\n      <td>0.073250</td>\n      <td>14</td>\n      <td>{'kneighborsclassifier__n_neighbors': 14}</td>\n      <td>0.734266</td>\n      <td>0.755245</td>\n      <td>0.704225</td>\n      <td>NaN</td>\n      <td>0.711268</td>\n      <td>NaN</td>\n      <td>NaN</td>\n      <td>16</td>\n    </tr>\n    <tr>\n      <th>14</th>\n      <td>0.110595</td>\n      <td>0.012471</td>\n      <td>0.097896</td>\n      <td>0.030660</td>\n      <td>15</td>\n      <td>{'kneighborsclassifier__n_neighbors': 15}</td>\n      <td>0.748252</td>\n      <td>0.755245</td>\n      <td>0.697183</td>\n      <td>NaN</td>\n      <td>0.704225</td>\n      <td>NaN</td>\n      <td>NaN</td>\n      <td>15</td>\n    </tr>\n    <tr>\n      <th>15</th>\n      <td>0.123100</td>\n      <td>0.036625</td>\n      <td>0.064984</td>\n      <td>0.024882</td>\n      <td>16</td>\n      <td>{'kneighborsclassifier__n_neighbors': 16}</td>\n      <td>0.748252</td>\n      <td>0.748252</td>\n      <td>0.683099</td>\n      <td>NaN</td>\n      <td>0.661972</td>\n      <td>NaN</td>\n      <td>NaN</td>\n      <td>14</td>\n    </tr>\n    <tr>\n      <th>16</th>\n      <td>0.065196</td>\n      <td>0.014204</td>\n      <td>0.051207</td>\n      <td>0.013141</td>\n      <td>17</td>\n      <td>{'kneighborsclassifier__n_neighbors': 17}</td>\n      <td>0.734266</td>\n      <td>0.734266</td>\n      <td>0.683099</td>\n      <td>NaN</td>\n      <td>0.690141</td>\n      <td>NaN</td>\n      <td>NaN</td>\n      <td>13</td>\n    </tr>\n    <tr>\n      <th>17</th>\n      <td>0.081756</td>\n      <td>0.026967</td>\n      <td>0.108705</td>\n      <td>0.032021</td>\n      <td>18</td>\n      <td>{'kneighborsclassifier__n_neighbors': 18}</td>\n      <td>0.769231</td>\n      <td>0.720280</td>\n      <td>0.669014</td>\n      <td>NaN</td>\n      <td>0.669014</td>\n      <td>NaN</td>\n      <td>NaN</td>\n      <td>12</td>\n    </tr>\n    <tr>\n      <th>18</th>\n      <td>0.113646</td>\n      <td>0.029881</td>\n      <td>0.083903</td>\n      <td>0.030602</td>\n      <td>19</td>\n      <td>{'kneighborsclassifier__n_neighbors': 19}</td>\n      <td>0.727273</td>\n      <td>0.720280</td>\n      <td>0.676056</td>\n      <td>NaN</td>\n      <td>0.669014</td>\n      <td>NaN</td>\n      <td>NaN</td>\n      <td>11</td>\n    </tr>\n    <tr>\n      <th>19</th>\n      <td>0.063241</td>\n      <td>0.015279</td>\n      <td>0.070554</td>\n      <td>0.031772</td>\n      <td>20</td>\n      <td>{'kneighborsclassifier__n_neighbors': 20}</td>\n      <td>0.741259</td>\n      <td>0.727273</td>\n      <td>0.690141</td>\n      <td>NaN</td>\n      <td>0.661972</td>\n      <td>NaN</td>\n      <td>NaN</td>\n      <td>10</td>\n    </tr>\n    <tr>\n      <th>20</th>\n      <td>0.059719</td>\n      <td>0.005961</td>\n      <td>0.055822</td>\n      <td>0.020416</td>\n      <td>21</td>\n      <td>{'kneighborsclassifier__n_neighbors': 21}</td>\n      <td>0.727273</td>\n      <td>0.720280</td>\n      <td>0.697183</td>\n      <td>NaN</td>\n      <td>0.647887</td>\n      <td>NaN</td>\n      <td>NaN</td>\n      <td>9</td>\n    </tr>\n    <tr>\n      <th>21</th>\n      <td>0.052949</td>\n      <td>0.003582</td>\n      <td>0.046029</td>\n      <td>0.014066</td>\n      <td>22</td>\n      <td>{'kneighborsclassifier__n_neighbors': 22}</td>\n      <td>0.720280</td>\n      <td>0.727273</td>\n      <td>0.690141</td>\n      <td>NaN</td>\n      <td>0.669014</td>\n      <td>NaN</td>\n      <td>NaN</td>\n      <td>8</td>\n    </tr>\n    <tr>\n      <th>22</th>\n      <td>0.053147</td>\n      <td>0.006196</td>\n      <td>0.047445</td>\n      <td>0.014020</td>\n      <td>23</td>\n      <td>{'kneighborsclassifier__n_neighbors': 23}</td>\n      <td>0.692308</td>\n      <td>0.713287</td>\n      <td>0.697183</td>\n      <td>NaN</td>\n      <td>0.683099</td>\n      <td>NaN</td>\n      <td>NaN</td>\n      <td>7</td>\n    </tr>\n    <tr>\n      <th>23</th>\n      <td>0.052902</td>\n      <td>0.005235</td>\n      <td>0.051848</td>\n      <td>0.017769</td>\n      <td>24</td>\n      <td>{'kneighborsclassifier__n_neighbors': 24}</td>\n      <td>0.699301</td>\n      <td>0.713287</td>\n      <td>0.690141</td>\n      <td>NaN</td>\n      <td>0.654930</td>\n      <td>NaN</td>\n      <td>NaN</td>\n      <td>6</td>\n    </tr>\n    <tr>\n      <th>24</th>\n      <td>0.064408</td>\n      <td>0.011168</td>\n      <td>0.060082</td>\n      <td>0.013009</td>\n      <td>25</td>\n      <td>{'kneighborsclassifier__n_neighbors': 25}</td>\n      <td>0.671329</td>\n      <td>0.713287</td>\n      <td>0.683099</td>\n      <td>NaN</td>\n      <td>0.647887</td>\n      <td>NaN</td>\n      <td>NaN</td>\n      <td>5</td>\n    </tr>\n    <tr>\n      <th>25</th>\n      <td>0.059319</td>\n      <td>0.008308</td>\n      <td>0.060526</td>\n      <td>0.015010</td>\n      <td>26</td>\n      <td>{'kneighborsclassifier__n_neighbors': 26}</td>\n      <td>0.678322</td>\n      <td>0.692308</td>\n      <td>0.690141</td>\n      <td>NaN</td>\n      <td>0.647887</td>\n      <td>NaN</td>\n      <td>NaN</td>\n      <td>4</td>\n    </tr>\n    <tr>\n      <th>26</th>\n      <td>0.059587</td>\n      <td>0.006615</td>\n      <td>0.047267</td>\n      <td>0.015375</td>\n      <td>27</td>\n      <td>{'kneighborsclassifier__n_neighbors': 27}</td>\n      <td>0.699301</td>\n      <td>0.692308</td>\n      <td>0.683099</td>\n      <td>NaN</td>\n      <td>0.640845</td>\n      <td>NaN</td>\n      <td>NaN</td>\n      <td>3</td>\n    </tr>\n    <tr>\n      <th>27</th>\n      <td>0.050003</td>\n      <td>0.004683</td>\n      <td>0.042136</td>\n      <td>0.006586</td>\n      <td>28</td>\n      <td>{'kneighborsclassifier__n_neighbors': 28}</td>\n      <td>0.678322</td>\n      <td>0.671329</td>\n      <td>0.683099</td>\n      <td>NaN</td>\n      <td>0.633803</td>\n      <td>NaN</td>\n      <td>NaN</td>\n      <td>2</td>\n    </tr>\n    <tr>\n      <th>28</th>\n      <td>0.054843</td>\n      <td>0.008221</td>\n      <td>0.042622</td>\n      <td>0.003919</td>\n      <td>29</td>\n      <td>{'kneighborsclassifier__n_neighbors': 29}</td>\n      <td>0.678322</td>\n      <td>0.699301</td>\n      <td>0.654930</td>\n      <td>NaN</td>\n      <td>0.640845</td>\n      <td>NaN</td>\n      <td>NaN</td>\n      <td>29</td>\n    </tr>\n    <tr>\n      <th>29</th>\n      <td>0.057370</td>\n      <td>0.010891</td>\n      <td>0.036068</td>\n      <td>0.011726</td>\n      <td>30</td>\n      <td>{'kneighborsclassifier__n_neighbors': 30}</td>\n      <td>0.671329</td>\n      <td>0.657343</td>\n      <td>0.683099</td>\n      <td>NaN</td>\n      <td>0.640845</td>\n      <td>NaN</td>\n      <td>NaN</td>\n      <td>30</td>\n    </tr>\n  </tbody>\n</table>\n</div>"
     },
     "execution_count": 1162,
     "metadata": {},
     "output_type": "execute_result"
    }
   ],
   "source": [
    "pd.DataFrame(step3_gridSearchCV.cv_results_)"
   ],
   "metadata": {
    "collapsed": false,
    "pycharm": {
     "name": "#%%\n"
    }
   }
  },
  {
   "cell_type": "code",
   "execution_count": 1162,
   "outputs": [],
   "source": [],
   "metadata": {
    "collapsed": false,
    "pycharm": {
     "name": "#%%\n"
    }
   }
  }
 ],
 "metadata": {
  "kernelspec": {
   "display_name": "Python 3",
   "language": "python",
   "name": "python3"
  },
  "language_info": {
   "codemirror_mode": {
    "name": "ipython",
    "version": 2
   },
   "file_extension": ".py",
   "mimetype": "text/x-python",
   "name": "python",
   "nbconvert_exporter": "python",
   "pygments_lexer": "ipython2",
   "version": "2.7.6"
  }
 },
 "nbformat": 4,
 "nbformat_minor": 0
}