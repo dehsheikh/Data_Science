{
 "cells": [
  {
   "cell_type": "code",
   "execution_count": 372,
   "metadata": {
    "collapsed": true,
    "pycharm": {
     "name": "#%%\n"
    }
   },
   "outputs": [],
   "source": [
    "import pandas as pd\n",
    "import numpy as np\n",
    "from sklearn.preprocessing import OneHotEncoder\n",
    "from sklearn.feature_extraction.text import CountVectorizer\n",
    "from sklearn.pipeline import make_pipeline\n",
    "from sklearn.compose import make_column_transformer\n",
    "from sklearn.neighbors import KNeighborsClassifier\n",
    "from sklearn.model_selection import train_test_split\n",
    "from sklearn.model_selection import GridSearchCV\n",
    "from sklearn.metrics import accuracy_score\n",
    "from sklearn.impute import SimpleImputer"
   ]
  },
  {
   "cell_type": "code",
   "execution_count": 373,
   "outputs": [
    {
     "data": {
      "text/plain": "     PassengerId  Survived  Pclass  \\\n0              1         0       3   \n1              2         1       1   \n2              3         1       3   \n3              4         1       1   \n4              5         0       3   \n..           ...       ...     ...   \n886          887         0       2   \n887          888         1       1   \n888          889         0       3   \n889          890         1       1   \n890          891         0       3   \n\n                                                  Name     Sex   Age  SibSp  \\\n0                              Braund, Mr. Owen Harris    male  22.0      1   \n1    Cumings, Mrs. John Bradley (Florence Briggs Th...  female  38.0      1   \n2                               Heikkinen, Miss. Laina  female  26.0      0   \n3         Futrelle, Mrs. Jacques Heath (Lily May Peel)  female  35.0      1   \n4                             Allen, Mr. William Henry    male  35.0      0   \n..                                                 ...     ...   ...    ...   \n886                              Montvila, Rev. Juozas    male  27.0      0   \n887                       Graham, Miss. Margaret Edith  female  19.0      0   \n888           Johnston, Miss. Catherine Helen \"Carrie\"  female   NaN      1   \n889                              Behr, Mr. Karl Howell    male  26.0      0   \n890                                Dooley, Mr. Patrick    male  32.0      0   \n\n     Parch            Ticket     Fare Cabin Embarked  \n0        0         A/5 21171   7.2500   NaN        S  \n1        0          PC 17599  71.2833   C85        C  \n2        0  STON/O2. 3101282   7.9250   NaN        S  \n3        0            113803  53.1000  C123        S  \n4        0            373450   8.0500   NaN        S  \n..     ...               ...      ...   ...      ...  \n886      0            211536  13.0000   NaN        S  \n887      0            112053  30.0000   B42        S  \n888      2        W./C. 6607  23.4500   NaN        S  \n889      0            111369  30.0000  C148        C  \n890      0            370376   7.7500   NaN        Q  \n\n[891 rows x 12 columns]",
      "text/html": "<div>\n<style scoped>\n    .dataframe tbody tr th:only-of-type {\n        vertical-align: middle;\n    }\n\n    .dataframe tbody tr th {\n        vertical-align: top;\n    }\n\n    .dataframe thead th {\n        text-align: right;\n    }\n</style>\n<table border=\"1\" class=\"dataframe\">\n  <thead>\n    <tr style=\"text-align: right;\">\n      <th></th>\n      <th>PassengerId</th>\n      <th>Survived</th>\n      <th>Pclass</th>\n      <th>Name</th>\n      <th>Sex</th>\n      <th>Age</th>\n      <th>SibSp</th>\n      <th>Parch</th>\n      <th>Ticket</th>\n      <th>Fare</th>\n      <th>Cabin</th>\n      <th>Embarked</th>\n    </tr>\n  </thead>\n  <tbody>\n    <tr>\n      <th>0</th>\n      <td>1</td>\n      <td>0</td>\n      <td>3</td>\n      <td>Braund, Mr. Owen Harris</td>\n      <td>male</td>\n      <td>22.0</td>\n      <td>1</td>\n      <td>0</td>\n      <td>A/5 21171</td>\n      <td>7.2500</td>\n      <td>NaN</td>\n      <td>S</td>\n    </tr>\n    <tr>\n      <th>1</th>\n      <td>2</td>\n      <td>1</td>\n      <td>1</td>\n      <td>Cumings, Mrs. John Bradley (Florence Briggs Th...</td>\n      <td>female</td>\n      <td>38.0</td>\n      <td>1</td>\n      <td>0</td>\n      <td>PC 17599</td>\n      <td>71.2833</td>\n      <td>C85</td>\n      <td>C</td>\n    </tr>\n    <tr>\n      <th>2</th>\n      <td>3</td>\n      <td>1</td>\n      <td>3</td>\n      <td>Heikkinen, Miss. Laina</td>\n      <td>female</td>\n      <td>26.0</td>\n      <td>0</td>\n      <td>0</td>\n      <td>STON/O2. 3101282</td>\n      <td>7.9250</td>\n      <td>NaN</td>\n      <td>S</td>\n    </tr>\n    <tr>\n      <th>3</th>\n      <td>4</td>\n      <td>1</td>\n      <td>1</td>\n      <td>Futrelle, Mrs. Jacques Heath (Lily May Peel)</td>\n      <td>female</td>\n      <td>35.0</td>\n      <td>1</td>\n      <td>0</td>\n      <td>113803</td>\n      <td>53.1000</td>\n      <td>C123</td>\n      <td>S</td>\n    </tr>\n    <tr>\n      <th>4</th>\n      <td>5</td>\n      <td>0</td>\n      <td>3</td>\n      <td>Allen, Mr. William Henry</td>\n      <td>male</td>\n      <td>35.0</td>\n      <td>0</td>\n      <td>0</td>\n      <td>373450</td>\n      <td>8.0500</td>\n      <td>NaN</td>\n      <td>S</td>\n    </tr>\n    <tr>\n      <th>...</th>\n      <td>...</td>\n      <td>...</td>\n      <td>...</td>\n      <td>...</td>\n      <td>...</td>\n      <td>...</td>\n      <td>...</td>\n      <td>...</td>\n      <td>...</td>\n      <td>...</td>\n      <td>...</td>\n      <td>...</td>\n    </tr>\n    <tr>\n      <th>886</th>\n      <td>887</td>\n      <td>0</td>\n      <td>2</td>\n      <td>Montvila, Rev. Juozas</td>\n      <td>male</td>\n      <td>27.0</td>\n      <td>0</td>\n      <td>0</td>\n      <td>211536</td>\n      <td>13.0000</td>\n      <td>NaN</td>\n      <td>S</td>\n    </tr>\n    <tr>\n      <th>887</th>\n      <td>888</td>\n      <td>1</td>\n      <td>1</td>\n      <td>Graham, Miss. Margaret Edith</td>\n      <td>female</td>\n      <td>19.0</td>\n      <td>0</td>\n      <td>0</td>\n      <td>112053</td>\n      <td>30.0000</td>\n      <td>B42</td>\n      <td>S</td>\n    </tr>\n    <tr>\n      <th>888</th>\n      <td>889</td>\n      <td>0</td>\n      <td>3</td>\n      <td>Johnston, Miss. Catherine Helen \"Carrie\"</td>\n      <td>female</td>\n      <td>NaN</td>\n      <td>1</td>\n      <td>2</td>\n      <td>W./C. 6607</td>\n      <td>23.4500</td>\n      <td>NaN</td>\n      <td>S</td>\n    </tr>\n    <tr>\n      <th>889</th>\n      <td>890</td>\n      <td>1</td>\n      <td>1</td>\n      <td>Behr, Mr. Karl Howell</td>\n      <td>male</td>\n      <td>26.0</td>\n      <td>0</td>\n      <td>0</td>\n      <td>111369</td>\n      <td>30.0000</td>\n      <td>C148</td>\n      <td>C</td>\n    </tr>\n    <tr>\n      <th>890</th>\n      <td>891</td>\n      <td>0</td>\n      <td>3</td>\n      <td>Dooley, Mr. Patrick</td>\n      <td>male</td>\n      <td>32.0</td>\n      <td>0</td>\n      <td>0</td>\n      <td>370376</td>\n      <td>7.7500</td>\n      <td>NaN</td>\n      <td>Q</td>\n    </tr>\n  </tbody>\n</table>\n<p>891 rows × 12 columns</p>\n</div>"
     },
     "execution_count": 373,
     "metadata": {},
     "output_type": "execute_result"
    }
   ],
   "source": [
    "titanicData = pd.read_csv('http://bit.ly/kaggletrain', index_col = None)\n",
    "titanicData"
   ],
   "metadata": {
    "collapsed": false,
    "pycharm": {
     "name": "#%%\n"
    }
   }
  },
  {
   "cell_type": "code",
   "execution_count": 374,
   "outputs": [
    {
     "data": {
      "text/plain": "Index(['PassengerId', 'Survived', 'Pclass', 'Name', 'Sex', 'Age', 'SibSp',\n       'Parch', 'Ticket', 'Fare', 'Cabin', 'Embarked'],\n      dtype='object')"
     },
     "execution_count": 374,
     "metadata": {},
     "output_type": "execute_result"
    }
   ],
   "source": [
    "titanicData.columns"
   ],
   "metadata": {
    "collapsed": false,
    "pycharm": {
     "name": "#%%\n"
    }
   }
  },
  {
   "cell_type": "code",
   "execution_count": 375,
   "outputs": [
    {
     "data": {
      "text/plain": "(891, 12)"
     },
     "execution_count": 375,
     "metadata": {},
     "output_type": "execute_result"
    }
   ],
   "source": [
    "titanicData.shape"
   ],
   "metadata": {
    "collapsed": false,
    "pycharm": {
     "name": "#%%\n"
    }
   }
  },
  {
   "cell_type": "code",
   "execution_count": 376,
   "outputs": [
    {
     "name": "stdout",
     "output_type": "stream",
     "text": [
      "<class 'pandas.core.frame.DataFrame'>\n",
      "RangeIndex: 891 entries, 0 to 890\n",
      "Data columns (total 12 columns):\n",
      " #   Column       Non-Null Count  Dtype  \n",
      "---  ------       --------------  -----  \n",
      " 0   PassengerId  891 non-null    int64  \n",
      " 1   Survived     891 non-null    int64  \n",
      " 2   Pclass       891 non-null    int64  \n",
      " 3   Name         891 non-null    object \n",
      " 4   Sex          891 non-null    object \n",
      " 5   Age          714 non-null    float64\n",
      " 6   SibSp        891 non-null    int64  \n",
      " 7   Parch        891 non-null    int64  \n",
      " 8   Ticket       891 non-null    object \n",
      " 9   Fare         891 non-null    float64\n",
      " 10  Cabin        204 non-null    object \n",
      " 11  Embarked     889 non-null    object \n",
      "dtypes: float64(2), int64(5), object(5)\n",
      "memory usage: 83.7+ KB\n"
     ]
    }
   ],
   "source": [
    "titanicData.info()"
   ],
   "metadata": {
    "collapsed": false,
    "pycharm": {
     "name": "#%%\n"
    }
   }
  },
  {
   "cell_type": "code",
   "execution_count": 377,
   "outputs": [
    {
     "data": {
      "text/plain": "     Pclass                                               Name     Sex   Age  \\\n0         3                            Braund, Mr. Owen Harris    male  22.0   \n1         1  Cumings, Mrs. John Bradley (Florence Briggs Th...  female  38.0   \n2         3                             Heikkinen, Miss. Laina  female  26.0   \n3         1       Futrelle, Mrs. Jacques Heath (Lily May Peel)  female  35.0   \n4         3                           Allen, Mr. William Henry    male  35.0   \n..      ...                                                ...     ...   ...   \n886       2                              Montvila, Rev. Juozas    male  27.0   \n887       1                       Graham, Miss. Margaret Edith  female  19.0   \n888       3           Johnston, Miss. Catherine Helen \"Carrie\"  female   NaN   \n889       1                              Behr, Mr. Karl Howell    male  26.0   \n890       3                                Dooley, Mr. Patrick    male  32.0   \n\n     SibSp  Parch Embarked     Fare  \n0        1      0        S   7.2500  \n1        1      0        C  71.2833  \n2        0      0        S   7.9250  \n3        1      0        S  53.1000  \n4        0      0        S   8.0500  \n..     ...    ...      ...      ...  \n886      0      0        S  13.0000  \n887      0      0        S  30.0000  \n888      1      2        S  23.4500  \n889      0      0        C  30.0000  \n890      0      0        Q   7.7500  \n\n[891 rows x 8 columns]",
      "text/html": "<div>\n<style scoped>\n    .dataframe tbody tr th:only-of-type {\n        vertical-align: middle;\n    }\n\n    .dataframe tbody tr th {\n        vertical-align: top;\n    }\n\n    .dataframe thead th {\n        text-align: right;\n    }\n</style>\n<table border=\"1\" class=\"dataframe\">\n  <thead>\n    <tr style=\"text-align: right;\">\n      <th></th>\n      <th>Pclass</th>\n      <th>Name</th>\n      <th>Sex</th>\n      <th>Age</th>\n      <th>SibSp</th>\n      <th>Parch</th>\n      <th>Embarked</th>\n      <th>Fare</th>\n    </tr>\n  </thead>\n  <tbody>\n    <tr>\n      <th>0</th>\n      <td>3</td>\n      <td>Braund, Mr. Owen Harris</td>\n      <td>male</td>\n      <td>22.0</td>\n      <td>1</td>\n      <td>0</td>\n      <td>S</td>\n      <td>7.2500</td>\n    </tr>\n    <tr>\n      <th>1</th>\n      <td>1</td>\n      <td>Cumings, Mrs. John Bradley (Florence Briggs Th...</td>\n      <td>female</td>\n      <td>38.0</td>\n      <td>1</td>\n      <td>0</td>\n      <td>C</td>\n      <td>71.2833</td>\n    </tr>\n    <tr>\n      <th>2</th>\n      <td>3</td>\n      <td>Heikkinen, Miss. Laina</td>\n      <td>female</td>\n      <td>26.0</td>\n      <td>0</td>\n      <td>0</td>\n      <td>S</td>\n      <td>7.9250</td>\n    </tr>\n    <tr>\n      <th>3</th>\n      <td>1</td>\n      <td>Futrelle, Mrs. Jacques Heath (Lily May Peel)</td>\n      <td>female</td>\n      <td>35.0</td>\n      <td>1</td>\n      <td>0</td>\n      <td>S</td>\n      <td>53.1000</td>\n    </tr>\n    <tr>\n      <th>4</th>\n      <td>3</td>\n      <td>Allen, Mr. William Henry</td>\n      <td>male</td>\n      <td>35.0</td>\n      <td>0</td>\n      <td>0</td>\n      <td>S</td>\n      <td>8.0500</td>\n    </tr>\n    <tr>\n      <th>...</th>\n      <td>...</td>\n      <td>...</td>\n      <td>...</td>\n      <td>...</td>\n      <td>...</td>\n      <td>...</td>\n      <td>...</td>\n      <td>...</td>\n    </tr>\n    <tr>\n      <th>886</th>\n      <td>2</td>\n      <td>Montvila, Rev. Juozas</td>\n      <td>male</td>\n      <td>27.0</td>\n      <td>0</td>\n      <td>0</td>\n      <td>S</td>\n      <td>13.0000</td>\n    </tr>\n    <tr>\n      <th>887</th>\n      <td>1</td>\n      <td>Graham, Miss. Margaret Edith</td>\n      <td>female</td>\n      <td>19.0</td>\n      <td>0</td>\n      <td>0</td>\n      <td>S</td>\n      <td>30.0000</td>\n    </tr>\n    <tr>\n      <th>888</th>\n      <td>3</td>\n      <td>Johnston, Miss. Catherine Helen \"Carrie\"</td>\n      <td>female</td>\n      <td>NaN</td>\n      <td>1</td>\n      <td>2</td>\n      <td>S</td>\n      <td>23.4500</td>\n    </tr>\n    <tr>\n      <th>889</th>\n      <td>1</td>\n      <td>Behr, Mr. Karl Howell</td>\n      <td>male</td>\n      <td>26.0</td>\n      <td>0</td>\n      <td>0</td>\n      <td>C</td>\n      <td>30.0000</td>\n    </tr>\n    <tr>\n      <th>890</th>\n      <td>3</td>\n      <td>Dooley, Mr. Patrick</td>\n      <td>male</td>\n      <td>32.0</td>\n      <td>0</td>\n      <td>0</td>\n      <td>Q</td>\n      <td>7.7500</td>\n    </tr>\n  </tbody>\n</table>\n<p>891 rows × 8 columns</p>\n</div>"
     },
     "execution_count": 377,
     "metadata": {},
     "output_type": "execute_result"
    }
   ],
   "source": [
    "cols = [\"Pclass\", \"Name\", \"Sex\", \"Age\", \"SibSp\", \"Parch\", \"Embarked\", \"Fare\"]\n",
    "titanicData_X = titanicData[cols]\n",
    "titanicData_y = titanicData[\"Survived\"]\n",
    "titanicData_X"
   ],
   "metadata": {
    "collapsed": false,
    "pycharm": {
     "name": "#%%\n"
    }
   }
  },
  {
   "cell_type": "code",
   "execution_count": 378,
   "outputs": [
    {
     "data": {
      "text/plain": "0      0\n1      1\n2      1\n3      1\n4      0\n      ..\n886    0\n887    1\n888    0\n889    1\n890    0\nName: Survived, Length: 891, dtype: int64"
     },
     "execution_count": 378,
     "metadata": {},
     "output_type": "execute_result"
    }
   ],
   "source": [
    "titanicData_y"
   ],
   "metadata": {
    "collapsed": false,
    "pycharm": {
     "name": "#%%\n"
    }
   }
  },
  {
   "cell_type": "code",
   "execution_count": 379,
   "outputs": [
    {
     "name": "stdout",
     "output_type": "stream",
     "text": [
      "<class 'pandas.core.frame.DataFrame'>\n",
      "RangeIndex: 891 entries, 0 to 890\n",
      "Data columns (total 8 columns):\n",
      " #   Column    Non-Null Count  Dtype  \n",
      "---  ------    --------------  -----  \n",
      " 0   Pclass    891 non-null    int64  \n",
      " 1   Name      891 non-null    object \n",
      " 2   Sex       891 non-null    object \n",
      " 3   Age       714 non-null    float64\n",
      " 4   SibSp     891 non-null    int64  \n",
      " 5   Parch     891 non-null    int64  \n",
      " 6   Embarked  889 non-null    object \n",
      " 7   Fare      891 non-null    float64\n",
      "dtypes: float64(2), int64(3), object(3)\n",
      "memory usage: 55.8+ KB\n"
     ]
    }
   ],
   "source": [
    "titanicData_X.info()"
   ],
   "metadata": {
    "collapsed": false,
    "pycharm": {
     "name": "#%%\n"
    }
   }
  },
  {
   "cell_type": "markdown",
   "source": [
    "### Required transformations\n",
    "- Pclass: None\n",
    "- Name: CountVectorizer\n",
    "- Sex: Categorical to Numerical\n",
    "- Age: Missing value, To numerical\n",
    "- Embarked: To numerical\n",
    "- Fare: None\n",
    "\n",
    "### Steps\n",
    "1- \"Pclass\", \"Name\", \"Sex\", \"SibSp\", \"Parch\", \"Fare\"\n",
    "2- \"Pclass\", \"Name\", \"Sex\", \"SibSp\", \"Parch\", \"Fare\", \"Age\"\n",
    "3- \"Pclass\", \"Name\", \"Sex\", \"SibSp\", \"Parch\", \"Fare\", \"Age\", \"Embarked\""
   ],
   "metadata": {
    "collapsed": false,
    "pycharm": {
     "name": "#%% md\n"
    }
   }
  },
  {
   "cell_type": "code",
   "execution_count": 380,
   "outputs": [],
   "source": [
    "step1Cols = [\"Pclass\", \"Name\", \"Sex\", \"SibSp\", \"Parch\", \"Fare\"]\n",
    "step2Cols = [\"Pclass\", \"Name\", \"Sex\", \"SibSp\", \"Parch\", \"Fare\",\"Age\"]\n",
    "step3Cols = [\"Pclass\", \"Name\", \"Sex\", \"SibSp\", \"Parch\", \"Fare\", \"Age\", \"Embarked\"]"
   ],
   "metadata": {
    "collapsed": false,
    "pycharm": {
     "name": "#%%\n"
    }
   }
  },
  {
   "cell_type": "markdown",
   "source": [
    "### Step 1"
   ],
   "metadata": {
    "collapsed": false,
    "pycharm": {
     "name": "#%% md\n"
    }
   }
  },
  {
   "cell_type": "code",
   "execution_count": 381,
   "outputs": [],
   "source": [
    "knn = KNeighborsClassifier(n_neighbors = 8)\n",
    "X_train, X_test, y_train, y_test = train_test_split(\n",
    "    titanicData_X[step1Cols], titanicData_y,\n",
    "    random_state = 40, test_size = 0.2\n",
    ")"
   ],
   "metadata": {
    "collapsed": false,
    "pycharm": {
     "name": "#%%\n"
    }
   }
  },
  {
   "cell_type": "code",
   "execution_count": 382,
   "outputs": [
    {
     "data": {
      "text/plain": "(712, 6)"
     },
     "execution_count": 382,
     "metadata": {},
     "output_type": "execute_result"
    }
   ],
   "source": [
    "X_train.shape"
   ],
   "metadata": {
    "collapsed": false,
    "pycharm": {
     "name": "#%%\n"
    }
   }
  },
  {
   "cell_type": "code",
   "execution_count": 383,
   "outputs": [
    {
     "name": "stdout",
     "output_type": "stream",
     "text": [
      "<class 'pandas.core.frame.DataFrame'>\n",
      "Int64Index: 712 entries, 661 to 326\n",
      "Data columns (total 6 columns):\n",
      " #   Column  Non-Null Count  Dtype  \n",
      "---  ------  --------------  -----  \n",
      " 0   Pclass  712 non-null    int64  \n",
      " 1   Name    712 non-null    object \n",
      " 2   Sex     712 non-null    object \n",
      " 3   SibSp   712 non-null    int64  \n",
      " 4   Parch   712 non-null    int64  \n",
      " 5   Fare    712 non-null    float64\n",
      "dtypes: float64(1), int64(3), object(2)\n",
      "memory usage: 38.9+ KB\n"
     ]
    }
   ],
   "source": [
    "X_train.info()"
   ],
   "metadata": {
    "collapsed": false,
    "pycharm": {
     "name": "#%%\n"
    }
   }
  },
  {
   "cell_type": "code",
   "execution_count": 384,
   "outputs": [
    {
     "data": {
      "text/plain": "(712,)"
     },
     "execution_count": 384,
     "metadata": {},
     "output_type": "execute_result"
    }
   ],
   "source": [
    "y_train.shape"
   ],
   "metadata": {
    "collapsed": false,
    "pycharm": {
     "name": "#%%\n"
    }
   }
  },
  {
   "cell_type": "markdown",
   "source": [
    "###"
   ],
   "metadata": {
    "collapsed": false,
    "pycharm": {
     "name": "#%% md\n"
    }
   }
  },
  {
   "cell_type": "code",
   "execution_count": 385,
   "outputs": [],
   "source": [
    "countVectorizer = CountVectorizer()\n",
    "oneHotEncoder = OneHotEncoder()"
   ],
   "metadata": {
    "collapsed": false,
    "pycharm": {
     "name": "#%%\n"
    }
   }
  },
  {
   "cell_type": "code",
   "execution_count": 386,
   "outputs": [],
   "source": [
    "step1_columnTransformer = make_column_transformer(\n",
    "    (countVectorizer, \"Name\"),\n",
    "    (oneHotEncoder, [\"Sex\"]),\n",
    "    remainder = \"passthrough\",\n",
    "    n_jobs = -1\n",
    ")"
   ],
   "metadata": {
    "collapsed": false,
    "pycharm": {
     "name": "#%%\n"
    }
   }
  },
  {
   "cell_type": "code",
   "execution_count": 387,
   "outputs": [],
   "source": [
    "step1_pipeLine = make_pipeline(step1_columnTransformer, knn)"
   ],
   "metadata": {
    "collapsed": false,
    "pycharm": {
     "name": "#%%\n"
    }
   }
  },
  {
   "cell_type": "code",
   "execution_count": 388,
   "outputs": [],
   "source": [
    "k_range = list(range(1, 31))\n",
    "params = {\"kneighborsclassifier__n_neighbors\": k_range}"
   ],
   "metadata": {
    "collapsed": false,
    "pycharm": {
     "name": "#%%\n"
    }
   }
  },
  {
   "cell_type": "code",
   "execution_count": 389,
   "outputs": [],
   "source": [
    "gridSearchCV = GridSearchCV(\n",
    "    step1_pipeLine, params, cv = 5, scoring = \"accuracy\", n_jobs = -1\n",
    ")"
   ],
   "metadata": {
    "collapsed": false,
    "pycharm": {
     "name": "#%%\n"
    }
   }
  },
  {
   "cell_type": "code",
   "execution_count": 390,
   "outputs": [
    {
     "data": {
      "text/plain": "GridSearchCV(cv=5,\n             estimator=Pipeline(steps=[('columntransformer',\n                                        ColumnTransformer(n_jobs=-1,\n                                                          remainder='passthrough',\n                                                          transformers=[('countvectorizer',\n                                                                         CountVectorizer(),\n                                                                         'Name'),\n                                                                        ('onehotencoder',\n                                                                         OneHotEncoder(),\n                                                                         ['Sex'])])),\n                                       ('kneighborsclassifier',\n                                        KNeighborsClassifier(n_neighbors=8))]),\n             n_jobs=-1,\n             param_grid={'kneighborsclassifier__n_neighbors': [1, 2, 3, 4, 5, 6,\n                                                               7, 8, 9, 10, 11,\n                                                               12, 13, 14, 15,\n                                                               16, 17, 18, 19,\n                                                               20, 21, 22, 23,\n                                                               24, 25, 26, 27,\n                                                               28, 29, 30]},\n             scoring='accuracy')"
     },
     "execution_count": 390,
     "metadata": {},
     "output_type": "execute_result"
    }
   ],
   "source": [
    "gridSearchCV.fit(X_train, y_train)"
   ],
   "metadata": {
    "collapsed": false,
    "pycharm": {
     "name": "#%%\n"
    }
   }
  },
  {
   "cell_type": "code",
   "execution_count": 391,
   "outputs": [
    {
     "data": {
      "text/plain": "0.7626514330739682"
     },
     "execution_count": 391,
     "metadata": {},
     "output_type": "execute_result"
    }
   ],
   "source": [
    "gridSearchCV.best_score_"
   ],
   "metadata": {
    "collapsed": false,
    "pycharm": {
     "name": "#%%\n"
    }
   }
  },
  {
   "cell_type": "code",
   "execution_count": 392,
   "outputs": [],
   "source": [
    "predicted = gridSearchCV.predict(X_test)"
   ],
   "metadata": {
    "collapsed": false,
    "pycharm": {
     "name": "#%%\n"
    }
   }
  },
  {
   "cell_type": "code",
   "execution_count": 393,
   "outputs": [
    {
     "name": "stdout",
     "output_type": "stream",
     "text": [
      "Step 1 Accuracy: 0.8324022346368715\n"
     ]
    }
   ],
   "source": [
    "print(\"Step 1 Accuracy:\", accuracy_score(y_test, predicted))"
   ],
   "metadata": {
    "collapsed": false,
    "pycharm": {
     "name": "#%%\n"
    }
   }
  },
  {
   "cell_type": "markdown",
   "source": [
    "### End - Step 1"
   ],
   "metadata": {
    "collapsed": false,
    "pycharm": {
     "name": "#%% md\n"
    }
   }
  },
  {
   "cell_type": "markdown",
   "source": [
    "### Step 2"
   ],
   "metadata": {
    "collapsed": false,
    "pycharm": {
     "name": "#%% md\n"
    }
   }
  },
  {
   "cell_type": "code",
   "execution_count": 394,
   "outputs": [],
   "source": [
    "knn = KNeighborsClassifier(n_neighbors = 8)\n",
    "X_train, X_test, y_train, y_test = train_test_split(\n",
    "    titanicData_X[step2Cols], titanicData_y,\n",
    "    random_state = 40, test_size = 0.2\n",
    ")"
   ],
   "metadata": {
    "collapsed": false,
    "pycharm": {
     "name": "#%%\n"
    }
   }
  },
  {
   "cell_type": "code",
   "execution_count": 395,
   "outputs": [
    {
     "name": "stdout",
     "output_type": "stream",
     "text": [
      "<class 'pandas.core.frame.DataFrame'>\n",
      "Int64Index: 712 entries, 661 to 326\n",
      "Data columns (total 7 columns):\n",
      " #   Column  Non-Null Count  Dtype  \n",
      "---  ------  --------------  -----  \n",
      " 0   Pclass  712 non-null    int64  \n",
      " 1   Name    712 non-null    object \n",
      " 2   Sex     712 non-null    object \n",
      " 3   SibSp   712 non-null    int64  \n",
      " 4   Parch   712 non-null    int64  \n",
      " 5   Fare    712 non-null    float64\n",
      " 6   Age     573 non-null    float64\n",
      "dtypes: float64(2), int64(3), object(2)\n",
      "memory usage: 44.5+ KB\n"
     ]
    }
   ],
   "source": [
    "X_train.info()"
   ],
   "metadata": {
    "collapsed": false,
    "pycharm": {
     "name": "#%%\n"
    }
   }
  },
  {
   "cell_type": "code",
   "execution_count": 396,
   "outputs": [
    {
     "data": {
      "text/plain": "Pclass      0\nName        0\nSex         0\nSibSp       0\nParch       0\nFare        0\nAge       139\ndtype: int64"
     },
     "execution_count": 396,
     "metadata": {},
     "output_type": "execute_result"
    }
   ],
   "source": [
    "X_train.isna().sum()"
   ],
   "metadata": {
    "collapsed": false,
    "pycharm": {
     "name": "#%%\n"
    }
   }
  },
  {
   "cell_type": "code",
   "execution_count": 397,
   "outputs": [],
   "source": [
    "step2_simpleImputer = SimpleImputer()"
   ],
   "metadata": {
    "collapsed": false,
    "pycharm": {
     "name": "#%%\n"
    }
   }
  },
  {
   "cell_type": "code",
   "execution_count": 398,
   "outputs": [],
   "source": [
    "step2_columnTransformer = make_column_transformer(\n",
    "    (countVectorizer, \"Name\"),\n",
    "    (oneHotEncoder, [\"Sex\"]),\n",
    "    (step2_simpleImputer, [\"Age\"]),\n",
    "    remainder = \"passthrough\",\n",
    "    n_jobs = -1\n",
    ")"
   ],
   "metadata": {
    "collapsed": false,
    "pycharm": {
     "name": "#%%\n"
    }
   }
  },
  {
   "cell_type": "code",
   "execution_count": 399,
   "outputs": [],
   "source": [
    "step2_pipeLine = make_pipeline(\n",
    "    step2_columnTransformer, knn\n",
    ")"
   ],
   "metadata": {
    "collapsed": false,
    "pycharm": {
     "name": "#%%\n"
    }
   }
  },
  {
   "cell_type": "code",
   "execution_count": 400,
   "outputs": [],
   "source": [
    "step2_gridSearchCV = GridSearchCV(\n",
    "    step2_pipeLine, params, cv = 5, scoring = \"accuracy\", n_jobs = -1\n",
    ")"
   ],
   "metadata": {
    "collapsed": false,
    "pycharm": {
     "name": "#%%\n"
    }
   }
  },
  {
   "cell_type": "code",
   "execution_count": 401,
   "outputs": [
    {
     "data": {
      "text/plain": "GridSearchCV(cv=5,\n             estimator=Pipeline(steps=[('columntransformer',\n                                        ColumnTransformer(n_jobs=-1,\n                                                          remainder='passthrough',\n                                                          transformers=[('countvectorizer',\n                                                                         CountVectorizer(),\n                                                                         'Name'),\n                                                                        ('onehotencoder',\n                                                                         OneHotEncoder(),\n                                                                         ['Sex']),\n                                                                        ('simpleimputer',\n                                                                         SimpleImputer(),\n                                                                         ['Age'])])),\n                                       ('kneighborsclassifier',\n                                        KNeighborsClassifier(n_neighbors=8))]),\n             n_jobs=-1,\n             param_grid={'kneighborsclassifier__n_neighbors': [1, 2, 3, 4, 5, 6,\n                                                               7, 8, 9, 10, 11,\n                                                               12, 13, 14, 15,\n                                                               16, 17, 18, 19,\n                                                               20, 21, 22, 23,\n                                                               24, 25, 26, 27,\n                                                               28, 29, 30]},\n             scoring='accuracy')"
     },
     "execution_count": 401,
     "metadata": {},
     "output_type": "execute_result"
    }
   ],
   "source": [
    "step2_gridSearchCV.fit(X_train, y_train)"
   ],
   "metadata": {
    "collapsed": false,
    "pycharm": {
     "name": "#%%\n"
    }
   }
  },
  {
   "cell_type": "code",
   "execution_count": 402,
   "outputs": [
    {
     "data": {
      "text/plain": "0.719078104993598"
     },
     "execution_count": 402,
     "metadata": {},
     "output_type": "execute_result"
    }
   ],
   "source": [
    "step2_gridSearchCV.best_score_"
   ],
   "metadata": {
    "collapsed": false,
    "pycharm": {
     "name": "#%%\n"
    }
   }
  },
  {
   "cell_type": "code",
   "execution_count": 403,
   "outputs": [
    {
     "name": "stdout",
     "output_type": "stream",
     "text": [
      "Step 2 Accuracy: 0.7318435754189944\n"
     ]
    }
   ],
   "source": [
    "predicted = step2_gridSearchCV.predict(X_test)\n",
    "print(\"Step 2 Accuracy:\", accuracy_score(y_test, predicted))"
   ],
   "metadata": {
    "collapsed": false,
    "pycharm": {
     "name": "#%%\n"
    }
   }
  },
  {
   "cell_type": "markdown",
   "source": [
    "### End - Step 2"
   ],
   "metadata": {
    "collapsed": false,
    "pycharm": {
     "name": "#%% md\n"
    }
   }
  },
  {
   "cell_type": "markdown",
   "source": [
    "### Step 3"
   ],
   "metadata": {
    "collapsed": false,
    "pycharm": {
     "name": "#%% md\n"
    }
   }
  },
  {
   "cell_type": "code",
   "execution_count": 404,
   "outputs": [],
   "source": [
    "knn = KNeighborsClassifier(n_neighbors = 8)\n",
    "X_train, X_test, y_train, y_test = train_test_split(\n",
    "    titanicData_X[step3Cols], titanicData_y,\n",
    "    random_state = 40, test_size = 0.2\n",
    ")"
   ],
   "metadata": {
    "collapsed": false,
    "pycharm": {
     "name": "#%%\n"
    }
   }
  },
  {
   "cell_type": "code",
   "execution_count": 405,
   "outputs": [
    {
     "name": "stdout",
     "output_type": "stream",
     "text": [
      "<class 'pandas.core.frame.DataFrame'>\n",
      "Int64Index: 712 entries, 661 to 326\n",
      "Data columns (total 8 columns):\n",
      " #   Column    Non-Null Count  Dtype  \n",
      "---  ------    --------------  -----  \n",
      " 0   Pclass    712 non-null    int64  \n",
      " 1   Name      712 non-null    object \n",
      " 2   Sex       712 non-null    object \n",
      " 3   SibSp     712 non-null    int64  \n",
      " 4   Parch     712 non-null    int64  \n",
      " 5   Fare      712 non-null    float64\n",
      " 6   Age       573 non-null    float64\n",
      " 7   Embarked  711 non-null    object \n",
      "dtypes: float64(2), int64(3), object(3)\n",
      "memory usage: 50.1+ KB\n"
     ]
    }
   ],
   "source": [
    "X_train.info()"
   ],
   "metadata": {
    "collapsed": false,
    "pycharm": {
     "name": "#%%\n"
    }
   }
  },
  {
   "cell_type": "code",
   "execution_count": 406,
   "outputs": [
    {
     "data": {
      "text/plain": "S    514\nC    132\nQ     65\nName: Embarked, dtype: int64"
     },
     "execution_count": 406,
     "metadata": {},
     "output_type": "execute_result"
    }
   ],
   "source": [
    "X_train[\"Embarked\"].value_counts()"
   ],
   "metadata": {
    "collapsed": false,
    "pycharm": {
     "name": "#%%\n"
    }
   }
  },
  {
   "cell_type": "code",
   "execution_count": 407,
   "outputs": [
    {
     "data": {
      "text/plain": "1"
     },
     "execution_count": 407,
     "metadata": {},
     "output_type": "execute_result"
    }
   ],
   "source": [
    "X_train[\"Embarked\"].isna().sum()"
   ],
   "metadata": {
    "collapsed": false,
    "pycharm": {
     "name": "#%%\n"
    }
   }
  },
  {
   "cell_type": "code",
   "execution_count": 408,
   "outputs": [],
   "source": [
    "ageImputer = SimpleImputer(strategy = \"median\")"
   ],
   "metadata": {
    "collapsed": false,
    "pycharm": {
     "name": "#%%\n"
    }
   }
  },
  {
   "cell_type": "code",
   "execution_count": 409,
   "outputs": [
    {
     "data": {
      "text/plain": "S          514\nC          132\nQ           65\nmissing      1\ndtype: int64"
     },
     "execution_count": 409,
     "metadata": {},
     "output_type": "execute_result"
    }
   ],
   "source": [
    "embarkedImputer = SimpleImputer(\n",
    "    strategy = \"constant\",\n",
    "    fill_value = \"missing\"\n",
    ")\n",
    "embarkedImputerDataFrame = pd.DataFrame(\n",
    "    embarkedImputer.fit_transform(X_train[[\"Embarked\"]])\n",
    ")\n",
    "embarkedImputerDataFrame.value_counts()"
   ],
   "metadata": {
    "collapsed": false,
    "pycharm": {
     "name": "#%%\n"
    }
   }
  },
  {
   "cell_type": "code",
   "execution_count": 410,
   "outputs": [
    {
     "data": {
      "text/plain": "array([[0., 0., 0., 1.]])"
     },
     "execution_count": 410,
     "metadata": {},
     "output_type": "execute_result"
    }
   ],
   "source": [
    "embarkedOneHotEncoder = OneHotEncoder(sparse = False, handle_unknown = \"ignore\")\n",
    "embarkedOneHotEncoderDataFrame = embarkedOneHotEncoder.fit_transform(embarkedImputerDataFrame)\n",
    "embarkedOneHotEncoderDataFrame[\n",
    "    embarkedOneHotEncoderDataFrame[:, 3] > 0\n",
    "]"
   ],
   "metadata": {
    "collapsed": false,
    "pycharm": {
     "name": "#%%\n"
    }
   }
  },
  {
   "cell_type": "code",
   "execution_count": 411,
   "outputs": [],
   "source": [
    "step3TransfomerPipeline = make_pipeline(embarkedImputer, embarkedOneHotEncoder)"
   ],
   "metadata": {
    "collapsed": false,
    "pycharm": {
     "name": "#%%\n"
    }
   }
  },
  {
   "cell_type": "code",
   "execution_count": 412,
   "outputs": [
    {
     "data": {
      "text/plain": "<712x1264 sparse matrix of type '<class 'numpy.float64'>'\n\twith 6781 stored elements in Compressed Sparse Row format>"
     },
     "execution_count": 412,
     "metadata": {},
     "output_type": "execute_result"
    }
   ],
   "source": [
    "step3_columnTransformer = make_column_transformer(\n",
    "    (countVectorizer, \"Name\"),\n",
    "    (oneHotEncoder, [\"Sex\"]),\n",
    "    (ageImputer, [\"Age\"]),\n",
    "    (step3TransfomerPipeline, [\"Embarked\"]),\n",
    "    remainder = \"passthrough\",\n",
    "    n_jobs = -1\n",
    ")\n",
    "step3_columnTransformer.fit_transform(X_train)"
   ],
   "metadata": {
    "collapsed": false,
    "pycharm": {
     "name": "#%%\n"
    }
   }
  },
  {
   "cell_type": "code",
   "execution_count": 413,
   "outputs": [
    {
     "data": {
      "text/plain": "Pipeline(steps=[('columntransformer',\n                 ColumnTransformer(n_jobs=-1, remainder='passthrough',\n                                   transformers=[('countvectorizer',\n                                                  CountVectorizer(), 'Name'),\n                                                 ('onehotencoder',\n                                                  OneHotEncoder(), ['Sex']),\n                                                 ('simpleimputer',\n                                                  SimpleImputer(strategy='median'),\n                                                  ['Age']),\n                                                 ('pipeline',\n                                                  Pipeline(steps=[('simpleimputer',\n                                                                   SimpleImputer(fill_value='missing',\n                                                                                 strategy='constant')),\n                                                                  ('onehotencoder',\n                                                                   OneHotEncoder(handle_unknown='ignore',\n                                                                                 sparse=False))]),\n                                                  ['Embarked'])])),\n                ('kneighborsclassifier', KNeighborsClassifier(n_neighbors=8))])"
     },
     "execution_count": 413,
     "metadata": {},
     "output_type": "execute_result"
    }
   ],
   "source": [
    "step3_pipeline = make_pipeline(\n",
    "    step3_columnTransformer,\n",
    "    knn\n",
    ")\n",
    "step3_pipeline.fit(X_train, y_train)"
   ],
   "metadata": {
    "collapsed": false,
    "pycharm": {
     "name": "#%%\n"
    }
   }
  },
  {
   "cell_type": "code",
   "execution_count": 414,
   "outputs": [
    {
     "data": {
      "text/plain": "GridSearchCV(cv=5,\n             estimator=Pipeline(steps=[('columntransformer',\n                                        ColumnTransformer(n_jobs=-1,\n                                                          remainder='passthrough',\n                                                          transformers=[('countvectorizer',\n                                                                         CountVectorizer(),\n                                                                         'Name'),\n                                                                        ('onehotencoder',\n                                                                         OneHotEncoder(),\n                                                                         ['Sex']),\n                                                                        ('simpleimputer',\n                                                                         SimpleImputer(strategy='median'),\n                                                                         ['Age']),\n                                                                        ('pipeline',\n                                                                         Pipeline(steps=[('simpleimputer',\n                                                                                          SimpleImputer(fill_value='missing',\n                                                                                                        strategy='constant')),\n                                                                                         ('onehotencoder',\n                                                                                          OneHotEncoder(handle_unknown='ignore',\n                                                                                                        sparse=False))]),\n                                                                         ['Embarked'])])),\n                                       ('kneighborsclassifier',\n                                        KNeighborsClassifier(n_neighbors=8))]),\n             n_jobs=-1,\n             param_grid={'kneighborsclassifier__n_neighbors': [1, 2, 3, 4, 5, 6,\n                                                               7, 8, 9, 10, 11,\n                                                               12, 13, 14, 15,\n                                                               16, 17, 18, 19,\n                                                               20, 21, 22, 23,\n                                                               24, 25, 26, 27,\n                                                               28, 29, 30]},\n             scoring='accuracy')"
     },
     "execution_count": 414,
     "metadata": {},
     "output_type": "execute_result"
    }
   ],
   "source": [
    "step3_gridSearchCV = GridSearchCV(\n",
    "    step3_pipeline,\n",
    "    params,\n",
    "    cv = 5,\n",
    "    scoring = \"accuracy\",\n",
    "    n_jobs = -1\n",
    ")\n",
    "step3_gridSearchCV.fit(X_train, y_train)"
   ],
   "metadata": {
    "collapsed": false,
    "pycharm": {
     "name": "#%%\n"
    }
   }
  },
  {
   "cell_type": "code",
   "execution_count": 415,
   "outputs": [
    {
     "data": {
      "text/plain": "    mean_fit_time  std_fit_time  mean_score_time  std_score_time  \\\n0        0.067730      0.009598         0.057894        0.014515   \n1        0.048073      0.002948         0.050694        0.003190   \n2        0.053517      0.005269         0.044838        0.006309   \n3        0.050531      0.004893         0.050672        0.010005   \n4        0.053109      0.004160         0.050987        0.008585   \n5        0.057500      0.005516         0.048440        0.005516   \n6        0.063914      0.013043         0.049952        0.004238   \n7        0.056392      0.011453         0.047157        0.004158   \n8        0.050904      0.002568         0.043578        0.001174   \n9        0.051125      0.005380         0.044270        0.003396   \n10       0.049587      0.003081         0.041854        0.001294   \n11       0.060227      0.014282         0.047572        0.012229   \n12       0.050252      0.003635         0.057174        0.012942   \n13       0.057436      0.010139         0.052178        0.004465   \n14       0.060892      0.012366         0.045739        0.005981   \n15       0.053908      0.005792         0.055747        0.006536   \n16       0.059706      0.007010         0.058803        0.005894   \n17       0.063382      0.009844         0.058840        0.012646   \n18       0.080215      0.019413         0.056105        0.004637   \n19       0.055586      0.005909         0.050429        0.006100   \n20       0.062546      0.012199         0.054127        0.011675   \n21       0.055536      0.003259         0.055191        0.007384   \n22       0.052607      0.004642         0.053339        0.007137   \n23       0.057639      0.005167         0.060692        0.011062   \n24       0.059848      0.007428         0.055782        0.010792   \n25       0.063472      0.010804         0.050204        0.010055   \n26       0.054753      0.005827         0.056925        0.013165   \n27       0.064251      0.004424         0.050213        0.005276   \n28       0.060900      0.008838         0.055134        0.008876   \n29       0.054191      0.004711         0.049257        0.005595   \n\n   param_kneighborsclassifier__n_neighbors  \\\n0                                        1   \n1                                        2   \n2                                        3   \n3                                        4   \n4                                        5   \n5                                        6   \n6                                        7   \n7                                        8   \n8                                        9   \n9                                       10   \n10                                      11   \n11                                      12   \n12                                      13   \n13                                      14   \n14                                      15   \n15                                      16   \n16                                      17   \n17                                      18   \n18                                      19   \n19                                      20   \n20                                      21   \n21                                      22   \n22                                      23   \n23                                      24   \n24                                      25   \n25                                      26   \n26                                      27   \n27                                      28   \n28                                      29   \n29                                      30   \n\n                                       params  split0_test_score  \\\n0    {'kneighborsclassifier__n_neighbors': 1}           0.608392   \n1    {'kneighborsclassifier__n_neighbors': 2}           0.664336   \n2    {'kneighborsclassifier__n_neighbors': 3}           0.706294   \n3    {'kneighborsclassifier__n_neighbors': 4}           0.720280   \n4    {'kneighborsclassifier__n_neighbors': 5}           0.713287   \n5    {'kneighborsclassifier__n_neighbors': 6}           0.713287   \n6    {'kneighborsclassifier__n_neighbors': 7}           0.699301   \n7    {'kneighborsclassifier__n_neighbors': 8}           0.699301   \n8    {'kneighborsclassifier__n_neighbors': 9}           0.720280   \n9   {'kneighborsclassifier__n_neighbors': 10}           0.727273   \n10  {'kneighborsclassifier__n_neighbors': 11}           0.748252   \n11  {'kneighborsclassifier__n_neighbors': 12}           0.727273   \n12  {'kneighborsclassifier__n_neighbors': 13}           0.713287   \n13  {'kneighborsclassifier__n_neighbors': 14}           0.734266   \n14  {'kneighborsclassifier__n_neighbors': 15}           0.748252   \n15  {'kneighborsclassifier__n_neighbors': 16}           0.748252   \n16  {'kneighborsclassifier__n_neighbors': 17}           0.734266   \n17  {'kneighborsclassifier__n_neighbors': 18}           0.769231   \n18  {'kneighborsclassifier__n_neighbors': 19}           0.727273   \n19  {'kneighborsclassifier__n_neighbors': 20}           0.741259   \n20  {'kneighborsclassifier__n_neighbors': 21}           0.727273   \n21  {'kneighborsclassifier__n_neighbors': 22}           0.720280   \n22  {'kneighborsclassifier__n_neighbors': 23}           0.692308   \n23  {'kneighborsclassifier__n_neighbors': 24}           0.699301   \n24  {'kneighborsclassifier__n_neighbors': 25}           0.671329   \n25  {'kneighborsclassifier__n_neighbors': 26}           0.678322   \n26  {'kneighborsclassifier__n_neighbors': 27}           0.699301   \n27  {'kneighborsclassifier__n_neighbors': 28}           0.678322   \n28  {'kneighborsclassifier__n_neighbors': 29}           0.678322   \n29  {'kneighborsclassifier__n_neighbors': 30}           0.671329   \n\n    split1_test_score  split2_test_score  split3_test_score  \\\n0            0.699301           0.739437           0.753521   \n1            0.664336           0.697183           0.746479   \n2            0.685315           0.767606           0.746479   \n3            0.706294           0.718310           0.704225   \n4            0.706294           0.704225           0.711268   \n5            0.685315           0.683099           0.683099   \n6            0.657343           0.697183           0.718310   \n7            0.664336           0.704225           0.711268   \n8            0.685315           0.697183           0.711268   \n9            0.720280           0.711268           0.725352   \n10           0.692308           0.711268           0.704225   \n11           0.706294           0.690141           0.704225   \n12           0.727273           0.697183           0.704225   \n13           0.755245           0.704225           0.746479   \n14           0.755245           0.697183           0.746479   \n15           0.748252           0.683099           0.739437   \n16           0.734266           0.683099           0.732394   \n17           0.720280           0.669014           0.711268   \n18           0.720280           0.676056           0.704225   \n19           0.727273           0.690141           0.697183   \n20           0.720280           0.697183           0.704225   \n21           0.727273           0.690141           0.711268   \n22           0.713287           0.697183           0.718310   \n23           0.713287           0.690141           0.718310   \n24           0.713287           0.683099           0.711268   \n25           0.692308           0.690141           0.725352   \n26           0.692308           0.683099           0.711268   \n27           0.671329           0.683099           0.718310   \n28           0.699301           0.654930           0.697183   \n29           0.657343           0.683099           0.718310   \n\n    split4_test_score  mean_test_score  std_test_score  rank_test_score  \n0            0.676056         0.695341        0.051531               22  \n1            0.676056         0.689678        0.030831               24  \n2            0.690141         0.719167        0.032393                3  \n3            0.690141         0.707850        0.010891               10  \n4            0.718310         0.710677        0.005025                7  \n5            0.718310         0.696622        0.015759               21  \n6            0.732394         0.700906        0.025332               16  \n7            0.725352         0.700896        0.020278               17  \n8            0.711268         0.705063        0.012334               12  \n9            0.697183         0.716271        0.011036                4  \n10           0.697183         0.710647        0.019866                8  \n11           0.697183         0.705023        0.012492               13  \n12           0.711268         0.710647        0.010063                8  \n13           0.711268         0.730296        0.019707                1  \n14           0.704225         0.730277        0.024425                2  \n15           0.661972         0.716202        0.036417                5  \n16           0.690141         0.714833        0.023154                6  \n17           0.669014         0.707761        0.037283               11  \n18           0.669014         0.699370        0.023257               19  \n19           0.661972         0.703565        0.028049               15  \n20           0.647887         0.699370        0.027909               19  \n21           0.669014         0.703595        0.021329               14  \n22           0.683099         0.700837        0.013123               18  \n23           0.654930         0.695194        0.022474               23  \n24           0.647887         0.685374        0.024728               26  \n25           0.647887         0.686802        0.024955               25  \n26           0.640845         0.685364        0.024085               27  \n27           0.633803         0.676972        0.026995               28  \n28           0.640845         0.674116        0.023061               30  \n29           0.640845         0.674185        0.026191               29  ",
      "text/html": "<div>\n<style scoped>\n    .dataframe tbody tr th:only-of-type {\n        vertical-align: middle;\n    }\n\n    .dataframe tbody tr th {\n        vertical-align: top;\n    }\n\n    .dataframe thead th {\n        text-align: right;\n    }\n</style>\n<table border=\"1\" class=\"dataframe\">\n  <thead>\n    <tr style=\"text-align: right;\">\n      <th></th>\n      <th>mean_fit_time</th>\n      <th>std_fit_time</th>\n      <th>mean_score_time</th>\n      <th>std_score_time</th>\n      <th>param_kneighborsclassifier__n_neighbors</th>\n      <th>params</th>\n      <th>split0_test_score</th>\n      <th>split1_test_score</th>\n      <th>split2_test_score</th>\n      <th>split3_test_score</th>\n      <th>split4_test_score</th>\n      <th>mean_test_score</th>\n      <th>std_test_score</th>\n      <th>rank_test_score</th>\n    </tr>\n  </thead>\n  <tbody>\n    <tr>\n      <th>0</th>\n      <td>0.067730</td>\n      <td>0.009598</td>\n      <td>0.057894</td>\n      <td>0.014515</td>\n      <td>1</td>\n      <td>{'kneighborsclassifier__n_neighbors': 1}</td>\n      <td>0.608392</td>\n      <td>0.699301</td>\n      <td>0.739437</td>\n      <td>0.753521</td>\n      <td>0.676056</td>\n      <td>0.695341</td>\n      <td>0.051531</td>\n      <td>22</td>\n    </tr>\n    <tr>\n      <th>1</th>\n      <td>0.048073</td>\n      <td>0.002948</td>\n      <td>0.050694</td>\n      <td>0.003190</td>\n      <td>2</td>\n      <td>{'kneighborsclassifier__n_neighbors': 2}</td>\n      <td>0.664336</td>\n      <td>0.664336</td>\n      <td>0.697183</td>\n      <td>0.746479</td>\n      <td>0.676056</td>\n      <td>0.689678</td>\n      <td>0.030831</td>\n      <td>24</td>\n    </tr>\n    <tr>\n      <th>2</th>\n      <td>0.053517</td>\n      <td>0.005269</td>\n      <td>0.044838</td>\n      <td>0.006309</td>\n      <td>3</td>\n      <td>{'kneighborsclassifier__n_neighbors': 3}</td>\n      <td>0.706294</td>\n      <td>0.685315</td>\n      <td>0.767606</td>\n      <td>0.746479</td>\n      <td>0.690141</td>\n      <td>0.719167</td>\n      <td>0.032393</td>\n      <td>3</td>\n    </tr>\n    <tr>\n      <th>3</th>\n      <td>0.050531</td>\n      <td>0.004893</td>\n      <td>0.050672</td>\n      <td>0.010005</td>\n      <td>4</td>\n      <td>{'kneighborsclassifier__n_neighbors': 4}</td>\n      <td>0.720280</td>\n      <td>0.706294</td>\n      <td>0.718310</td>\n      <td>0.704225</td>\n      <td>0.690141</td>\n      <td>0.707850</td>\n      <td>0.010891</td>\n      <td>10</td>\n    </tr>\n    <tr>\n      <th>4</th>\n      <td>0.053109</td>\n      <td>0.004160</td>\n      <td>0.050987</td>\n      <td>0.008585</td>\n      <td>5</td>\n      <td>{'kneighborsclassifier__n_neighbors': 5}</td>\n      <td>0.713287</td>\n      <td>0.706294</td>\n      <td>0.704225</td>\n      <td>0.711268</td>\n      <td>0.718310</td>\n      <td>0.710677</td>\n      <td>0.005025</td>\n      <td>7</td>\n    </tr>\n    <tr>\n      <th>5</th>\n      <td>0.057500</td>\n      <td>0.005516</td>\n      <td>0.048440</td>\n      <td>0.005516</td>\n      <td>6</td>\n      <td>{'kneighborsclassifier__n_neighbors': 6}</td>\n      <td>0.713287</td>\n      <td>0.685315</td>\n      <td>0.683099</td>\n      <td>0.683099</td>\n      <td>0.718310</td>\n      <td>0.696622</td>\n      <td>0.015759</td>\n      <td>21</td>\n    </tr>\n    <tr>\n      <th>6</th>\n      <td>0.063914</td>\n      <td>0.013043</td>\n      <td>0.049952</td>\n      <td>0.004238</td>\n      <td>7</td>\n      <td>{'kneighborsclassifier__n_neighbors': 7}</td>\n      <td>0.699301</td>\n      <td>0.657343</td>\n      <td>0.697183</td>\n      <td>0.718310</td>\n      <td>0.732394</td>\n      <td>0.700906</td>\n      <td>0.025332</td>\n      <td>16</td>\n    </tr>\n    <tr>\n      <th>7</th>\n      <td>0.056392</td>\n      <td>0.011453</td>\n      <td>0.047157</td>\n      <td>0.004158</td>\n      <td>8</td>\n      <td>{'kneighborsclassifier__n_neighbors': 8}</td>\n      <td>0.699301</td>\n      <td>0.664336</td>\n      <td>0.704225</td>\n      <td>0.711268</td>\n      <td>0.725352</td>\n      <td>0.700896</td>\n      <td>0.020278</td>\n      <td>17</td>\n    </tr>\n    <tr>\n      <th>8</th>\n      <td>0.050904</td>\n      <td>0.002568</td>\n      <td>0.043578</td>\n      <td>0.001174</td>\n      <td>9</td>\n      <td>{'kneighborsclassifier__n_neighbors': 9}</td>\n      <td>0.720280</td>\n      <td>0.685315</td>\n      <td>0.697183</td>\n      <td>0.711268</td>\n      <td>0.711268</td>\n      <td>0.705063</td>\n      <td>0.012334</td>\n      <td>12</td>\n    </tr>\n    <tr>\n      <th>9</th>\n      <td>0.051125</td>\n      <td>0.005380</td>\n      <td>0.044270</td>\n      <td>0.003396</td>\n      <td>10</td>\n      <td>{'kneighborsclassifier__n_neighbors': 10}</td>\n      <td>0.727273</td>\n      <td>0.720280</td>\n      <td>0.711268</td>\n      <td>0.725352</td>\n      <td>0.697183</td>\n      <td>0.716271</td>\n      <td>0.011036</td>\n      <td>4</td>\n    </tr>\n    <tr>\n      <th>10</th>\n      <td>0.049587</td>\n      <td>0.003081</td>\n      <td>0.041854</td>\n      <td>0.001294</td>\n      <td>11</td>\n      <td>{'kneighborsclassifier__n_neighbors': 11}</td>\n      <td>0.748252</td>\n      <td>0.692308</td>\n      <td>0.711268</td>\n      <td>0.704225</td>\n      <td>0.697183</td>\n      <td>0.710647</td>\n      <td>0.019866</td>\n      <td>8</td>\n    </tr>\n    <tr>\n      <th>11</th>\n      <td>0.060227</td>\n      <td>0.014282</td>\n      <td>0.047572</td>\n      <td>0.012229</td>\n      <td>12</td>\n      <td>{'kneighborsclassifier__n_neighbors': 12}</td>\n      <td>0.727273</td>\n      <td>0.706294</td>\n      <td>0.690141</td>\n      <td>0.704225</td>\n      <td>0.697183</td>\n      <td>0.705023</td>\n      <td>0.012492</td>\n      <td>13</td>\n    </tr>\n    <tr>\n      <th>12</th>\n      <td>0.050252</td>\n      <td>0.003635</td>\n      <td>0.057174</td>\n      <td>0.012942</td>\n      <td>13</td>\n      <td>{'kneighborsclassifier__n_neighbors': 13}</td>\n      <td>0.713287</td>\n      <td>0.727273</td>\n      <td>0.697183</td>\n      <td>0.704225</td>\n      <td>0.711268</td>\n      <td>0.710647</td>\n      <td>0.010063</td>\n      <td>8</td>\n    </tr>\n    <tr>\n      <th>13</th>\n      <td>0.057436</td>\n      <td>0.010139</td>\n      <td>0.052178</td>\n      <td>0.004465</td>\n      <td>14</td>\n      <td>{'kneighborsclassifier__n_neighbors': 14}</td>\n      <td>0.734266</td>\n      <td>0.755245</td>\n      <td>0.704225</td>\n      <td>0.746479</td>\n      <td>0.711268</td>\n      <td>0.730296</td>\n      <td>0.019707</td>\n      <td>1</td>\n    </tr>\n    <tr>\n      <th>14</th>\n      <td>0.060892</td>\n      <td>0.012366</td>\n      <td>0.045739</td>\n      <td>0.005981</td>\n      <td>15</td>\n      <td>{'kneighborsclassifier__n_neighbors': 15}</td>\n      <td>0.748252</td>\n      <td>0.755245</td>\n      <td>0.697183</td>\n      <td>0.746479</td>\n      <td>0.704225</td>\n      <td>0.730277</td>\n      <td>0.024425</td>\n      <td>2</td>\n    </tr>\n    <tr>\n      <th>15</th>\n      <td>0.053908</td>\n      <td>0.005792</td>\n      <td>0.055747</td>\n      <td>0.006536</td>\n      <td>16</td>\n      <td>{'kneighborsclassifier__n_neighbors': 16}</td>\n      <td>0.748252</td>\n      <td>0.748252</td>\n      <td>0.683099</td>\n      <td>0.739437</td>\n      <td>0.661972</td>\n      <td>0.716202</td>\n      <td>0.036417</td>\n      <td>5</td>\n    </tr>\n    <tr>\n      <th>16</th>\n      <td>0.059706</td>\n      <td>0.007010</td>\n      <td>0.058803</td>\n      <td>0.005894</td>\n      <td>17</td>\n      <td>{'kneighborsclassifier__n_neighbors': 17}</td>\n      <td>0.734266</td>\n      <td>0.734266</td>\n      <td>0.683099</td>\n      <td>0.732394</td>\n      <td>0.690141</td>\n      <td>0.714833</td>\n      <td>0.023154</td>\n      <td>6</td>\n    </tr>\n    <tr>\n      <th>17</th>\n      <td>0.063382</td>\n      <td>0.009844</td>\n      <td>0.058840</td>\n      <td>0.012646</td>\n      <td>18</td>\n      <td>{'kneighborsclassifier__n_neighbors': 18}</td>\n      <td>0.769231</td>\n      <td>0.720280</td>\n      <td>0.669014</td>\n      <td>0.711268</td>\n      <td>0.669014</td>\n      <td>0.707761</td>\n      <td>0.037283</td>\n      <td>11</td>\n    </tr>\n    <tr>\n      <th>18</th>\n      <td>0.080215</td>\n      <td>0.019413</td>\n      <td>0.056105</td>\n      <td>0.004637</td>\n      <td>19</td>\n      <td>{'kneighborsclassifier__n_neighbors': 19}</td>\n      <td>0.727273</td>\n      <td>0.720280</td>\n      <td>0.676056</td>\n      <td>0.704225</td>\n      <td>0.669014</td>\n      <td>0.699370</td>\n      <td>0.023257</td>\n      <td>19</td>\n    </tr>\n    <tr>\n      <th>19</th>\n      <td>0.055586</td>\n      <td>0.005909</td>\n      <td>0.050429</td>\n      <td>0.006100</td>\n      <td>20</td>\n      <td>{'kneighborsclassifier__n_neighbors': 20}</td>\n      <td>0.741259</td>\n      <td>0.727273</td>\n      <td>0.690141</td>\n      <td>0.697183</td>\n      <td>0.661972</td>\n      <td>0.703565</td>\n      <td>0.028049</td>\n      <td>15</td>\n    </tr>\n    <tr>\n      <th>20</th>\n      <td>0.062546</td>\n      <td>0.012199</td>\n      <td>0.054127</td>\n      <td>0.011675</td>\n      <td>21</td>\n      <td>{'kneighborsclassifier__n_neighbors': 21}</td>\n      <td>0.727273</td>\n      <td>0.720280</td>\n      <td>0.697183</td>\n      <td>0.704225</td>\n      <td>0.647887</td>\n      <td>0.699370</td>\n      <td>0.027909</td>\n      <td>19</td>\n    </tr>\n    <tr>\n      <th>21</th>\n      <td>0.055536</td>\n      <td>0.003259</td>\n      <td>0.055191</td>\n      <td>0.007384</td>\n      <td>22</td>\n      <td>{'kneighborsclassifier__n_neighbors': 22}</td>\n      <td>0.720280</td>\n      <td>0.727273</td>\n      <td>0.690141</td>\n      <td>0.711268</td>\n      <td>0.669014</td>\n      <td>0.703595</td>\n      <td>0.021329</td>\n      <td>14</td>\n    </tr>\n    <tr>\n      <th>22</th>\n      <td>0.052607</td>\n      <td>0.004642</td>\n      <td>0.053339</td>\n      <td>0.007137</td>\n      <td>23</td>\n      <td>{'kneighborsclassifier__n_neighbors': 23}</td>\n      <td>0.692308</td>\n      <td>0.713287</td>\n      <td>0.697183</td>\n      <td>0.718310</td>\n      <td>0.683099</td>\n      <td>0.700837</td>\n      <td>0.013123</td>\n      <td>18</td>\n    </tr>\n    <tr>\n      <th>23</th>\n      <td>0.057639</td>\n      <td>0.005167</td>\n      <td>0.060692</td>\n      <td>0.011062</td>\n      <td>24</td>\n      <td>{'kneighborsclassifier__n_neighbors': 24}</td>\n      <td>0.699301</td>\n      <td>0.713287</td>\n      <td>0.690141</td>\n      <td>0.718310</td>\n      <td>0.654930</td>\n      <td>0.695194</td>\n      <td>0.022474</td>\n      <td>23</td>\n    </tr>\n    <tr>\n      <th>24</th>\n      <td>0.059848</td>\n      <td>0.007428</td>\n      <td>0.055782</td>\n      <td>0.010792</td>\n      <td>25</td>\n      <td>{'kneighborsclassifier__n_neighbors': 25}</td>\n      <td>0.671329</td>\n      <td>0.713287</td>\n      <td>0.683099</td>\n      <td>0.711268</td>\n      <td>0.647887</td>\n      <td>0.685374</td>\n      <td>0.024728</td>\n      <td>26</td>\n    </tr>\n    <tr>\n      <th>25</th>\n      <td>0.063472</td>\n      <td>0.010804</td>\n      <td>0.050204</td>\n      <td>0.010055</td>\n      <td>26</td>\n      <td>{'kneighborsclassifier__n_neighbors': 26}</td>\n      <td>0.678322</td>\n      <td>0.692308</td>\n      <td>0.690141</td>\n      <td>0.725352</td>\n      <td>0.647887</td>\n      <td>0.686802</td>\n      <td>0.024955</td>\n      <td>25</td>\n    </tr>\n    <tr>\n      <th>26</th>\n      <td>0.054753</td>\n      <td>0.005827</td>\n      <td>0.056925</td>\n      <td>0.013165</td>\n      <td>27</td>\n      <td>{'kneighborsclassifier__n_neighbors': 27}</td>\n      <td>0.699301</td>\n      <td>0.692308</td>\n      <td>0.683099</td>\n      <td>0.711268</td>\n      <td>0.640845</td>\n      <td>0.685364</td>\n      <td>0.024085</td>\n      <td>27</td>\n    </tr>\n    <tr>\n      <th>27</th>\n      <td>0.064251</td>\n      <td>0.004424</td>\n      <td>0.050213</td>\n      <td>0.005276</td>\n      <td>28</td>\n      <td>{'kneighborsclassifier__n_neighbors': 28}</td>\n      <td>0.678322</td>\n      <td>0.671329</td>\n      <td>0.683099</td>\n      <td>0.718310</td>\n      <td>0.633803</td>\n      <td>0.676972</td>\n      <td>0.026995</td>\n      <td>28</td>\n    </tr>\n    <tr>\n      <th>28</th>\n      <td>0.060900</td>\n      <td>0.008838</td>\n      <td>0.055134</td>\n      <td>0.008876</td>\n      <td>29</td>\n      <td>{'kneighborsclassifier__n_neighbors': 29}</td>\n      <td>0.678322</td>\n      <td>0.699301</td>\n      <td>0.654930</td>\n      <td>0.697183</td>\n      <td>0.640845</td>\n      <td>0.674116</td>\n      <td>0.023061</td>\n      <td>30</td>\n    </tr>\n    <tr>\n      <th>29</th>\n      <td>0.054191</td>\n      <td>0.004711</td>\n      <td>0.049257</td>\n      <td>0.005595</td>\n      <td>30</td>\n      <td>{'kneighborsclassifier__n_neighbors': 30}</td>\n      <td>0.671329</td>\n      <td>0.657343</td>\n      <td>0.683099</td>\n      <td>0.718310</td>\n      <td>0.640845</td>\n      <td>0.674185</td>\n      <td>0.026191</td>\n      <td>29</td>\n    </tr>\n  </tbody>\n</table>\n</div>"
     },
     "execution_count": 415,
     "metadata": {},
     "output_type": "execute_result"
    }
   ],
   "source": [
    "pd.DataFrame(step3_gridSearchCV.cv_results_)"
   ],
   "metadata": {
    "collapsed": false,
    "pycharm": {
     "name": "#%%\n"
    }
   }
  },
  {
   "cell_type": "code",
   "execution_count": 416,
   "outputs": [
    {
     "data": {
      "text/plain": "0.7302964640992811"
     },
     "execution_count": 416,
     "metadata": {},
     "output_type": "execute_result"
    }
   ],
   "source": [
    "step3_gridSearchCV.best_score_"
   ],
   "metadata": {
    "collapsed": false,
    "pycharm": {
     "name": "#%%\n"
    }
   }
  },
  {
   "cell_type": "markdown",
   "source": [
    "### End - Step 3"
   ],
   "metadata": {
    "collapsed": false,
    "pycharm": {
     "name": "#%% md\n"
    }
   }
  }
 ],
 "metadata": {
  "kernelspec": {
   "display_name": "Python 3",
   "language": "python",
   "name": "python3"
  },
  "language_info": {
   "codemirror_mode": {
    "name": "ipython",
    "version": 2
   },
   "file_extension": ".py",
   "mimetype": "text/x-python",
   "name": "python",
   "nbconvert_exporter": "python",
   "pygments_lexer": "ipython2",
   "version": "2.7.6"
  }
 },
 "nbformat": 4,
 "nbformat_minor": 0
}